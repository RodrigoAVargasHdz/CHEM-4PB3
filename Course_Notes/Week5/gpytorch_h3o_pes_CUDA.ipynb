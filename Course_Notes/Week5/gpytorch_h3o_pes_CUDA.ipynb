{
  "cells": [
    {
      "cell_type": "markdown",
      "metadata": {
        "id": "Zf8EV6bIwJqJ"
      },
      "source": [
        "To open on Google Colab\\\n",
        "https://colab.research.google.com/github/RodrigoAVargasHdz/CHEM-4PB3/blob/main/Course_Notes/Week5/gpytorch_h3o_pes_CUDA.ipynb"
      ]
    },
    {
      "cell_type": "code",
      "execution_count": 1,
      "metadata": {
        "colab": {
          "base_uri": "https://localhost:8080/"
        },
        "id": "eXc4H2x2wTTC",
        "outputId": "45f7a1a5-9920-4f6f-d0d9-510a08e71bd5"
      },
      "outputs": [
        {
          "name": "stdout",
          "output_type": "stream",
          "text": [
            "Looking in indexes: https://pypi.org/simple, https://us-python.pkg.dev/colab-wheels/public/simple/\n",
            "Requirement already satisfied: gpytorch in /usr/local/lib/python3.8/dist-packages (1.9.1)\n",
            "Requirement already satisfied: linear-operator>=0.2.0 in /usr/local/lib/python3.8/dist-packages (from gpytorch) (0.3.0)\n",
            "Requirement already satisfied: scikit-learn in /usr/local/lib/python3.8/dist-packages (from gpytorch) (1.0.2)\n",
            "Requirement already satisfied: scipy in /usr/local/lib/python3.8/dist-packages (from linear-operator>=0.2.0->gpytorch) (1.7.3)\n",
            "Requirement already satisfied: torch>=1.11 in /usr/local/lib/python3.8/dist-packages (from linear-operator>=0.2.0->gpytorch) (1.13.1+cu116)\n",
            "Requirement already satisfied: joblib>=0.11 in /usr/local/lib/python3.8/dist-packages (from scikit-learn->gpytorch) (1.2.0)\n",
            "Requirement already satisfied: threadpoolctl>=2.0.0 in /usr/local/lib/python3.8/dist-packages (from scikit-learn->gpytorch) (3.1.0)\n",
            "Requirement already satisfied: numpy>=1.14.6 in /usr/local/lib/python3.8/dist-packages (from scikit-learn->gpytorch) (1.21.6)\n",
            "Requirement already satisfied: typing-extensions in /usr/local/lib/python3.8/dist-packages (from torch>=1.11->linear-operator>=0.2.0->gpytorch) (4.4.0)\n"
          ]
        }
      ],
      "source": [
        "!pip install gpytorch"
      ]
    },
    {
      "attachments": {},
      "cell_type": "markdown",
      "metadata": {},
      "source": [
        "To enable GPU hardware accelerator, just go to\\\n",
        " **Runtime -> Change runtime type -> Hardware accelerator -> GPU**"
      ]
    },
    {
      "cell_type": "code",
      "execution_count": 2,
      "metadata": {
        "colab": {
          "base_uri": "https://localhost:8080/"
        },
        "id": "cMD-DvTPyr66",
        "outputId": "e01da7f2-1b21-4315-880c-dfcd7e5e244e"
      },
      "outputs": [
        {
          "name": "stdout",
          "output_type": "stream",
          "text": [
            "True\n",
            "Tesla T4\n"
          ]
        }
      ],
      "source": [
        "import torch\n",
        "print(torch.cuda.is_available())\n",
        "print(torch.cuda.get_device_name(0))\n",
        "cuda0 = torch.device('cuda:0')"
      ]
    },
    {
      "cell_type": "markdown",
      "metadata": {
        "id": "WrrfeaafwJqL"
      },
      "source": [
        "## Homework!\n",
        "Fit the H3O+ PES.\n",
        "\n",
        "```python\n",
        "#load data\n",
        "data_url = \"https://github.com/RodrigoAVargasHdz/CHEM-4PB3/raw/main/Course_Notes/data/h3o+\"\n",
        "data = pd.read_csv(data_url)\n",
        "```\n",
        "\n",
        "**References**:\\\n",
        "[Assessing Gaussian Process Regression and Permutationally Invariant Polynomial Approaches To Represent High-Dimensional Potential Energy Surfaces](https://pubs.acs.org/doi/10.1021/acs.jctc.8b00298)"
      ]
    },
    {
      "attachments": {},
      "cell_type": "markdown",
      "metadata": {
        "id": "JTz18T8QwJqM"
      },
      "source": [
        "\n",
        "https://docs.gpytorch.ai/en/stable/\n"
      ]
    },
    {
      "cell_type": "code",
      "execution_count": 1,
      "metadata": {
        "colab": {
          "base_uri": "https://localhost:8080/"
        },
        "id": "4o7G2qWMwJqO",
        "outputId": "39fb65dd-8f45-4d91-e343-8ff5c1bf76a5"
      },
      "outputs": [
        {
          "name": "stdout",
          "output_type": "stream",
          "text": [
            "<bound method NDFrame.head of          R-H1H2    R-H1H3     R-H1O    R-H2H3     R-H2O     R-H3O    Energy\n",
            "0      1.612409  1.619333  0.983016  1.620888  0.966339  0.974973  0.000160\n",
            "1      1.608433  1.630167  0.981183  1.611739  0.986385  0.975660  0.000244\n",
            "2      1.598165  1.612593  0.961918  1.612899  0.978415  0.970702  0.000252\n",
            "3      1.624321  1.616543  0.975496  1.634513  0.991981  0.971806  0.000259\n",
            "4      1.621266  1.627356  0.978769  1.620356  0.977598  0.993640  0.000290\n",
            "...         ...       ...       ...       ...       ...       ...       ...\n",
            "32136  1.708361  2.239641  1.194543  2.136567  1.009856  1.318925  0.095581\n",
            "32137  2.023008  1.781084  0.957492  1.207863  1.098086  1.100776  0.095581\n",
            "32138  2.083079  2.100782  1.261244  1.311036  0.914893  1.099041  0.095581\n",
            "32139  1.850452  2.213210  1.416897  1.556157  1.008990  0.904831  0.095589\n",
            "32140  1.816564  2.150869  1.034572  1.301846  0.927945  1.252055  0.095589\n",
            "\n",
            "[32141 rows x 7 columns]>\n"
          ]
        }
      ],
      "source": [
        "import numpy as np\n",
        "import pandas as pd\n",
        "from sklearn.model_selection import train_test_split\n",
        "\n",
        "#load data\n",
        "data_url = \"https://github.com/RodrigoAVargasHdz/CHEM-4PB3/raw/main/Course_Notes/data/h3o+\"\n",
        "data = pd.read_csv(data_url)\n",
        "print(data.head)\n",
        "\n",
        "Xtot = data.drop(['Energy'],axis=1).to_numpy()\n",
        "ytot = data['Energy'].to_numpy()#[:,np.newaxis]\n",
        "\n",
        "# data            \n",
        "N = 500\n",
        "Nval = 250 \n",
        "X_train,X_test,y_train,y_test = train_test_split(Xtot,ytot,test_size=ytot.shape[0] - N,random_state=0)\n",
        "X_test, y_test = X_test[:Nval],y_test[:Nval]\n",
        "Xtr,Xtst,ytr,ytst = X_train,X_test,y_train,y_test\n"
      ]
    },
    {
      "cell_type": "code",
      "execution_count": 24,
      "metadata": {
        "colab": {
          "base_uri": "https://localhost:8080/",
          "height": 493
        },
        "id": "-JA94I1EwJqQ",
        "outputId": "47aa51f6-9c5b-4152-943f-f7a9eae992a0"
      },
      "outputs": [
        {
          "data": {
            "text/plain": [
              "(array([ 0.,  2.,  4.,  6.,  8., 10., 12., 14., 16., 18.]),\n",
              " <a list of 10 Text major ticklabel objects>)"
            ]
          },
          "execution_count": 24,
          "metadata": {},
          "output_type": "execute_result"
        },
        {
          "data": {
            "image/png": "[encoded data removed]",
            "text/plain": [
              "<Figure size 720x504 with 1 Axes>"
            ]
          },
          "metadata": {
            "needs_background": "light"
          },
          "output_type": "display_data"
        }
      ],
      "source": [
        "import matplotlib\n",
        "import matplotlib.pylab as plt\n",
        "\n",
        "plt.figure(figsize=(10,7))\n",
        "plt.hist(data['Energy'],bins=100,density=True)\n",
        "plt.xlabel('Energy',fontsize=20)\n",
        "plt.xticks(fontsize=15)\n",
        "plt.yticks(fontsize=15)"
      ]
    },
    {
      "cell_type": "markdown",
      "metadata": {
        "id": "3xxu_zpEwJqS"
      },
      "source": [
        "## GPyTorch"
      ]
    },
    {
      "cell_type": "code",
      "execution_count": 28,
      "metadata": {
        "id": "2EnI4cx4wJqT"
      },
      "outputs": [],
      "source": [
        "import torch\n",
        "import gpytorch\n",
        "\n",
        "# from numpy to torch\n",
        "Xtr = torch.from_numpy(Xtr).cuda()\n",
        "ytr = torch.from_numpy(ytr).cuda()\n",
        "Xtst = torch.from_numpy(Xtst).cuda()\n",
        "ytst = torch.from_numpy(ytst).cuda()\n",
        "\n",
        "Xtot = torch.from_numpy(Xtot)\n",
        "ytot = torch.from_numpy(ytot)"
      ]
    },
    {
      "cell_type": "code",
      "execution_count": 20,
      "metadata": {
        "id": "kqCYEZM_wJqW"
      },
      "outputs": [],
      "source": [
        "class ExactGPModel(gpytorch.models.ExactGP):\n",
        "    def __init__(self, train_x, train_y, likelihood):\n",
        "        super(ExactGPModel, self).__init__(train_x, train_y, likelihood)\n",
        "        self.mean_module = gpytorch.means.ConstantMean()\n",
        "        self.covar_module = gpytorch.kernels.ScaleKernel(\n",
        "            gpytorch.kernels.RBFKernel(ard_num_dims=train_x.shape[1]))\n",
        "\n",
        "    def forward(self, x):\n",
        "        mean_x = self.mean_module(x)\n",
        "        covar_x = self.covar_module(x)\n",
        "        return gpytorch.distributions.MultivariateNormal(mean_x, covar_x)"
      ]
    },
    {
      "cell_type": "code",
      "execution_count": 29,
      "metadata": {
        "id": "O8j7xyQcwJqZ"
      },
      "outputs": [],
      "source": [
        "# initialize likelihood and model\n",
        "likelihood = gpytorch.likelihoods.GaussianLikelihood()\n",
        "model = ExactGPModel(Xtr, ytr, likelihood)\n",
        "\n",
        "if torch.cuda.is_available():\n",
        "  likelihood.cuda()\n",
        "  model.cuda()"
      ]
    },
    {
      "cell_type": "code",
      "execution_count": 34,
      "metadata": {
        "colab": {
          "base_uri": "https://localhost:8080/"
        },
        "id": "fjFvrYUtwJqc",
        "outputId": "418952b7-979e-4bca-ac3a-ee081972f3b1"
      },
      "outputs": [
        {
          "name": "stdout",
          "output_type": "stream",
          "text": [
            "Iter 1/150 - Loss: -3.352  noise: 0.000112\n",
            "lengthscale:  tensor([1.0348, 1.1565, 0.4453, 1.0231, 0.4728, 0.4928], device='cuda:0',\n",
            "       grad_fn=<SelectBackward0>)\n",
            "Iter 2/150 - Loss: -3.365  noise: 0.000111\n",
            "lengthscale:  tensor([0.9714, 1.0891, 0.4825, 0.9602, 0.4363, 0.4551], device='cuda:0',\n",
            "       grad_fn=<SelectBackward0>)\n",
            "Iter 3/150 - Loss: -3.365  noise: 0.000110\n",
            "lengthscale:  tensor([1.0022, 1.0482, 0.5142, 0.9972, 0.4161, 0.4337], device='cuda:0',\n",
            "       grad_fn=<SelectBackward0>)\n",
            "Iter 4/150 - Loss: -3.370  noise: 0.000109\n",
            "lengthscale:  tensor([1.0484, 1.0398, 0.5016, 1.0469, 0.4152, 0.4312], device='cuda:0',\n",
            "       grad_fn=<SelectBackward0>)\n",
            "Iter 5/150 - Loss: -3.377  noise: 0.000108\n",
            "lengthscale:  tensor([1.0988, 1.0496, 0.4819, 1.1000, 0.4234, 0.4386], device='cuda:0',\n",
            "       grad_fn=<SelectBackward0>)\n",
            "Iter 6/150 - Loss: -3.379  noise: 0.000108\n",
            "lengthscale:  tensor([1.1407, 1.0659, 0.4626, 1.1438, 0.4337, 0.4494], device='cuda:0',\n",
            "       grad_fn=<SelectBackward0>)\n",
            "Iter 7/150 - Loss: -3.380  noise: 0.000107\n",
            "lengthscale:  tensor([1.1593, 1.0799, 0.4508, 1.1635, 0.4412, 0.4585], device='cuda:0',\n",
            "       grad_fn=<SelectBackward0>)\n",
            "Iter 8/150 - Loss: -3.382  noise: 0.000106\n",
            "lengthscale:  tensor([1.1554, 1.0868, 0.4500, 1.1600, 0.4432, 0.4629], device='cuda:0',\n",
            "       grad_fn=<SelectBackward0>)\n",
            "Iter 9/150 - Loss: -3.385  noise: 0.000106\n",
            "lengthscale:  tensor([1.1373, 1.0866, 0.4577, 1.1421, 0.4404, 0.4623], device='cuda:0',\n",
            "       grad_fn=<SelectBackward0>)\n",
            "Iter 10/150 - Loss: -3.389  noise: 0.000105\n",
            "lengthscale:  tensor([1.1124, 1.0828, 0.4703, 1.1171, 0.4351, 0.4589], device='cuda:0',\n",
            "       grad_fn=<SelectBackward0>)\n",
            "Iter 11/150 - Loss: -3.391  noise: 0.000105\n",
            "lengthscale:  tensor([1.0867, 1.0798, 0.4845, 1.0909, 0.4302, 0.4550], device='cuda:0',\n",
            "       grad_fn=<SelectBackward0>)\n",
            "Iter 12/150 - Loss: -3.391  noise: 0.000104\n",
            "lengthscale:  tensor([1.0655, 1.0812, 0.4963, 1.0688, 0.4280, 0.4529], device='cuda:0',\n",
            "       grad_fn=<SelectBackward0>)\n",
            "Iter 13/150 - Loss: -3.392  noise: 0.000104\n",
            "lengthscale:  tensor([1.0522, 1.0884, 0.5015, 1.0541, 0.4295, 0.4535], device='cuda:0',\n",
            "       grad_fn=<SelectBackward0>)\n",
            "Iter 14/150 - Loss: -3.393  noise: 0.000104\n",
            "lengthscale:  tensor([1.0476, 1.1003, 0.4992, 1.0479, 0.4344, 0.4568], device='cuda:0',\n",
            "       grad_fn=<SelectBackward0>)\n",
            "Iter 15/150 - Loss: -3.395  noise: 0.000103\n",
            "lengthscale:  tensor([1.0504, 1.1144, 0.4909, 1.0489, 0.4411, 0.4615], device='cuda:0',\n",
            "       grad_fn=<SelectBackward0>)\n",
            "Iter 16/150 - Loss: -3.397  noise: 0.000103\n",
            "lengthscale:  tensor([1.0581, 1.1267, 0.4793, 1.0551, 0.4475, 0.4657], device='cuda:0',\n",
            "       grad_fn=<SelectBackward0>)\n",
            "Iter 17/150 - Loss: -3.397  noise: 0.000103\n",
            "lengthscale:  tensor([1.0679, 1.1331, 0.4676, 1.0639, 0.4513, 0.4677], device='cuda:0',\n",
            "       grad_fn=<SelectBackward0>)\n",
            "Iter 18/150 - Loss: -3.398  noise: 0.000103\n",
            "lengthscale:  tensor([1.0771, 1.1310, 0.4590, 1.0727, 0.4510, 0.4662], device='cuda:0',\n",
            "       grad_fn=<SelectBackward0>)\n",
            "Iter 19/150 - Loss: -3.399  noise: 0.000102\n",
            "lengthscale:  tensor([1.0836, 1.1202, 0.4559, 1.0795, 0.4464, 0.4614], device='cuda:0',\n",
            "       grad_fn=<SelectBackward0>)\n",
            "Iter 20/150 - Loss: -3.400  noise: 0.000102\n",
            "lengthscale:  tensor([1.0864, 1.1029, 0.4583, 1.0833, 0.4387, 0.4543], device='cuda:0',\n",
            "       grad_fn=<SelectBackward0>)\n",
            "Iter 21/150 - Loss: -3.401  noise: 0.000102\n",
            "lengthscale:  tensor([1.0856, 1.0823, 0.4645, 1.0840, 0.4295, 0.4466], device='cuda:0',\n",
            "       grad_fn=<SelectBackward0>)\n",
            "Iter 22/150 - Loss: -3.401  noise: 0.000102\n",
            "lengthscale:  tensor([1.0824, 1.0621, 0.4719, 1.0823, 0.4210, 0.4402], device='cuda:0',\n",
            "       grad_fn=<SelectBackward0>)\n",
            "Iter 23/150 - Loss: -3.401  noise: 0.000102\n",
            "lengthscale:  tensor([1.0778, 1.0458, 0.4777, 1.0793, 0.4149, 0.4365], device='cuda:0',\n",
            "       grad_fn=<SelectBackward0>)\n",
            "Iter 24/150 - Loss: -3.402  noise: 0.000102\n",
            "lengthscale:  tensor([1.0729, 1.0357, 0.4792, 1.0756, 0.4122, 0.4361], device='cuda:0',\n",
            "       grad_fn=<SelectBackward0>)\n",
            "Iter 25/150 - Loss: -3.402  noise: 0.000102\n",
            "lengthscale:  tensor([1.0680, 1.0322, 0.4758, 1.0714, 0.4131, 0.4385], device='cuda:0',\n",
            "       grad_fn=<SelectBackward0>)\n",
            "Iter 26/150 - Loss: -3.403  noise: 0.000102\n",
            "lengthscale:  tensor([1.0627, 1.0341, 0.4685, 1.0664, 0.4164, 0.4424], device='cuda:0',\n",
            "       grad_fn=<SelectBackward0>)\n",
            "Iter 27/150 - Loss: -3.403  noise: 0.000102\n",
            "lengthscale:  tensor([1.0566, 1.0393, 0.4595, 1.0600, 0.4208, 0.4463], device='cuda:0',\n",
            "       grad_fn=<SelectBackward0>)\n",
            "Iter 28/150 - Loss: -3.403  noise: 0.000101\n",
            "lengthscale:  tensor([1.0488, 1.0451, 0.4516, 1.0516, 0.4246, 0.4485], device='cuda:0',\n",
            "       grad_fn=<SelectBackward0>)\n",
            "Iter 29/150 - Loss: -3.404  noise: 0.000101\n",
            "lengthscale:  tensor([1.0395, 1.0493, 0.4472, 1.0415, 0.4265, 0.4481], device='cuda:0',\n",
            "       grad_fn=<SelectBackward0>)\n",
            "Iter 30/150 - Loss: -3.404  noise: 0.000101\n",
            "lengthscale:  tensor([1.0292, 1.0506, 0.4471, 1.0303, 0.4259, 0.4449], device='cuda:0',\n",
            "       grad_fn=<SelectBackward0>)\n",
            "Iter 31/150 - Loss: -3.404  noise: 0.000101\n",
            "lengthscale:  tensor([1.0191, 1.0489, 0.4507, 1.0193, 0.4231, 0.4399], device='cuda:0',\n",
            "       grad_fn=<SelectBackward0>)\n",
            "Iter 32/150 - Loss: -3.405  noise: 0.000101\n",
            "lengthscale:  tensor([1.0108, 1.0447, 0.4559, 1.0102, 0.4189, 0.4344], device='cuda:0',\n",
            "       grad_fn=<SelectBackward0>)\n",
            "Iter 33/150 - Loss: -3.405  noise: 0.000101\n",
            "lengthscale:  tensor([1.0054, 1.0392, 0.4602, 1.0040, 0.4145, 0.4296], device='cuda:0',\n",
            "       grad_fn=<SelectBackward0>)\n",
            "Iter 34/150 - Loss: -3.405  noise: 0.000101\n",
            "lengthscale:  tensor([1.0033, 1.0332, 0.4611, 1.0012, 0.4107, 0.4266], device='cuda:0',\n",
            "       grad_fn=<SelectBackward0>)\n",
            "Iter 35/150 - Loss: -3.405  noise: 0.000101\n",
            "lengthscale:  tensor([1.0038, 1.0269, 0.4576, 1.0013, 0.4080, 0.4254], device='cuda:0',\n",
            "       grad_fn=<SelectBackward0>)\n",
            "Iter 36/150 - Loss: -3.406  noise: 0.000101\n",
            "lengthscale:  tensor([1.0056, 1.0199, 0.4508, 1.0030, 0.4062, 0.4257], device='cuda:0',\n",
            "       grad_fn=<SelectBackward0>)\n",
            "Iter 37/150 - Loss: -3.406  noise: 0.000101\n",
            "lengthscale:  tensor([1.0072, 1.0120, 0.4429, 1.0047, 0.4049, 0.4265], device='cuda:0',\n",
            "       grad_fn=<SelectBackward0>)\n",
            "Iter 38/150 - Loss: -3.406  noise: 0.000101\n",
            "lengthscale:  tensor([1.0069, 1.0032, 0.4367, 1.0050, 0.4038, 0.4271], device='cuda:0',\n",
            "       grad_fn=<SelectBackward0>)\n",
            "Iter 39/150 - Loss: -3.406  noise: 0.000101\n",
            "lengthscale:  tensor([1.0043, 0.9942, 0.4342, 1.0030, 0.4026, 0.4268], device='cuda:0',\n",
            "       grad_fn=<SelectBackward0>)\n",
            "Iter 40/150 - Loss: -3.406  noise: 0.000101\n",
            "lengthscale:  tensor([0.9996, 0.9862, 0.4357, 0.9990, 0.4013, 0.4254], device='cuda:0',\n",
            "       grad_fn=<SelectBackward0>)\n",
            "Iter 41/150 - Loss: -3.406  noise: 0.000101\n",
            "lengthscale:  tensor([0.9934, 0.9805, 0.4397, 0.9936, 0.4003, 0.4232], device='cuda:0',\n",
            "       grad_fn=<SelectBackward0>)\n",
            "Iter 42/150 - Loss: -3.406  noise: 0.000101\n",
            "lengthscale:  tensor([0.9869, 0.9779, 0.4437, 0.9876, 0.3996, 0.4207], device='cuda:0',\n",
            "       grad_fn=<SelectBackward0>)\n",
            "Iter 43/150 - Loss: -3.406  noise: 0.000101\n",
            "lengthscale:  tensor([0.9808, 0.9780, 0.4451, 0.9817, 0.3994, 0.4183], device='cuda:0',\n",
            "       grad_fn=<SelectBackward0>)\n",
            "Iter 44/150 - Loss: -3.407  noise: 0.000101\n",
            "lengthscale:  tensor([0.9753, 0.9799, 0.4426, 0.9761, 0.3993, 0.4164], device='cuda:0',\n",
            "       grad_fn=<SelectBackward0>)\n",
            "Iter 45/150 - Loss: -3.407  noise: 0.000101\n",
            "lengthscale:  tensor([0.9706, 0.9822, 0.4375, 0.9710, 0.3990, 0.4150], device='cuda:0',\n",
            "       grad_fn=<SelectBackward0>)\n",
            "Iter 46/150 - Loss: -3.407  noise: 0.000101\n",
            "lengthscale:  tensor([0.9667, 0.9836, 0.4322, 0.9665, 0.3982, 0.4144], device='cuda:0',\n",
            "       grad_fn=<SelectBackward0>)\n",
            "Iter 47/150 - Loss: -3.407  noise: 0.000101\n",
            "lengthscale:  tensor([0.9638, 0.9835, 0.4293, 0.9629, 0.3971, 0.4145], device='cuda:0',\n",
            "       grad_fn=<SelectBackward0>)\n",
            "Iter 48/150 - Loss: -3.407  noise: 0.000101\n",
            "lengthscale:  tensor([0.9621, 0.9818, 0.4297, 0.9606, 0.3957, 0.4149], device='cuda:0',\n",
            "       grad_fn=<SelectBackward0>)\n",
            "Iter 49/150 - Loss: -3.407  noise: 0.000101\n",
            "lengthscale:  tensor([0.9618, 0.9789, 0.4325, 0.9596, 0.3943, 0.4154], device='cuda:0',\n",
            "       grad_fn=<SelectBackward0>)\n",
            "Iter 50/150 - Loss: -3.407  noise: 0.000101\n",
            "lengthscale:  tensor([0.9623, 0.9750, 0.4353, 0.9597, 0.3933, 0.4155], device='cuda:0',\n",
            "       grad_fn=<SelectBackward0>)\n",
            "Iter 51/150 - Loss: -3.407  noise: 0.000101\n",
            "lengthscale:  tensor([0.9631, 0.9704, 0.4356, 0.9603, 0.3924, 0.4148], device='cuda:0',\n",
            "       grad_fn=<SelectBackward0>)\n",
            "Iter 52/150 - Loss: -3.407  noise: 0.000101\n",
            "lengthscale:  tensor([0.9634, 0.9654, 0.4330, 0.9607, 0.3917, 0.4133], device='cuda:0',\n",
            "       grad_fn=<SelectBackward0>)\n",
            "Iter 53/150 - Loss: -3.407  noise: 0.000101\n",
            "lengthscale:  tensor([0.9629, 0.9607, 0.4291, 0.9606, 0.3911, 0.4113], device='cuda:0',\n",
            "       grad_fn=<SelectBackward0>)\n",
            "Iter 54/150 - Loss: -3.407  noise: 0.000101\n",
            "lengthscale:  tensor([0.9615, 0.9572, 0.4264, 0.9598, 0.3908, 0.4097], device='cuda:0',\n",
            "       grad_fn=<SelectBackward0>)\n",
            "Iter 55/150 - Loss: -3.407  noise: 0.000101\n",
            "lengthscale:  tensor([0.9599, 0.9556, 0.4266, 0.9588, 0.3908, 0.4089], device='cuda:0',\n",
            "       grad_fn=<SelectBackward0>)\n",
            "Iter 56/150 - Loss: -3.407  noise: 0.000101\n",
            "lengthscale:  tensor([0.9583, 0.9564, 0.4295, 0.9577, 0.3912, 0.4092], device='cuda:0',\n",
            "       grad_fn=<SelectBackward0>)\n",
            "Iter 57/150 - Loss: -3.407  noise: 0.000101\n",
            "lengthscale:  tensor([0.9569, 0.9589, 0.4327, 0.9567, 0.3917, 0.4102], device='cuda:0',\n",
            "       grad_fn=<SelectBackward0>)\n",
            "Iter 58/150 - Loss: -3.407  noise: 0.000101\n",
            "lengthscale:  tensor([0.9558, 0.9621, 0.4339, 0.9556, 0.3921, 0.4113], device='cuda:0',\n",
            "       grad_fn=<SelectBackward0>)\n",
            "Iter 59/150 - Loss: -3.407  noise: 0.000101\n",
            "lengthscale:  tensor([0.9547, 0.9648, 0.4319, 0.9544, 0.3922, 0.4119], device='cuda:0',\n",
            "       grad_fn=<SelectBackward0>)\n",
            "Iter 60/150 - Loss: -3.407  noise: 0.000101\n",
            "lengthscale:  tensor([0.9537, 0.9663, 0.4282, 0.9532, 0.3918, 0.4118], device='cuda:0',\n",
            "       grad_fn=<SelectBackward0>)\n",
            "Iter 61/150 - Loss: -3.408  noise: 0.000101\n",
            "lengthscale:  tensor([0.9533, 0.9666, 0.4254, 0.9523, 0.3911, 0.4113], device='cuda:0',\n",
            "       grad_fn=<SelectBackward0>)\n",
            "Iter 62/150 - Loss: -3.408  noise: 0.000100\n",
            "lengthscale:  tensor([0.9536, 0.9660, 0.4256, 0.9521, 0.3906, 0.4108], device='cuda:0',\n",
            "       grad_fn=<SelectBackward0>)\n",
            "Iter 63/150 - Loss: -3.408  noise: 0.000100\n",
            "lengthscale:  tensor([0.9548, 0.9650, 0.4286, 0.9527, 0.3904, 0.4105], device='cuda:0',\n",
            "       grad_fn=<SelectBackward0>)\n",
            "Iter 64/150 - Loss: -3.408  noise: 0.000100\n",
            "lengthscale:  tensor([0.9565, 0.9638, 0.4323, 0.9541, 0.3906, 0.4106], device='cuda:0',\n",
            "       grad_fn=<SelectBackward0>)\n",
            "Iter 65/150 - Loss: -3.408  noise: 0.000100\n",
            "lengthscale:  tensor([0.9583, 0.9626, 0.4342, 0.9558, 0.3911, 0.4108], device='cuda:0',\n",
            "       grad_fn=<SelectBackward0>)\n",
            "Iter 66/150 - Loss: -3.408  noise: 0.000100\n",
            "lengthscale:  tensor([0.9598, 0.9616, 0.4331, 0.9574, 0.3917, 0.4110], device='cuda:0',\n",
            "       grad_fn=<SelectBackward0>)\n",
            "Iter 67/150 - Loss: -3.408  noise: 0.000100\n",
            "lengthscale:  tensor([0.9607, 0.9612, 0.4301, 0.9587, 0.3922, 0.4112], device='cuda:0',\n",
            "       grad_fn=<SelectBackward0>)\n",
            "Iter 68/150 - Loss: -3.408  noise: 0.000100\n",
            "lengthscale:  tensor([0.9611, 0.9616, 0.4276, 0.9596, 0.3925, 0.4115], device='cuda:0',\n",
            "       grad_fn=<SelectBackward0>)\n",
            "Iter 69/150 - Loss: -3.408  noise: 0.000100\n",
            "lengthscale:  tensor([0.9612, 0.9631, 0.4273, 0.9603, 0.3927, 0.4119], device='cuda:0',\n",
            "       grad_fn=<SelectBackward0>)\n",
            "Iter 70/150 - Loss: -3.408  noise: 0.000100\n",
            "lengthscale:  tensor([0.9611, 0.9651, 0.4294, 0.9606, 0.3928, 0.4124], device='cuda:0',\n",
            "       grad_fn=<SelectBackward0>)\n",
            "Iter 71/150 - Loss: -3.408  noise: 0.000100\n",
            "lengthscale:  tensor([0.9609, 0.9673, 0.4324, 0.9606, 0.3927, 0.4127], device='cuda:0',\n",
            "       grad_fn=<SelectBackward0>)\n",
            "Iter 72/150 - Loss: -3.408  noise: 0.000100\n",
            "lengthscale:  tensor([0.9607, 0.9692, 0.4342, 0.9604, 0.3927, 0.4129], device='cuda:0',\n",
            "       grad_fn=<SelectBackward0>)\n",
            "Iter 73/150 - Loss: -3.408  noise: 0.000100\n",
            "lengthscale:  tensor([0.9608, 0.9705, 0.4340, 0.9603, 0.3927, 0.4129], device='cuda:0',\n",
            "       grad_fn=<SelectBackward0>)\n",
            "Iter 74/150 - Loss: -3.408  noise: 0.000100\n",
            "lengthscale:  tensor([0.9614, 0.9713, 0.4325, 0.9605, 0.3930, 0.4129], device='cuda:0',\n",
            "       grad_fn=<SelectBackward0>)\n",
            "Iter 75/150 - Loss: -3.408  noise: 0.000100\n",
            "lengthscale:  tensor([0.9626, 0.9718, 0.4310, 0.9613, 0.3936, 0.4132], device='cuda:0',\n",
            "       grad_fn=<SelectBackward0>)\n",
            "Iter 76/150 - Loss: -3.408  noise: 0.000100\n",
            "lengthscale:  tensor([0.9642, 0.9720, 0.4307, 0.9625, 0.3942, 0.4136], device='cuda:0',\n",
            "       grad_fn=<SelectBackward0>)\n",
            "Iter 77/150 - Loss: -3.408  noise: 0.000100\n",
            "lengthscale:  tensor([0.9657, 0.9718, 0.4317, 0.9637, 0.3947, 0.4141], device='cuda:0',\n",
            "       grad_fn=<SelectBackward0>)\n",
            "Iter 78/150 - Loss: -3.408  noise: 0.000100\n",
            "lengthscale:  tensor([0.9669, 0.9714, 0.4332, 0.9649, 0.3949, 0.4144], device='cuda:0',\n",
            "       grad_fn=<SelectBackward0>)\n",
            "Iter 79/150 - Loss: -3.408  noise: 0.000100\n",
            "lengthscale:  tensor([0.9676, 0.9710, 0.4342, 0.9658, 0.3948, 0.4144], device='cuda:0',\n",
            "       grad_fn=<SelectBackward0>)\n",
            "Iter 80/150 - Loss: -3.408  noise: 0.000100\n",
            "lengthscale:  tensor([0.9679, 0.9709, 0.4342, 0.9664, 0.3946, 0.4143], device='cuda:0',\n",
            "       grad_fn=<SelectBackward0>)\n",
            "Iter 81/150 - Loss: -3.408  noise: 0.000100\n",
            "lengthscale:  tensor([0.9680, 0.9715, 0.4337, 0.9669, 0.3945, 0.4143], device='cuda:0',\n",
            "       grad_fn=<SelectBackward0>)\n",
            "Iter 82/150 - Loss: -3.408  noise: 0.000100\n",
            "lengthscale:  tensor([0.9681, 0.9726, 0.4332, 0.9673, 0.3946, 0.4144], device='cuda:0',\n",
            "       grad_fn=<SelectBackward0>)\n",
            "Iter 83/150 - Loss: -3.408  noise: 0.000100\n",
            "lengthscale:  tensor([0.9681, 0.9740, 0.4331, 0.9676, 0.3948, 0.4147], device='cuda:0',\n",
            "       grad_fn=<SelectBackward0>)\n",
            "Iter 84/150 - Loss: -3.408  noise: 0.000100\n",
            "lengthscale:  tensor([0.9681, 0.9752, 0.4335, 0.9677, 0.3951, 0.4151], device='cuda:0',\n",
            "       grad_fn=<SelectBackward0>)\n",
            "Iter 85/150 - Loss: -3.408  noise: 0.000100\n",
            "lengthscale:  tensor([0.9681, 0.9761, 0.4341, 0.9676, 0.3954, 0.4153], device='cuda:0',\n",
            "       grad_fn=<SelectBackward0>)\n",
            "Iter 86/150 - Loss: -3.408  noise: 0.000100\n",
            "lengthscale:  tensor([0.9683, 0.9765, 0.4345, 0.9675, 0.3956, 0.4154], device='cuda:0',\n",
            "       grad_fn=<SelectBackward0>)\n",
            "Iter 87/150 - Loss: -3.408  noise: 0.000100\n",
            "lengthscale:  tensor([0.9686, 0.9765, 0.4345, 0.9675, 0.3958, 0.4154], device='cuda:0',\n",
            "       grad_fn=<SelectBackward0>)\n",
            "Iter 88/150 - Loss: -3.408  noise: 0.000100\n",
            "lengthscale:  tensor([0.9691, 0.9762, 0.4342, 0.9677, 0.3958, 0.4154], device='cuda:0',\n",
            "       grad_fn=<SelectBackward0>)\n",
            "Iter 89/150 - Loss: -3.408  noise: 0.000100\n",
            "lengthscale:  tensor([0.9696, 0.9758, 0.4339, 0.9680, 0.3958, 0.4153], device='cuda:0',\n",
            "       grad_fn=<SelectBackward0>)\n",
            "Iter 90/150 - Loss: -3.408  noise: 0.000100\n",
            "lengthscale:  tensor([0.9700, 0.9752, 0.4339, 0.9684, 0.3957, 0.4152], device='cuda:0',\n",
            "       grad_fn=<SelectBackward0>)\n",
            "Iter 91/150 - Loss: -3.408  noise: 0.000100\n",
            "lengthscale:  tensor([0.9702, 0.9748, 0.4342, 0.9686, 0.3955, 0.4152], device='cuda:0',\n",
            "       grad_fn=<SelectBackward0>)\n",
            "Iter 92/150 - Loss: -3.408  noise: 0.000100\n",
            "lengthscale:  tensor([0.9702, 0.9747, 0.4345, 0.9689, 0.3954, 0.4153], device='cuda:0',\n",
            "       grad_fn=<SelectBackward0>)\n",
            "Iter 93/150 - Loss: -3.408  noise: 0.000100\n",
            "lengthscale:  tensor([0.9702, 0.9749, 0.4347, 0.9691, 0.3954, 0.4155], device='cuda:0',\n",
            "       grad_fn=<SelectBackward0>)\n",
            "Iter 94/150 - Loss: -3.408  noise: 0.000100\n",
            "lengthscale:  tensor([0.9700, 0.9754, 0.4345, 0.9691, 0.3955, 0.4156], device='cuda:0',\n",
            "       grad_fn=<SelectBackward0>)\n",
            "Iter 95/150 - Loss: -3.408  noise: 0.000100\n",
            "lengthscale:  tensor([0.9698, 0.9758, 0.4341, 0.9690, 0.3956, 0.4155], device='cuda:0',\n",
            "       grad_fn=<SelectBackward0>)\n",
            "Iter 96/150 - Loss: -3.408  noise: 0.000100\n",
            "lengthscale:  tensor([0.9694, 0.9760, 0.4337, 0.9687, 0.3956, 0.4154], device='cuda:0',\n",
            "       grad_fn=<SelectBackward0>)\n",
            "Iter 97/150 - Loss: -3.408  noise: 0.000100\n",
            "lengthscale:  tensor([0.9690, 0.9760, 0.4336, 0.9682, 0.3956, 0.4152], device='cuda:0',\n",
            "       grad_fn=<SelectBackward0>)\n",
            "Iter 98/150 - Loss: -3.408  noise: 0.000100\n",
            "lengthscale:  tensor([0.9687, 0.9758, 0.4340, 0.9678, 0.3955, 0.4151], device='cuda:0',\n",
            "       grad_fn=<SelectBackward0>)\n",
            "Iter 99/150 - Loss: -3.408  noise: 0.000100\n",
            "lengthscale:  tensor([0.9686, 0.9755, 0.4345, 0.9676, 0.3955, 0.4151], device='cuda:0',\n",
            "       grad_fn=<SelectBackward0>)\n",
            "Iter 100/150 - Loss: -3.408  noise: 0.000100\n",
            "lengthscale:  tensor([0.9687, 0.9752, 0.4347, 0.9675, 0.3955, 0.4152], device='cuda:0',\n",
            "       grad_fn=<SelectBackward0>)\n",
            "Iter 101/150 - Loss: -3.408  noise: 0.000100\n",
            "lengthscale:  tensor([0.9689, 0.9749, 0.4343, 0.9675, 0.3954, 0.4152], device='cuda:0',\n",
            "       grad_fn=<SelectBackward0>)\n",
            "Iter 102/150 - Loss: -3.408  noise: 0.000100\n",
            "lengthscale:  tensor([0.9690, 0.9745, 0.4337, 0.9676, 0.3953, 0.4152], device='cuda:0',\n",
            "       grad_fn=<SelectBackward0>)\n",
            "Iter 103/150 - Loss: -3.408  noise: 0.000100\n",
            "lengthscale:  tensor([0.9690, 0.9742, 0.4333, 0.9676, 0.3952, 0.4151], device='cuda:0',\n",
            "       grad_fn=<SelectBackward0>)\n",
            "Iter 104/150 - Loss: -3.408  noise: 0.000100\n",
            "lengthscale:  tensor([0.9688, 0.9741, 0.4333, 0.9675, 0.3951, 0.4150], device='cuda:0',\n",
            "       grad_fn=<SelectBackward0>)\n",
            "Iter 105/150 - Loss: -3.408  noise: 0.000100\n",
            "lengthscale:  tensor([0.9686, 0.9740, 0.4338, 0.9674, 0.3950, 0.4148], device='cuda:0',\n",
            "       grad_fn=<SelectBackward0>)\n",
            "Iter 106/150 - Loss: -3.408  noise: 0.000100\n",
            "lengthscale:  tensor([0.9683, 0.9740, 0.4341, 0.9673, 0.3950, 0.4147], device='cuda:0',\n",
            "       grad_fn=<SelectBackward0>)\n",
            "Iter 107/150 - Loss: -3.408  noise: 0.000100\n",
            "lengthscale:  tensor([0.9679, 0.9741, 0.4341, 0.9670, 0.3950, 0.4147], device='cuda:0',\n",
            "       grad_fn=<SelectBackward0>)\n",
            "Iter 108/150 - Loss: -3.408  noise: 0.000100\n",
            "lengthscale:  tensor([0.9676, 0.9740, 0.4337, 0.9667, 0.3950, 0.4147], device='cuda:0',\n",
            "       grad_fn=<SelectBackward0>)\n",
            "Iter 109/150 - Loss: -3.409  noise: 0.000100\n",
            "lengthscale:  tensor([0.9674, 0.9739, 0.4333, 0.9665, 0.3950, 0.4147], device='cuda:0',\n",
            "       grad_fn=<SelectBackward0>)\n",
            "Iter 110/150 - Loss: -3.409  noise: 0.000100\n",
            "lengthscale:  tensor([0.9673, 0.9738, 0.4332, 0.9663, 0.3950, 0.4147], device='cuda:0',\n",
            "       grad_fn=<SelectBackward0>)\n",
            "Iter 111/150 - Loss: -3.409  noise: 0.000100\n",
            "lengthscale:  tensor([0.9673, 0.9737, 0.4334, 0.9662, 0.3950, 0.4148], device='cuda:0',\n",
            "       grad_fn=<SelectBackward0>)\n",
            "Iter 112/150 - Loss: -3.409  noise: 0.000100\n",
            "lengthscale:  tensor([0.9674, 0.9735, 0.4337, 0.9661, 0.3949, 0.4147], device='cuda:0',\n",
            "       grad_fn=<SelectBackward0>)\n",
            "Iter 113/150 - Loss: -3.409  noise: 0.000100\n",
            "lengthscale:  tensor([0.9674, 0.9733, 0.4337, 0.9661, 0.3948, 0.4146], device='cuda:0',\n",
            "       grad_fn=<SelectBackward0>)\n",
            "Iter 114/150 - Loss: -3.409  noise: 0.000100\n",
            "lengthscale:  tensor([0.9674, 0.9731, 0.4335, 0.9661, 0.3947, 0.4145], device='cuda:0',\n",
            "       grad_fn=<SelectBackward0>)\n",
            "Iter 115/150 - Loss: -3.409  noise: 0.000100\n",
            "lengthscale:  tensor([0.9674, 0.9730, 0.4332, 0.9661, 0.3947, 0.4144], device='cuda:0',\n",
            "       grad_fn=<SelectBackward0>)\n",
            "Iter 116/150 - Loss: -3.409  noise: 0.000100\n",
            "lengthscale:  tensor([0.9674, 0.9730, 0.4332, 0.9662, 0.3947, 0.4144], device='cuda:0',\n",
            "       grad_fn=<SelectBackward0>)\n",
            "Iter 117/150 - Loss: -3.409  noise: 0.000100\n",
            "lengthscale:  tensor([0.9673, 0.9731, 0.4333, 0.9661, 0.3947, 0.4144], device='cuda:0',\n",
            "       grad_fn=<SelectBackward0>)\n",
            "Iter 118/150 - Loss: -3.409  noise: 0.000100\n",
            "lengthscale:  tensor([0.9671, 0.9731, 0.4335, 0.9661, 0.3947, 0.4145], device='cuda:0',\n",
            "       grad_fn=<SelectBackward0>)\n",
            "Iter 119/150 - Loss: -3.409  noise: 0.000100\n",
            "lengthscale:  tensor([0.9670, 0.9732, 0.4335, 0.9660, 0.3948, 0.4146], device='cuda:0',\n",
            "       grad_fn=<SelectBackward0>)\n",
            "Iter 120/150 - Loss: -3.409  noise: 0.000100\n",
            "lengthscale:  tensor([0.9669, 0.9732, 0.4334, 0.9659, 0.3948, 0.4145], device='cuda:0',\n",
            "       grad_fn=<SelectBackward0>)\n",
            "Iter 121/150 - Loss: -3.409  noise: 0.000100\n",
            "lengthscale:  tensor([0.9669, 0.9732, 0.4332, 0.9658, 0.3948, 0.4145], device='cuda:0',\n",
            "       grad_fn=<SelectBackward0>)\n",
            "Iter 122/150 - Loss: -3.409  noise: 0.000100\n",
            "lengthscale:  tensor([0.9669, 0.9732, 0.4332, 0.9658, 0.3947, 0.4145], device='cuda:0',\n",
            "       grad_fn=<SelectBackward0>)\n",
            "Iter 123/150 - Loss: -3.409  noise: 0.000100\n",
            "lengthscale:  tensor([0.9671, 0.9732, 0.4333, 0.9659, 0.3947, 0.4145], device='cuda:0',\n",
            "       grad_fn=<SelectBackward0>)\n",
            "Iter 124/150 - Loss: -3.409  noise: 0.000100\n",
            "lengthscale:  tensor([0.9672, 0.9732, 0.4334, 0.9659, 0.3947, 0.4145], device='cuda:0',\n",
            "       grad_fn=<SelectBackward0>)\n",
            "Iter 125/150 - Loss: -3.409  noise: 0.000100\n",
            "lengthscale:  tensor([0.9673, 0.9731, 0.4335, 0.9660, 0.3947, 0.4145], device='cuda:0',\n",
            "       grad_fn=<SelectBackward0>)\n",
            "Iter 126/150 - Loss: -3.409  noise: 0.000100\n",
            "lengthscale:  tensor([0.9673, 0.9731, 0.4334, 0.9661, 0.3947, 0.4145], device='cuda:0',\n",
            "       grad_fn=<SelectBackward0>)\n",
            "Iter 127/150 - Loss: -3.409  noise: 0.000100\n",
            "lengthscale:  tensor([0.9674, 0.9732, 0.4333, 0.9662, 0.3948, 0.4145], device='cuda:0',\n",
            "       grad_fn=<SelectBackward0>)\n",
            "Iter 128/150 - Loss: -3.409  noise: 0.000100\n",
            "lengthscale:  tensor([0.9673, 0.9732, 0.4333, 0.9662, 0.3948, 0.4146], device='cuda:0',\n",
            "       grad_fn=<SelectBackward0>)\n",
            "Iter 129/150 - Loss: -3.409  noise: 0.000100\n",
            "lengthscale:  tensor([0.9673, 0.9733, 0.4334, 0.9662, 0.3948, 0.4146], device='cuda:0',\n",
            "       grad_fn=<SelectBackward0>)\n",
            "Iter 130/150 - Loss: -3.409  noise: 0.000100\n",
            "lengthscale:  tensor([0.9672, 0.9734, 0.4335, 0.9662, 0.3948, 0.4146], device='cuda:0',\n",
            "       grad_fn=<SelectBackward0>)\n",
            "Iter 131/150 - Loss: -3.409  noise: 0.000100\n",
            "lengthscale:  tensor([0.9673, 0.9734, 0.4335, 0.9662, 0.3948, 0.4146], device='cuda:0',\n",
            "       grad_fn=<SelectBackward0>)\n",
            "Iter 132/150 - Loss: -3.409  noise: 0.000100\n",
            "lengthscale:  tensor([0.9673, 0.9735, 0.4335, 0.9663, 0.3949, 0.4146], device='cuda:0',\n",
            "       grad_fn=<SelectBackward0>)\n",
            "Iter 133/150 - Loss: -3.409  noise: 0.000100\n",
            "lengthscale:  tensor([0.9674, 0.9736, 0.4335, 0.9663, 0.3949, 0.4146], device='cuda:0',\n",
            "       grad_fn=<SelectBackward0>)\n",
            "Iter 134/150 - Loss: -3.409  noise: 0.000100\n",
            "lengthscale:  tensor([0.9675, 0.9736, 0.4334, 0.9664, 0.3949, 0.4146], device='cuda:0',\n",
            "       grad_fn=<SelectBackward0>)\n",
            "Iter 135/150 - Loss: -3.409  noise: 0.000100\n",
            "lengthscale:  tensor([0.9676, 0.9736, 0.4334, 0.9664, 0.3949, 0.4146], device='cuda:0',\n",
            "       grad_fn=<SelectBackward0>)\n",
            "Iter 136/150 - Loss: -3.409  noise: 0.000100\n",
            "lengthscale:  tensor([0.9677, 0.9736, 0.4335, 0.9665, 0.3949, 0.4147], device='cuda:0',\n",
            "       grad_fn=<SelectBackward0>)\n",
            "Iter 137/150 - Loss: -3.409  noise: 0.000100\n",
            "lengthscale:  tensor([0.9677, 0.9736, 0.4336, 0.9665, 0.3949, 0.4147], device='cuda:0',\n",
            "       grad_fn=<SelectBackward0>)\n",
            "Iter 138/150 - Loss: -3.409  noise: 0.000100\n",
            "lengthscale:  tensor([0.9677, 0.9736, 0.4336, 0.9666, 0.3949, 0.4147], device='cuda:0',\n",
            "       grad_fn=<SelectBackward0>)\n",
            "Iter 139/150 - Loss: -3.409  noise: 0.000100\n",
            "lengthscale:  tensor([0.9677, 0.9737, 0.4336, 0.9666, 0.3949, 0.4147], device='cuda:0',\n",
            "       grad_fn=<SelectBackward0>)\n",
            "Iter 140/150 - Loss: -3.409  noise: 0.000100\n",
            "lengthscale:  tensor([0.9677, 0.9737, 0.4335, 0.9666, 0.3949, 0.4147], device='cuda:0',\n",
            "       grad_fn=<SelectBackward0>)\n",
            "Iter 141/150 - Loss: -3.409  noise: 0.000100\n",
            "lengthscale:  tensor([0.9677, 0.9738, 0.4335, 0.9666, 0.3950, 0.4147], device='cuda:0',\n",
            "       grad_fn=<SelectBackward0>)\n",
            "Iter 142/150 - Loss: -3.409  noise: 0.000100\n",
            "lengthscale:  tensor([0.9677, 0.9738, 0.4336, 0.9666, 0.3950, 0.4147], device='cuda:0',\n",
            "       grad_fn=<SelectBackward0>)\n",
            "Iter 143/150 - Loss: -3.409  noise: 0.000100\n",
            "lengthscale:  tensor([0.9677, 0.9739, 0.4336, 0.9666, 0.3950, 0.4147], device='cuda:0',\n",
            "       grad_fn=<SelectBackward0>)\n",
            "Iter 144/150 - Loss: -3.409  noise: 0.000100\n",
            "lengthscale:  tensor([0.9678, 0.9739, 0.4336, 0.9667, 0.3950, 0.4147], device='cuda:0',\n",
            "       grad_fn=<SelectBackward0>)\n",
            "Iter 145/150 - Loss: -3.409  noise: 0.000100\n",
            "lengthscale:  tensor([0.9678, 0.9739, 0.4336, 0.9667, 0.3949, 0.4147], device='cuda:0',\n",
            "       grad_fn=<SelectBackward0>)\n",
            "Iter 146/150 - Loss: -3.409  noise: 0.000100\n",
            "lengthscale:  tensor([0.9678, 0.9738, 0.4335, 0.9667, 0.3949, 0.4147], device='cuda:0',\n",
            "       grad_fn=<SelectBackward0>)\n",
            "Iter 147/150 - Loss: -3.409  noise: 0.000100\n",
            "lengthscale:  tensor([0.9679, 0.9738, 0.4336, 0.9667, 0.3949, 0.4147], device='cuda:0',\n",
            "       grad_fn=<SelectBackward0>)\n",
            "Iter 148/150 - Loss: -3.409  noise: 0.000100\n",
            "lengthscale:  tensor([0.9679, 0.9738, 0.4336, 0.9667, 0.3950, 0.4147], device='cuda:0',\n",
            "       grad_fn=<SelectBackward0>)\n",
            "Iter 149/150 - Loss: -3.409  noise: 0.000100\n",
            "lengthscale:  tensor([0.9678, 0.9738, 0.4336, 0.9667, 0.3950, 0.4147], device='cuda:0',\n",
            "       grad_fn=<SelectBackward0>)\n",
            "Iter 150/150 - Loss: -3.409  noise: 0.000100\n",
            "lengthscale:  tensor([0.9678, 0.9738, 0.4336, 0.9667, 0.3950, 0.4147], device='cuda:0',\n",
            "       grad_fn=<SelectBackward0>)\n"
          ]
        }
      ],
      "source": [
        "# Find optimal model hyperparameters using ADAM\n",
        "\n",
        "# Use the adam optimizer\n",
        "# Includes GaussianLikelihood parameters\n",
        "optimizer = torch.optim.Adam(model.parameters(), lr=0.1)\n",
        "\n",
        "# \"Loss\" for GPs - the marginal log likelihood\n",
        "mll = gpytorch.mlls.ExactMarginalLogLikelihood(likelihood, model)\n",
        "\n",
        "training_iter = 150\n",
        "mll_trajectory = []\n",
        "mll_trajectory_tst = []\n",
        "for i in range(training_iter):\n",
        "    model.train()\n",
        "    likelihood.train()\n",
        "    # Zero gradients from previous iteration\n",
        "    optimizer.zero_grad()\n",
        "    # Output from model\n",
        "    output = model(Xtr)\n",
        "    # Calc loss and backprop gradients\n",
        "    loss = -mll(output, ytr)\n",
        "    loss.backward()\n",
        "    print('Iter %d/%d - Loss: %.3f  noise: %.6f' % (\n",
        "        i + 1, training_iter, loss.item(),\n",
        "        model.likelihood.noise.item()\n",
        "    ))\n",
        "    print('lengthscale: ', model.covar_module.base_kernel.lengthscale[0])\n",
        "    mll_trajectory.append(loss.item())\n",
        "    optimizer.step()\n",
        "    with torch.no_grad(), gpytorch.settings.fast_pred_var():\n",
        "        model.eval()\n",
        "        likelihood.eval()\n",
        "        ypred = likelihood(model(Xtst))\n",
        "        mse = torch.sqrt(torch.sum((ypred.mean - ytst)**2))\n",
        "        mll_trajectory_tst.append(mse.cpu())\n",
        "        "
      ]
    },
    {
      "cell_type": "code",
      "execution_count": 35,
      "metadata": {
        "colab": {
          "base_uri": "https://localhost:8080/",
          "height": 633
        },
        "id": "tBEfbxIiwJqe",
        "outputId": "f278e30a-fa69-457b-d6c6-8f2f02bd2a95"
      },
      "outputs": [
        {
          "data": {
            "text/plain": [
              "Text(0, 0.5, 'RMSE')"
            ]
          },
          "execution_count": 35,
          "metadata": {},
          "output_type": "execute_result"
        },
        {
          "data": {
            "image/png": "[encoded data removed]",
            "text/plain": [
              "<Figure size 720x720 with 2 Axes>"
            ]
          },
          "metadata": {
            "needs_background": "light"
          },
          "output_type": "display_data"
        }
      ],
      "source": [
        "_,axs = plt.subplots(nrows=1,ncols=2,figsize=(10,10))\n",
        "axs[0].plot(np.arange(training_iter), mll_trajectory,marker='o')\n",
        "axs[1].plot(np.arange(training_iter), mll_trajectory_tst, marker='o')\n",
        "axs[0].set_xlabel('Iterations',fontsize=18)\n",
        "axs[0].set_ylabel('MLL',fontsize=18)\n",
        "axs[1].set_xlabel('Iterations',fontsize=18)\n",
        "axs[1].set_ylabel('RMSE', fontsize=18)\n"
      ]
    },
    {
      "cell_type": "code",
      "execution_count": 38,
      "metadata": {
        "id": "l2lsGV8AwJqg"
      },
      "outputs": [],
      "source": [
        "# Prediction with GPyTorch\n",
        "from torch.utils.data import TensorDataset, DataLoader\n",
        "\n",
        "# \tIn all other cases, he suggests using a power of 2 as the mini-batch size.\n",
        "# \tSo the minibatch should be 64, 128, 256, 512, or 1024 elements large.\n",
        "\n",
        "dummy_test_y = torch.full_like(Xtot, dtype=torch.long, fill_value=0)\n",
        "test_dataset = TensorDataset(Xtot, dummy_test_y)\n",
        "test_loader = DataLoader(test_dataset, batch_size=512, shuffle=False)\n",
        "\n",
        "means = torch.tensor([0.])\n",
        "stds = torch.tensor([[0.,0]])\n",
        "with torch.no_grad():\n",
        "\tfor x_batch, _ in test_loader:\n",
        "\t\tpreds = likelihood(model(x_batch.double().cuda()))\n",
        "\t\tmean = preds.mean.cpu()\n",
        "\t\tmeans = torch.cat([means, mean])\n",
        "\t\tl,u = preds.confidence_region()\n",
        "\t\tstd = torch.column_stack((l,u))\n",
        "\t\tstds = torch.vstack((stds,std.cpu()))\n",
        "        # stds = torch.vstack(stds,std)\n"
      ]
    },
    {
      "cell_type": "code",
      "execution_count": 45,
      "metadata": {
        "colab": {
          "base_uri": "https://localhost:8080/",
          "height": 525
        },
        "id": "3s3kksrowJqi",
        "outputId": "f4ee49c2-f2f4-4db3-d9ba-40823a8cec18"
      },
      "outputs": [
        {
          "data": {
            "image/png": "[encoded data removed]",
            "text/plain": [
              "<Figure size 720x576 with 1 Axes>"
            ]
          },
          "metadata": {
            "needs_background": "light"
          },
          "output_type": "display_data"
        }
      ],
      "source": [
        "from sklearn.metrics import r2_score\n",
        "\n",
        "ytot_gp = means[1:].numpy() # torch to numpy \n",
        "r2 = r2_score(ytot_gp,ytot)\n",
        "\n",
        "plt.figure(figsize=(10,8))\n",
        "plt.scatter(ytot_gp,ytot,s=5)\n",
        "\n",
        "low = np.min(np.stack((ytot_gp,ytot)).flatten())\n",
        "high = np.max(np.stack((ytot_gp,ytot)).flatten())\n",
        "plt.plot([low, high], [low, high], ls=\"--\", c=\"red\",lw=2.)\n",
        "\n",
        "plt.title('H3O+ PES (N=%s)'%N,fontsize=18)\n",
        "plt.text(0.02,0.08,r'$R^{2}$ = %.3f'%r2,fontsize=18)\n",
        "plt.xlabel('GP prediction',fontsize=18)\n",
        "plt.ylabel('Quantum Chemistry',fontsize=18)\n",
        "plt.show()"
      ]
    },
    {
      "attachments": {},
      "cell_type": "markdown",
      "metadata": {},
      "source": [
        "**Exercise**:\n",
        "1. What happened if you change the learning rate (```lr```) in\\\n",
        "    ```optimizer = torch.optim.Adam(model.parameters(), lr=0.1)```?\n",
        "2. What happened if we assume a zero mean GPs?\\\n",
        "   ``` self.mean_module = gpytorch.means.ZeroMean()```\n",
        "3. How significant is the total error if we assume an isotropic RBF kernel?\\\n",
        "   ```self.covar_module = gpytorch.kernels.ScaleKernel(gpytorch.kernels.RBFKernel())```\n",
        "4. What is the lowest number of geometries where $R^{2}$ is still 0.9?\n",
        "5. Resample the training data and compare the total error.\\\n",
        "   ```train_test_split(...,random_state=<CHOSE ANOTHER INTEGER>)```\n",
        "6. Chose a kernel from [list of kernels](https://docs.gpytorch.ai/en/v1.6.0/kernels.html) and compare with the RBF results.\n"
      ]
    },
    {
      "attachments": {},
      "cell_type": "markdown",
      "metadata": {},
      "source": [
        "<!-- \n",
        "Multiple kernels:\n",
        "k_rbf = gpytorch.kernels.ScaleKernel(gpytorch.kernels.RBFKernel(ard_num_dims=train_x.shape[1]))\n",
        "k_mat = gpytorch.kernels.ScaleKernel(gpytorch.kernels.MaternKernel(nu=2.5,ard_num_dims=train_x.shape[1]))\n",
        "self.covar_module = k_rbf + k_mat\n",
        "for i in range(2):\n",
        "    print('lengthscale: ', model.covar_module.kernels[i].base_kernel.lengthscale[0]) -->"
      ]
    }
  ],
  "metadata": {
    "accelerator": "GPU",
    "colab": {
      "provenance": []
    },
    "gpuClass": "standard",
    "kernelspec": {
      "display_name": "chem4pb3",
      "language": "python",
      "name": "python3"
    },
    "language_info": {
      "codemirror_mode": {
        "name": "ipython",
        "version": 3
      },
      "file_extension": ".py",
      "mimetype": "text/x-python",
      "name": "python",
      "nbconvert_exporter": "python",
      "pygments_lexer": "ipython3",
      "version": "3.9.15"
    },
    "orig_nbformat": 4,
    "vscode": {
      "interpreter": {
        "hash": "3bd1d19d093f1d1d5dd6cf1becc7a1cffecc3235fce6b74420ac04427a66c9c5"
      }
    }
  },
  "nbformat": 4,
  "nbformat_minor": 0
}
