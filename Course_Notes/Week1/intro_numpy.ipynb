{
 "cells": [
  {
   "attachments": {},
   "cell_type": "markdown",
   "metadata": {},
   "source": [
    "# Introduction to NumPy\n",
    "\n",
    "The fundamental package for scientific computing with Python: https://numpy.org/ \\\n",
    "(**paper**) [Nature volume 585, pages 357–362 (2020)](https://doi.org/10.1038/s41586-020-2649-2) \n",
    "\n",
    "**Abstract**\\\n",
    "Array programming provides a powerful, compact and expressive syntax for accessing, manipulating and operating on data in vectors, matrices and higher-dimensional arrays. \n",
    "NumPy is the primary array programming library for the Python language. It has an essential role in research analysis pipelines in fields as diverse as physics, chemistry, astronomy, geoscience, biology, psychology, materials science, engineering, finance and economics. \n",
    "For example, in astronomy, NumPy was an important part of the software stack used in the discovery of gravitational waves1 and in the first imaging of a black hole. "
   ]
  },
  {
   "cell_type": "code",
   "execution_count": 1,
   "metadata": {},
   "outputs": [],
   "source": [
    "import numpy as np # load numpy as np"
   ]
  },
  {
   "attachments": {},
   "cell_type": "markdown",
   "metadata": {},
   "source": [
    "# Arrays\n",
    "\n",
    "\n",
    "[additional tutorial](https://www.learndatasci.com/tutorials/applied-introduction-to-numpy-python-tutorial/)"
   ]
  },
  {
   "cell_type": "code",
   "execution_count": 2,
   "metadata": {},
   "outputs": [
    {
     "name": "stdout",
     "output_type": "stream",
     "text": [
      "[[1 2]\n",
      " [3 4]]\n",
      "X type: <class 'numpy.ndarray'>\n",
      "Size:\n",
      "number of rows: 2\n",
      "number of columns: 2\n"
     ]
    }
   ],
   "source": [
    "X = np.array([[1, 2], [3, 4]])  # Defining arrays\n",
    "\n",
    "print(X)\n",
    "print('X type:', type(X))\n",
    "\n",
    "\n",
    "n_rows, n_cols = X.shape\n",
    "print('Size:')\n",
    "print('number of rows:',n_rows)\n",
    "print('number of columns:', n_cols)"
   ]
  },
  {
   "attachments": {},
   "cell_type": "markdown",
   "metadata": {},
   "source": [
    "Change the value of the array\n",
    "\n",
    "```X[i,j]``` -> single element in the i-th row and j-th column\\\n",
    "```X[:,j]``` -> all elements in the j-th column\\\n",
    "```X[i,:]``` -> all elements in the i-th row"
   ]
  },
  {
   "cell_type": "code",
   "execution_count": 3,
   "metadata": {},
   "outputs": [
    {
     "name": "stdout",
     "output_type": "stream",
     "text": [
      "Original: \n",
      " [[1 2]\n",
      " [3 4]]\n",
      "X[0,0] =  1\n",
      "Modified: \n",
      " [[10  2]\n",
      " [ 3  4]]\n",
      "[[10 -1]\n",
      " [ 3 -1]]\n"
     ]
    }
   ],
   "source": [
    "print('Original: \\n', X)\n",
    "print('X[0,0] = ', X[0,0])\n",
    "X[0,0] = 10\n",
    "print('Modified: \\n', X)\n",
    "\n",
    "X[:,1] = -1 #select first column\n",
    "print(X)"
   ]
  },
  {
   "attachments": {},
   "cell_type": "markdown",
   "metadata": {},
   "source": [
    "## Excercises\n",
    "(tips) [NumPy documentation](https://numpy.org/doc/stable/index.html)"
   ]
  },
  {
   "cell_type": "code",
   "execution_count": 4,
   "metadata": {},
   "outputs": [],
   "source": [
    "# create an array full of zeros with size (10,4)\n"
   ]
  },
  {
   "cell_type": "code",
   "execution_count": 5,
   "metadata": {},
   "outputs": [],
   "source": [
    "# create an array full of zeros with size (12,), where the element 6 has the value of 4\n"
   ]
  },
  {
   "attachments": {},
   "cell_type": "markdown",
   "metadata": {},
   "source": [
    "# The power of NumPy\n",
    "\n",
    "Here we revise some operations we can do using Numpy"
   ]
  },
  {
   "cell_type": "code",
   "execution_count": 6,
   "metadata": {},
   "outputs": [
    {
     "name": "stdout",
     "output_type": "stream",
     "text": [
      "(9982,)\n"
     ]
    }
   ],
   "source": [
    "#load some data (Solubility from https://github.com/whitead/dmol-book/blob/main/data/curated-solubility-dataset.csv)\n",
    "D = np.load('../data/solubility.npy')\n",
    "print(D.shape) "
   ]
  },
  {
   "attachments": {},
   "cell_type": "markdown",
   "metadata": {},
   "source": [
    "## Mean and standard deviation\n",
    "\n",
    "$\\mu = \\frac{1}{N}\\sum_i^{N} x_i$\\\n",
    "$\\sigma =  \\sqrt\\frac{\\sum_i^{N}{(x_i-\\mu)^2}}{N}$\n"
   ]
  },
  {
   "cell_type": "code",
   "execution_count": 7,
   "metadata": {},
   "outputs": [
    {
     "name": "stdout",
     "output_type": "stream",
     "text": [
      "mu =  -2.8899088047869865\n",
      "std =  2.368035824195331\n"
     ]
    }
   ],
   "source": [
    "mu = np.mean(D)\n",
    "print('mu = ', mu)\n",
    "std = np.std(D)\n",
    "print('std = ', std)"
   ]
  },
  {
   "attachments": {},
   "cell_type": "markdown",
   "metadata": {},
   "source": [
    "## Exercises\n",
    "\n",
    "Using ```np.sum()```,```np.sqrt()```, ```D.shape```, and ```np.power()``` create a function that computes the **mean** and **standard deviation** of an given array."
   ]
  },
  {
   "cell_type": "code",
   "execution_count": 8,
   "metadata": {},
   "outputs": [
    {
     "ename": "SyntaxError",
     "evalue": "invalid syntax (2349222592.py, line 2)",
     "output_type": "error",
     "traceback": [
      "\u001b[0;36m  Input \u001b[0;32mIn [8]\u001b[0;36m\u001b[0m\n\u001b[0;31m    mu =  # compute mean\u001b[0m\n\u001b[0m          ^\u001b[0m\n\u001b[0;31mSyntaxError\u001b[0m\u001b[0;31m:\u001b[0m invalid syntax\n"
     ]
    }
   ],
   "source": [
    "def f(x):\n",
    "    mu =  # compute mean\n",
    "\n",
    "    std =  # compute std\n",
    "\n",
    "    return mu, std\n"
   ]
  },
  {
   "cell_type": "code",
   "execution_count": null,
   "metadata": {},
   "outputs": [],
   "source": []
  }
 ],
 "metadata": {
  "kernelspec": {
   "display_name": "chem4pb3",
   "language": "python",
   "name": "python3"
  },
  "language_info": {
   "codemirror_mode": {
    "name": "ipython",
    "version": 3
   },
   "file_extension": ".py",
   "mimetype": "text/x-python",
   "name": "python",
   "nbconvert_exporter": "python",
   "pygments_lexer": "ipython3",
   "version": "3.9.15"
  },
  "orig_nbformat": 4,
  "vscode": {
   "interpreter": {
    "hash": "3bd1d19d093f1d1d5dd6cf1becc7a1cffecc3235fce6b74420ac04427a66c9c5"
   }
  }
 },
 "nbformat": 4,
 "nbformat_minor": 2
}
