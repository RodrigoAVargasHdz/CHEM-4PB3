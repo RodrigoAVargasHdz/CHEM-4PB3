{
 "cells": [
  {
   "cell_type": "markdown",
   "metadata": {},
   "source": [
    "## Assignment 1 ##\n",
    "**Deadline: March 1st, 2014, midnight**"
   ]
  },
  {
   "cell_type": "markdown",
   "metadata": {},
   "source": [
    "<a target=\"_blank\" href=\"https://colab.research.google.com/github/RodrigoAVargasHdz/CHEM-4PB3/blob/w2024/Course_Notes/assignment1.ipynb\">\n",
    "  <img src=\"https://colab.research.google.com/assets/colab-badge.svg\" alt=\"Open In Colab\"/>\n",
    "</a>"
   ]
  },
  {
   "cell_type": "code",
   "execution_count": null,
   "metadata": {},
   "outputs": [],
   "source": [
    "#!pip install py3Dmol"
   ]
  },
  {
   "cell_type": "markdown",
   "metadata": {},
   "source": [
    "1. Load the data from the paper: <br>\n",
    "   [Using Gradients in Permutationally Invariant Polynomial Potential Fitting: A Demonstration for CH4 Using as Few as 100 Configurations, JCTC **15** (5), 2826 (2019).](https://pubs.acs.org/doi/10.1021/acs.jctc.9b00043)\n",
    "\n",
    "This data set contains different geometries of methane, the electronic energy and the forces. \n",
    "We will be fitting the Potential energy surface for methane ($\\text{CH}_4$). "
   ]
  },
  {
   "cell_type": "code",
   "execution_count": null,
   "metadata": {},
   "outputs": [],
   "source": [
    "# load all the necessary libraries that you will require for this assignment here\n",
    "import numpy as np\n",
    "import pandas as pd\n",
    "import matplotlib\n",
    "import matplotlib.pyplot as plt"
   ]
  },
  {
   "cell_type": "markdown",
   "metadata": {},
   "source": [
    "## Basic data analysis ##\n",
    "1. Load the data using Pandas using the url: \n",
    "```python\n",
    "data_url = \"https://github.com/RodrigoAVargasHdz/CHEM-4PB3/raw/w2024/Course_Notes/data/methane.csv\"\n",
    "```\n",
    "2. Inspect the data,\n",
    "   1. How many data points the data has?\n",
    "   2. What type of information the data has?\n",
    "   3. What is the geometry with the lowest energy? \n",
    "   \n",
    "(tips)<br>\n",
    "Each geometry data point is a flat vector of (5*3). If reshaped to a (5,3), ```np.reshape(x,(5,3))```, each row corresponds to the xyz coordinate of each atom. <br>\n",
    "Form the original file, the order of the atoms are ```['H','H','H','C']```"
   ]
  },
  {
   "cell_type": "code",
   "execution_count": null,
   "metadata": {},
   "outputs": [],
   "source": [
    "data_url = \"https://github.com/RodrigoAVargasHdz/CHEM-4PB3/raw/w2024/Course_Notes/data/methane.csv\"\n",
    "data = pd.read_csv(data_url)\n",
    "\n",
    "#code here!"
   ]
  },
  {
   "cell_type": "markdown",
   "metadata": {},
   "source": [
    "You can use the following function ```draw_molecule()``` to plot individual geometries."
   ]
  },
  {
   "cell_type": "code",
   "execution_count": null,
   "metadata": {},
   "outputs": [],
   "source": [
    "def get_xyz_str(z, xyz):\n",
    "    n_atoms = len(z)\n",
    "    xyz_ = []\n",
    "    xyz_str = '%s\\n * (null), Energy   -1000.0000000\\n' % (n_atoms)\n",
    "    for zi, xyzi in zip(z, xyz):\n",
    "        xyzi_str = '%s     %.4f     %.4f     %.4f\\n' % (\n",
    "            zi, float(xyzi[0]), float(xyzi[1]), float(xyzi[2]))\n",
    "        xyz_str += xyzi_str\n",
    "    return xyz_str\n",
    "\n",
    "\n",
    "def draw_molecule(view, z, xyz):\n",
    "    \"\"\"_summary_\n",
    "\n",
    "    Args:\n",
    "        view (_type_): py3dmol class\n",
    "        z (_type_): atomic numbers, list for CH4, z = ['H','H','H','H','C']\n",
    "        xyz (_type_): xyz coordinates in numpy array \n",
    "    \"\"\"\n",
    "    xyz_str = get_xyz_str(z, xyz)\n",
    "    view.addModel(xyz_str, 'xyz')\n",
    "    view.setStyle({'sphere': {'radius': 0.35}, 'stick': {'radius': 0.1}})\n",
    "    view.zoomTo()\n",
    "    view.update()\n",
    "    view.clear()\n",
    "\n",
    "'''\n",
    "#Example Ozone\n",
    "z = ['O','O','O']\n",
    "xyz = np.array([[0.4496,   0.0000000,   0.0000000],\n",
    "    [-0.2248,   0.0000000,  1.0927],\n",
    "    [ -0.2248,  0.0000000,  -1.0927]])\n",
    "view = py3Dmol.view(width=400, height=400)\n",
    "view.show()\n",
    "draw_molecule(view, z, xyz)\n",
    "'''"
   ]
  },
  {
   "cell_type": "markdown",
   "metadata": {},
   "source": [
    "3. Plot the histogram of the energies for $\\text{CH}_4$. <br>\n",
    "   **(grad students):** Over the histogram fit a **Gaussian Density estimation model**, you are allowed to use Scikit-Learn package, [link](https://scikit-learn.org/stable/modules/density.html).<br>\n",
    "   \n",
    "4. From the histogram what can you tell? "
   ]
  },
  {
   "cell_type": "code",
   "execution_count": null,
   "metadata": {},
   "outputs": [],
   "source": [
    "# code here!\n"
   ]
  },
  {
   "cell_type": "markdown",
   "metadata": {},
   "source": [
    "## Training, validation and test data splitting ##\n",
    "Code a function that will split the training data into, training, validation and test. Your function must accept two integers, one that represents the number of training points and the second represent the validation data points.<br>\n",
    "**The splitting must be random**, and you are allowed to use Scikit-Learn's function, [train_test_split](https://scikit-learn.org/stable/modules/generated/sklearn.model_selection.train_test_split.html)\n",
    "\n",
    "```python\n",
    "    def split_data(n_tr,n_val):\n",
    "\n",
    "        # split the data into training, validation and test\n",
    "    \n",
    "    return (X_tr,y_tr),(X_val,y_val),(X_tst,y_tst)\n",
    "```"
   ]
  },
  {
   "cell_type": "code",
   "execution_count": null,
   "metadata": {},
   "outputs": [],
   "source": [
    "# code here!"
   ]
  },
  {
   "cell_type": "markdown",
   "metadata": {},
   "source": [
    "# PES: Potential Energy surface model #"
   ]
  },
  {
   "cell_type": "markdown",
   "metadata": {},
   "source": [
    "For all the following models, we will use the interatomic distances between all atoms as the input for the PES models. \n",
    "\n",
    "For each geometry compute interatomic distances between all atoms, \n",
    "   $$\n",
    "   r(x^i,x^j) = \\sum_{\\ell} (x^i_\\ell - x^j_\\ell)^2, \n",
    "   $$\n",
    "where $x^i$ is the XYZ coordinates of atom $i$ and $x^j$ is the XYZ coordinates of the atom $j$. <br>\n",
    "(tip)  <br>\n",
    "You can use ```np.lingalg.norm()``` and expand the dimensions of the array. \n",
    "The final vector should be the distance between <br>\n",
    "```[H1-H2, H1-H3, H1-H4, H2-H3, H2-H4, H3-H4, C-H1, C-H2, C-H3, C-H4]```\n"
   ]
  },
  {
   "cell_type": "code",
   "execution_count": null,
   "metadata": {},
   "outputs": [],
   "source": [
    "# code here!"
   ]
  },
  {
   "cell_type": "markdown",
   "metadata": {},
   "source": [
    "1. For each interatomic distance create a histogram showcasing the range of the data points, plot all of them in a single figure (**not individual**).<br>\n",
    "   To plot all histograms in a single figure you can use the [mosaic fuction](https://matplotlib.org/stable/api/_as_gen/matplotlib.pyplot.subplot_mosaic.html#matplotlib.pyplot.subplot_mosaic) from Matplotlib, or [subplots](https://matplotlib.org/stable/api/figure_api.html#matplotlib.figure.Figure.subplots).\n",
    "   To each panel add the title of what distance it is referred to. "
   ]
  },
  {
   "cell_type": "code",
   "execution_count": null,
   "metadata": {},
   "outputs": [],
   "source": [
    "# code here!"
   ]
  },
  {
   "cell_type": "markdown",
   "metadata": {},
   "source": [
    "## Linear models ##\n",
    "The original paper used a polynomial based expansion to fit the PES for $\\text{CH}_4$, however, we first will use only the distances as the input for our model,\n",
    "$$\n",
    "f(\\mathbf{w},\\mathbf{r}) = \\mathbf{w}^\\top \\mathbf{r} = \\sum_i w_i r_i\n",
    "$$\n",
    "where $r_i$ is one of the interatomic distances. \n",
    "\n",
    "1. Fit a linear model with and without a regularization term. You can use the code from the lecture. \n",
    "2. For the Least square with regularization model, do a cross-validation search procedure to optimize the value of $\\lambda$ (**only using the training data**).\n",
    "\n",
    "**Details:** <br>\n",
    "Consider **50** training data points and **250** validation points. You must also use an additional **1,000** test points to assess the accuracy of the model. \n",
    "\n",
    "**Some analysis** <br>\n",
    "Using the validation data, compare both models and report the optimal value of $\\lambda$ found.<br>\n",
    "You can do a prediction vs true plot to see the results of the models.\n"
   ]
  },
  {
   "cell_type": "code",
   "execution_count": null,
   "metadata": {},
   "outputs": [],
   "source": [
    "#code here!"
   ]
  },
  {
   "cell_type": "markdown",
   "metadata": {},
   "source": [
    "## Polynomial linear models ##\n",
    "The original paper used a polynomial based expansion to fit the PES for $\\text{CH}_4$, however, we first will use only the distances as the input for our model,\n",
    "$$\n",
    "f(\\mathbf{w},\\mathbf{r}) = \\mathbf{w}^\\top \\phi(\\mathbf{r}) = \\sum_i w_i  \\phi_i(\\mathbf{r})\n",
    "$$\n",
    "where $r_i$ is one of the interatomic distances and $ \\phi(\\mathbf{r})$ is the polynomial expansion. This model is more similar to the one used in the original [paper](https://pubs.acs.org/doi/10.1021/acs.jctc.9b00043).\n",
    "\n",
    "* Fit a polynomial model with regularization term. You can use the code from the lecture. Use cross-validation search procedure to optimize the value of $\\lambda$ (**only using the training data**).\n",
    "\n",
    "**Details:** <br>\n",
    "* Use the same training and validation data as the one used to fit the **Linear models**.<br>\n",
    "* You are allow to use the function [PolynomialFeatures](https://scikit-learn.org/stable/modules/generated/sklearn.preprocessing.PolynomialFeatures.html) from Scikit-Learn.\n",
    "\n",
    "\n",
    "**Some analysis** <br>\n",
    "Plot the validation error as a function of the polynomial degree, you can consider a space from 1 to 5. <br>\n",
    "\n",
    "**(graduate students)**<br>\n",
    " Plot the optimal value of $\\lambda$ also as a function of the polynomial degree.\n"
   ]
  },
  {
   "cell_type": "code",
   "execution_count": null,
   "metadata": {},
   "outputs": [],
   "source": [
    "# code here!"
   ]
  },
  {
   "cell_type": "markdown",
   "metadata": {},
   "source": [
    "## Kernel based modes for PES ##\n",
    "In class, we also studied that a linear model could be transformed into a kernel model one by using the kernel trick. <br>\n",
    "Using Scikit-Learn let's fir the PES for $\\text{CH}_4$ using either the RBF or Matern kernel.\n",
    "**Important links:**<br>\n",
    "* [Kernel Ridge regression](https://scikit-learn.org/stable/modules/generated/sklearn.kernel_ridge.KernelRidge.html#sklearn.kernel_ridge.KernelRidge)\n",
    "* [RBF](https://scikit-learn.org/stable/modules/generated/sklearn.gaussian_process.kernels.RBF.html#sklearn.gaussian_process.kernels.RBF)\n",
    "* [Matern 2.5](https://scikit-learn.org/stable/modules/generated/sklearn.gaussian_process.kernels.Matern.html)\n",
    "\n",
    "Train a kernel model using individual length scale parameters for each interatomic distance.<br>\n",
    "According to the documentation of both kernels, one can define a ```length_scale``` as a vector where each element of the array corresponds to an individual length scale parameter. \n"
   ]
  },
  {
   "cell_type": "code",
   "execution_count": null,
   "metadata": {},
   "outputs": [],
   "source": [
    "#code here!"
   ]
  },
  {
   "cell_type": "markdown",
   "metadata": {},
   "source": []
  },
  {
   "cell_type": "markdown",
   "metadata": {},
   "source": [
    "# PES Inspection #\n",
    "Choosing one of the previously trained models, predict and plot the value of the energy as a function of the distance between **C-H** and **H-H**.\n",
    "* For the **C-H** distance, consider the range of 0.9 $\\AA$ to 1.7 $\\AA$.\n",
    "* For the **H-H** distance, consider the range of 1. $\\AA$ to 2.4 $\\AA$.\n",
    "\n",
    "You can use the ground state geometry as reference for the other distances required as input to the model.\n",
    "\n",
    "(tips)<br>\n",
    "See Figure 5 as reference from the [original paper]((https://pubs.acs.org/doi/10.1021/acs.jctc.9b00043)).\n"
   ]
  },
  {
   "cell_type": "code",
   "execution_count": null,
   "metadata": {},
   "outputs": [],
   "source": [
    "#code here!"
   ]
  },
  {
   "cell_type": "markdown",
   "metadata": {},
   "source": []
  }
 ],
 "metadata": {
  "kernelspec": {
   "display_name": "chem4pb3",
   "language": "python",
   "name": "python3"
  },
  "language_info": {
   "codemirror_mode": {
    "name": "ipython",
    "version": 3
   },
   "file_extension": ".py",
   "mimetype": "text/x-python",
   "name": "python",
   "nbconvert_exporter": "python",
   "pygments_lexer": "ipython3",
   "version": "3.9.16"
  }
 },
 "nbformat": 4,
 "nbformat_minor": 2
}
