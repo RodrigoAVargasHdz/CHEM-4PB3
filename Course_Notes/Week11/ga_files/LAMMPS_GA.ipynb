{
  "cells": [
    {
      "attachments": {},
      "cell_type": "markdown",
      "metadata": {},
      "source": [
        "Google Colab [link](https://colab.research.google.com/github/RodrigoAVargasHdz/CHEM-4PB3/blob/main/Course_Notes/Week11/ga_files/LAMMPS_GA.ipynb)"
      ]
    },
    {
      "cell_type": "markdown",
      "metadata": {
        "id": "VL3gLFHEIlDC"
      },
      "source": [
        "## Design of a Molecular that has a high affinity energy  with nitrogen molecule\n",
        "\n",
        "This code uses a genetic algorithm for molecular design (EvoMol - https://github.com/jules-leguy/EvoMol). The objective function is obtained from a Molecular Dynamics Simulation. In this case, we want to obtain a molecule that has a high attraction towards nitrogen gas, allowing its capture"
      ]
    },
    {
      "cell_type": "code",
      "execution_count": null,
      "metadata": {
        "id": "WWz8XB4T2OH_"
      },
      "outputs": [],
      "source": [
        "!pip install -q condacolab\n",
        "import condacolab\n",
        "condacolab.install()\n",
        "!git clone https://github.com/jules-leguy/EvoMol.git     # Clone EvoMol\n",
        "!mkdir EvoMol\n",
        "!python -m pip install EvoMol/.                          # Install EvoMol\n",
        "!pip install rdkit\n",
        "!pip install networkx\n",
        "!pip install guacamol\n",
        "!python -m pip install cclib\n",
        "!pip install pandas"
      ]
    },
    {
      "cell_type": "code",
      "execution_count": null,
      "metadata": {
        "colab": {
          "base_uri": "https://localhost:8080/"
        },
        "id": "fqQHT07eceEU",
        "outputId": "ed7ae152-a205-47b5-d7c1-243e9d2c79ab"
      },
      "outputs": [],
      "source": [
        "!apt-get install lammps\n",
        "!conda install lammps"
      ]
    },
    {
      "attachments": {},
      "cell_type": "markdown",
      "metadata": {
        "id": "7k9I_xvaKptu"
      },
      "source": [
        "## Genetic Algorithms\n",
        "\n",
        "A genetic algorithm is a optimization method inspired in natural evolution. This algorithm reflects the process of natural selection in which the fittest individuals are selected for reproduction in order to produce offspring of the next generation.\n",
        "\n",
        "<!-- INCLUDE GA_turtles.png -->\n",
        "\n",
        "<img src=\"https://raw.github.com/RodrigoAVargasHdz/CHEM-4PB3/master/Course_Notes/Figures/GA_turtles.png\"  width=\"400\" height=\"300\">\n"
      ]
    },
    {
      "attachments": {},
      "cell_type": "markdown",
      "metadata": {
        "id": "eH6Cfce0IhTo"
      },
      "source": [
        "## Molecular Dynamics Simulations\n",
        "\n",
        "In Molecular Dynamics, we are interested in the thermodynamics properties of a molecular system. The central idea is to solve the Newton's Law to obtain the position and velocity of the atoms. Then, it is possible to obtain the properties using Statistical Mechanics. The forces are obtaine from a force field, which is a set of functional and parameters that describes how the atoms interact. \n",
        "\n",
        "<!-- INCLUDE Classical-force-field.png-->\n",
        "<img src=\"https://raw.github.com/RodrigoAVargasHdz/CHEM-4PB3/master/Course_Notes/Figures/Classical-force-field.png\"  width=\"400\" height=\"300\">\n",
        "\n",
        "In our case, we want to obtain the affinity energy of the proposed molecule and nitrogen gas. This is calculated using\n",
        "\n",
        "\n",
        "$E_{affinity}$ = $E_{system}$ - $E_{N_{2}}$ - $E_{molecule}$,\n",
        "\n",
        "in which E_affinity is the affinity energy, E_system is the total potential energy of the whole system, En2 is the energy of a isolated nitrogen molecule and Emolecule is the energy of the proposed molecule\n",
        "\n",
        "<!-- INCLUDE affinity.gif -->\n",
        "<img src=\"https://raw.github.com/RodrigoAVargasHdz/CHEM-4PB3/master/Course_Notes/Figures/affinity.gif\"  width=\"400\" height=\"300\">"
      ]
    },
    {
      "cell_type": "markdown",
      "metadata": {
        "id": "ciTg8DWkHuGu"
      },
      "source": [
        "## Running the main code\n",
        "\n",
        "GA is a code that creates a input for LAMMPS (Molecular Dynamics Simulation), reads its output and connects the results to EvoMol "
      ]
    },
    {
      "cell_type": "code",
      "execution_count": null,
      "metadata": {
        "colab": {
          "base_uri": "https://localhost:8080/"
        },
        "id": "aMCCapQp_M6i",
        "outputId": "c0e9aabf-7688-4c45-c4cb-47d57942b60a"
      },
      "outputs": [],
      "source": [
        "!python GA.py"
      ]
    },
    {
      "cell_type": "code",
      "execution_count": null,
      "metadata": {
        "colab": {
          "base_uri": "https://localhost:8080/",
          "height": 632
        },
        "id": "L8bPOHg1J4_1",
        "outputId": "908657ca-abea-4b8f-be2f-69447c78ee8b"
      },
      "outputs": [],
      "source": [
        "import pandas as pd\n",
        "\n",
        "data = pd.read_csv(\"affinity_n2/pop.csv\")\n",
        "data.head(16)"
      ]
    }
  ],
  "metadata": {
    "colab": {
      "provenance": []
    },
    "kernelspec": {
      "display_name": "Python 3",
      "name": "python3"
    },
    "language_info": {
      "name": "python"
    }
  },
  "nbformat": 4,
  "nbformat_minor": 0
}
