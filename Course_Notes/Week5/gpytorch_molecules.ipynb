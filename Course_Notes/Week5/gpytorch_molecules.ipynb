{
  "cells": [
    {
      "cell_type": "markdown",
      "metadata": {
        "id": "XVJee2rmJILE"
      },
      "source": [
        "To open on Google Colab\\\n",
        "https://colab.research.google.com/github/RodrigoAVargasHdz/CHEM-4PB3/blob/main/Course_Notes/Week5/gpytorch_molecules.ipynb"
      ]
    },
    {
      "cell_type": "code",
      "source": [
        "!pip install gpytorch"
      ],
      "metadata": {
        "id": "B876ATr-JMNJ",
        "outputId": "67880ada-c108-4e3b-d6c0-2c6747b7c5be",
        "colab": {
          "base_uri": "https://localhost:8080/"
        }
      },
      "execution_count": 50,
      "outputs": [
        {
          "output_type": "stream",
          "name": "stdout",
          "text": [
            "Looking in indexes: https://pypi.org/simple, https://us-python.pkg.dev/colab-wheels/public/simple/\n",
            "Requirement already satisfied: gpytorch in /usr/local/lib/python3.8/dist-packages (1.9.1)\n",
            "Requirement already satisfied: linear-operator>=0.2.0 in /usr/local/lib/python3.8/dist-packages (from gpytorch) (0.3.0)\n",
            "Requirement already satisfied: scikit-learn in /usr/local/lib/python3.8/dist-packages (from gpytorch) (1.0.2)\n",
            "Requirement already satisfied: scipy in /usr/local/lib/python3.8/dist-packages (from linear-operator>=0.2.0->gpytorch) (1.7.3)\n",
            "Requirement already satisfied: torch>=1.11 in /usr/local/lib/python3.8/dist-packages (from linear-operator>=0.2.0->gpytorch) (1.13.1+cu116)\n",
            "Requirement already satisfied: threadpoolctl>=2.0.0 in /usr/local/lib/python3.8/dist-packages (from scikit-learn->gpytorch) (3.1.0)\n",
            "Requirement already satisfied: joblib>=0.11 in /usr/local/lib/python3.8/dist-packages (from scikit-learn->gpytorch) (1.2.0)\n",
            "Requirement already satisfied: numpy>=1.14.6 in /usr/local/lib/python3.8/dist-packages (from scikit-learn->gpytorch) (1.21.6)\n",
            "Requirement already satisfied: typing-extensions in /usr/local/lib/python3.8/dist-packages (from torch>=1.11->linear-operator>=0.2.0->gpytorch) (4.4.0)\n"
          ]
        }
      ]
    },
    {
      "cell_type": "markdown",
      "metadata": {
        "id": "-X-2kzffJILK"
      },
      "source": [
        "## Data an original model\n",
        "Load data from the [paper](th.fhi-berlin.mpg.de/site/uploads/Publications/QM-NJP_20130315.pdf)\n",
        "\n",
        "model was first introduce in 2012\n",
        "[paper](https://www.mrupp.info/Data/2012rtmvl_prl.pdf)"
      ]
    },
    {
      "cell_type": "code",
      "execution_count": 70,
      "metadata": {
        "id": "RCQAN5OmJILL",
        "outputId": "f37eafdd-f6d1-432e-b5cf-8162d4c35478",
        "colab": {
          "base_uri": "https://localhost:8080/"
        }
      },
      "outputs": [
        {
          "output_type": "stream",
          "name": "stdout",
          "text": [
            "Index(['Unnamed: 0', 'C Matrix 0', 'C Matrix 1', 'C Matrix 2', 'C Matrix 3',\n",
            "       'C Matrix 4', 'C Matrix 5', 'C Matrix 6', 'C Matrix 7', 'C Matrix 8',\n",
            "       ...\n",
            "       'C Matrix 520', 'C Matrix 521', 'C Matrix 522', 'C Matrix 523',\n",
            "       'C Matrix 524', 'C Matrix 525', 'C Matrix 526', 'C Matrix 527',\n",
            "       'C Matrix 528', 'AtomizationEnergy'],\n",
            "      dtype='object', length=531)\n"
          ]
        }
      ],
      "source": [
        "import numpy as np\n",
        "import pandas as pd\n",
        "from sklearn.model_selection import train_test_split\n",
        "\n",
        "#load data\n",
        "data_url = \"https://github.com/RodrigoAVargasHdz/CHEM-4PB3/raw/main/Course_Notes/data/qm7.csv\"\n",
        "data = pd.read_csv(data_url)\n",
        "# print(data.head)\n",
        "print(data.columns)\n",
        "\n",
        "Xtot = data.drop(['Unnamed: 0','AtomizationEnergy'], axis=1).to_numpy()\n",
        "ytot = data['AtomizationEnergy'].to_numpy()  # [:,np.newaxis]\n",
        "mu_data = np.mean(ytot)\n",
        "std_data = np.std(ytot)\n",
        "ytot = (ytot-mu_data)/std_data\n",
        "Ctot = Xtot.reshape(Xtot.shape[0],23,23)"
      ]
    },
    {
      "cell_type": "markdown",
      "metadata": {
        "id": "jqins_JnJILN"
      },
      "source": [
        "From Eq. 2 in the [paper](https://www.mrupp.info/Data/2012rtmvl_prl.pdf), we see that the authors proposed the eigenvalues of the Coulomb matrix as the \n",
        "features of our model. \n",
        "1. $\\mathbf{\\epsilon}$ -> eigenvalues of the Coulomb matrix\n",
        "2. $C$ -> Coulomb matrix\n",
        "\n",
        "The elements of the C matrix are given by,\\\n",
        "$C_{ij} = \\Big\\{ \\begin{matrix} 0.5 Z_i^{2.4} \\;\\;\\;\\;\\text{if }\\;\\; i=j\\\\ \\frac{Z_iZ_j}{|R_i - R_j|} \\;\\;\\;\\;\\text{if }\\;\\; i\\neq j \\end{matrix}$,\n",
        "where,\n",
        "1. $R_{i}$ is the position of atom-i\n",
        "2. $Z_{i}$ is the atomic number of atom-i\n",
        "\n",
        "\n",
        "To compute the eigenvalues of C we can use numpy ``` np.linalg.eigh(C)```"
      ]
    },
    {
      "cell_type": "code",
      "execution_count": 52,
      "metadata": {
        "id": "043KtkWKJILO"
      },
      "outputs": [],
      "source": [
        "Ctot_eig = []\n",
        "for c in Ctot:\n",
        "    e,_ = np.linalg.eigh(c)\n",
        "    Ctot_eig.append(e)\n",
        "\n",
        "Ctot_eig = np.array(Ctot_eig)"
      ]
    },
    {
      "cell_type": "markdown",
      "metadata": {
        "id": "x1HU5K-TJILP"
      },
      "source": [
        "## Train a GP using GPyTorch\n",
        "The kernel function proposed in the [paper](https://www.mrupp.info/Data/2012rtmvl_prl.pdf) is, (below if Equation (3))\\\n",
        "$K_{ij}=\\exp^{-\\frac{d(\\mathbf{C}_i,\\mathbf{C}_j)}{2\\ell^2}}$,\\\n",
        "where,\\\n",
        "$d(\\mathbf{C}_i,\\mathbf{C}_j) = d(\\mathbf{\\epsilon}_i,\\mathbf{\\epsilon}_j) = \\sqrt{\\sum_\\kappa |\\epsilon^\\kappa_i - \\epsilon^\\kappa_j|^2}$,\\\n",
        "where,\n",
        "* $\\epsilon^\\kappa_i$ is the $\\kappa$-th eigenvalue of the C matrix from molecule-i.\n",
        "\n",
        "$d(\\mathbf{C}_i,\\mathbf{C}_j)$ is simply an isotropic RBF kernel (can you see it?)"
      ]
    },
    {
      "cell_type": "code",
      "execution_count": 53,
      "metadata": {
        "id": "KWnXovQBJILQ"
      },
      "outputs": [],
      "source": [
        "import torch\n",
        "import gpytorch"
      ]
    },
    {
      "cell_type": "code",
      "execution_count": 54,
      "metadata": {
        "id": "NH1-JBskJILQ"
      },
      "outputs": [],
      "source": [
        "class ExactGPModel(gpytorch.models.ExactGP):\n",
        "    def __init__(self, train_x, train_y, likelihood):\n",
        "        super(ExactGPModel, self).__init__(train_x, train_y, likelihood)\n",
        "        self.mean_module = gpytorch.means.ConstantMean()\n",
        "        self.covar_module = gpytorch.kernels.ScaleKernel(\n",
        "            gpytorch.kernels.RBFKernel(ard_num_dims=train_x.shape[1]))\n",
        "\n",
        "    def forward(self, x):\n",
        "        mean_x = self.mean_module(x)\n",
        "        covar_x = self.covar_module(x)\n",
        "        return gpytorch.distributions.MultivariateNormal(mean_x, covar_x)"
      ]
    },
    {
      "cell_type": "code",
      "execution_count": 55,
      "metadata": {
        "id": "c0TIh2aZJILU"
      },
      "outputs": [],
      "source": [
        "# # data\n",
        "N = 2500\n",
        "Nval = 5000\n",
        "X_train, X_test, y_train, y_test = train_test_split(\n",
        "    Ctot_eig, ytot, test_size=ytot.shape[0] - N, random_state=0)\n",
        "if Nval > 0:\n",
        "    X_test, y_test = X_test[:Nval], y_test[:Nval]\n",
        "    Xtr, Xtst, ytr, ytst = X_train, X_test, y_train, y_test\n",
        "\n",
        "if torch.cuda.is_available():\n",
        "    Xtr = torch.from_numpy(Xtr).cuda()\n",
        "    ytr = torch.from_numpy(ytr).float().cuda()\n",
        "    Xtst = torch.from_numpy(Xtst).double().cuda()\n",
        "    ytst = torch.from_numpy(ytst).float().cuda()\n",
        "else:\n",
        "    Xtr = torch.from_numpy(Xtr)\n",
        "    ytr = torch.from_numpy(ytr).float()\n",
        "    Xtst = torch.from_numpy(Xtst).double()\n",
        "    ytst = torch.from_numpy(ytst).float()\n",
        "\n",
        "Xtot = torch.from_numpy(Ctot_eig)\n",
        "ytot = torch.from_numpy(ytot)"
      ]
    },
    {
      "cell_type": "markdown",
      "metadata": {
        "id": "v0pufy0kJILW"
      },
      "source": [
        "### training"
      ]
    },
    {
      "cell_type": "code",
      "execution_count": 56,
      "metadata": {
        "id": "45x172tvJILW"
      },
      "outputs": [],
      "source": [
        "# initialize likelihood and model\n",
        "likelihood = gpytorch.likelihoods.GaussianLikelihood().double()\n",
        "likelihood.noise = 1e-4  # Some small value, but don't make it too small or numerical performance will suffer. I recommend 1e-4.\n",
        "likelihood.noise_covar.raw_noise.requires_grad_(False)\n",
        "model = ExactGPModel(Xtr, ytr, likelihood).double()\n",
        "\n",
        "if torch.cuda.is_available():\n",
        "    likelihood.cuda()\n",
        "    model.cuda()"
      ]
    },
    {
      "cell_type": "code",
      "execution_count": 57,
      "metadata": {
        "id": "WYBmcXv7JILX",
        "outputId": "31a97647-2166-4892-9e0d-914486e63927",
        "colab": {
          "base_uri": "https://localhost:8080/",
          "height": 1000
        }
      },
      "outputs": [
        {
          "output_type": "stream",
          "name": "stdout",
          "text": [
            "Iter 0/500 - Loss: 1.387  noise: 0.000100\n",
            "lengthscale:  tensor([0.6931, 0.6931, 0.6931, 0.6931, 0.6931, 0.6931, 0.6931, 0.6931, 0.6931,\n",
            "        0.6931, 0.6931, 0.6931, 0.6931, 0.6931, 0.6931, 0.6931, 0.6931, 0.6931,\n",
            "        0.6931, 0.6931, 0.6931, 0.6931, 0.6931], dtype=torch.float64,\n",
            "       grad_fn=<SelectBackward0>)\n",
            "Iter 10/500 - Loss: -0.314  noise: 0.000100\n",
            "lengthscale:  tensor([2.5710, 2.6654, 3.7182, 2.6623, 1.9495, 1.8700, 1.6950, 0.9641, 0.6735,\n",
            "        1.1562, 1.1793, 1.2803, 1.4922, 1.5789, 1.8771, 1.1321, 4.6181, 4.8265,\n",
            "        4.8860, 4.9453, 4.9429, 4.9793, 4.9217], dtype=torch.float64,\n",
            "       grad_fn=<SelectBackward0>)\n",
            "Iter 20/500 - Loss: -1.407  noise: 0.000100\n",
            "lengthscale:  tensor([0.5351, 0.3918, 0.8276, 0.2778, 0.7934, 0.6003, 0.8448, 0.7640, 1.0670,\n",
            "        0.6842, 0.7713, 0.6491, 0.5556, 0.2423, 0.3497, 0.2888, 8.3437, 8.9549,\n",
            "        9.1917, 9.5422, 9.6799, 9.8109, 9.8568], dtype=torch.float64,\n",
            "       grad_fn=<SelectBackward0>)\n",
            "Iter 30/500 - Loss: -1.614  noise: 0.000100\n",
            "lengthscale:  tensor([ 0.2282,  0.9068,  0.9812,  0.8903,  1.4628,  0.6616,  1.1138,  0.7543,\n",
            "         0.7699,  0.5330,  0.6921,  0.4858,  0.4431,  0.4144,  0.7731,  0.5893,\n",
            "        10.8803, 11.1179, 11.6229, 12.4719, 12.8495, 12.7144, 13.3003],\n",
            "       dtype=torch.float64, grad_fn=<SelectBackward0>)\n",
            "Iter 40/500 - Loss: -1.544  noise: 0.000100\n",
            "lengthscale:  tensor([ 0.3210,  0.5328,  0.7795,  1.3216,  1.1455,  1.3548,  0.9891,  1.5774,\n",
            "         1.2013,  1.4941,  1.0067,  0.8841,  0.5583,  0.9478,  0.7570,  0.3160,\n",
            "        13.0996, 12.5742, 13.1777, 14.7869, 15.0351, 14.6693, 15.8909],\n",
            "       dtype=torch.float64, grad_fn=<SelectBackward0>)\n",
            "Iter 50/500 - Loss: -1.841  noise: 0.000100\n",
            "lengthscale:  tensor([ 0.2152,  0.7528,  1.0908,  1.1893,  0.7702,  1.3274,  0.7623,  1.7866,\n",
            "         0.6044,  1.7109,  0.5983,  1.3179,  1.0449,  0.7470,  0.7476,  0.3064,\n",
            "        14.9074, 13.9190, 14.5812, 16.6520, 17.0740, 16.7599, 17.8967],\n",
            "       dtype=torch.float64, grad_fn=<SelectBackward0>)\n",
            "Iter 60/500 - Loss: -1.953  noise: 0.000100\n",
            "lengthscale:  tensor([ 0.3742,  0.5592,  0.9934,  1.3046,  1.4696,  1.3379,  1.3861,  1.5235,\n",
            "         1.2560,  1.5394,  1.3720,  1.1280,  1.0629,  0.9444,  1.0628,  1.3379,\n",
            "        16.3083, 14.6877, 15.8951, 18.2358, 18.8132, 18.4596, 19.2619],\n",
            "       dtype=torch.float64, grad_fn=<SelectBackward0>)\n",
            "Iter 70/500 - Loss: -1.850  noise: 0.000100\n",
            "lengthscale:  tensor([ 0.4667,  2.4689,  1.3075,  1.9353,  1.5871,  1.3780,  0.9916,  2.0504,\n",
            "         1.8012,  1.9065,  1.6575,  1.8684,  1.8981,  1.1704,  1.1065,  1.0905,\n",
            "        17.0703, 15.2345, 17.0041, 19.6004, 20.5062, 19.9377, 20.9299],\n",
            "       dtype=torch.float64, grad_fn=<SelectBackward0>)\n",
            "Iter 80/500 - Loss: -1.979  noise: 0.000100\n",
            "lengthscale:  tensor([ 0.1081,  2.2817,  1.8209,  1.5857,  1.5907,  1.5830,  1.4538,  2.4532,\n",
            "         1.9257,  1.9989,  1.7169,  1.7302,  1.5450,  1.2136,  0.8883,  0.6533,\n",
            "        18.4936, 15.7866, 18.2865, 20.9477, 22.1386, 21.2499, 22.4304],\n",
            "       dtype=torch.float64, grad_fn=<SelectBackward0>)\n",
            "Iter 90/500 - Loss: -2.032  noise: 0.000100\n",
            "lengthscale:  tensor([6.7578e-03, 5.9296e-01, 1.4618e+00, 2.4071e+00, 2.5332e+00, 1.1190e+00,\n",
            "        1.1453e+00, 2.3077e+00, 2.2459e+00, 2.0650e+00, 1.7821e+00, 1.9178e+00,\n",
            "        1.7888e+00, 1.1472e+00, 1.3858e+00, 7.5513e-01, 1.9375e+01, 1.6217e+01,\n",
            "        1.9294e+01, 2.2325e+01, 2.3692e+01, 2.2673e+01, 2.3915e+01],\n",
            "       dtype=torch.float64, grad_fn=<SelectBackward0>)\n",
            "Iter 100/500 - Loss: -2.038  noise: 0.000100\n",
            "lengthscale:  tensor([5.4318e-03, 1.5822e+00, 1.6841e+00, 2.4124e+00, 2.1094e+00, 1.2789e+00,\n",
            "        1.1229e+00, 2.6436e+00, 2.1467e+00, 2.2613e+00, 2.0644e+00, 2.1039e+00,\n",
            "        2.1309e+00, 1.9357e+00, 1.1410e+00, 1.2838e+00, 1.9765e+01, 1.7056e+01,\n",
            "        2.0088e+01, 2.3440e+01, 2.4956e+01, 2.4175e+01, 2.5163e+01],\n",
            "       dtype=torch.float64, grad_fn=<SelectBackward0>)\n",
            "Iter 110/500 - Loss: -2.086  noise: 0.000100\n",
            "lengthscale:  tensor([5.1709e-03, 1.0774e+00, 1.6250e+00, 1.5749e+00, 2.1175e+00, 1.3573e+00,\n",
            "        2.4558e+00, 2.2355e+00, 1.8755e+00, 2.5836e+00, 2.2677e+00, 1.9789e+00,\n",
            "        1.9904e+00, 1.9917e+00, 1.3904e+00, 9.4756e-01, 1.9642e+01, 1.7813e+01,\n",
            "        2.1267e+01, 2.4338e+01, 2.6061e+01, 2.5755e+01, 2.6083e+01],\n",
            "       dtype=torch.float64, grad_fn=<SelectBackward0>)\n",
            "Iter 120/500 - Loss: -2.097  noise: 0.000100\n",
            "lengthscale:  tensor([5.6993e-03, 1.4951e+00, 1.6974e+00, 2.4094e+00, 2.5132e+00, 1.2695e+00,\n",
            "        3.1190e+00, 2.1172e+00, 2.2327e+00, 2.6336e+00, 2.4246e+00, 2.7935e+00,\n",
            "        2.0109e+00, 1.7629e+00, 1.8115e+00, 9.0904e-01, 1.9059e+01, 1.8110e+01,\n",
            "        2.2552e+01, 2.4846e+01, 2.7216e+01, 2.7281e+01, 2.7106e+01],\n",
            "       dtype=torch.float64, grad_fn=<SelectBackward0>)\n",
            "Iter 130/500 - Loss: -2.075  noise: 0.000100\n",
            "lengthscale:  tensor([6.4470e-03, 1.3947e+00, 2.3785e+00, 2.7630e+00, 2.1686e+00, 1.2158e+00,\n",
            "        2.8126e+00, 2.7182e+00, 2.5605e+00, 2.7259e+00, 1.7748e+00, 2.6118e+00,\n",
            "        2.3819e+00, 2.0282e+00, 1.6640e+00, 9.4054e-01, 1.8968e+01, 1.8106e+01,\n",
            "        2.3743e+01, 2.5585e+01, 2.8701e+01, 2.8887e+01, 2.7932e+01],\n",
            "       dtype=torch.float64, grad_fn=<SelectBackward0>)\n",
            "Iter 140/500 - Loss: -2.122  noise: 0.000100\n",
            "lengthscale:  tensor([7.4491e-03, 1.0676e+00, 1.9783e+00, 2.2741e+00, 1.5357e+00, 1.5258e+00,\n",
            "        2.8984e+00, 2.6918e+00, 2.5677e+00, 2.7863e+00, 2.8720e+00, 2.5425e+00,\n",
            "        2.6714e+00, 2.0798e+00, 1.4650e+00, 1.1336e+00, 1.8467e+01, 1.8322e+01,\n",
            "        2.4538e+01, 2.6363e+01, 3.0152e+01, 3.0298e+01, 2.8762e+01],\n",
            "       dtype=torch.float64, grad_fn=<SelectBackward0>)\n",
            "Iter 150/500 - Loss: -2.122  noise: 0.000100\n",
            "lengthscale:  tensor([9.7835e-03, 1.1945e+00, 1.3781e+00, 2.1628e+00, 3.5699e+00, 2.1135e+00,\n",
            "        3.0096e+00, 3.0057e+00, 2.9313e+00, 3.0486e+00, 3.1783e+00, 3.0645e+00,\n",
            "        2.8186e+00, 2.1385e+00, 2.3101e+00, 9.1735e-01, 1.8618e+01, 1.8948e+01,\n",
            "        2.5315e+01, 2.7040e+01, 3.1500e+01, 3.1706e+01, 2.9468e+01],\n",
            "       dtype=torch.float64, grad_fn=<SelectBackward0>)\n",
            "Iter 160/500 - Loss: -2.096  noise: 0.000100\n",
            "lengthscale:  tensor([1.1998e-02, 1.3541e+00, 1.7616e+00, 3.1357e+00, 2.8523e+00, 1.2143e+00,\n",
            "        2.5896e+00, 2.9219e+00, 2.9526e+00, 3.0012e+00, 2.6179e+00, 2.8108e+00,\n",
            "        2.7284e+00, 2.2067e+00, 1.4175e+00, 8.8631e-01, 1.9070e+01, 1.9153e+01,\n",
            "        2.6258e+01, 2.7876e+01, 3.2737e+01, 3.3040e+01, 3.0386e+01],\n",
            "       dtype=torch.float64, grad_fn=<SelectBackward0>)\n",
            "Iter 170/500 - Loss: -2.143  noise: 0.000100\n",
            "lengthscale:  tensor([1.1223e-02, 4.1475e-01, 2.0547e+00, 2.9762e+00, 3.0798e+00, 2.3901e+00,\n",
            "        2.6528e+00, 3.3415e+00, 2.6579e+00, 3.0287e+00, 2.5278e+00, 2.4822e+00,\n",
            "        2.5876e+00, 1.8719e+00, 1.4354e+00, 1.2007e+00, 2.0132e+01, 1.8676e+01,\n",
            "        2.7080e+01, 2.8479e+01, 3.3660e+01, 3.4291e+01, 3.1303e+01],\n",
            "       dtype=torch.float64, grad_fn=<SelectBackward0>)\n",
            "Iter 180/500 - Loss: -2.079  noise: 0.000100\n",
            "lengthscale:  tensor([1.2301e-02, 8.6715e-01, 2.4097e+00, 3.6029e+00, 2.9874e+00, 1.9254e+00,\n",
            "        2.3121e+00, 3.8913e+00, 2.6860e+00, 3.4634e+00, 3.2025e+00, 3.1026e+00,\n",
            "        2.7693e+00, 2.1777e+00, 1.3864e+00, 1.0410e+00, 1.9614e+01, 1.9166e+01,\n",
            "        2.7598e+01, 2.8581e+01, 3.4506e+01, 3.5743e+01, 3.2307e+01],\n",
            "       dtype=torch.float64, grad_fn=<SelectBackward0>)\n",
            "Iter 190/500 - Loss: -2.168  noise: 0.000100\n",
            "lengthscale:  tensor([1.3236e-02, 7.5454e-01, 2.4176e+00, 3.6549e+00, 3.6477e+00, 2.9022e+00,\n",
            "        1.9569e+00, 4.2284e+00, 2.6950e+00, 3.5649e+00, 2.8708e+00, 3.3409e+00,\n",
            "        3.0830e+00, 2.4527e+00, 1.9150e+00, 1.7327e+00, 1.9691e+01, 1.9938e+01,\n",
            "        2.8085e+01, 2.8406e+01, 3.5647e+01, 3.6950e+01, 3.3408e+01],\n",
            "       dtype=torch.float64, grad_fn=<SelectBackward0>)\n"
          ]
        },
        {
          "output_type": "error",
          "ename": "KeyboardInterrupt",
          "evalue": "ignored",
          "traceback": [
            "\u001b[0;31m---------------------------------------------------------------------------\u001b[0m",
            "\u001b[0;31mKeyboardInterrupt\u001b[0m                         Traceback (most recent call last)",
            "\u001b[0;32m<ipython-input-57-4db63a3301a1>\u001b[0m in \u001b[0;36m<module>\u001b[0;34m\u001b[0m\n\u001b[1;32m     19\u001b[0m     \u001b[0moutput\u001b[0m \u001b[0;34m=\u001b[0m \u001b[0mmodel\u001b[0m\u001b[0;34m(\u001b[0m\u001b[0mXtr\u001b[0m\u001b[0;34m)\u001b[0m\u001b[0;34m\u001b[0m\u001b[0;34m\u001b[0m\u001b[0m\n\u001b[1;32m     20\u001b[0m     \u001b[0;31m# Calc loss and backprop gradients\u001b[0m\u001b[0;34m\u001b[0m\u001b[0;34m\u001b[0m\u001b[0;34m\u001b[0m\u001b[0m\n\u001b[0;32m---> 21\u001b[0;31m     \u001b[0mloss\u001b[0m \u001b[0;34m=\u001b[0m \u001b[0;34m-\u001b[0m\u001b[0mmll\u001b[0m\u001b[0;34m(\u001b[0m\u001b[0moutput\u001b[0m\u001b[0;34m,\u001b[0m \u001b[0mytr\u001b[0m\u001b[0;34m)\u001b[0m\u001b[0;34m\u001b[0m\u001b[0;34m\u001b[0m\u001b[0m\n\u001b[0m\u001b[1;32m     22\u001b[0m     \u001b[0mloss\u001b[0m\u001b[0;34m.\u001b[0m\u001b[0mbackward\u001b[0m\u001b[0;34m(\u001b[0m\u001b[0;34m)\u001b[0m\u001b[0;34m\u001b[0m\u001b[0;34m\u001b[0m\u001b[0m\n\u001b[1;32m     23\u001b[0m     \u001b[0mmll_trajectory\u001b[0m\u001b[0;34m.\u001b[0m\u001b[0mappend\u001b[0m\u001b[0;34m(\u001b[0m\u001b[0mloss\u001b[0m\u001b[0;34m.\u001b[0m\u001b[0mitem\u001b[0m\u001b[0;34m(\u001b[0m\u001b[0;34m)\u001b[0m\u001b[0;34m)\u001b[0m\u001b[0;34m\u001b[0m\u001b[0;34m\u001b[0m\u001b[0m\n",
            "\u001b[0;32m/usr/local/lib/python3.8/dist-packages/gpytorch/module.py\u001b[0m in \u001b[0;36m__call__\u001b[0;34m(self, *inputs, **kwargs)\u001b[0m\n\u001b[1;32m     28\u001b[0m \u001b[0;34m\u001b[0m\u001b[0m\n\u001b[1;32m     29\u001b[0m     \u001b[0;32mdef\u001b[0m \u001b[0m__call__\u001b[0m\u001b[0;34m(\u001b[0m\u001b[0mself\u001b[0m\u001b[0;34m,\u001b[0m \u001b[0;34m*\u001b[0m\u001b[0minputs\u001b[0m\u001b[0;34m,\u001b[0m \u001b[0;34m**\u001b[0m\u001b[0mkwargs\u001b[0m\u001b[0;34m)\u001b[0m\u001b[0;34m:\u001b[0m\u001b[0;34m\u001b[0m\u001b[0;34m\u001b[0m\u001b[0m\n\u001b[0;32m---> 30\u001b[0;31m         \u001b[0moutputs\u001b[0m \u001b[0;34m=\u001b[0m \u001b[0mself\u001b[0m\u001b[0;34m.\u001b[0m\u001b[0mforward\u001b[0m\u001b[0;34m(\u001b[0m\u001b[0;34m*\u001b[0m\u001b[0minputs\u001b[0m\u001b[0;34m,\u001b[0m \u001b[0;34m**\u001b[0m\u001b[0mkwargs\u001b[0m\u001b[0;34m)\u001b[0m\u001b[0;34m\u001b[0m\u001b[0;34m\u001b[0m\u001b[0m\n\u001b[0m\u001b[1;32m     31\u001b[0m         \u001b[0;32mif\u001b[0m \u001b[0misinstance\u001b[0m\u001b[0;34m(\u001b[0m\u001b[0moutputs\u001b[0m\u001b[0;34m,\u001b[0m \u001b[0mlist\u001b[0m\u001b[0;34m)\u001b[0m\u001b[0;34m:\u001b[0m\u001b[0;34m\u001b[0m\u001b[0;34m\u001b[0m\u001b[0m\n\u001b[1;32m     32\u001b[0m             \u001b[0;32mreturn\u001b[0m \u001b[0;34m[\u001b[0m\u001b[0m_validate_module_outputs\u001b[0m\u001b[0;34m(\u001b[0m\u001b[0moutput\u001b[0m\u001b[0;34m)\u001b[0m \u001b[0;32mfor\u001b[0m \u001b[0moutput\u001b[0m \u001b[0;32min\u001b[0m \u001b[0moutputs\u001b[0m\u001b[0;34m]\u001b[0m\u001b[0;34m\u001b[0m\u001b[0;34m\u001b[0m\u001b[0m\n",
            "\u001b[0;32m/usr/local/lib/python3.8/dist-packages/gpytorch/mlls/exact_marginal_log_likelihood.py\u001b[0m in \u001b[0;36mforward\u001b[0;34m(self, function_dist, target, *params)\u001b[0m\n\u001b[1;32m     62\u001b[0m         \u001b[0;31m# Get the log prob of the marginal distribution\u001b[0m\u001b[0;34m\u001b[0m\u001b[0;34m\u001b[0m\u001b[0;34m\u001b[0m\u001b[0m\n\u001b[1;32m     63\u001b[0m         \u001b[0moutput\u001b[0m \u001b[0;34m=\u001b[0m \u001b[0mself\u001b[0m\u001b[0;34m.\u001b[0m\u001b[0mlikelihood\u001b[0m\u001b[0;34m(\u001b[0m\u001b[0mfunction_dist\u001b[0m\u001b[0;34m,\u001b[0m \u001b[0;34m*\u001b[0m\u001b[0mparams\u001b[0m\u001b[0;34m)\u001b[0m\u001b[0;34m\u001b[0m\u001b[0;34m\u001b[0m\u001b[0m\n\u001b[0;32m---> 64\u001b[0;31m         \u001b[0mres\u001b[0m \u001b[0;34m=\u001b[0m \u001b[0moutput\u001b[0m\u001b[0;34m.\u001b[0m\u001b[0mlog_prob\u001b[0m\u001b[0;34m(\u001b[0m\u001b[0mtarget\u001b[0m\u001b[0;34m)\u001b[0m\u001b[0;34m\u001b[0m\u001b[0;34m\u001b[0m\u001b[0m\n\u001b[0m\u001b[1;32m     65\u001b[0m         \u001b[0mres\u001b[0m \u001b[0;34m=\u001b[0m \u001b[0mself\u001b[0m\u001b[0;34m.\u001b[0m\u001b[0m_add_other_terms\u001b[0m\u001b[0;34m(\u001b[0m\u001b[0mres\u001b[0m\u001b[0;34m,\u001b[0m \u001b[0mparams\u001b[0m\u001b[0;34m)\u001b[0m\u001b[0;34m\u001b[0m\u001b[0;34m\u001b[0m\u001b[0m\n\u001b[1;32m     66\u001b[0m \u001b[0;34m\u001b[0m\u001b[0m\n",
            "\u001b[0;32m/usr/local/lib/python3.8/dist-packages/gpytorch/distributions/multivariate_normal.py\u001b[0m in \u001b[0;36mlog_prob\u001b[0;34m(self, value)\u001b[0m\n\u001b[1;32m    191\u001b[0m         \u001b[0;31m# Get log determininant and first part of quadratic form\u001b[0m\u001b[0;34m\u001b[0m\u001b[0;34m\u001b[0m\u001b[0;34m\u001b[0m\u001b[0m\n\u001b[1;32m    192\u001b[0m         \u001b[0mcovar\u001b[0m \u001b[0;34m=\u001b[0m \u001b[0mcovar\u001b[0m\u001b[0;34m.\u001b[0m\u001b[0mevaluate_kernel\u001b[0m\u001b[0;34m(\u001b[0m\u001b[0;34m)\u001b[0m\u001b[0;34m\u001b[0m\u001b[0;34m\u001b[0m\u001b[0m\n\u001b[0;32m--> 193\u001b[0;31m         \u001b[0minv_quad\u001b[0m\u001b[0;34m,\u001b[0m \u001b[0mlogdet\u001b[0m \u001b[0;34m=\u001b[0m \u001b[0mcovar\u001b[0m\u001b[0;34m.\u001b[0m\u001b[0minv_quad_logdet\u001b[0m\u001b[0;34m(\u001b[0m\u001b[0minv_quad_rhs\u001b[0m\u001b[0;34m=\u001b[0m\u001b[0mdiff\u001b[0m\u001b[0;34m.\u001b[0m\u001b[0munsqueeze\u001b[0m\u001b[0;34m(\u001b[0m\u001b[0;34m-\u001b[0m\u001b[0;36m1\u001b[0m\u001b[0;34m)\u001b[0m\u001b[0;34m,\u001b[0m \u001b[0mlogdet\u001b[0m\u001b[0;34m=\u001b[0m\u001b[0;32mTrue\u001b[0m\u001b[0;34m)\u001b[0m\u001b[0;34m\u001b[0m\u001b[0;34m\u001b[0m\u001b[0m\n\u001b[0m\u001b[1;32m    194\u001b[0m \u001b[0;34m\u001b[0m\u001b[0m\n\u001b[1;32m    195\u001b[0m         \u001b[0mres\u001b[0m \u001b[0;34m=\u001b[0m \u001b[0;34m-\u001b[0m\u001b[0;36m0.5\u001b[0m \u001b[0;34m*\u001b[0m \u001b[0msum\u001b[0m\u001b[0;34m(\u001b[0m\u001b[0;34m[\u001b[0m\u001b[0minv_quad\u001b[0m\u001b[0;34m,\u001b[0m \u001b[0mlogdet\u001b[0m\u001b[0;34m,\u001b[0m \u001b[0mdiff\u001b[0m\u001b[0;34m.\u001b[0m\u001b[0msize\u001b[0m\u001b[0;34m(\u001b[0m\u001b[0;34m-\u001b[0m\u001b[0;36m1\u001b[0m\u001b[0;34m)\u001b[0m \u001b[0;34m*\u001b[0m \u001b[0mmath\u001b[0m\u001b[0;34m.\u001b[0m\u001b[0mlog\u001b[0m\u001b[0;34m(\u001b[0m\u001b[0;36m2\u001b[0m \u001b[0;34m*\u001b[0m \u001b[0mmath\u001b[0m\u001b[0;34m.\u001b[0m\u001b[0mpi\u001b[0m\u001b[0;34m)\u001b[0m\u001b[0;34m]\u001b[0m\u001b[0;34m)\u001b[0m\u001b[0;34m\u001b[0m\u001b[0;34m\u001b[0m\u001b[0m\n",
            "\u001b[0;32m/usr/local/lib/python3.8/dist-packages/linear_operator/operators/_linear_operator.py\u001b[0m in \u001b[0;36minv_quad_logdet\u001b[0;34m(self, inv_quad_rhs, logdet, reduce_inv_quad)\u001b[0m\n\u001b[1;32m   1655\u001b[0m \u001b[0;34m\u001b[0m\u001b[0m\n\u001b[1;32m   1656\u001b[0m         \u001b[0mfunc\u001b[0m \u001b[0;34m=\u001b[0m \u001b[0mInvQuadLogdet\u001b[0m\u001b[0;34m.\u001b[0m\u001b[0mapply\u001b[0m\u001b[0;34m\u001b[0m\u001b[0;34m\u001b[0m\u001b[0m\n\u001b[0;32m-> 1657\u001b[0;31m         inv_quad_term, pinvk_logdet = func(\n\u001b[0m\u001b[1;32m   1658\u001b[0m             \u001b[0mself\u001b[0m\u001b[0;34m.\u001b[0m\u001b[0mrepresentation_tree\u001b[0m\u001b[0;34m(\u001b[0m\u001b[0;34m)\u001b[0m\u001b[0;34m,\u001b[0m\u001b[0;34m\u001b[0m\u001b[0;34m\u001b[0m\u001b[0m\n\u001b[1;32m   1659\u001b[0m             \u001b[0mprecond_lt\u001b[0m\u001b[0;34m.\u001b[0m\u001b[0mrepresentation_tree\u001b[0m\u001b[0;34m(\u001b[0m\u001b[0;34m)\u001b[0m\u001b[0;34m,\u001b[0m\u001b[0;34m\u001b[0m\u001b[0;34m\u001b[0m\u001b[0m\n",
            "\u001b[0;32m/usr/local/lib/python3.8/dist-packages/linear_operator/functions/_inv_quad_logdet.py\u001b[0m in \u001b[0;36mforward\u001b[0;34m(ctx, representation_tree, precond_representation_tree, preconditioner, num_precond_args, inv_quad, probe_vectors, probe_vector_norms, *args)\u001b[0m\n\u001b[1;32m    130\u001b[0m         \u001b[0;31m# Perform solves (for inv_quad) and tridiagonalization (for estimating logdet)\u001b[0m\u001b[0;34m\u001b[0m\u001b[0;34m\u001b[0m\u001b[0;34m\u001b[0m\u001b[0m\n\u001b[1;32m    131\u001b[0m         \u001b[0mrhs\u001b[0m \u001b[0;34m=\u001b[0m \u001b[0mtorch\u001b[0m\u001b[0;34m.\u001b[0m\u001b[0mcat\u001b[0m\u001b[0;34m(\u001b[0m\u001b[0mrhs_list\u001b[0m\u001b[0;34m,\u001b[0m \u001b[0;34m-\u001b[0m\u001b[0;36m1\u001b[0m\u001b[0;34m)\u001b[0m\u001b[0;34m\u001b[0m\u001b[0;34m\u001b[0m\u001b[0m\n\u001b[0;32m--> 132\u001b[0;31m         \u001b[0msolves\u001b[0m\u001b[0;34m,\u001b[0m \u001b[0mt_mat\u001b[0m \u001b[0;34m=\u001b[0m \u001b[0mlinear_op\u001b[0m\u001b[0;34m.\u001b[0m\u001b[0m_solve\u001b[0m\u001b[0;34m(\u001b[0m\u001b[0mrhs\u001b[0m\u001b[0;34m,\u001b[0m \u001b[0mpreconditioner\u001b[0m\u001b[0;34m,\u001b[0m \u001b[0mnum_tridiag\u001b[0m\u001b[0;34m=\u001b[0m\u001b[0mnum_random_probes\u001b[0m\u001b[0;34m)\u001b[0m\u001b[0;34m\u001b[0m\u001b[0;34m\u001b[0m\u001b[0m\n\u001b[0m\u001b[1;32m    133\u001b[0m \u001b[0;34m\u001b[0m\u001b[0m\n\u001b[1;32m    134\u001b[0m         \u001b[0;31m# Final values to return\u001b[0m\u001b[0;34m\u001b[0m\u001b[0;34m\u001b[0m\u001b[0;34m\u001b[0m\u001b[0m\n",
            "\u001b[0;32m/usr/local/lib/python3.8/dist-packages/linear_operator/operators/_linear_operator.py\u001b[0m in \u001b[0;36m_solve\u001b[0;34m(self, rhs, preconditioner, num_tridiag)\u001b[0m\n\u001b[1;32m    733\u001b[0m         \u001b[0mTODO\u001b[0m\u001b[0;34m\u001b[0m\u001b[0;34m\u001b[0m\u001b[0m\n\u001b[1;32m    734\u001b[0m         \"\"\"\n\u001b[0;32m--> 735\u001b[0;31m         return utils.linear_cg(\n\u001b[0m\u001b[1;32m    736\u001b[0m             \u001b[0mself\u001b[0m\u001b[0;34m.\u001b[0m\u001b[0m_matmul\u001b[0m\u001b[0;34m,\u001b[0m\u001b[0;34m\u001b[0m\u001b[0;34m\u001b[0m\u001b[0m\n\u001b[1;32m    737\u001b[0m             \u001b[0mrhs\u001b[0m\u001b[0;34m,\u001b[0m\u001b[0;34m\u001b[0m\u001b[0;34m\u001b[0m\u001b[0m\n",
            "\u001b[0;32m/usr/local/lib/python3.8/dist-packages/linear_operator/utils/linear_cg.py\u001b[0m in \u001b[0;36mlinear_cg\u001b[0;34m(matmul_closure, rhs, n_tridiag, tolerance, eps, stop_updating_after, max_iter, max_tridiag_iter, initial_guess, preconditioner)\u001b[0m\n\u001b[1;32m    251\u001b[0m             \u001b[0;31m# Update precond_residual\u001b[0m\u001b[0;34m\u001b[0m\u001b[0;34m\u001b[0m\u001b[0;34m\u001b[0m\u001b[0m\n\u001b[1;32m    252\u001b[0m             \u001b[0;31m# precon_residual{k} = M^-1 residual_{k}\u001b[0m\u001b[0;34m\u001b[0m\u001b[0;34m\u001b[0m\u001b[0;34m\u001b[0m\u001b[0m\n\u001b[0;32m--> 253\u001b[0;31m             \u001b[0mprecond_residual\u001b[0m \u001b[0;34m=\u001b[0m \u001b[0mpreconditioner\u001b[0m\u001b[0;34m(\u001b[0m\u001b[0mresidual\u001b[0m\u001b[0;34m)\u001b[0m\u001b[0;34m\u001b[0m\u001b[0;34m\u001b[0m\u001b[0m\n\u001b[0m\u001b[1;32m    254\u001b[0m \u001b[0;34m\u001b[0m\u001b[0m\n\u001b[1;32m    255\u001b[0m             _jit_linear_cg_updates(\n",
            "\u001b[0;32m/usr/local/lib/python3.8/dist-packages/linear_operator/operators/added_diag_linear_operator.py\u001b[0m in \u001b[0;36mprecondition_closure\u001b[0;34m(tensor)\u001b[0m\n\u001b[1;32m    124\u001b[0m         \u001b[0;32mdef\u001b[0m \u001b[0mprecondition_closure\u001b[0m\u001b[0;34m(\u001b[0m\u001b[0mtensor\u001b[0m\u001b[0;34m)\u001b[0m\u001b[0;34m:\u001b[0m\u001b[0;34m\u001b[0m\u001b[0;34m\u001b[0m\u001b[0m\n\u001b[1;32m    125\u001b[0m             \u001b[0;31m# This makes it fast to compute solves with it\u001b[0m\u001b[0;34m\u001b[0m\u001b[0;34m\u001b[0m\u001b[0;34m\u001b[0m\u001b[0m\n\u001b[0;32m--> 126\u001b[0;31m             \u001b[0mqqt\u001b[0m \u001b[0;34m=\u001b[0m \u001b[0mself\u001b[0m\u001b[0;34m.\u001b[0m\u001b[0m_q_cache\u001b[0m\u001b[0;34m.\u001b[0m\u001b[0mmatmul\u001b[0m\u001b[0;34m(\u001b[0m\u001b[0mself\u001b[0m\u001b[0;34m.\u001b[0m\u001b[0m_q_cache\u001b[0m\u001b[0;34m.\u001b[0m\u001b[0mmT\u001b[0m\u001b[0;34m.\u001b[0m\u001b[0mmatmul\u001b[0m\u001b[0;34m(\u001b[0m\u001b[0mtensor\u001b[0m\u001b[0;34m)\u001b[0m\u001b[0;34m)\u001b[0m\u001b[0;34m\u001b[0m\u001b[0;34m\u001b[0m\u001b[0m\n\u001b[0m\u001b[1;32m    127\u001b[0m             \u001b[0;32mif\u001b[0m \u001b[0mself\u001b[0m\u001b[0;34m.\u001b[0m\u001b[0m_constant_diag\u001b[0m\u001b[0;34m:\u001b[0m\u001b[0;34m\u001b[0m\u001b[0;34m\u001b[0m\u001b[0m\n\u001b[1;32m    128\u001b[0m                 \u001b[0;32mreturn\u001b[0m \u001b[0;34m(\u001b[0m\u001b[0;36m1\u001b[0m \u001b[0;34m/\u001b[0m \u001b[0mself\u001b[0m\u001b[0;34m.\u001b[0m\u001b[0m_noise\u001b[0m\u001b[0;34m)\u001b[0m \u001b[0;34m*\u001b[0m \u001b[0;34m(\u001b[0m\u001b[0mtensor\u001b[0m \u001b[0;34m-\u001b[0m \u001b[0mqqt\u001b[0m\u001b[0;34m)\u001b[0m\u001b[0;34m\u001b[0m\u001b[0;34m\u001b[0m\u001b[0m\n",
            "\u001b[0;31mKeyboardInterrupt\u001b[0m: "
          ]
        }
      ],
      "source": [
        "# Find optimal model hyperparameters using ADAM\n",
        "\n",
        "# Use the adam optimizer\n",
        "# Includes GaussianLikelihood parameters\n",
        "optimizer = torch.optim.Adam(model.parameters(), lr=0.5)\n",
        "\n",
        "# \"Loss\" for GPs - the marginal log likelihood\n",
        "mll = gpytorch.mlls.ExactMarginalLogLikelihood(likelihood, model)\n",
        "\n",
        "training_iter = 500\n",
        "mll_trajectory = []\n",
        "mll_trajectory_tst = []\n",
        "for i in range(training_iter):\n",
        "    model.train()\n",
        "    likelihood.train()\n",
        "    # Zero gradients from previous iteration\n",
        "    optimizer.zero_grad()\n",
        "    # Output from model\n",
        "    output = model(Xtr)\n",
        "    # Calc loss and backprop gradients\n",
        "    loss = -mll(output, ytr)\n",
        "    loss.backward()\n",
        "    mll_trajectory.append(loss.item())\n",
        "\n",
        "    if (i % 10) == 0.:\n",
        "      print('Iter %d/%d - Loss: %.3f  noise: %.6f' % (\n",
        "          i, training_iter, loss.item(),\n",
        "          model.likelihood.noise.item()\n",
        "      ))\n",
        "      print('lengthscale: ', model.covar_module.base_kernel.lengthscale[0])\n",
        "    optimizer.step()\n",
        "    # with torch.no_grad(), gpytorch.settings.fast_pred_var():\n",
        "    #     model.eval()\n",
        "    #     likelihood.eval()\n",
        "    #     ypred = likelihood(model(Xtst))\n",
        "    #     mse = torch.sqrt(torch.sum((ypred.mean - ytst)**2))\n",
        "    #     mll_trajectory_tst.append(mse.cpu())\n",
        "        "
      ]
    },
    {
      "cell_type": "code",
      "source": [
        "# Prediction with GPyTorch\n",
        "from torch.utils.data import TensorDataset, DataLoader\n",
        "\n",
        "# \tIn all other cases, he suggests using a power of 2 as the mini-batch size.\n",
        "# \tSo the minibatch should be 64, 128, 256, 512, or 1024 elements large.\n",
        "\n",
        "dummy_test_y = torch.full_like(Xtst, dtype=torch.long, fill_value=0)\n",
        "test_dataset = TensorDataset(Xtst, dummy_test_y)\n",
        "test_loader = DataLoader(test_dataset, batch_size=1024, shuffle=False)\n",
        "\n",
        "means = torch.tensor([0.])\n",
        "stds = torch.tensor([[0.,0]])\n",
        "\n",
        "model.eval()\n",
        "likelihood.eval()\n",
        "with torch.no_grad():\n",
        "    for x_batch, _ in test_loader:\n",
        "      if torch.cuda.is_available():\n",
        "          xb = x_batch\n",
        "      else:\n",
        "          xb = x_batch#.cuda()\n",
        "      preds = likelihood(model(xb))\n",
        "      mean = preds.mean.cpu()\n",
        "      means = torch.cat([means, mean])\n",
        "      # l,u = preds.confidence_region()\n",
        "      # std = torch.column_stack((l,u))\n",
        "      # stds = torch.vstack((stds,std.cpu()))\n",
        "      # stds = torch.vstack(stds,std)"
      ],
      "metadata": {
        "id": "AKe95x7GMiA5"
      },
      "execution_count": 59,
      "outputs": []
    },
    {
      "cell_type": "code",
      "source": [
        "from sklearn.metrics import r2_score\n",
        "import matplotlib\n",
        "import matplotlib.pylab as plt\n",
        "\n",
        "ytot_gp = means[1:].cpu().numpy() # torch to numpy \n",
        "ytst.cpu()\n",
        "r2 = r2_score(ytot_gp,ytst.cpu())\n",
        "\n",
        "plt.figure(figsize=(10,8))\n",
        "plt.scatter(ytot_gp,ytst.cpu(),s=5)\n",
        "\n",
        "low = np.min(np.stack((ytot_gp,ytst.cpu())).flatten())\n",
        "high = np.max(np.stack((ytot_gp,ytst.cpu())).flatten())\n",
        "plt.plot([low, high], [low, high], ls=\"--\", c=\"red\",lw=2.)\n",
        "\n",
        "# plt.title('H3O+ PES (N=%s)'%N,fontsize=18)\n",
        "# plt.text(0.02,0.08,r'$R^{2}$ = %.3f'%r2,fontsize=18)\n",
        "# plt.xlabel('GP prediction',fontsize=18)\n",
        "# plt.ylabel('Quantum Chemistry',fontsize=18)\n",
        "# plt.show()"
      ],
      "metadata": {
        "id": "1byKL9fESPH0",
        "outputId": "7a831664-6933-4b66-fb51-2f5a7efa960f",
        "colab": {
          "base_uri": "https://localhost:8080/",
          "height": 501
        }
      },
      "execution_count": 60,
      "outputs": [
        {
          "output_type": "execute_result",
          "data": {
            "text/plain": [
              "[<matplotlib.lines.Line2D at 0x7f549a173130>]"
            ]
          },
          "metadata": {},
          "execution_count": 60
        },
        {
          "output_type": "display_data",
          "data": {
            "text/plain": [
              "<Figure size 720x576 with 1 Axes>"
            ],
            "image/png": "[encoded data removed]"
          },
          "metadata": {
            "needs_background": "light"
          }
        }
      ]
    },
    {
      "cell_type": "markdown",
      "metadata": {
        "id": "RsPI-7Z7JILZ"
      },
      "source": [
        "# Single molecule test case after training a GP model with GPytorch"
      ]
    },
    {
      "cell_type": "code",
      "execution_count": 23,
      "metadata": {
        "id": "12VkT0ovJILa",
        "outputId": "472b4fd6-94d9-4ace-880d-cac6c7056720",
        "colab": {
          "base_uri": "https://localhost:8080/"
        }
      },
      "outputs": [
        {
          "output_type": "stream",
          "name": "stdout",
          "text": [
            "[['C' '0.000' '0.000' '0.000']\n",
            " ['H' '0.634' '0.634' '0.634']\n",
            " ['H' '-0.634' '-0.634' '0.634']\n",
            " ['H' '-0.634' '0.634' '-0.634']\n",
            " ['H' '0.634' '-0.634' '-0.634']]\n"
          ]
        }
      ],
      "source": [
        "# CH4\n",
        "molec = '''\n",
        "C \t0.000 \t0.000 \t0.000\n",
        "H \t0.634 \t0.634 \t0.634\n",
        "H \t-0.634 \t-0.634 \t0.634\n",
        "H \t-0.634 \t0.634 \t-0.634\n",
        "H \t0.634 \t-0.634 \t-0.634\n",
        "'''\n",
        "molec = molec.split()\n",
        "molec = np.array(molec)\n",
        "molec = molec.reshape(5,4)\n",
        "print(molec)"
      ]
    },
    {
      "cell_type": "code",
      "execution_count": 29,
      "metadata": {
        "id": "aKvdqXiEJILb"
      },
      "outputs": [],
      "source": [
        "def get_atomic_number(atoms):\n",
        "    atomic_numbers = {'H':1.,'C':6,'O':8}\n",
        "    Z = []\n",
        "    for x in molec:\n",
        "        zi = atomic_numbers[x[0]]\n",
        "        Z.append(zi)\n",
        "    return np.array(Z)"
      ]
    },
    {
      "cell_type": "code",
      "execution_count": 47,
      "metadata": {
        "id": "YcwQMytBJILc"
      },
      "outputs": [],
      "source": [
        "def get_Cmatrix(molec):\n",
        "    atoms = molec[:,0]\n",
        "    molec = molec[:,1:]\n",
        "    Zii = get_atomic_number(atoms)\n",
        "\n",
        "    XYZ = np.array(molec,dtype=np.float32)\n",
        "    diff =  XYZ[np.newaxis,:] - XYZ[:,np.newaxis]\n",
        "    R = np.linalg.norm(diff,axis=-1,ord=1)\n",
        "    Zij = Zii[:,np.newaxis] * Zii[np.newaxis,:]\n",
        "    Rdiag = np.eye(R.shape[0])\n",
        "    R = R + Rdiag\n",
        "    R_inv = 1./R\n",
        "    C = Zij * R_inv\n",
        "    \n",
        "    C_diag = 0.5*np.power(Zii, 2.4)\n",
        "    C[np.diag_indices(R.shape[0])] = C_diag\n",
        "    C_pad = np.zeros((23,23))\n",
        "    C_pad[:C.shape[0],:C.shape[1]] = C\n",
        "    return C_pad"
      ]
    },
    {
      "cell_type": "code",
      "execution_count": 49,
      "metadata": {
        "id": "OZAyFCzEJILe"
      },
      "outputs": [],
      "source": [
        "def get_eigenvalues(molecule):\n",
        "    C_pad =get_Cmatrix(molecule)\n",
        "    e,_ = np.linalg.eigh(C_pad)\n",
        "    return e"
      ]
    },
    {
      "cell_type": "code",
      "source": [
        "e_ch4 = get_eigenvalues(molec)\n",
        "xtst = torch.tensor(e_ch4).reshape(1,23)\n",
        "\n",
        "model.eval()\n",
        "likelihood.eval()\n",
        "preds = likelihood(model(xtst))\n",
        "mean = preds.mean.cpu()\n",
        "print(mean)\n",
        "print(Xtot[0])\n",
        "print(ytot[0])"
      ],
      "metadata": {
        "id": "r19F0DFRYpOz",
        "colab": {
          "base_uri": "https://localhost:8080/"
        },
        "outputId": "22453e3a-84c4-410d-f481-d48f7b482a1d"
      },
      "execution_count": 66,
      "outputs": [
        {
          "output_type": "stream",
          "name": "stdout",
          "text": [
            "tensor([4.9671], dtype=torch.float64, grad_fn=<ViewBackward0>)\n",
            "tensor([ 0.0000,  0.0000,  0.0000,  0.0000,  0.0000,  0.0000,  0.0000,  0.0000,\n",
            "         0.0000,  0.0000,  0.0000,  0.0000,  0.0000,  0.0000,  0.0000,  0.0000,\n",
            "         0.0000,  0.0000,  0.2033,  0.2033,  0.2033,  0.4613, 37.7869],\n",
            "       dtype=torch.float64)\n",
            "tensor(5.0022, dtype=torch.float64)\n"
          ]
        }
      ]
    },
    {
      "cell_type": "code",
      "source": [
        "# Benzene\n",
        "molec = '''\n",
        "  C        0.00000        1.40272        0.00000\n",
        "  H        0.00000        2.49029        0.00000\n",
        "  C       -1.21479        0.70136        0.00000\n",
        "  H       -2.15666        1.24515        0.00000\n",
        "  C       -1.21479       -0.70136        0.00000\n",
        "  H       -2.15666       -1.24515        0.00000\n",
        "  C        0.00000       -1.40272        0.00000\n",
        "  H        0.00000       -2.49029        0.00000\n",
        "  C        1.21479       -0.70136        0.00000\n",
        "  H        2.15666       -1.24515        0.00000\n",
        "  C        1.21479        0.70136        0.00000\n",
        "  H        2.15666        1.24515        0.00000\n",
        "  '''\n",
        "molec = molec.split()\n",
        "molec = np.array(molec)\n",
        "molec = molec.reshape(12,4)\n",
        "\n",
        "e = get_eigenvalues(molec)\n",
        "xtst = torch.tensor(e).reshape(1,23)\n",
        "\n",
        "model.eval()\n",
        "likelihood.eval()\n",
        "preds = likelihood(model(xtst))\n",
        "mean = preds.mean.cpu().detach().numpy()\n",
        "print('Atomization energy = %.3f kcal/mol'%float((mean[0]*std_data)+mu_data))\n",
        "# https://cccbdb.nist.gov/ea2.asp\n",
        "print('Benzene experimental atomization energy 1305.688 kcal/mol from NIST') "
      ],
      "metadata": {
        "colab": {
          "base_uri": "https://localhost:8080/"
        },
        "id": "K2ls7xNmPpIx",
        "outputId": "4befa36b-6b35-4784-d57c-e8b6518d417f"
      },
      "execution_count": 85,
      "outputs": [
        {
          "output_type": "stream",
          "name": "stdout",
          "text": [
            "Atomization energy = -1486.991 kcal/mol\n",
            "Benzene experimental atomization energy 1305.688 kcal/mol from NIST\n"
          ]
        }
      ]
    },
    {
      "cell_type": "code",
      "source": [],
      "metadata": {
        "id": "JAvN367xQRGf"
      },
      "execution_count": null,
      "outputs": []
    }
  ],
  "metadata": {
    "kernelspec": {
      "display_name": "chem4pb3",
      "language": "python",
      "name": "python3"
    },
    "language_info": {
      "codemirror_mode": {
        "name": "ipython",
        "version": 3
      },
      "file_extension": ".py",
      "mimetype": "text/x-python",
      "name": "python",
      "nbconvert_exporter": "python",
      "pygments_lexer": "ipython3",
      "version": "3.9.15"
    },
    "orig_nbformat": 4,
    "vscode": {
      "interpreter": {
        "hash": "3bd1d19d093f1d1d5dd6cf1becc7a1cffecc3235fce6b74420ac04427a66c9c5"
      }
    },
    "colab": {
      "provenance": []
    },
    "accelerator": "GPU",
    "gpuClass": "standard"
  },
  "nbformat": 4,
  "nbformat_minor": 0
}