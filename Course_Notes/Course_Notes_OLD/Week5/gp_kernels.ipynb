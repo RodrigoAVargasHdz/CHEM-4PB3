{
 "cells": [
  {
   "attachments": {},
   "cell_type": "markdown",
   "metadata": {},
   "source": [
    "To open on Google Colab\\\n",
    "https://colab.research.google.com/github/RodrigoAVargasHdz/CHEM-4PB3/blob/main/Course_Notes/Week5/gp_kernels.ipynb"
   ]
  },
  {
   "attachments": {},
   "cell_type": "markdown",
   "metadata": {},
   "source": [
    "# Extrapolation with GP\n",
    "\n",
    "Example based on [CO2 data](https://scikit-learn.org/stable/auto_examples/gaussian_process/plot_gpr_co2.html#sphx-glr-auto-examples-gaussian-process-plot-gpr-co2-py)"
   ]
  },
  {
   "cell_type": "code",
   "execution_count": 13,
   "metadata": {},
   "outputs": [],
   "source": [
    "import numpy as np\n",
    "import pandas as pd\n",
    "\n",
    "from sklearn.gaussian_process import GaussianProcessRegressor\n",
    "from sklearn.gaussian_process.kernels import RBF, ConstantKernel, Matern, ExpSineSquared\n",
    "from sklearn.model_selection import train_test_split\n",
    "from sklearn.datasets import fetch_openml\n",
    "\n",
    "import matplotlib\n",
    "import matplotlib.pyplot as plt"
   ]
  },
  {
   "cell_type": "code",
   "execution_count": 22,
   "metadata": {},
   "outputs": [],
   "source": [
    "co2 = fetch_openml(data_id=41187, as_frame=True, parser=\"pandas\")\n",
    "co2_data = co2.frame\n",
    "co2_data[\"date\"] = pd.to_datetime(co2_data[[\"year\", \"month\", \"day\"]])\n",
    "co2_data = co2_data[[\"date\", \"co2\"]].set_index(\"date\")\n",
    "\n",
    "X = (co2_data.index.year + co2_data.index.month / 12).to_numpy().reshape(-1, 1)\n",
    "y = co2_data[\"co2\"].to_numpy()\n",
    "y = y - np.mean(y)"
   ]
  },
  {
   "cell_type": "code",
   "execution_count": 25,
   "metadata": {},
   "outputs": [
    {
     "name": "stdout",
     "output_type": "stream",
     "text": [
      "(1112,) (1113,)\n"
     ]
    }
   ],
   "source": [
    "X_train,X_test,y_train,y_test = train_test_split(X,y,test_size=0.5)\n",
    "print(y_train.shape,y_test.shape)"
   ]
  },
  {
   "attachments": {},
   "cell_type": "markdown",
   "metadata": {},
   "source": [
    "Train a GP with an different kernels"
   ]
  },
  {
   "cell_type": "code",
   "execution_count": 27,
   "metadata": {},
   "outputs": [
    {
     "name": "stderr",
     "output_type": "stream",
     "text": [
      "/usr/local/anaconda3/envs/chem4pb3/lib/python3.9/site-packages/sklearn/gaussian_process/_gpr.py:629: ConvergenceWarning: lbfgs failed to converge (status=2):\n",
      "ABNORMAL_TERMINATION_IN_LNSRCH.\n",
      "\n",
      "Increase the number of iterations (max_iter) or scale the data as shown in:\n",
      "    https://scikit-learn.org/stable/modules/preprocessing.html\n",
      "  _check_optimize_result(\"lbfgs\", opt_res)\n"
     ]
    }
   ],
   "source": [
    "kernel = ConstantKernel(1., (1E-2, 1E4)) * \\\n",
    "    ExpSineSquared(length_scale=np.ones(1), periodicity=10.0, length_scale_bounds=(\n",
    "        1e-2, 100.0), periodicity_bounds=(1.0, 100.0),)\n",
    "kernel += ConstantKernel(1., (1E-2, 1E4)) * RBF()\n",
    "# WhiteKernel(noise_level=1., noise_level_bounds=(1e-10, 1e-3))\n",
    "# ExpSineSquared(    length_scale=np.ones(1),    periodicity=10.0,    length_scale_bounds=(1e-3, 20.0),    periodicity_bounds=(1.0, 20.0),)\n",
    "\n",
    "gpr = GaussianProcessRegressor(\n",
    "    kernel=kernel, alpha=1E-4, random_state=0, n_restarts_optimizer=10)\n",
    "gpr.fit(X_train, y_train)\n",
    "\n",
    "y_mean, y_std = gpr.predict(X, return_std=True)\n",
    "\n",
    "fig, ax = plt.subplots(figsize=(10, 5))\n",
    "plt.scatter(X.flatten(), y, s=5, label='data')\n",
    "y_mean, y_std = gpr.predict(X, return_std=True)\n",
    "\n",
    "# plt.plot(X.flatten(),y_mean,c='k',label=r'$\\mu_{GP}$')\n",
    "\n",
    "X_test = np.linspace(start=2000, stop=2020, num=1_000).reshape(-1, 1)\n",
    "\n",
    "print(X[-5:])\n",
    "print(X_test[:3])\n",
    "mean_y_pred, std_y_pred = gpr.predict(X_test, return_std=True)\n",
    "\n",
    "plt.plot(X_test, mean_y_pred, color=\"tab:blue\",\n",
    "         alpha=0.4, label=\"Gaussian process\")\n",
    "# plt.fill_between(\n",
    "#     X_test.ravel(),\n",
    "#     mean_y_pred - std_y_pred,\n",
    "#     mean_y_pred + std_y_pred,\n",
    "#     color=\"tab:blue\",\n",
    "#     alpha=0.2,\n",
    "# )\n",
    "plt.xlabel(\"year\")\n",
    "plt.ylabel(\"Monthly average of CO$_2$ concentration (ppm)\")\n",
    "# plt.xlim(1999,2020)\n",
    "plt.legend()"
   ]
  },
  {
   "cell_type": "code",
   "execution_count": null,
   "metadata": {},
   "outputs": [],
   "source": []
  }
 ],
 "metadata": {
  "kernelspec": {
   "display_name": "chem4pb3",
   "language": "python",
   "name": "python3"
  },
  "language_info": {
   "codemirror_mode": {
    "name": "ipython",
    "version": 3
   },
   "file_extension": ".py",
   "mimetype": "text/x-python",
   "name": "python",
   "nbconvert_exporter": "python",
   "pygments_lexer": "ipython3",
   "version": "3.9.15"
  },
  "orig_nbformat": 4,
  "vscode": {
   "interpreter": {
    "hash": "3bd1d19d093f1d1d5dd6cf1becc7a1cffecc3235fce6b74420ac04427a66c9c5"
   }
  }
 },
 "nbformat": 4,
 "nbformat_minor": 2
}
