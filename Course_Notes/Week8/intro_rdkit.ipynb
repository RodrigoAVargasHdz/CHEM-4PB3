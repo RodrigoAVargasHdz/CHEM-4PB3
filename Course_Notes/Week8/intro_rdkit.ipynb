{
 "cells": [
  {
   "attachments": {},
   "cell_type": "markdown",
   "metadata": {},
   "source": [
    "To open on Google Colab [link](https://colab.research.google.com/github/RodrigoAVargasHdz/CHEM-4PB3/blob/main/Course_Notes/Week8/intro_rdkit.ipynb)"
   ]
  },
  {
   "cell_type": "code",
   "execution_count": null,
   "metadata": {},
   "outputs": [],
   "source": [
    "!pip install rdkit-pypi\n",
    "!pip install avogadro\n",
    "!pip install py3Dmol"
   ]
  },
  {
   "cell_type": "code",
   "execution_count": null,
   "metadata": {},
   "outputs": [],
   "source": [
    "import numpy as np\n",
    "import matplotlib.pyplot as plt\n",
    "\n",
    "import py3Dmol\n",
    "from rdkit import Chem\n",
    "from rdkit.Chem import AllChem, Draw\n",
    "from rdkit.Chem.rdmolops import GetAdjacencyMatrix\n",
    "from rdkit.Chem.Draw import IPythonConsole\n",
    "\n",
    "import networkx as nx\n",
    "\n",
    "IPythonConsole.ipython_useSVG = True\n",
    "IPythonConsole.drawOptions.addAtomIndices = True\n",
    "IPythonConsole.molSize = 300,300"
   ]
  },
  {
   "attachments": {},
   "cell_type": "markdown",
   "metadata": {},
   "source": [
    "# Introduction to Chem-Informatics\n",
    "(Reference: [**Book**](https://link.springer.com/book/10.1007/978-1-4020-6291-9))\n",
    "\n",
    "Goals: \n",
    "1. **How do we store information about a chemical structure in a computer?**\n",
    "2. Introduction to [RDKit](https://www.rdkit.org/docs/index.html)."
   ]
  },
  {
   "attachments": {},
   "cell_type": "markdown",
   "metadata": {},
   "source": [
    "## Molecular graphs\n",
    "\n",
    "Molecules can be represented as *Graphs* where,\\\n",
    "> **nodes** contains the information of the atoms -> atomic number of atom type \\\n",
    "> **edges** represents the connectivity -> bond order or type\n",
    "\n",
    "**A graph represents the topology of our molecule!**\\\n",
    "(topology -> connectivity)"
   ]
  },
  {
   "attachments": {},
   "cell_type": "markdown",
   "metadata": {},
   "source": [
    "## SMILES\n",
    "The **simplified molecular-input line-entry system** (SMILES) is a specification in the form of a line notation for describing the structure of chemical species using short ASCII strings. \n",
    "\n",
    "The SMILES description is based on,\n",
    "1. Atoms ```[Co+3]```\n",
    "2. Bonds ```. - = # $ : / \\``` \n",
    "   1. ```.``` no bonds ```[Na+].[Cl-]```\n",
    "   2. ```- = # $``` are single, double, triple, quadruple\n",
    "   3. ```:``` \"one and a half\" bond\n",
    "   4.  ```/``` or ```\\``` to indicate stereochemical configuration)\n",
    "3. Rings\n",
    "   * cyclopropene is usually written ```C1=CC1```\n",
    "4. Branching\n",
    "   * It uses ```()``` \n",
    "\n",
    "from [Wikipedia](https://en.wikipedia.org/wiki/Simplified_molecular-input_line-entry_system)"
   ]
  },
  {
   "cell_type": "code",
   "execution_count": null,
   "metadata": {},
   "outputs": [],
   "source": [
    "caff_sm = 'CN1C=NC2=C1C(=O)N(C(=O)N2C)C'\n",
    "m = AllChem.MolFromSmiles(caff_sm)\n",
    "m"
   ]
  },
  {
   "attachments": {},
   "cell_type": "markdown",
   "metadata": {},
   "source": [
    "SMILES usually avoid the notation with ```H``` to reduce the string length.\n",
    "However, one could add them in RDKiT."
   ]
  },
  {
   "cell_type": "code",
   "execution_count": null,
   "metadata": {},
   "outputs": [],
   "source": [
    "m_wH = Chem.rdmolops.AddHs(m)\n",
    "m_wH"
   ]
  },
  {
   "cell_type": "code",
   "execution_count": null,
   "metadata": {},
   "outputs": [],
   "source": [
    "ch4_sm = 'C'\n",
    "m_ch4 = AllChem.MolFromSmiles(ch4_sm)\n",
    "m_ch4\n"
   ]
  },
  {
   "cell_type": "code",
   "execution_count": null,
   "metadata": {},
   "outputs": [],
   "source": [
    "m_ch4_wH = Chem.rdmolops.AddHs(m_ch4)\n",
    "m_ch4_wH"
   ]
  },
  {
   "attachments": {},
   "cell_type": "markdown",
   "metadata": {},
   "source": [
    "## canonical SMILES\n",
    "RDKit a canonicalization algorithm uses rules to produce a unique ordering for the atoms\n",
    "\n",
    "**Aspirin**: O=C(C)Oc1ccccc1C(=O)O \\\n",
    "(from [Wikipedia](https://www.google.com/url?sa=t&rct=j&q=&esrc=s&source=web&cd=&cad=rja&uact=8&ved=2ahUKEwitk7DA5839AhXYkIkEHa0dDrgQFnoECA8QAQ&url=https%3A%2F%2Fen.wikipedia.org%2Fwiki%2FAspirin&usg=AOvVaw02IeN5OW-BJ2TIBNLoNsgI))\n",
    "\n",
    "<img src=\"https://raw.github.com/RodrigoAVargasHdz/CHEM-4PB3/master/Course_Notes/Figures/Canonical-a-and-randomized-b-SMILES-representations-of-aspirin-Randomized-SMILES.png\"  width=\"600\" height=\"300\">\n"
   ]
  },
  {
   "cell_type": "code",
   "execution_count": null,
   "metadata": {},
   "outputs": [],
   "source": [
    "molec_smiles = \"O=C(C)Oc1ccccc1C(=O)O\" #'CN1C=NC2=C1C(=O)N(C(=O)N2C)C'  # 'OCCC'\n",
    "molecule = AllChem.MolFromSmiles(molec_smiles)\n",
    "unique_smiles = AllChem.MolToSmiles(molecule, canonical=True)\n",
    "print(molec_smiles)\n",
    "print(unique_smiles)"
   ]
  },
  {
   "cell_type": "code",
   "execution_count": null,
   "metadata": {},
   "outputs": [],
   "source": [
    "\n",
    "molec_smiles =  'CN1C=NC2=C1C(=O)N(C(=O)N2C)C'\n",
    "mol = AllChem.MolFromSmiles(molec_smiles)\n",
    "\n",
    "atoms = mol.GetAtoms()\n",
    "n_atoms = mol.GetNumAtoms()\n",
    "atoms_list = [a.GetSymbol() for a in atoms]\n",
    "A = GetAdjacencyMatrix(mol)\n",
    "\n",
    "print(n_atoms)\n",
    "print(atoms_list)\n",
    "# print(A)\n",
    "\n",
    "# assert 0\n",
    "(rows, cols) = np.nonzero(A)\n",
    "for (k, (i, j)) in enumerate(zip(rows, cols)):\n",
    "  bond = mol.GetBondBetweenAtoms(int(i), int(j))\n",
    "  print(i, j, atoms_list[int(i)], atoms_list[int(j)], bond.GetBondType())\n",
    "  # permitted_list_of_bond_types = [Chem.rdchem.BondType.SINGLE, Chem.rdchem.BondType.DOUBLE, Chem.rdchem.BondType.TRIPLE, Chem.rdchem.BondType.AROMATIC]\n",
    "  # bond_type_enc = np.one_hot_encoding(bond.GetBondType(), permitted_list_of_bond_types)\n"
   ]
  },
  {
   "cell_type": "code",
   "execution_count": null,
   "metadata": {},
   "outputs": [],
   "source": [
    "# print(' ',[print(a) for a in atoms])\n",
    "# for i,(ai,a) in enumerate(zip(atoms,A)):\n",
    "for i in range(len(atoms_list)+1):\n",
    "  if i == 0:\n",
    "    print('   ', end=' ')\n",
    "    for j, ai in enumerate(atoms_list):\n",
    "      print('%s:%s' % (ai, j), end=' ')\n",
    "  else:\n",
    "    j = i-1\n",
    "    print('%s:%s ' % (atoms_list[j], j), end=' ')\n",
    "    for jj, ami in enumerate(A[j]):\n",
    "      if jj < 11:\n",
    "        print(' %s ' % (ami), end=' ')\n",
    "      else:\n",
    "        print(' %s  ' % (ami), end=' ')\n",
    "  print('\\n')"
   ]
  },
  {
   "cell_type": "code",
   "execution_count": null,
   "metadata": {},
   "outputs": [],
   "source": [
    "# define the function for coverting rdkit object to networkx object -----------\n",
    "def molecular_graph(mol):\n",
    "    \n",
    "    # core function to construct a molecular graph\n",
    "    def mol_to_nx(mol):\n",
    "        G = nx.Graph()\n",
    "\n",
    "        for atom in mol.GetAtoms():\n",
    "            \n",
    "            G.add_node(atom.GetIdx(),\n",
    "                    atomic_num=atom.GetAtomicNum(),\n",
    "                    is_aromatic=atom.GetIsAromatic(),\n",
    "                    atom_symbol=atom.GetSymbol())\n",
    "\n",
    "        for bond in mol.GetBonds():\n",
    "            # bt = bond.GetBondType()\n",
    "            bt = bond.GetBondTypeAsDouble()\n",
    "            # bt = bt['bond_type']\n",
    "            G.add_edge(bond.GetBeginAtomIdx(),\n",
    "                    bond.GetEndAtomIdx(),\n",
    "                    bond_type=bt,\n",
    "                    weight=1.5*bt)\n",
    "\n",
    "        return G\n",
    "\n",
    "    # conver rdkit object to networkx object \n",
    "    mol_nx = mol_to_nx(mol)\n",
    "\n",
    "    mol_atom = nx.get_node_attributes(mol_nx, 'atom_symbol')\n",
    "    mol_atom_w_indx = mol_atom.copy()\n",
    "    for i,k in enumerate(mol_atom_w_indx):\n",
    "        mol_atom_w_indx[k] = '%s:%s'%(mol_atom[i],i)\n",
    "\n",
    "    color_map = {'C': 'grey',\n",
    "                'O': 'red',\n",
    "                'N': 'blue',\n",
    "                'H': 'white',\n",
    "                }\n",
    "\n",
    "    mol_colors = []\n",
    "    for idx in mol_nx.nodes():\n",
    "        if (mol_nx.nodes[idx]['atom_symbol'] in color_map):\n",
    "            mol_colors.append(\n",
    "                color_map[mol_nx.nodes[idx]['atom_symbol']])\n",
    "        else:\n",
    "            mol_colors.append('gray')\n",
    "    \n",
    "    edge_weight = []\n",
    "    bond_types_str = ['SINGLE', 'DOUBLE','TRIPLE', 'AROMATIC']\n",
    "\n",
    "    edges = mol_nx.edges()\n",
    "    weights = [mol_nx[u][v]['weight'] for u, v in edges]\n",
    "    nx.draw(mol_nx,\n",
    "            labels=mol_atom_w_indx,\n",
    "            with_labels=True,\n",
    "            node_color=mol_colors,\n",
    "            width=weights,\n",
    "            node_size=800)\n",
    "\n",
    "    plt.show()\n",
    "\n",
    "caff_sm = 'CN1C=NC2=C1C(=O)N(C(=O)N2C)C'\n",
    "mol = AllChem.MolFromSmiles(caff_sm)\n",
    "# mol_wH = Chem.rdmolops.AddHs(mol)\n",
    "molecular_graph(mol)\n",
    "\n"
   ]
  },
  {
   "attachments": {},
   "cell_type": "markdown",
   "metadata": {},
   "source": [
    "## XYZ coordinates and 3D plot"
   ]
  },
  {
   "cell_type": "code",
   "execution_count": null,
   "metadata": {},
   "outputs": [],
   "source": [
    "def get_xyz_coordinates(m_rdkit):\n",
    "    xyz = Chem.MolToMolBlock(m_rdkit) # Generates a 3D conformer\n",
    "    n_atoms = m_rdkit.GetNumAtoms() # total numbers of atoms\n",
    "\n",
    "    xyz_ = []\n",
    "    for l in xyz.splitlines()[4:4+m_rdkit.GetNumAtoms()]:\n",
    "        l = l.split()\n",
    "        xyz_.append(l[:4])\n",
    "\n",
    "    xyz_str = '%s\\n * (null), Energy   -1000.0000000\\n' % (n_atoms)\n",
    "    for xyzi in xyz_:\n",
    "        xyzi_str = '%s     %.4f     %.4f     %.4f\\n' % (\n",
    "            xyzi[3], float(xyzi[0]), float(xyzi[1]), float(xyzi[2]))\n",
    "        xyz_str += xyzi_str\n",
    "    return xyz_str\n",
    "\n",
    "def draw_3d(smiles,bool_add_H=True):\n",
    "\n",
    "    m3 = AllChem.MolFromSmiles(smiles)\n",
    "    if bool_add_H:\n",
    "        m3 = Chem.AddHs(m3)\n",
    "    AllChem.EmbedMolecule(m3,randomSeed=0xf00d)\n",
    "    \n",
    "    n_atoms = m3.GetNumAtoms()\n",
    "\n",
    "    xyz_str = get_xyz_coordinates(m3)\n",
    "    xyzview = py3Dmol.view(width=400, height=400)\n",
    "    xyzview.addModel(xyz_str, 'xyz')\n",
    "    xyzview.setStyle({'sphere': {'radius': 0.35}, 'stick': {'radius': 0.1}})\n",
    "    xyzview.setBackgroundColor('0xeeeeee')\n",
    "    xyzview.zoomTo()\n",
    "    xyzview.show()\n"
   ]
  },
  {
   "cell_type": "code",
   "execution_count": null,
   "metadata": {},
   "outputs": [],
   "source": [
    "# caff_sm = 'CN1C=NC2=C1C(=O)N(C(=O)N2C)C'\n",
    "caff_sm = 'C=C'\n",
    "draw_3d(caff_sm)\n"
   ]
  }
 ],
 "metadata": {
  "kernelspec": {
   "display_name": "chem4pb3",
   "language": "python",
   "name": "python3"
  },
  "language_info": {
   "codemirror_mode": {
    "name": "ipython",
    "version": 3
   },
   "file_extension": ".py",
   "mimetype": "text/x-python",
   "name": "python",
   "nbconvert_exporter": "python",
   "pygments_lexer": "ipython3",
   "version": "3.9.15"
  },
  "orig_nbformat": 4,
  "vscode": {
   "interpreter": {
    "hash": "3bd1d19d093f1d1d5dd6cf1becc7a1cffecc3235fce6b74420ac04427a66c9c5"
   }
  }
 },
 "nbformat": 4,
 "nbformat_minor": 2
}
