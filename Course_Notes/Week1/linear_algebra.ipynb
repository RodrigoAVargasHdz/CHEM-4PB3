{
 "cells": [
  {
   "cell_type": "code",
   "execution_count": 1,
   "metadata": {},
   "outputs": [],
   "source": [
    "import numpy as np"
   ]
  },
  {
   "attachments": {},
   "cell_type": "markdown",
   "metadata": {},
   "source": [
    "# Lineal Algebra with NumPy\n",
    "\n",
    "**Goal**: Learn to operate NumPy arrays\n",
    "\n",
    "**References**\n",
    "1. https://towardsdatascience.com/introduction-to-linear-algebra-with-numpy-79adeb7bc060\n",
    "2. https://www.davidinouye.com/course/ece20875-spring-2021/lectures/numpy-demo.pdf\n",
    "3. https://www.learndatasci.com/tutorials/applied-introduction-to-numpy-python-tutorial/"
   ]
  },
  {
   "attachments": {},
   "cell_type": "markdown",
   "metadata": {},
   "source": [
    "# Vectors \n",
    "Vector is an array of dimension $R^{d}$."
   ]
  },
  {
   "cell_type": "code",
   "execution_count": 9,
   "metadata": {},
   "outputs": [
    {
     "name": "stdout",
     "output_type": "stream",
     "text": [
      "Random vector:\n",
      " [0.57199472 0.42765389 0.68179368 0.63808815 0.14227373 0.22003775\n",
      " 0.81330052 0.5296163  0.37311308 0.50798453]\n"
     ]
    }
   ],
   "source": [
    "x = np.random.random(10) #random vector with size 10\n",
    "print('Random vector:\\n',x)"
   ]
  },
  {
   "attachments": {},
   "cell_type": "markdown",
   "metadata": {},
   "source": [
    "## Vector-scalar \n",
    "\n",
    "**multiplication**: $\\mathbf{y} = c * \\mathbf{x}$,\\\n",
    "**addition**: $\\mathbf{y} = c + \\mathbf{x}$, \n",
    "\n",
    "where $c$ is a constant\n"
   ]
  },
  {
   "cell_type": "code",
   "execution_count": 8,
   "metadata": {},
   "outputs": [
    {
     "name": "stdout",
     "output_type": "stream",
     "text": [
      "Multiplication:\n",
      " [1.83447024 0.80871645 4.84483806 6.45206587 5.4636935  1.60693582\n",
      " 4.6741221  8.35712774 9.5717371  7.71828237]\n",
      "Addition: \n",
      " [10.18344702 10.08087165 10.48448381 10.64520659 10.54636935 10.16069358\n",
      " 10.46741221 10.83571277 10.95717371 10.77182824]\n"
     ]
    }
   ],
   "source": [
    "c = 10\n",
    "y_mult = c*x\n",
    "print('Multiplication:\\n',y_mult)\n",
    "y_add = c+x\n",
    "print('Addition: \\n',y_add)"
   ]
  },
  {
   "attachments": {},
   "cell_type": "markdown",
   "metadata": {},
   "source": [
    "## Vector-Vector operations\n",
    "\n",
    "**dot product**: $z = \\mathbf{y}^T  \\mathbf{x} = \\sum_i y_i x_i$, \\\n",
    "**addition**: $\\mathbf{z} = \\mathbf{y} +  \\mathbf{x}$, \\\n",
    "**element-wise (Hadamard) product**: $z = \\mathbf{y} \\odot  \\mathbf{x} = [y_0 * x_0, \\cdots, y_i * x_i, \\cdots, y_d * x_d]$"
   ]
  },
  {
   "cell_type": "code",
   "execution_count": 21,
   "metadata": {},
   "outputs": [
    {
     "name": "stdout",
     "output_type": "stream",
     "text": [
      "x: \n",
      " [0.9573883  0.53679586 0.82672113 0.94273612 0.47440702 0.92394314\n",
      " 0.51187029 0.05837266 0.23853892 0.20752224]\n",
      "y: \n",
      " [0.60028779 0.34404274 0.20560845 0.38640667 0.99646787 0.33600788\n",
      " 0.74751263 0.33338832 0.50941048 0.9699726 ]\n"
     ]
    }
   ],
   "source": [
    "# random vectors\n",
    "d = 10 #size\n",
    "x = np.random.random(d)\n",
    "y = np.random.random(d)\n",
    "print('x: \\n',x)\n",
    "print('y: \\n',y)"
   ]
  },
  {
   "cell_type": "code",
   "execution_count": 15,
   "metadata": {},
   "outputs": [
    {
     "name": "stdout",
     "output_type": "stream",
     "text": [
      "dot product =  3.8893988557535586\n",
      "addition =  [1.41451607 0.92908276 1.7814661  1.09524171 0.97873727 1.32770566\n",
      " 1.53216984 1.56879018 0.95450965 1.26547445]\n",
      "Hadamard =  [0.47100075 0.08200739 0.78499607 0.29805203 0.15905881 0.37364054\n",
      " 0.56508455 0.60516096 0.16833374 0.38206401]\n"
     ]
    }
   ],
   "source": [
    "#dot product\n",
    "z = np.dot(x,y)\n",
    "print('dot product = ',z)\n",
    "\n",
    "#addition\n",
    "z = x +  y\n",
    "print('addition = ', z)\n",
    "\n",
    "#Hadamard product\n",
    "z = x * y\n",
    "print('Hadamard = ', z)\n"
   ]
  },
  {
   "attachments": {},
   "cell_type": "markdown",
   "metadata": {},
   "source": [
    "## Exercises\n",
    "\n",
    "What happen when you do all three operations with vectors with different size?\\\n",
    "example:  $\\mathbf{x} \\in R^{10}$ and  $\\mathbf{y} \\in R^{8}$ "
   ]
  },
  {
   "cell_type": "code",
   "execution_count": 16,
   "metadata": {},
   "outputs": [
    {
     "name": "stdout",
     "output_type": "stream",
     "text": [
      "x: \n",
      " [0.17081644 0.31811512 0.31005856 0.95188457 0.99755974 0.41956381\n",
      " 0.42891115 0.70812747 0.89333302 0.71006737]\n",
      "x: \n",
      " [0.26488883 0.69402624 0.62214894 0.67221099 0.77204657 0.16704807\n",
      " 0.49536086 0.85896682]\n"
     ]
    }
   ],
   "source": [
    "# random vectors\n",
    "d = 10 #size\n",
    "x = np.random.random(d)\n",
    "d = 8\n",
    "y = np.random.random(d)\n",
    "print('x: \\n',x)\n",
    "print('y: \\n',y)"
   ]
  },
  {
   "cell_type": "code",
   "execution_count": 22,
   "metadata": {},
   "outputs": [],
   "source": [
    "#code here"
   ]
  },
  {
   "attachments": {},
   "cell_type": "markdown",
   "metadata": {},
   "source": [
    "# Matrices\n",
    "\n",
    "Matrices are 2-dimensional arrays, meaning they have rows and columns.\\\n",
    "Same as vectors, we can add and multiply matrices by a scalar value $c$."
   ]
  },
  {
   "cell_type": "code",
   "execution_count": 29,
   "metadata": {},
   "outputs": [
    {
     "name": "stdout",
     "output_type": "stream",
     "text": [
      "x = \n",
      " [[0.74137492 0.59310148 0.20851304]\n",
      " [0.33831932 0.21657991 0.98407348]\n",
      " [0.25991022 0.20612055 0.05778541]\n",
      " [0.09630567 0.82664193 0.46819566]\n",
      " [0.48449834 0.94016703 0.46652539]]\n",
      "c*x = \n",
      " [[7.41374918 5.93101479 2.08513041]\n",
      " [3.38319316 2.1657991  9.84073481]\n",
      " [2.59910216 2.0612055  0.57785406]\n",
      " [0.96305667 8.26641927 4.68195665]\n",
      " [4.84498339 9.40167034 4.66525388]]\n",
      "c+x = \n",
      " [[10.74137492 10.59310148 10.20851304]\n",
      " [10.33831932 10.21657991 10.98407348]\n",
      " [10.25991022 10.20612055 10.05778541]\n",
      " [10.09630567 10.82664193 10.46819566]\n",
      " [10.48449834 10.94016703 10.46652539]]\n"
     ]
    }
   ],
   "source": [
    "# random matrix\n",
    "d = 5 #size\n",
    "x = np.random.random((d,d-2))\n",
    "print('x = \\n',x)\n",
    "\n",
    "c = 10\n",
    "print('c*x = \\n',c*x)\n",
    "print('c+x = \\n',c+x)"
   ]
  },
  {
   "attachments": {},
   "cell_type": "markdown",
   "metadata": {},
   "source": [
    "## Matrix-Matrix multiplication\n",
    "\n",
    "```np.matmul(A,B)``` \n",
    "\n",
    "**References**:\n",
    "1. https://en.wikipedia.org/wiki/Matrix_multiplication\n",
    "2. https://numpy.org/doc/stable/reference/generated/numpy.matmul.html"
   ]
  },
  {
   "cell_type": "code",
   "execution_count": 37,
   "metadata": {},
   "outputs": [
    {
     "name": "stdout",
     "output_type": "stream",
     "text": [
      "A = \n",
      " [[0.63427345 0.15932947 0.64668858 0.58201787 0.96858554]\n",
      " [0.25941545 0.32771793 0.68646652 0.71094765 0.72706159]\n",
      " [0.54210066 0.82884794 0.40626826 0.87267455 0.3237108 ]\n",
      " [0.88995679 0.93283171 0.60141125 0.36573681 0.98107457]\n",
      " [0.9861311  0.62142533 0.30722545 0.94132583 0.8060423 ]]\n",
      "B = \n",
      " [[0.34332238 0.11132463 0.76884215 0.98450991 0.26638056]\n",
      " [0.30772392 0.21436402 0.14137387 0.66544492 0.39342229]\n",
      " [0.08699599 0.45772771 0.73532551 0.76604068 0.78469309]\n",
      " [0.31202178 0.59540041 0.93781219 0.14358911 0.19877372]\n",
      " [0.94085014 0.8909481  0.22417672 0.18976036 0.57339364]]\n"
     ]
    }
   ],
   "source": [
    "d = 5\n",
    "A = np.random.random((d,d))\n",
    "B = np.random.random((d,d))\n",
    "print('A = \\n',A)\n",
    "print('B = \\n',B)"
   ]
  },
  {
   "cell_type": "code",
   "execution_count": 38,
   "metadata": {},
   "outputs": [
    {
     "name": "stdout",
     "output_type": "stream",
     "text": [
      "C = \n",
      " [[1.41594517 1.61026518 1.74866559 1.49323381 1.41016459]\n",
      " [1.15551676 1.48441767 1.58028228 1.23938839 1.2949105 ]\n",
      " [1.05337215 1.23198487 1.72367996 1.58320818 1.14836671]\n",
      " [1.68207907 1.66616863 1.82127388 2.19630977 1.71122801]\n",
      " [1.60859487 1.66222515 2.13542592 1.90784637 1.39753678]]\n",
      "size ->  (5, 5)\n"
     ]
    }
   ],
   "source": [
    "# matrix-matrix multiplication\n",
    "C = np.matmul(A,B)\n",
    "print('C = \\n',C)\n",
    "print('size -> ', C.shape)"
   ]
  },
  {
   "attachments": {},
   "cell_type": "markdown",
   "metadata": {},
   "source": [
    "## Exercises"
   ]
  },
  {
   "attachments": {},
   "cell_type": "markdown",
   "metadata": {},
   "source": [
    "What is the output of ```A*B```?"
   ]
  },
  {
   "cell_type": "code",
   "execution_count": 36,
   "metadata": {},
   "outputs": [
    {
     "name": "stdout",
     "output_type": "stream",
     "text": [
      "[[0.15679061 0.02087574 0.33803583]\n",
      " [0.16783915 0.00590995 0.09005074]\n",
      " [0.0079801  0.68772718 0.00425478]\n",
      " [0.45418865 0.14375696 0.04907191]\n",
      " [0.04940278 0.00087997 0.05555165]]\n"
     ]
    }
   ],
   "source": [
    "# print(A*B)"
   ]
  },
  {
   "attachments": {},
   "cell_type": "markdown",
   "metadata": {},
   "source": [
    "What is the output of ```A@B```?"
   ]
  },
  {
   "cell_type": "code",
   "execution_count": 41,
   "metadata": {},
   "outputs": [],
   "source": [
    "#code here"
   ]
  },
  {
   "attachments": {},
   "cell_type": "markdown",
   "metadata": {},
   "source": [
    "## matrix commutative property\n",
    "for a given two matrices verify that, $AB \\neq BA$ "
   ]
  },
  {
   "cell_type": "code",
   "execution_count": 40,
   "metadata": {},
   "outputs": [
    {
     "name": "stdout",
     "output_type": "stream",
     "text": [
      "[[-0.3863417  -0.2020902   0.46393191 -0.06750332 -0.4327865 ]\n",
      " [-0.15209573  0.38272911  0.6556159   0.17079633 -0.17473262]\n",
      " [-0.97472254 -0.74356996  0.35268331 -0.45336649 -0.89076424]\n",
      " [ 0.49752222  0.38655977  0.68234273  0.5333775   0.37144387]\n",
      " [-0.07513326  0.5011961   0.53402182 -0.0779486  -0.88244823]]\n"
     ]
    }
   ],
   "source": [
    "# print(np.matmul(A,B) - np.matmul(B,A))"
   ]
  }
 ],
 "metadata": {
  "kernelspec": {
   "display_name": "chem4pb3",
   "language": "python",
   "name": "python3"
  },
  "language_info": {
   "codemirror_mode": {
    "name": "ipython",
    "version": 3
   },
   "file_extension": ".py",
   "mimetype": "text/x-python",
   "name": "python",
   "nbconvert_exporter": "python",
   "pygments_lexer": "ipython3",
   "version": "3.9.15 (main, Nov 24 2022, 08:29:02) \n[Clang 14.0.6 ]"
  },
  "orig_nbformat": 4,
  "vscode": {
   "interpreter": {
    "hash": "3bd1d19d093f1d1d5dd6cf1becc7a1cffecc3235fce6b74420ac04427a66c9c5"
   }
  }
 },
 "nbformat": 4,
 "nbformat_minor": 2
}
