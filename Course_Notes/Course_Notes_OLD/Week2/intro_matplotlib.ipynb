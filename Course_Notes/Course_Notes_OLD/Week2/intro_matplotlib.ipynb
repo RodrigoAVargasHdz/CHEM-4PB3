{
 "cells": [
  {
   "attachments": {},
   "cell_type": "markdown",
   "metadata": {},
   "source": [
    "## Notes:\n",
    "To open on Google Colab\\\n",
    "https://colab.research.google.com/github/RodrigoAVargasHdz/CHEM-4PB3/blob/main/Course_Notes/Week2/intro_matplotlib.ipynb"
   ]
  },
  {
   "attachments": {},
   "cell_type": "markdown",
   "metadata": {},
   "source": [
    "# Introduction to Matplotlib\n",
    "\n",
    "Matplotlib is a 2D graphics package used for Python for application development, interactive scripting,and publication-quality image generation across user interfaces and operating systems.\n",
    "\n",
    "(**paper**) [Computing in Science & Engineering 9, 90, (2007)](10.1109/MCSE.2007.55)\n",
    "\n",
    "[**Matplotlib website**](https://matplotlib.org/stable/gallery/index)"
   ]
  },
  {
   "attachments": {},
   "cell_type": "markdown",
   "metadata": {},
   "source": [
    "# Load data \n",
    "[**QM9 data paper**]([10.1088/1367-2630/15/9/095003](https://iopscience.iop.org/article/10.1088/1367-2630/15/9/095003))"
   ]
  },
  {
   "attachments": {},
   "cell_type": "markdown",
   "metadata": {},
   "source": [
    "## mini intro to Pandas\n",
    "\n",
    "[Pandas](https://pandas.pydata.org/docs/index.html) is a easy-to-use data structure library in Python."
   ]
  },
  {
   "cell_type": "code",
   "execution_count": null,
   "metadata": {},
   "outputs": [],
   "source": [
    "import numpy as np\n",
    "import pandas as pd\n",
    "# D = pd.read_csv('../data/qm9.csv')\n",
    "\n",
    "#read data\n",
    "data_url = \"https://github.com/RodrigoAVargasHdz/CHEM-4PB3/raw/main/Course_Notes/data/qm9.csv\"\n",
    "data = pd.read_csv(data_url)\n",
    "\n",
    "#print data\n",
    "print('Properties:')\n",
    "print('------------')\n",
    "for i,c in enumerate(data.columns):\n",
    "    print(i,': ',c)"
   ]
  },
  {
   "cell_type": "code",
   "execution_count": null,
   "metadata": {},
   "outputs": [],
   "source": [
    "print(data.head)"
   ]
  },
  {
   "cell_type": "code",
   "execution_count": null,
   "metadata": {},
   "outputs": [],
   "source": [
    "# select single column\n",
    "homo = np.array(data['homo'])  # extract homo\n",
    "lumo = data.lumo.to_numpy()  # extract lumo\n",
    "print('HOMO ->', homo.shape)\n",
    "print('LUMO ->', homo.shape)\n",
    "\n",
    "# select multiple column\n",
    "homo_and_lumo = np.array(data[['homo','lumo']])\n",
    "print('HOMO & LUMO ->', homo_and_lumo.shape)"
   ]
  },
  {
   "attachments": {},
   "cell_type": "markdown",
   "metadata": {},
   "source": [
    "# Plotting"
   ]
  },
  {
   "cell_type": "code",
   "execution_count": null,
   "metadata": {},
   "outputs": [],
   "source": [
    "# load relevant libraries\n",
    "import matplotlib\n",
    "import matplotlib.pyplot as plt\n",
    "from matplotlib.pyplot import figure"
   ]
  },
  {
   "attachments": {},
   "cell_type": "markdown",
   "metadata": {},
   "source": [
    "## Scatter plot"
   ]
  },
  {
   "cell_type": "code",
   "execution_count": null,
   "metadata": {},
   "outputs": [],
   "source": [
    "%matplotlib inline\n",
    "figure(figsize=(8, 6), dpi=80)\n",
    "\n",
    "plt.scatter(homo,lumo)\n",
    "plt.xlabel('HOMO',fontsize=15)\n",
    "plt.ylabel('LUMO',fontsize=15)\n",
    "# plt.show()"
   ]
  },
  {
   "cell_type": "code",
   "execution_count": null,
   "metadata": {},
   "outputs": [],
   "source": [
    "# select the molecule with the largest LUMO\n",
    "print('LUMO = ', data['lumo'].max()) # only value\n",
    "print('i0 = ',data['lumo'].idxmax()) # index of the data point with max LUMO\n",
    "print(data.iloc[[183]])  # all info of the data point with max LUMO"
   ]
  },
  {
   "attachments": {},
   "cell_type": "markdown",
   "metadata": {},
   "source": [
    "## Correlation plot ```y vs x```\n",
    "What are the components for a correlation plot?\n",
    "\n",
    "(**your fist ML model!!**)\\\n",
    "quick recap of linear model,\\\n",
    "$y = m * x + b$\\\n",
    "$y = [m,b]^T [x,1]$\n",
    "* m -> slope\n",
    "* b -> y intercept\n"
   ]
  },
  {
   "cell_type": "code",
   "execution_count": null,
   "metadata": {},
   "outputs": [],
   "source": [
    "# -1 infers the size of the new dimension from the size of the input array.\n",
    "homo_and_ones = np.column_stack((homo.reshape((-1, 1)),np.ones_like(homo))) #DISCUSS THIS!!\n",
    "m_and_c = np.linalg.lstsq(homo_and_ones, lumo,rcond=None)[0]\n",
    "m = m_and_c[0]\n",
    "b = m_and_c[1]\n",
    "print('m = ',m,'; b = ',b)"
   ]
  },
  {
   "attachments": {},
   "cell_type": "markdown",
   "metadata": {},
   "source": [
    "## Exercise\n",
    "Using the function [```np.polyfit()```](https://numpy.org/doc/stable/reference/generated/numpy.polyfit.html) find the value of the linear model parameters.\n",
    "\n"
   ]
  },
  {
   "cell_type": "code",
   "execution_count": null,
   "metadata": {},
   "outputs": [],
   "source": [
    "# code here\n",
    "print(np.polyfit(homo,lumo,deg=1))"
   ]
  },
  {
   "cell_type": "code",
   "execution_count": null,
   "metadata": {},
   "outputs": [],
   "source": [
    "%matplotlib inline\n",
    "figure(figsize=(8, 6), dpi=80)\n",
    "plt.scatter(homo,lumo)\n",
    "\n",
    "x = np.linspace(np.min(homo),np.max(homo),100)\n",
    "f = lambda x: m *x + b\n",
    "# def f(x,m,b):\n",
    "#     return m*x + b\n",
    "y = f(x)\n",
    "plt.plot(x,y, c='k')\n",
    "\n",
    "plt.xlabel('HOMO',fontsize=15)\n",
    "plt.ylabel('LUMO',fontsize=15)"
   ]
  },
  {
   "attachments": {},
   "cell_type": "markdown",
   "metadata": {},
   "source": [
    "## Exercise  \n",
    "* Change the color and the symbols of the scatter plot\n",
    "* Change the line-style of the regression model"
   ]
  },
  {
   "attachments": {},
   "cell_type": "markdown",
   "metadata": {},
   "source": [
    "## Histogram"
   ]
  },
  {
   "cell_type": "code",
   "execution_count": null,
   "metadata": {},
   "outputs": [],
   "source": [
    "%matplotlib inline\n",
    "from matplotlib.pyplot import figure\n",
    "figure(figsize=(8, 6), dpi=80)\n",
    "\n",
    "plt.hist(homo,bins=20,density=True,)\n",
    "plt.xlabel('HOMO',fontsize=15)"
   ]
  },
  {
   "attachments": {},
   "cell_type": "markdown",
   "metadata": {},
   "source": [
    "## Gaussian\n",
    "${\\cal N}(x) = \\frac{1}{\\sigma\\sqrt{2\\pi}} \\exp^{\\frac{-(x-\\mu)^2}{2\\sigma^2}}$\n",
    "\n",
    "<!-- ```python\n",
    "def gaussian(x,mu,std):\n",
    "    return (1./(std*np.sqrt(2.*np.pi)))*np.exp(-(x-mu)**2/(2.*std**2))\n",
    "``` -->"
   ]
  },
  {
   "cell_type": "code",
   "execution_count": null,
   "metadata": {},
   "outputs": [],
   "source": [
    "#code here! use NumPy's functions\n",
    "def gaussian(x,mu,std):\n",
    "    return (1./(std*np.sqrt(2.*np.pi)))*np.exp(-(x-mu)**2/(2.*std**2))\n"
   ]
  },
  {
   "cell_type": "code",
   "execution_count": null,
   "metadata": {},
   "outputs": [],
   "source": [
    "%matplotlib inline\n",
    "figure(figsize=(8, 6), dpi=80)\n",
    "\n",
    "x = np.linspace(np.min(homo),np.max(homo),homo.shape[0])\n",
    "y = gaussian(x,np.mean(homo),np.std(homo))\n",
    "plt.hist(homo,bins=100,density=True)\n",
    "plt.plot(x,y,label=R'${\\cal N}$')\n",
    "plt.vlines(np.mean(homo),np.min(y),np.max(y),colors='k',label=R'$\\mu$')\n",
    "plt.legend(fontsize=15)\n",
    "plt.xlabel('HOMO')"
   ]
  },
  {
   "attachments": {},
   "cell_type": "markdown",
   "metadata": {},
   "source": [
    "# Extra styles (homework!)\n",
    "For the other columns of the QM9 data set generate a \"scatter plot with histograms\" [template](https://matplotlib.org/stable/gallery/lines_bars_and_markers/scatter_hist.html#sphx-glr-gallery-lines-bars-and-markers-scatter-hist-py).\n"
   ]
  },
  {
   "cell_type": "code",
   "execution_count": null,
   "metadata": {},
   "outputs": [],
   "source": [
    "#code here"
   ]
  },
  {
   "cell_type": "markdown",
   "metadata": {},
   "source": []
  },
  {
   "attachments": {},
   "cell_type": "markdown",
   "metadata": {},
   "source": [
    "## Matplotlib other styles\n",
    "Matplotlib has other different plot styles, for more reference consult [examples website](https://matplotlib.org/stable/gallery/index)"
   ]
  },
  {
   "cell_type": "markdown",
   "metadata": {},
   "source": []
  }
 ],
 "metadata": {
  "kernelspec": {
   "display_name": "chem4pb3",
   "language": "python",
   "name": "python3"
  },
  "language_info": {
   "codemirror_mode": {
    "name": "ipython",
    "version": 3
   },
   "file_extension": ".py",
   "mimetype": "text/x-python",
   "name": "python",
   "nbconvert_exporter": "python",
   "pygments_lexer": "ipython3",
   "version": "3.9.15 (main, Nov 24 2022, 08:29:02) \n[Clang 14.0.6 ]"
  },
  "orig_nbformat": 4,
  "vscode": {
   "interpreter": {
    "hash": "3bd1d19d093f1d1d5dd6cf1becc7a1cffecc3235fce6b74420ac04427a66c9c5"
   }
  }
 },
 "nbformat": 4,
 "nbformat_minor": 2
}
