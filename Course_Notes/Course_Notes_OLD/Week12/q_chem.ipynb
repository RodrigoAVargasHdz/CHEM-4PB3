{
  "cells": [
    {
      "attachments": {},
      "cell_type": "markdown",
      "metadata": {},
      "source": [
        "To open on Google Colab [link](https://colab.research.google.com/github/RodrigoAVargasHdz/CHEM-4PB3/blob/main/Course_Notes/Week12/q_chem.ipynb)"
      ]
    },
    {
      "cell_type": "code",
      "execution_count": null,
      "metadata": {
        "colab": {
          "base_uri": "https://localhost:8080/"
        },
        "id": "xe_If5ALA6Do",
        "outputId": "657fd1d2-2b61-4377-cf3e-f35f51b778f7"
      },
      "outputs": [],
      "source": [
        "#@title External lybraries\n",
        "\n",
        "!pip install pyscf\n",
        "!pip install torchani\n",
        "!pip install PyGeometry\n",
        "!pip install -U pyberny\n",
        "!pip install rdkit-pypi\n",
        "!pip install py3Dmol\n",
        "!pip install ase"
      ]
    },
    {
      "cell_type": "markdown",
      "metadata": {
        "id": "prPmY_FNBIZk"
      },
      "source": [
        "<img src=\"https://www.researchgate.net/publication/343017500/figure/fig26/AS:996955509501965@1614704124866/1-Methods-of-computational-chemistry.jpg\"\n",
        "     alt=\"Markdown Monster icon\"\n",
        "     style=\"float: left; margin-right: 10px;\" />\n"
      ]
    },
    {
      "cell_type": "markdown",
      "metadata": {
        "id": "g1AqK9mSM65i"
      },
      "source": [
        "## Quantum chemistry\n",
        "\n",
        "The field of computational chemistry could be split into three main research lines,\n",
        "1. Molecular dynamics \n",
        "2. Quantum chemistry\n",
        "3. Anything else"
      ]
    },
    {
      "cell_type": "markdown",
      "metadata": {
        "id": "EldvClHKNGj6"
      },
      "source": [
        "# (I) Molecular dynamics and Force fields\n",
        "The central component of Molecular dynamics (MD) is to simulatee the movements of atoms and molecules using Newton's equations of motion. \n",
        "Here, the partciles are the nuclei, neglecting all electronic degrees of fredom, which are described using **force fields**.\n"
      ]
    },
    {
      "cell_type": "markdown",
      "metadata": {
        "id": "lSPS6t2FBejz"
      },
      "source": [
        "\n",
        "\n",
        "Force field is a **model** that estimates the forces between atoms within molecules and also between molecules.\\\n",
        "*Why forces?*\n",
        "$$\n",
        "F(\\mathbf{X}) = -\\nabla E(\\mathbf{X}) = M \\dot{V}(t)\\\\\n",
        "V(t) = \\dot{\\mathbf{X}}(t)\n",
        "$$\n",
        "\n",
        "Before the era of AI/ML, the energy function $E(\\mathbf{X})$ was parametrized through the sum of variuos elements,\n",
        "1. types of atoms\n",
        "2. chemical bonds\n",
        "3. dihedral angles\n",
        "4. out-of-plane interactions\n",
        "5. nonbond interactions\n",
        "6. other terms (classical approximation of quantum phonomena).\n",
        "Many parameter sets are empirical and some force fields use extensive fitting terms that are difficult to assign a physical interpretation\n",
        "\n",
        "*Can we approximate $E(\\mathbf{X})$ with a NN?*\\\n",
        "**Of course!!**\n",
        "\n",
        "This has been one of the most promising current research lines, ([first paper](https://journals.aps.org/prl/abstract/10.1103/PhysRevLett.98.146401), [review paper](https://doi.org/10.1021/acs.chemrev.0c01111)).\n",
        "\n",
        "\n",
        "\n",
        "## [first NN-FF](https://journals.aps.org/prl/abstract/10.1103/PhysRevLett.98.146401)\n",
        "\n",
        "**Goal**: represent the total energy $E$ of the system as a sum of atomic contributions $E_i$, \n",
        "$$\n",
        "E(\\mathbf{X}) = \\sum_i E_i\n",
        "$$\n",
        "\n",
        "Achitecture,\\\n",
        "<img src=\"https://journals.aps.org/prl/article/10.1103/PhysRevLett.98.146401/figures/2/medium\"\n",
        "     alt=\"Markdown Monster icon\"\n",
        "     style=\"float: left; margin-right: 10px;\" />\n",
        "\n",
        "1. $\\{R^{\\alpha}_i\\}$ represent the Cartesian coordinates $\\alpha$ of atom $i$.\n",
        "2.$\\{R^{\\alpha}_i\\}$  are transformed into a set of symmetry function values $\\{G^{\\mu}_i\\}$ for each atom $i$.\n",
        "3. $\\{G^{\\mu}_i\\}$ are the input for the NN $(\\{S_i\\})$ to predict $\\{E_i\\}$.\n",
        "\n",
        "$$\n",
        "G^{1}_i = \\sum_{i\\neq j}^{all} e^{-\\eta(R_{ij}-R_s)^2}f_c(R_{ij})\\\\\n",
        "G^{2}_i = 2^{1-\\varepsilon}\\sum_{j,k\\neq j}(1-λcos(\\theta_{ijk}))^\\varepsilon e^{-\\eta(R^2_{ij}+R^2_{ik}+R^2_{jk})}f_c(R_{ij})f_c(R_{ik})f_c(R_{jk})\n",
        "$$\n",
        "\n",
        "with a little of patients, we could code this in torch 🔥! \n",
        "\n",
        "\n",
        "From the paper,\n",
        "```\n",
        "Compared with empirical potentials the number of DFT\n",
        "calculations required to optimize the NN parameters is\n",
        "rather large because of the very flexible functional form.\n",
        "This, however, has the advantage that no modifications to\n",
        "the NN are required if new DFT data are included. The\n",
        "accuracy of the NN is limited only by that of the training\n",
        "data. \n",
        "```"
      ]
    },
    {
      "cell_type": "markdown",
      "metadata": {
        "id": "qD4MRAPMNKmw"
      },
      "source": [
        "# Quantum models\n",
        "\n",
        "The goal of quantum chemistry is to find the (quantum) state that describe an ensamble of particles described by the laws of quantum mechanics. \n",
        "For practical (chemistry) purpuses, our main challenge is to solve the Schr̈odinger equation (SE),\n",
        "$$\n",
        "\\hat{H}(\\{\\mathbf{x}_i\\}^N)\\psi(\\{\\mathbf{x}_i\\}^N) = E \\;\\psi(\\{\\mathbf{x}_i\\}^N)\\\\\n",
        "\\left(\\sum_i^N \\nabla_i^2 + V(\\{\\mathbf{x}_i\\}^N) \\right)\\psi(\\{\\mathbf{x}_i\\}^N) = E \\;\\psi(\\{\\mathbf{x}_i\\}^N),\n",
        "$$\n",
        "where,\n",
        "1. $\\psi(\\{\\mathbf{x}_i\\}^N)$ is the $N$-particles wavefunction.\n",
        "2. $\\sum_i^N \\nabla_i^2$ kinetic energy operator.\n",
        "3. $V(\\{\\mathbf{x}_i\\}^N)$ pontential energy operator that describes the interaction between the $N$-particles.\n",
        "4. $E$ energy of the system.\n",
        "\n",
        "Formally, quantum chemistry boilds down to solving the following problem,\n",
        "$$\n",
        "E_{gs} = \\arg\\min_{\\psi_{\\theta}(\\{\\mathbf{x}_i\\}^N)} \\langle \\psi_{\\theta}(\\{\\mathbf{x}_i\\}^N)|\\hat{H}(\\{\\mathbf{x}_i\\}^N) | \\psi_{\\theta}(\\{\\mathbf{x}_i\\}^N)\\rangle\n",
        "$$\n",
        "one additionak constrain is $\\langle \\psi_{\\theta}(\\{\\mathbf{x}_i\\}^N)|| \\psi_{\\theta}(\\{\\mathbf{x}_i\\}^N)\\rangle = \\int |\\psi_{\\theta}|^2 d\\mathbf{X} = 1$. \n",
        "\n",
        "If you remember your quantum chemistry course, **position and momenta do not commute with each other**. This has significant implications as solving the SE become more challenging. \n",
        "\n",
        "*What about molecules?*,\n",
        "The main component in the SE that describes a molecule is the pontential operator $V(\\{\\mathbf{x}_i\\}^N)$.\n",
        "$$\n",
        "V(\\{\\mathbf{x}_i\\}^N) = \\frac{1}{2}\\sum_{i\\neq j}\\frac{e^2}{|\\mathbf{x}_i - \\mathbf{x}_j|} + \\sum_{i\\ell}\\frac{Z_\\ell \\;e}{|\\mathbf{R}_\\ell - \\mathbf{x}_j|}\n",
        "$$\n",
        "\n"
      ]
    },
    {
      "cell_type": "markdown",
      "metadata": {
        "id": "f1NmjtswOMps"
      },
      "source": [
        "## Hartree-Fock\n",
        "\n",
        "Because $V(\\{\\mathbf{x}_i\\}^N) \\neq \\sum_i V(\\mathbf{x}_i))$, we cannot approximate $\\psi_{\\theta}(\\{\\mathbf{x}_i\\}^N) = \\prod_i \\phi(\\mathbf{x}_i)$.\n",
        "However, the goal of Hartree-Fock is to generate a **non-interacting** electrons wavefunction. \n",
        "To achieve this solution, $V(\\{\\mathbf{x}_i\\}^N)$ is approximated as,\n",
        "$$\n",
        "V(\\{\\mathbf{x}_i\\}^N) \\approx \\sum_i V_{ext}(\\mathbf{x}_i) + V_{Hartree}(\\mathbf{x}_i) + V_{X}(\\mathbf{x}_i)\n",
        "$$\n",
        "\n",
        "One-particle problem\n",
        "$$\n",
        "\\hat{H}_{eff}(\\mathbf{x})  \\phi_i(\\mathbf{x}) = ϵ_i\\; \\phi_i(\\mathbf{x}),\n",
        "$$\n",
        "where $\\langle \\phi_i(\\mathbf{x}) | \\phi_j(\\mathbf{x}) \\rangle = δ_{ij}$\n",
        "\n",
        "\n",
        "In general, this equations could be solved numerically (mesh). However, the **standard** procedure developed over the last decades is to use **atomic basis sets** to recast this problem into a set of lineal-algebra equations. \n",
        "\n",
        "\n",
        "\n"
      ]
    },
    {
      "cell_type": "markdown",
      "metadata": {
        "id": "4_f9LeIRchM1"
      },
      "source": [
        "### Basis sets\n",
        "\n",
        "Every molecular orbital $(\\phi_i(\\mathbf{x}))$ obtained from soliving the HF equations, is $\\phi_i(\\mathbf{x}) = \\sum_j c_j \\varphi_i(\\mathbf{x})$, where $\\varphi_i(\\mathbf{x})$ is an atomic orbital. \n",
        "\n",
        "For example, an electron $s$ is described by, $\\varphi_s(\\mathbf{x}) = \\sum_\\ell w_\\ell e^{-\\frac{(\\mathbf{x}-\\mathbf{R})^2}{\\alpha_\\ell}}$"
      ]
    },
    {
      "cell_type": "code",
      "execution_count": null,
      "metadata": {
        "id": "NxuDp-Cqvo62"
      },
      "outputs": [],
      "source": [
        "#@title PySCF + extra\n",
        "import time\n",
        "\n",
        "import pyscf\n",
        "from pyscf import gto, scf, dft\n",
        "from pyscf.data.nist import BOHR\n",
        "from pyscf.dft.numint import eval_ao\n",
        "from pyscf.geomopt.berny_solver import optimize\n",
        "\n",
        "import matplotlib\n",
        "import matplotlib.pyplot as plt\n",
        "from IPython.display import display,clear_output\n",
        "\n",
        "import numpy as np"
      ]
    },
    {
      "cell_type": "code",
      "execution_count": null,
      "metadata": {
        "id": "gG1WiNP7elKm"
      },
      "outputs": [],
      "source": [
        "_level = 3\n",
        "mol = pyscf.M(atom='''\n",
        "                H  0. 0. 0.\n",
        "                H  0. 0. 0.7408481486\n",
        "            ''', basis='sto-3g', spin=2)  # H  0. 0. 0.7408481486\n",
        "\n",
        "mf = scf.RKS(mol)\n",
        "# S = mf.get_ovlp(mol)  # overlap matrix\n",
        "\n",
        "mf.kernel()\n",
        "# mf.grids.build(with_non0tab=True)\n",
        "mf.grids.level = _level\n",
        "mf.grids.build(with_non0tab=True)\n",
        "Rgrid = mf.grids.coords\n",
        "W = mf.grids.weights\n",
        "y_ao = eval_ao(mol, mf.grids.coords)\n",
        "print(y_ao.shape)\n",
        "\n",
        "r = np.linalg.norm(Rgrid,axis=1)\n",
        "for i,yao_i in enumerate(y_ao.T):\n",
        "  plt.scatter(Rgrid[::10,-1],yao_i[::10],label=f'AO-{i}',s=5)\n",
        "\n",
        "plt.vlines([0.,0.7408481486/BOHR],ymin=np.min(y_ao),ymax=np.max(y_ao),color='k',ls='--')\n",
        "plt.legend()\n",
        "plt.ylabel('Atomic orbital')\n",
        "plt.xlabel('R')\n",
        "plt.xlim(-2.5,3.5)"
      ]
    },
    {
      "cell_type": "code",
      "execution_count": null,
      "metadata": {
        "id": "EThKk8TrNOP8"
      },
      "outputs": [],
      "source": [
        "\n",
        "_level = 3\n",
        "mol = pyscf.M(atom='''\n",
        "                Li  0. 0. 0.\n",
        "            ''', basis='sto3g', spin=1)  # H  0. 0. 0.7408481486\n",
        "\n",
        "mf = scf.RKS(mol)\n",
        "# S = mf.get_ovlp(mol)  # overlap matrix\n",
        "\n",
        "mf.kernel()\n",
        "# mf.grids.build(with_non0tab=True)\n",
        "mf.grids.level = _level\n",
        "mf.grids.build(with_non0tab=True)\n",
        "Rgrid = mf.grids.coords\n",
        "W = mf.grids.weights\n",
        "y_ao = eval_ao(mol, mf.grids.coords)\n",
        "print(y_ao.shape)\n",
        "\n",
        "r = np.linalg.norm(Rgrid,axis=1)\n",
        "for i,yao_i in enumerate(y_ao.T):\n",
        "  plt.scatter(Rgrid[::10,-1],yao_i[::10],label=f'AO-{i}',s=5)\n",
        "\n",
        "# plt.vlines([0.],ymin=np.min(y_ao),ymax=np.max(y_ao),color='k',ls='--')\n",
        "plt.legend()\n",
        "plt.ylabel('Atomic orbital')\n",
        "plt.xlabel('R')\n",
        "plt.xlim(-5.,5.)"
      ]
    },
    {
      "cell_type": "markdown",
      "metadata": {
        "id": "RKsxTS9lyhc5"
      },
      "source": [
        "# Basis-set impact \n",
        "let's chose a geometry of a molecule of interest from [NIST](https://cccbdb.nist.gov/geom1x.asp)"
      ]
    },
    {
      "cell_type": "code",
      "execution_count": null,
      "metadata": {
        "id": "p_kw-AXgvyG8"
      },
      "outputs": [],
      "source": [
        "def get_HF_energy(basis_set_name):\n",
        "  t = time.process_time()\n",
        "  mol = pyscf.M(atom='''O\t0.0000000\t0.0000000\t0.1164480; H\t0.0000000\t0.7534340\t-0.4657900; H\t0.0000000\t-0.7534340\t-0.4657900\n",
        "            ''', basis=basis_set_name)\n",
        "\n",
        "  mf = scf.RHF(mol)\n",
        "  mf.kernel()\n",
        "  elapsed_time = time.process_time() - t\n",
        "  return mf.e_tot,elapsed_time\n"
      ]
    },
    {
      "cell_type": "code",
      "execution_count": null,
      "metadata": {
        "id": "SSp-ew2gzX_D"
      },
      "outputs": [],
      "source": [
        "basis_sets = ['sto3g','3-21G','4-31G','6-31G','6-311G','6-311G*','cc-pVDZ','cc-pVTZ','cc-pVQZ']\n",
        "time_ = []\n",
        "energy_ = []\n",
        "for bs in basis_sets:\n",
        "  e,t = get_HF_energy(bs) \n",
        "  energy_.append(e)\n",
        "  time_.append(t)\n",
        "\n",
        "energy_ = np.asarray(energy_)\n",
        "time_ = np.asarray(time_)"
      ]
    },
    {
      "cell_type": "code",
      "execution_count": null,
      "metadata": {
        "id": "F_aNLIBR1eAW"
      },
      "outputs": [],
      "source": [
        "plt.figure(figsize=(9,5))\n",
        "plt.plot(np.arange(len(basis_sets)),energy_,color='k')\n",
        "cbar = plt.scatter(np.arange(len(basis_sets)),energy_,marker='s',c=time_,s=45)\n",
        "cb = plt.colorbar(cbar)\n",
        "cb.set_label('time [s]')\n",
        "plt.xticks(np.arange(len(basis_sets)),basis_sets)\n",
        "plt.xlabel('Basis Set')\n",
        "plt.ylabel('Energy')\n",
        "plt.tight_layout()"
      ]
    },
    {
      "cell_type": "code",
      "execution_count": null,
      "metadata": {
        "id": "OgTsQaMT4_91"
      },
      "outputs": [],
      "source": [
        "# do the same for CH4\n",
        "geom = '''C\t0.0000000\t0.0000000\t0.0000000; H\t0.6268480\t0.6268480\t0.6268480; H\t-0.6268480\t-0.6268480\t0.6268480; H\t-0.6268480\t0.6268480\t-0.6268480; H\t0.6268480\t-0.6268480\t-0.6268480'''"
      ]
    },
    {
      "cell_type": "markdown",
      "metadata": {
        "id": "9fX2XElu58Uf"
      },
      "source": [
        "## Geometry optimzation\n",
        "\n",
        "One of the main application of quantum chemistry methods is to search for stable conformers. \n",
        "$V(\\{\\mathbf{x}_i\\}^N)$ also depends on the location of the nuclei, $ \\sum_{i\\ell}\\frac{Z_\\ell \\;e}{|\\mathbf{R}_\\ell - \\mathbf{x}_j|}$. Therefore, $E_{gs}$ is a function of $\\{\\mathbf{R}_\\ell\\}^M$ (position of all nuclei).\n",
        "\n",
        "By computing $\\frac{\\partial E_{gs}}{\\partial \\mathbf{R}_\\ell}$, one can use gradient-based methods to modify the position of the nuclei to search for the most relaxed geometry.\n",
        "\n"
      ]
    },
    {
      "cell_type": "code",
      "execution_count": null,
      "metadata": {
        "id": "3IE1Wgui3Ite"
      },
      "outputs": [],
      "source": [
        "mol = gto.M(atom='N 0 0 0; N 0 0 1.2', basis='ccpvdz')\n",
        "mf = scf.RHF(mol)\n",
        "\n",
        "#\n",
        "# geometry optimization for HF.  There are two entries to invoke the berny\n",
        "# geometry optimization.\n",
        "#\n",
        "# method 1: import the optimize function from pyscf.geomopt.berny_solver\n",
        "mol_eq = optimize(mf)\n",
        "print(mol_eq.atom_coords())\n",
        "\n",
        "\n",
        "# method 2: create the optimizer from Gradients class\n",
        "mol_eq = mf.Gradients().optimizer(solver='berny').kernel()"
      ]
    },
    {
      "cell_type": "code",
      "execution_count": null,
      "metadata": {
        "id": "oS_vLHhP-VTb"
      },
      "outputs": [],
      "source": [
        "print('Optimize geometry')\n",
        "print(mol_eq.atom_coords())"
      ]
    },
    {
      "cell_type": "code",
      "execution_count": null,
      "metadata": {
        "id": "DHGM69bV77gb"
      },
      "outputs": [],
      "source": [
        "bond = np.arange(0.8, 5.0, .1)\n",
        "energy = []\n",
        "force = []\n",
        "grad_norm = []\n",
        "mol = gto.Mole(atom=[['N', 0, 0, -0.4],\n",
        "                     ['N', 0, 0,  0.4]],\n",
        "               basis='ccpvdz')\n",
        "\n",
        "mf_grad_scan = scf.RHF(mol).nuc_grad_method().as_scanner()\n",
        "for r in reversed(bond):\n",
        "    e_tot, grad = mf_grad_scan([['N', 0, 0, -r / 2],\n",
        "                                ['N', 0, 0,  r / 2]])\n",
        "  \n",
        "    energy.append(e_tot)\n",
        "    force.append(grad[0,2])\n",
        "    grad_norm.append(np.linalg.norm(grad))\n"
      ]
    },
    {
      "cell_type": "code",
      "execution_count": null,
      "metadata": {
        "id": "fOggvPSY84mr"
      },
      "outputs": [],
      "source": [
        "_, (ax1,ax2) = plt.subplots(nrows=2,ncols=1,sharex=True)\n",
        "ax1.plot(bond, energy[::-1])\n",
        "ax1.set_ylabel('Energy')\n",
        "\n",
        "# ax2.plot(bond, force[::-1])\n",
        "ax2.plot(bond,grad_norm[::-1])\n",
        "ax2.set_ylabel('Force')\n",
        "ax2.set_xlabel('Bond distance')\n",
        "\n",
        "plt.tight_layout()"
      ]
    },
    {
      "cell_type": "markdown",
      "metadata": {
        "id": "x1o_PklK-fdE"
      },
      "source": [
        "# DFT (also one-particle systems + extra interactions)\n",
        "\n",
        "Density functional theory, is by far the must successful computational tool to do insilico simulations [paper](https://aip.scitation.org/doi/10.1063/1.4704546).\n",
        "Even, FF methods rely on DFT simulations to improve the accuracy of their models. \n",
        "\n",
        "\n",
        "<img src=\"https://aip.scitation.org/na101/home/literatum/publisher/aip/journals/content/jcp/2012/jcp.2012.136.issue-15/1.4704546/production/images/large/1.4704546.figures.f1.jpeg\n",
        " \" alt=\"Markdown Monster icon\"\n",
        "     style=\"float: left; margin-right: 20px;\" />\n",
        "\n"
      ]
    },
    {
      "cell_type": "markdown",
      "metadata": {
        "id": "FEct7uTXRMzH"
      },
      "source": [
        "\n",
        "**Why is DFT so successful?**\\\n",
        "(Rodrigo's opinion)\n",
        "* DFT computational scaling is in a sweeet spot. \n",
        "* Compare to other *ab-initio* methods, DFT could be scaled up to simulate larger number of atoms [paper](https://arxiv.org/ftp/arxiv/papers/2209/2209.12747.pdf). \n",
        "* There is a mathematical theorem that states the existance of $V_{XC}$, the potential that describes the interaction between electrons. 🔥\n",
        "* The most sucessful numerical DFT framework looks like the HF one, (we are only missing one ingredient). \n",
        "* It works \"great\" for organic molecules.\n",
        "\n",
        "<img src=\"https://aip.scitation.org/na101/home/literatum/publisher/aip/journals/content/jcp/2012/jcp.2012.136.issue-15/1.4704546/production/images/large/1.4704546.figures.f3.jpeg\n",
        " \" alt=\"Markdown Monster icon\"\n",
        "     style=\"float: left; margin-right: 20px;\" />\n",
        "\n",
        "\n"
      ]
    },
    {
      "cell_type": "code",
      "execution_count": null,
      "metadata": {
        "id": "gMu9-Bj9BZTM"
      },
      "outputs": [],
      "source": [
        "# Simple example\n",
        "mol = pyscf.M(\n",
        "    atom = 'H 0 0 0; F 0 0 1.1',  # in Angstrom\n",
        "    basis = '631g',\n",
        "    symmetry = True,\n",
        ")\n",
        "\n",
        "mf = mol.KS()\n",
        "\n",
        "mf.xc = 'b3lyp'\n",
        "mf.kernel()\n",
        "\n",
        "# Orbital energies, Mulliken population etc.\n",
        "mf.analyze()"
      ]
    },
    {
      "cell_type": "code",
      "execution_count": null,
      "metadata": {
        "id": "dqoY-wilKuT4"
      },
      "outputs": [],
      "source": [
        "def get_DFT_energy(basis_set_name):\n",
        "  t = time.process_time()\n",
        "  mol = pyscf.M(atom='''O\t0.0000000\t0.0000000\t0.1164480; H\t0.0000000\t0.7534340\t-0.4657900; H\t0.0000000\t-0.7534340\t-0.4657900\n",
        "            ''', basis=basis_set_name)\n",
        "  mf = mol.KS()\n",
        "\n",
        "  mf.xc = 'b3lyp'\n",
        "  mf.kernel()\n",
        "\n",
        "  elapsed_time = time.process_time() - t\n",
        "  return mf.e_tot,elapsed_time\n"
      ]
    },
    {
      "cell_type": "code",
      "execution_count": null,
      "metadata": {
        "id": "svQwGYvJK-G3"
      },
      "outputs": [],
      "source": [
        "basis_sets = ['sto3g','3-21G','4-31G','6-31G','6-311G','6-311G*','cc-pVDZ','cc-pVTZ','cc-pVQZ']\n",
        "time_ = []\n",
        "dft_energy_ = []\n",
        "for bs in basis_sets:\n",
        "  e,t = get_DFT_energy(bs) \n",
        "  dft_energy_.append(e)\n",
        "  time_.append(t)\n",
        "\n",
        "dft_energy_ = np.asarray(dft_energy_)\n",
        "time_ = np.asarray(time_)"
      ]
    },
    {
      "cell_type": "code",
      "execution_count": null,
      "metadata": {
        "id": "tJbH0IObLGQS"
      },
      "outputs": [],
      "source": [
        "plt.figure(figsize=(9,5))\n",
        "plt.plot(np.arange(len(basis_sets)),energy_,color='red',label='HF',ls='--',marker='o')\n",
        "plt.plot(np.arange(len(basis_sets)),dft_energy_,color='k')\n",
        "cbar = plt.scatter(np.arange(len(basis_sets)),dft_energy_,marker='s',c=time_,s=45,label='B3LYP')\n",
        "cb = plt.colorbar(cbar)\n",
        "cb.set_label('time [s]')\n",
        "plt.xticks(np.arange(len(basis_sets)),basis_sets)\n",
        "plt.xlabel('Basis Set')\n",
        "plt.ylabel('Energy')\n",
        "plt.legend()\n",
        "plt.tight_layout()"
      ]
    },
    {
      "cell_type": "markdown",
      "metadata": {
        "id": "97FMHBFIMQyF"
      },
      "source": [
        "### Geometry optimization with DFT\n",
        "\n",
        "\n"
      ]
    },
    {
      "cell_type": "code",
      "execution_count": null,
      "metadata": {
        "id": "-svs4UkqLOCi"
      },
      "outputs": [],
      "source": [
        "bond = np.arange(0.8, 5.0, .1)\n",
        "dft_energy = []\n",
        "dft_force = []\n",
        "dft_grad_norm = []\n",
        "\n",
        "mol = gto.Mole(atom=[['N', 0, 0, -0.4],\n",
        "                     ['N', 0, 0,  0.4]],\n",
        "               basis='ccpvdz')\n",
        "mf = mol.KS()\n",
        "\n",
        "mf.xc = 'b3lyp'\n",
        "mf.kernel()\n",
        "\n",
        "mf_grad_scan = mf.nuc_grad_method().as_scanner()\n",
        "for r in reversed(bond):\n",
        "    e_tot, grad = mf_grad_scan([['N', 0, 0, -r / 2],\n",
        "                                ['N', 0, 0,  r / 2]])\n",
        "  \n",
        "    dft_energy.append(e_tot)\n",
        "    dft_force.append(grad[0,2])\n",
        "    dft_grad_norm.append(np.linalg.norm(grad))"
      ]
    },
    {
      "cell_type": "code",
      "execution_count": null,
      "metadata": {
        "id": "rqxVnapgMcC6"
      },
      "outputs": [],
      "source": [
        "_, (ax1,ax2) = plt.subplots(nrows=2,ncols=1,sharex=True)\n",
        "ax1.plot(bond, energy[::-1],label='HF')\n",
        "ax1.plot(bond, dft_energy[::-1],label='B3LYP')\n",
        "ax1.set_ylabel('Energy')\n",
        "\n",
        "ax2.plot(bond, force[::-1],label='HF')\n",
        "ax2.plot(bond, dft_force[::-1],label='B3LYP')\n",
        "# ax2.plot(bond,grad_norm[::-1])\n",
        "ax2.set_ylabel('Force')\n",
        "ax2.set_xlabel('Bond distance')\n",
        "\n",
        "plt.legend()\n",
        "plt.tight_layout()"
      ]
    },
    {
      "cell_type": "markdown",
      "metadata": {
        "id": "_mU9xKWmM2ES"
      },
      "source": [
        "PySCF is flexible enough that one can define your own Exchange-Correlation functional. [Tutorial](https://pyscf.org/user/dft.html)\n",
        "\n",
        "```python\n",
        "HF_X, LDA_X = .6, .08\n",
        "B88_X = 1. - HF_X - LDA_X\n",
        "LYP_C = .81\n",
        "VWN_C = 1. - LYP_C\n",
        "mf_hf.xc = f'{HF_X:} * HF + {LDA_X:} * LDA + {B88_X:} * B88, {LYP_C:} * LYP + {VWN_C:} * VWN'\n",
        "mf_hf.kernel()\n",
        "mf_hf.xc = 'hf'\n",
        "mf_hf.kernel()\n",
        "\n",
        "```"
      ]
    },
    {
      "cell_type": "markdown",
      "metadata": {
        "id": "CK-BeyovNSX-"
      },
      "source": [
        "# semi-empirical methods\n",
        "\n",
        "The central component of semi-empirical methods (SEM) is to remove the computation of all integrals needed to represent the Hamiltonian and set them as parameters.\n",
        "\n",
        "For the Hückel model, the Hamiltonian matrix elements $H_{ij}$ are parameterized in the following way,\n",
        "$$\n",
        "H_{ij} = \\Biggl\\{\\begin{matrix}\n",
        " \\alpha, \\text{ if } i=j\\\\\n",
        " \\beta, \\text{ if } i,j \\text{  are adjacent } \\\\\n",
        " 0\\\\\n",
        "\\end{matrix}\n",
        "$$\n",
        "\n",
        "For ethylen, we only have two valence electrons,\n",
        "$$\n",
        "\\begin{bmatrix}\n",
        "\\alpha_C &  \\beta_{C-C}\\\\\n",
        "\\beta_{C-C}&  \\alpha_C\\\\\n",
        "\\end{bmatrix}\\begin{bmatrix}\n",
        " C^i_1\\\\C^i_2\n",
        "\\end{bmatrix} = E_i\\begin{bmatrix}\n",
        " C^i_1\\\\C^i_2\n",
        "\\end{bmatrix}\n",
        "$$\n"
      ]
    },
    {
      "cell_type": "code",
      "execution_count": null,
      "metadata": {
        "id": "HJCo6wDsM-bG"
      },
      "outputs": [],
      "source": [
        "alpha = 0. #parameters are set wrt to C\n",
        "beta =  2.4 \n",
        "\n",
        "H = np.array([[alpha,beta],[beta,alpha]])\n",
        "e,v = np.linalg.eigh(H)\n",
        "print('Eigenvalues')\n",
        "print(e)\n",
        "print('Eigenvectors')\n",
        "print(v)\n"
      ]
    },
    {
      "cell_type": "code",
      "execution_count": null,
      "metadata": {
        "id": "pMsGqUWKUVl_"
      },
      "outputs": [],
      "source": [
        "#@title Torch and TorchANI\n",
        "import torch\n",
        "import torchani"
      ]
    },
    {
      "cell_type": "markdown",
      "metadata": {
        "id": "RoAtwKBaRtHS"
      },
      "source": [
        "## semi-empirical methods ++\n",
        "\n",
        "SEM methods are pruned versions of the real quantum chemistry models grounded on physical principles where extra degrees of freedom could be parametrized or neglect to increase the computational performance.\n",
        "\n",
        "**Why SEM are intersting?**\n",
        "* They are the driving force for high throughput screening.\n",
        "* More accurate than FF.\n",
        "* With the rise of ML, more acccurate models can be parametrized.\n",
        "\n",
        "\n",
        "J. Chem. Phys. 154, 244108 (2021)\\\n",
        "<img src=\"https://aip.scitation.org/na101/home/literatum/publisher/aip/journals/content/jcp/2021/jcp.2021.154.issue-24/5.0052857/20210625/images/large/5.0052857.figures.online.f2.jpeg\n",
        " \" alt=\"J. Chem. Phys. 154, 244108 (2021)\"\n",
        "     style=\"float: left; margin-right: 20px;\" />\n",
        "\n",
        "\n"
      ]
    },
    {
      "cell_type": "code",
      "execution_count": null,
      "metadata": {
        "id": "U451283NQkhG"
      },
      "outputs": [],
      "source": [
        "model = torchani.models.ANI2x(periodic_table_index=True)\n",
        "\n",
        "coordinates = torch.tensor([[[0.03192167, 0.00638559, 0.01301679],\n",
        "                             [-0.83140486, 0.39370209, -0.26395324],\n",
        "                             [-0.66518241, -0.84461308, 0.20759389],\n",
        "                             [0.45554739, 0.54289633, 0.81170881],\n",
        "                             [0.66091919, -0.16799635, -0.91037834]]],\n",
        "                           requires_grad=True)\n",
        "# In periodic table, C = 6 and H = 1\n",
        "species = torch.tensor([[6, 1, 1, 1, 1]])\n",
        "\n",
        "energy = model((species, coordinates)).energies\n",
        "derivative = torch.autograd.grad(energy.sum(), coordinates)[0]\n",
        "force = -derivative\n",
        "print(energy,force)\n",
        "\n",
        "_, atomic_energies = model.atomic_energies((species, coordinates))"
      ]
    },
    {
      "cell_type": "code",
      "execution_count": null,
      "metadata": {
        "id": "GBcWuctuUgn2"
      },
      "outputs": [],
      "source": [
        "bond = np.arange(0.8, 5.0, .1)\n",
        "ani_energy = []\n",
        "ani_force = []\n",
        "ani_grad_norm = []\n",
        "mol = gto.Mole(atom=[['N', 0, 0, -0.4],\n",
        "                     ['N', 0, 0,  0.4]],\n",
        "               basis='ccpvdz')\n",
        "\n",
        "mf_grad_scan = scf.RHF(mol).nuc_grad_method().as_scanner()\n",
        "for r in reversed(bond):\n",
        "    e_tot, grad = mf_grad_scan([['N', 0, 0, -r / 2],\n",
        "                                ['N', 0, 0,  r / 2]])\n",
        "  \n",
        "    energy.append(e_tot)\n",
        "    force.append(grad[0,2])\n",
        "    grad_norm.append(np.linalg.norm(grad))\n"
      ]
    },
    {
      "cell_type": "markdown",
      "metadata": {
        "id": "ScnYdXTEW8Ci"
      },
      "source": [
        "### conformer search: RDKIT + TorchANI\n"
      ]
    },
    {
      "cell_type": "code",
      "execution_count": null,
      "metadata": {
        "id": "tHdzIqa3XeqZ"
      },
      "outputs": [],
      "source": [
        "import py3Dmol\n",
        "from rdkit import Chem\n",
        "from rdkit.Chem import AllChem, Draw, rdMolDescriptors, rdDistGeom, rdMolTransforms, QED\n",
        "from rdkit.Chem.Scaffolds.MurckoScaffold import GetScaffoldForMol\n",
        "from rdkit.Chem.rdmolops import GetAdjacencyMatrix\n",
        "from rdkit.Chem.Draw import IPythonConsole\n",
        "\n",
        "import ase\n",
        "import ase.optimize"
      ]
    },
    {
      "cell_type": "code",
      "execution_count": null,
      "metadata": {
        "id": "Zz0mfvMUX1KC"
      },
      "outputs": [],
      "source": [
        "def get_xyz_coordinates(m_rdkit):\n",
        "    xyz = Chem.MolToMolBlock(m_rdkit) # Generates a 3D conformer\n",
        "    n_atoms = m_rdkit.GetNumAtoms() # total numbers of atoms\n",
        "\n",
        "    xyz_ = []\n",
        "    for l in xyz.splitlines()[4:4+m_rdkit.GetNumAtoms()]:\n",
        "        l = l.split()\n",
        "        xyz_.append(l[:4])\n",
        "\n",
        "    xyz_str = '%s\\n * (null), Energy   -1000.0000000\\n' % (n_atoms)\n",
        "    for xyzi in xyz_:\n",
        "        xyzi_str = '%s     %.4f     %.4f     %.4f\\n' % (\n",
        "            xyzi[3], float(xyzi[0]), float(xyzi[1]), float(xyzi[2]))\n",
        "        xyz_str += xyzi_str\n",
        "    return xyz_str\n",
        "\n",
        "def draw_3d(smiles, bool_add_H=True):\n",
        "\n",
        "    m3 = AllChem.MolFromSmiles(smiles)\n",
        "    if bool_add_H:\n",
        "        m3 = Chem.AddHs(m3)\n",
        "    AllChem.EmbedMolecule(m3, randomSeed=0xf00d)\n",
        "\n",
        "    n_atoms = m3.GetNumAtoms()\n",
        "\n",
        "    xyz_str = get_xyz_coordinates(m3)\n",
        "    xyzview = py3Dmol.view(width=400, height=400)\n",
        "    xyzview.addModel(xyz_str, 'xyz')\n",
        "    xyzview.setStyle({'sphere': {'radius': 0.35}, 'stick': {'radius': 0.1}})\n",
        "    xyzview.setBackgroundColor('0xeeeeee')\n",
        "    xyzview.zoomTo()\n",
        "    xyzview.show()\n"
      ]
    },
    {
      "cell_type": "code",
      "execution_count": null,
      "metadata": {
        "id": "H0U3IEl3W_ui"
      },
      "outputs": [],
      "source": [
        "m = 'OCCF'\n",
        "mol = AllChem.MolFromSmiles(m)\n",
        "mol_wH = Chem.AddHs(mol)\n",
        "draw_3d(m)"
      ]
    },
    {
      "cell_type": "code",
      "execution_count": null,
      "metadata": {
        "id": "bAInOiljYi8P"
      },
      "outputs": [],
      "source": [
        "xi = []\n",
        "si = []\n",
        "for atom in mol_wH.GetAtoms():\n",
        "  xi.append(atom.GetAtomicNum())\n",
        "  si.append(atom.GetSymbol())"
      ]
    },
    {
      "cell_type": "code",
      "execution_count": null,
      "metadata": {
        "id": "suVIA8a4Xbvi"
      },
      "outputs": [],
      "source": [
        "bounds = rdDistGeom.GetMoleculeBoundsMatrix(mol_wH)\n",
        "ps = rdDistGeom.ETKDGv3()\n",
        "ps.randomSeed = 0xf00d\n",
        "ps.SetBoundsMat(bounds)\n",
        "\n",
        "# ps = rdDistGeom.EmbedParameters()\n",
        "# ps.useExpTorsionAnglePrefs = False\n",
        "\n",
        "ps.useBasicKnowledge = False\n",
        "cids = rdDistGeom.EmbedMultipleConfs(mol_wH,1500,ps)\n",
        "dists_etkdg = [rdMolTransforms.GetBondLength(conf,0,3) for conf in mol_wH.GetConformers()]"
      ]
    },
    {
      "cell_type": "code",
      "execution_count": null,
      "metadata": {
        "id": "pC-HvqLxZoqy"
      },
      "outputs": [],
      "source": [
        "def get_opt_geometry(xyz):\n",
        "  molecule = ase.Atoms('OCCF', positions=xyz, calculator=model.ase())\n",
        "  opt = ase.optimize.BFGS(molecule)\n",
        "  opt.run(fmax=1e-6)\n",
        "\n",
        "  coord = torch.from_numpy(molecule.get_positions()).unsqueeze(0).requires_grad_(True)\n",
        "  species = torch.tensor(molecule.get_atomic_numbers(), device=device, dtype=torch.long).unsqueeze(0)\n",
        "  \n",
        "  return torch.from_numpy(molecule.get_positions()).unsqueeze(0).requires_grad_(True)"
      ]
    },
    {
      "cell_type": "code",
      "execution_count": null,
      "metadata": {
        "id": "WREgJP7dXmxp"
      },
      "outputs": [],
      "source": [
        "for c in mol_wH.GetConformers():\n",
        "  print(c.GetPositions())"
      ]
    },
    {
      "cell_type": "code",
      "execution_count": null,
      "metadata": {
        "id": "NvG7RLlfY7rJ"
      },
      "outputs": [],
      "source": []
    }
  ],
  "metadata": {
    "colab": {
      "provenance": []
    },
    "kernelspec": {
      "display_name": "Python 3",
      "name": "python3"
    },
    "language_info": {
      "name": "python"
    }
  },
  "nbformat": 4,
  "nbformat_minor": 0
}
