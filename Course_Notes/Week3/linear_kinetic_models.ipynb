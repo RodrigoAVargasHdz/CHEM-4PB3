{
 "cells": [
  {
   "attachments": {},
   "cell_type": "markdown",
   "metadata": {},
   "source": [
    "To open on Google Colab\\\n",
    "https://colab.research.google.com/github/RodrigoAVargasHdz/CHEM-4PB3/blob/main/Course_Notes/Week3/linear_kinetic_models.ipynb"
   ]
  },
  {
   "cell_type": "code",
   "execution_count": 34,
   "metadata": {},
   "outputs": [],
   "source": [
    "import numpy as np\n",
    "import pandas as pd\n",
    "import sklearn\n",
    "from sklearn.model_selection import train_test_split\n",
    "from sklearn.preprocessing import PolynomialFeatures\n",
    "from sklearn.model_selection import KFold\n",
    "\n",
    "import matplotlib \n",
    "import matplotlib.pyplot as plt"
   ]
  },
  {
   "attachments": {},
   "cell_type": "markdown",
   "metadata": {},
   "source": [
    "## Regression model to predict ```logP``` (*lipophilicity*)\n",
    "\n",
    "* ```logP``` is one of the most used observalbes in drug design. \n",
    "* It measures how much of a solute dissolves in the water portion versus an organic portion.\n",
    "* $\\log P < 0$, the compound has a higher affinity for the aqueous phase.\n",
    "* $\\log P > 0$, higher concentration in the lipid phase.\n",
    "* $\\log P = 0$, the compound is equally partitioned between the lipid and aqueous phases.\n",
    "\n",
    "**Drug Discovery**\\\n",
    "```logP``` is used in the pharmaceutical/biotech industries to understand the behavior of drug molecules in the body. Drug candidates are often screened according to ```logP```, among other criteria, to help guide drug selection and analog optimization. This is because lipophilicity is a major determining factor in a\n",
    "compound’s absorption, distribution in the body, penetration across vital membranes and biological barriers, metabolism and excretion. \n",
    "\n",
    "\n",
    "**Reference**:\\\n",
    "[**link**](https://www.acdlabs.com/wp-content/uploads/download/app/physchem/making_sense.pdf)\n",
    "\n",
    "## Example\n",
    "[**paper**](https://doi.org/10.1016/S0960-894X(03)00656-5)\\\n",
    "[**example**](https://kbbox.h-its.org/toolbox/tutorials/data-exploration-and-linear-regression-of-a-kinetic-dataset-using-r/)\\\n",
    "[**cross-validation**](https://scikit-learn.org/stable/modules/cross_validation.html)\n",
    "\n",
    "data set,\n",
    "```python\n",
    "data_url = 'https://kbbox.h-its.org/media/uploads/2017/11/15/map38.csv' \n",
    "```"
   ]
  },
  {
   "cell_type": "code",
   "execution_count": 17,
   "metadata": {},
   "outputs": [
    {
     "name": "stdout",
     "output_type": "stream",
     "text": [
      "Index(['compound_key', 'pKD', 'pkon', 'pkoff', 'vsa_positiv', 'vsa_negativ',\n",
      "       'lipophilicity', 'vsa_polar', 'weight'],\n",
      "      dtype='object')\n"
     ]
    }
   ],
   "source": [
    "#load data\n",
    "data_url = 'https://kbbox.h-its.org/media/uploads/2017/11/15/map38.csv'\n",
    "data = pd.read_csv(data_url)\n",
    "\n",
    "# * Print the name of the columns in the file\n",
    "columns_names = data.columns\n",
    "print(columns_names)"
   ]
  },
  {
   "cell_type": "code",
   "execution_count": 18,
   "metadata": {},
   "outputs": [
    {
     "name": "stdout",
     "output_type": "stream",
     "text": [
      "Data dimensions:  (16, 7)\n"
     ]
    }
   ],
   "source": [
    "y = data['lipophilicity'].to_numpy()\n",
    "X = data.drop(['compound_key', 'lipophilicity'],axis=1).to_numpy()\n",
    "print('Data dimensions: ',X.shape)\n",
    "\n",
    "# split training and validation\n",
    "X_train, X_val, y_train, y_val = train_test_split(X, y, test_size=0.2, random_state=0)\n"
   ]
  },
  {
   "attachments": {},
   "cell_type": "markdown",
   "metadata": {},
   "source": [
    "### Models"
   ]
  },
  {
   "cell_type": "code",
   "execution_count": 24,
   "metadata": {},
   "outputs": [],
   "source": [
    "def linear_model_solver(data, deg, l):\n",
    "    X, y = data\n",
    "    poly = PolynomialFeatures(deg)\n",
    "    # X = x[np.newaxis].T  # resize to (N,d)\n",
    "    Phi = poly.fit_transform(X)    \n",
    "    Phit_Phi = Phi.T @ Phi\n",
    "    Phit_y = Phi.T @ y\n",
    "\n",
    "    lambda_I = l*np.eye(Phit_Phi.shape[0])  # regularization\n",
    "\n",
    "    A = Phit_Phi + lambda_I\n",
    "    A_inv = np.linalg.inv(A)\n",
    "    w = A_inv @ Phit_y\n",
    "    return w\n"
   ]
  },
  {
   "cell_type": "code",
   "execution_count": 26,
   "metadata": {},
   "outputs": [],
   "source": [
    "def f_poly(X, w, deg):\n",
    "    poly = PolynomialFeatures(deg)\n",
    "        \n",
    "    Phi = poly.fit_transform(X)\n",
    "    y_pred = Phi @ w\n",
    "    return y_pred"
   ]
  },
  {
   "cell_type": "code",
   "execution_count": 32,
   "metadata": {},
   "outputs": [],
   "source": [
    "def f_rmse(y_true, y_pred):\n",
    "    z = (y_true - y_pred)**2\n",
    "    return np.sqrt(np.mean(z))\n"
   ]
  },
  {
   "cell_type": "code",
   "execution_count": 72,
   "metadata": {},
   "outputs": [
    {
     "name": "stdout",
     "output_type": "stream",
     "text": [
      "l =  0.000000, rmse = 23.148 \n",
      "l =  0.002479, rmse = 2.289 \n",
      "l =  0.004828, rmse = 2.309 \n",
      "l =  0.009404, rmse = 2.293 \n",
      "l =  0.018316, rmse = 2.279 \n",
      "l =  0.035674, rmse = 2.288 \n",
      "l =  0.069483, rmse = 2.284 \n",
      "l =  0.135335, rmse = 2.284 \n",
      "l =  0.263597, rmse = 2.283 \n",
      "l =  0.513417, rmse = 2.283 \n",
      "l =  1.000000, rmse = 2.283 \n"
     ]
    }
   ],
   "source": [
    "data = (X_train,y_train)\n",
    "data_val = (X_val,y_val)\n",
    "deg = 2\n",
    "# l_ = np.array([0.,1E-4,1E-3,1E-2,1E-1,1.])\n",
    "l_ = np.exp(np.linspace(-6.,0,10))\n",
    "l_ = np.sort(np.append(l_,0.))\n",
    "\n",
    "rmse_ = []\n",
    "for l in l_:\n",
    "    w = linear_model_solver(data,deg,l)\n",
    "    y_val_pred = f_poly(X_val,w,deg)\n",
    "    rmse = f_rmse(y_val,y_val_pred)\n",
    "    print('l =  %.6f, rmse = %.3f '%(l,rmse))\n",
    "    rmse_.append(rmse)\n"
   ]
  },
  {
   "cell_type": "code",
   "execution_count": 73,
   "metadata": {},
   "outputs": [
    {
     "name": "stderr",
     "output_type": "stream",
     "text": [
      "/var/folders/t5/4s883lqs43gbc9km4ykw_y7w0000gn/T/ipykernel_38265/853279423.py:2: RuntimeWarning: divide by zero encountered in log\n",
      "  plt.plot(np.log(l_),rmse_,ms=8,marker='o')\n"
     ]
    },
    {
     "data": {
      "text/plain": [
       "Text(0.5, 0, '$\\\\log(\\\\lambda)$')"
      ]
     },
     "execution_count": 73,
     "metadata": {},
     "output_type": "execute_result"
    },
    {
     "data": {
      "image/png": "[encoded data removed]",
      "image/svg+xml": "<?xml version=\"1.0\" encoding=\"utf-8\" standalone=\"no\"?>\n<!DOCTYPE svg PUBLIC \"-//W3C//DTD SVG 1.1//EN\"\n  \"http://www.w3.org/Graphics/SVG/1.1/DTD/svg11.dtd\">\n<svg xmlns:xlink=\"http://www.w3.org/1999/xlink\" width=\"403.345313pt\" height=\"267.068125pt\" viewBox=\"0 0 403.345313 267.068125\" xmlns=\"http://www.w3.org/2000/svg\" version=\"1.1\">\n <metadata>\n  <rdf:RDF xmlns:dc=\"http://purl.org/dc/elements/1.1/\" xmlns:cc=\"http://creativecommons.org/ns#\" xmlns:rdf=\"http://www.w3.org/1999/02/22-rdf-syntax-ns#\">\n   <cc:Work>\n    <dc:type rdf:resource=\"http://purl.org/dc/dcmitype/StillImage\"/>\n    <dc:date>2023-01-26T12:14:11.107318</dc:date>\n    <dc:format>image/svg+xml</dc:format>\n    <dc:creator>\n     <cc:Agent>\n      <dc:title>Matplotlib v3.6.2, https://matplotlib.org/</dc:title>\n     </cc:Agent>\n    </dc:creator>\n   </cc:Work>\n  </rdf:RDF>\n </metadata>\n <defs>\n  <style type=\"text/css\">*{stroke-linejoin: round; stroke-linecap: butt}</style>\n </defs>\n <g id=\"figure_1\">\n  <g id=\"patch_1\">\n   <path d=\"M 0 267.068125 \nL 403.345313 267.068125 \nL 403.345313 0 \nL 0 0 \nL 0 267.068125 \nz\n\" style=\"fill: none\"/>\n  </g>\n  <g id=\"axes_1\">\n   <g id=\"patch_2\">\n    <path d=\"M 61.345313 224.64 \nL 396.145312 224.64 \nL 396.145312 7.2 \nL 61.345313 7.2 \nz\n\" style=\"fill: #ffffff\"/>\n   </g>\n   <g id=\"matplotlib.axis_1\">\n    <g id=\"xtick_1\">\n     <g id=\"line2d_1\">\n      <defs>\n       <path id=\"m3093cff50b\" d=\"M 0 0 \nL 0 3.5 \n\" style=\"stroke: #000000; stroke-width: 0.8\"/>\n      </defs>\n      <g>\n       <use xlink:href=\"#m3093cff50b\" x=\"76.563494\" y=\"224.64\" style=\"stroke: #000000; stroke-width: 0.8\"/>\n      </g>\n     </g>\n     <g id=\"text_1\">\n      <!-- −6 -->\n      <g transform=\"translate(69.192401 239.238438) scale(0.1 -0.1)\">\n       <defs>\n        <path id=\"DejaVuSans-2212\" d=\"M 678 2272 \nL 4684 2272 \nL 4684 1741 \nL 678 1741 \nL 678 2272 \nz\n\" transform=\"scale(0.015625)\"/>\n        <path id=\"DejaVuSans-36\" d=\"M 2113 2584 \nQ 1688 2584 1439 2293 \nQ 1191 2003 1191 1497 \nQ 1191 994 1439 701 \nQ 1688 409 2113 409 \nQ 2538 409 2786 701 \nQ 3034 994 3034 1497 \nQ 3034 2003 2786 2293 \nQ 2538 2584 2113 2584 \nz\nM 3366 4563 \nL 3366 3988 \nQ 3128 4100 2886 4159 \nQ 2644 4219 2406 4219 \nQ 1781 4219 1451 3797 \nQ 1122 3375 1075 2522 \nQ 1259 2794 1537 2939 \nQ 1816 3084 2150 3084 \nQ 2853 3084 3261 2657 \nQ 3669 2231 3669 1497 \nQ 3669 778 3244 343 \nQ 2819 -91 2113 -91 \nQ 1303 -91 875 529 \nQ 447 1150 447 2328 \nQ 447 3434 972 4092 \nQ 1497 4750 2381 4750 \nQ 2619 4750 2861 4703 \nQ 3103 4656 3366 4563 \nz\n\" transform=\"scale(0.015625)\"/>\n       </defs>\n       <use xlink:href=\"#DejaVuSans-2212\"/>\n       <use xlink:href=\"#DejaVuSans-36\" x=\"83.789062\"/>\n      </g>\n     </g>\n    </g>\n    <g id=\"xtick_2\">\n     <g id=\"line2d_2\">\n      <g>\n       <use xlink:href=\"#m3093cff50b\" x=\"127.290767\" y=\"224.64\" style=\"stroke: #000000; stroke-width: 0.8\"/>\n      </g>\n     </g>\n     <g id=\"text_2\">\n      <!-- −5 -->\n      <g transform=\"translate(119.919673 239.238438) scale(0.1 -0.1)\">\n       <defs>\n        <path id=\"DejaVuSans-35\" d=\"M 691 4666 \nL 3169 4666 \nL 3169 4134 \nL 1269 4134 \nL 1269 2991 \nQ 1406 3038 1543 3061 \nQ 1681 3084 1819 3084 \nQ 2600 3084 3056 2656 \nQ 3513 2228 3513 1497 \nQ 3513 744 3044 326 \nQ 2575 -91 1722 -91 \nQ 1428 -91 1123 -41 \nQ 819 9 494 109 \nL 494 744 \nQ 775 591 1075 516 \nQ 1375 441 1709 441 \nQ 2250 441 2565 725 \nQ 2881 1009 2881 1497 \nQ 2881 1984 2565 2268 \nQ 2250 2553 1709 2553 \nQ 1456 2553 1204 2497 \nQ 953 2441 691 2322 \nL 691 4666 \nz\n\" transform=\"scale(0.015625)\"/>\n       </defs>\n       <use xlink:href=\"#DejaVuSans-2212\"/>\n       <use xlink:href=\"#DejaVuSans-35\" x=\"83.789062\"/>\n      </g>\n     </g>\n    </g>\n    <g id=\"xtick_3\">\n     <g id=\"line2d_3\">\n      <g>\n       <use xlink:href=\"#m3093cff50b\" x=\"178.01804\" y=\"224.64\" style=\"stroke: #000000; stroke-width: 0.8\"/>\n      </g>\n     </g>\n     <g id=\"text_3\">\n      <!-- −4 -->\n      <g transform=\"translate(170.646946 239.238438) scale(0.1 -0.1)\">\n       <defs>\n        <path id=\"DejaVuSans-34\" d=\"M 2419 4116 \nL 825 1625 \nL 2419 1625 \nL 2419 4116 \nz\nM 2253 4666 \nL 3047 4666 \nL 3047 1625 \nL 3713 1625 \nL 3713 1100 \nL 3047 1100 \nL 3047 0 \nL 2419 0 \nL 2419 1100 \nL 313 1100 \nL 313 1709 \nL 2253 4666 \nz\n\" transform=\"scale(0.015625)\"/>\n       </defs>\n       <use xlink:href=\"#DejaVuSans-2212\"/>\n       <use xlink:href=\"#DejaVuSans-34\" x=\"83.789062\"/>\n      </g>\n     </g>\n    </g>\n    <g id=\"xtick_4\">\n     <g id=\"line2d_4\">\n      <g>\n       <use xlink:href=\"#m3093cff50b\" x=\"228.745313\" y=\"224.64\" style=\"stroke: #000000; stroke-width: 0.8\"/>\n      </g>\n     </g>\n     <g id=\"text_4\">\n      <!-- −3 -->\n      <g transform=\"translate(221.374219 239.238438) scale(0.1 -0.1)\">\n       <defs>\n        <path id=\"DejaVuSans-33\" d=\"M 2597 2516 \nQ 3050 2419 3304 2112 \nQ 3559 1806 3559 1356 \nQ 3559 666 3084 287 \nQ 2609 -91 1734 -91 \nQ 1441 -91 1130 -33 \nQ 819 25 488 141 \nL 488 750 \nQ 750 597 1062 519 \nQ 1375 441 1716 441 \nQ 2309 441 2620 675 \nQ 2931 909 2931 1356 \nQ 2931 1769 2642 2001 \nQ 2353 2234 1838 2234 \nL 1294 2234 \nL 1294 2753 \nL 1863 2753 \nQ 2328 2753 2575 2939 \nQ 2822 3125 2822 3475 \nQ 2822 3834 2567 4026 \nQ 2313 4219 1838 4219 \nQ 1578 4219 1281 4162 \nQ 984 4106 628 3988 \nL 628 4550 \nQ 988 4650 1302 4700 \nQ 1616 4750 1894 4750 \nQ 2613 4750 3031 4423 \nQ 3450 4097 3450 3541 \nQ 3450 3153 3228 2886 \nQ 3006 2619 2597 2516 \nz\n\" transform=\"scale(0.015625)\"/>\n       </defs>\n       <use xlink:href=\"#DejaVuSans-2212\"/>\n       <use xlink:href=\"#DejaVuSans-33\" x=\"83.789062\"/>\n      </g>\n     </g>\n    </g>\n    <g id=\"xtick_5\">\n     <g id=\"line2d_5\">\n      <g>\n       <use xlink:href=\"#m3093cff50b\" x=\"279.472585\" y=\"224.64\" style=\"stroke: #000000; stroke-width: 0.8\"/>\n      </g>\n     </g>\n     <g id=\"text_5\">\n      <!-- −2 -->\n      <g transform=\"translate(272.101491 239.238438) scale(0.1 -0.1)\">\n       <defs>\n        <path id=\"DejaVuSans-32\" d=\"M 1228 531 \nL 3431 531 \nL 3431 0 \nL 469 0 \nL 469 531 \nQ 828 903 1448 1529 \nQ 2069 2156 2228 2338 \nQ 2531 2678 2651 2914 \nQ 2772 3150 2772 3378 \nQ 2772 3750 2511 3984 \nQ 2250 4219 1831 4219 \nQ 1534 4219 1204 4116 \nQ 875 4013 500 3803 \nL 500 4441 \nQ 881 4594 1212 4672 \nQ 1544 4750 1819 4750 \nQ 2544 4750 2975 4387 \nQ 3406 4025 3406 3419 \nQ 3406 3131 3298 2873 \nQ 3191 2616 2906 2266 \nQ 2828 2175 2409 1742 \nQ 1991 1309 1228 531 \nz\n\" transform=\"scale(0.015625)\"/>\n       </defs>\n       <use xlink:href=\"#DejaVuSans-2212\"/>\n       <use xlink:href=\"#DejaVuSans-32\" x=\"83.789062\"/>\n      </g>\n     </g>\n    </g>\n    <g id=\"xtick_6\">\n     <g id=\"line2d_6\">\n      <g>\n       <use xlink:href=\"#m3093cff50b\" x=\"330.199858\" y=\"224.64\" style=\"stroke: #000000; stroke-width: 0.8\"/>\n      </g>\n     </g>\n     <g id=\"text_6\">\n      <!-- −1 -->\n      <g transform=\"translate(322.828764 239.238438) scale(0.1 -0.1)\">\n       <defs>\n        <path id=\"DejaVuSans-31\" d=\"M 794 531 \nL 1825 531 \nL 1825 4091 \nL 703 3866 \nL 703 4441 \nL 1819 4666 \nL 2450 4666 \nL 2450 531 \nL 3481 531 \nL 3481 0 \nL 794 0 \nL 794 531 \nz\n\" transform=\"scale(0.015625)\"/>\n       </defs>\n       <use xlink:href=\"#DejaVuSans-2212\"/>\n       <use xlink:href=\"#DejaVuSans-31\" x=\"83.789062\"/>\n      </g>\n     </g>\n    </g>\n    <g id=\"xtick_7\">\n     <g id=\"line2d_7\">\n      <g>\n       <use xlink:href=\"#m3093cff50b\" x=\"380.927131\" y=\"224.64\" style=\"stroke: #000000; stroke-width: 0.8\"/>\n      </g>\n     </g>\n     <g id=\"text_7\">\n      <!-- 0 -->\n      <g transform=\"translate(377.745881 239.238438) scale(0.1 -0.1)\">\n       <defs>\n        <path id=\"DejaVuSans-30\" d=\"M 2034 4250 \nQ 1547 4250 1301 3770 \nQ 1056 3291 1056 2328 \nQ 1056 1369 1301 889 \nQ 1547 409 2034 409 \nQ 2525 409 2770 889 \nQ 3016 1369 3016 2328 \nQ 3016 3291 2770 3770 \nQ 2525 4250 2034 4250 \nz\nM 2034 4750 \nQ 2819 4750 3233 4129 \nQ 3647 3509 3647 2328 \nQ 3647 1150 3233 529 \nQ 2819 -91 2034 -91 \nQ 1250 -91 836 529 \nQ 422 1150 422 2328 \nQ 422 3509 836 4129 \nQ 1250 4750 2034 4750 \nz\n\" transform=\"scale(0.015625)\"/>\n       </defs>\n       <use xlink:href=\"#DejaVuSans-30\"/>\n      </g>\n     </g>\n    </g>\n    <g id=\"text_8\">\n     <!-- $\\log(\\lambda)$ -->\n     <g transform=\"translate(206.995312 256.718125) scale(0.15 -0.15)\">\n      <defs>\n       <path id=\"DejaVuSans-6c\" d=\"M 603 4863 \nL 1178 4863 \nL 1178 0 \nL 603 0 \nL 603 4863 \nz\n\" transform=\"scale(0.015625)\"/>\n       <path id=\"DejaVuSans-6f\" d=\"M 1959 3097 \nQ 1497 3097 1228 2736 \nQ 959 2375 959 1747 \nQ 959 1119 1226 758 \nQ 1494 397 1959 397 \nQ 2419 397 2687 759 \nQ 2956 1122 2956 1747 \nQ 2956 2369 2687 2733 \nQ 2419 3097 1959 3097 \nz\nM 1959 3584 \nQ 2709 3584 3137 3096 \nQ 3566 2609 3566 1747 \nQ 3566 888 3137 398 \nQ 2709 -91 1959 -91 \nQ 1206 -91 779 398 \nQ 353 888 353 1747 \nQ 353 2609 779 3096 \nQ 1206 3584 1959 3584 \nz\n\" transform=\"scale(0.015625)\"/>\n       <path id=\"DejaVuSans-67\" d=\"M 2906 1791 \nQ 2906 2416 2648 2759 \nQ 2391 3103 1925 3103 \nQ 1463 3103 1205 2759 \nQ 947 2416 947 1791 \nQ 947 1169 1205 825 \nQ 1463 481 1925 481 \nQ 2391 481 2648 825 \nQ 2906 1169 2906 1791 \nz\nM 3481 434 \nQ 3481 -459 3084 -895 \nQ 2688 -1331 1869 -1331 \nQ 1566 -1331 1297 -1286 \nQ 1028 -1241 775 -1147 \nL 775 -588 \nQ 1028 -725 1275 -790 \nQ 1522 -856 1778 -856 \nQ 2344 -856 2625 -561 \nQ 2906 -266 2906 331 \nL 2906 616 \nQ 2728 306 2450 153 \nQ 2172 0 1784 0 \nQ 1141 0 747 490 \nQ 353 981 353 1791 \nQ 353 2603 747 3093 \nQ 1141 3584 1784 3584 \nQ 2172 3584 2450 3431 \nQ 2728 3278 2906 2969 \nL 2906 3500 \nL 3481 3500 \nL 3481 434 \nz\n\" transform=\"scale(0.015625)\"/>\n       <path id=\"DejaVuSans-28\" d=\"M 1984 4856 \nQ 1566 4138 1362 3434 \nQ 1159 2731 1159 2009 \nQ 1159 1288 1364 580 \nQ 1569 -128 1984 -844 \nL 1484 -844 \nQ 1016 -109 783 600 \nQ 550 1309 550 2009 \nQ 550 2706 781 3412 \nQ 1013 4119 1484 4856 \nL 1984 4856 \nz\n\" transform=\"scale(0.015625)\"/>\n       <path id=\"DejaVuSans-Oblique-3bb\" d=\"M 2350 4316 \nL 3125 0 \nL 2516 0 \nL 2038 2588 \nL 328 0 \nL -281 0 \nL 1903 3356 \nL 1794 3975 \nQ 1725 4369 1391 4369 \nL 1091 4369 \nL 1184 4863 \nL 1550 4856 \nQ 2253 4847 2350 4316 \nz\n\" transform=\"scale(0.015625)\"/>\n       <path id=\"DejaVuSans-29\" d=\"M 513 4856 \nL 1013 4856 \nQ 1481 4119 1714 3412 \nQ 1947 2706 1947 2009 \nQ 1947 1309 1714 600 \nQ 1481 -109 1013 -844 \nL 513 -844 \nQ 928 -128 1133 580 \nQ 1338 1288 1338 2009 \nQ 1338 2731 1133 3434 \nQ 928 4138 513 4856 \nz\n\" transform=\"scale(0.015625)\"/>\n      </defs>\n      <use xlink:href=\"#DejaVuSans-6c\" transform=\"translate(0 0.015625)\"/>\n      <use xlink:href=\"#DejaVuSans-6f\" transform=\"translate(27.783203 0.015625)\"/>\n      <use xlink:href=\"#DejaVuSans-67\" transform=\"translate(88.964844 0.015625)\"/>\n      <use xlink:href=\"#DejaVuSans-28\" transform=\"translate(152.441406 0.015625)\"/>\n      <use xlink:href=\"#DejaVuSans-Oblique-3bb\" transform=\"translate(191.455078 0.015625)\"/>\n      <use xlink:href=\"#DejaVuSans-29\" transform=\"translate(250.634766 0.015625)\"/>\n     </g>\n    </g>\n   </g>\n   <g id=\"matplotlib.axis_2\">\n    <g id=\"ytick_1\">\n     <g id=\"line2d_8\">\n      <defs>\n       <path id=\"m86b30cef26\" d=\"M 0 0 \nL -3.5 0 \n\" style=\"stroke: #000000; stroke-width: 0.8\"/>\n      </defs>\n      <g>\n       <use xlink:href=\"#m86b30cef26\" x=\"61.345313\" y=\"208.427353\" style=\"stroke: #000000; stroke-width: 0.8\"/>\n      </g>\n     </g>\n     <g id=\"text_9\">\n      <!-- 2.280 -->\n      <g transform=\"translate(25.717188 212.226572) scale(0.1 -0.1)\">\n       <defs>\n        <path id=\"DejaVuSans-2e\" d=\"M 684 794 \nL 1344 794 \nL 1344 0 \nL 684 0 \nL 684 794 \nz\n\" transform=\"scale(0.015625)\"/>\n        <path id=\"DejaVuSans-38\" d=\"M 2034 2216 \nQ 1584 2216 1326 1975 \nQ 1069 1734 1069 1313 \nQ 1069 891 1326 650 \nQ 1584 409 2034 409 \nQ 2484 409 2743 651 \nQ 3003 894 3003 1313 \nQ 3003 1734 2745 1975 \nQ 2488 2216 2034 2216 \nz\nM 1403 2484 \nQ 997 2584 770 2862 \nQ 544 3141 544 3541 \nQ 544 4100 942 4425 \nQ 1341 4750 2034 4750 \nQ 2731 4750 3128 4425 \nQ 3525 4100 3525 3541 \nQ 3525 3141 3298 2862 \nQ 3072 2584 2669 2484 \nQ 3125 2378 3379 2068 \nQ 3634 1759 3634 1313 \nQ 3634 634 3220 271 \nQ 2806 -91 2034 -91 \nQ 1263 -91 848 271 \nQ 434 634 434 1313 \nQ 434 1759 690 2068 \nQ 947 2378 1403 2484 \nz\nM 1172 3481 \nQ 1172 3119 1398 2916 \nQ 1625 2713 2034 2713 \nQ 2441 2713 2670 2916 \nQ 2900 3119 2900 3481 \nQ 2900 3844 2670 4047 \nQ 2441 4250 2034 4250 \nQ 1625 4250 1398 4047 \nQ 1172 3844 1172 3481 \nz\n\" transform=\"scale(0.015625)\"/>\n       </defs>\n       <use xlink:href=\"#DejaVuSans-32\"/>\n       <use xlink:href=\"#DejaVuSans-2e\" x=\"63.623047\"/>\n       <use xlink:href=\"#DejaVuSans-32\" x=\"95.410156\"/>\n       <use xlink:href=\"#DejaVuSans-38\" x=\"159.033203\"/>\n       <use xlink:href=\"#DejaVuSans-30\" x=\"222.65625\"/>\n      </g>\n     </g>\n    </g>\n    <g id=\"ytick_2\">\n     <g id=\"line2d_9\">\n      <g>\n       <use xlink:href=\"#m86b30cef26\" x=\"61.345313\" y=\"175.895595\" style=\"stroke: #000000; stroke-width: 0.8\"/>\n      </g>\n     </g>\n     <g id=\"text_10\">\n      <!-- 2.285 -->\n      <g transform=\"translate(25.717188 179.694814) scale(0.1 -0.1)\">\n       <use xlink:href=\"#DejaVuSans-32\"/>\n       <use xlink:href=\"#DejaVuSans-2e\" x=\"63.623047\"/>\n       <use xlink:href=\"#DejaVuSans-32\" x=\"95.410156\"/>\n       <use xlink:href=\"#DejaVuSans-38\" x=\"159.033203\"/>\n       <use xlink:href=\"#DejaVuSans-35\" x=\"222.65625\"/>\n      </g>\n     </g>\n    </g>\n    <g id=\"ytick_3\">\n     <g id=\"line2d_10\">\n      <g>\n       <use xlink:href=\"#m86b30cef26\" x=\"61.345313\" y=\"143.363838\" style=\"stroke: #000000; stroke-width: 0.8\"/>\n      </g>\n     </g>\n     <g id=\"text_11\">\n      <!-- 2.290 -->\n      <g transform=\"translate(25.717188 147.163057) scale(0.1 -0.1)\">\n       <defs>\n        <path id=\"DejaVuSans-39\" d=\"M 703 97 \nL 703 672 \nQ 941 559 1184 500 \nQ 1428 441 1663 441 \nQ 2288 441 2617 861 \nQ 2947 1281 2994 2138 \nQ 2813 1869 2534 1725 \nQ 2256 1581 1919 1581 \nQ 1219 1581 811 2004 \nQ 403 2428 403 3163 \nQ 403 3881 828 4315 \nQ 1253 4750 1959 4750 \nQ 2769 4750 3195 4129 \nQ 3622 3509 3622 2328 \nQ 3622 1225 3098 567 \nQ 2575 -91 1691 -91 \nQ 1453 -91 1209 -44 \nQ 966 3 703 97 \nz\nM 1959 2075 \nQ 2384 2075 2632 2365 \nQ 2881 2656 2881 3163 \nQ 2881 3666 2632 3958 \nQ 2384 4250 1959 4250 \nQ 1534 4250 1286 3958 \nQ 1038 3666 1038 3163 \nQ 1038 2656 1286 2365 \nQ 1534 2075 1959 2075 \nz\n\" transform=\"scale(0.015625)\"/>\n       </defs>\n       <use xlink:href=\"#DejaVuSans-32\"/>\n       <use xlink:href=\"#DejaVuSans-2e\" x=\"63.623047\"/>\n       <use xlink:href=\"#DejaVuSans-32\" x=\"95.410156\"/>\n       <use xlink:href=\"#DejaVuSans-39\" x=\"159.033203\"/>\n       <use xlink:href=\"#DejaVuSans-30\" x=\"222.65625\"/>\n      </g>\n     </g>\n    </g>\n    <g id=\"ytick_4\">\n     <g id=\"line2d_11\">\n      <g>\n       <use xlink:href=\"#m86b30cef26\" x=\"61.345313\" y=\"110.832081\" style=\"stroke: #000000; stroke-width: 0.8\"/>\n      </g>\n     </g>\n     <g id=\"text_12\">\n      <!-- 2.295 -->\n      <g transform=\"translate(25.717188 114.631299) scale(0.1 -0.1)\">\n       <use xlink:href=\"#DejaVuSans-32\"/>\n       <use xlink:href=\"#DejaVuSans-2e\" x=\"63.623047\"/>\n       <use xlink:href=\"#DejaVuSans-32\" x=\"95.410156\"/>\n       <use xlink:href=\"#DejaVuSans-39\" x=\"159.033203\"/>\n       <use xlink:href=\"#DejaVuSans-35\" x=\"222.65625\"/>\n      </g>\n     </g>\n    </g>\n    <g id=\"ytick_5\">\n     <g id=\"line2d_12\">\n      <g>\n       <use xlink:href=\"#m86b30cef26\" x=\"61.345313\" y=\"78.300323\" style=\"stroke: #000000; stroke-width: 0.8\"/>\n      </g>\n     </g>\n     <g id=\"text_13\">\n      <!-- 2.300 -->\n      <g transform=\"translate(25.717188 82.099542) scale(0.1 -0.1)\">\n       <use xlink:href=\"#DejaVuSans-32\"/>\n       <use xlink:href=\"#DejaVuSans-2e\" x=\"63.623047\"/>\n       <use xlink:href=\"#DejaVuSans-33\" x=\"95.410156\"/>\n       <use xlink:href=\"#DejaVuSans-30\" x=\"159.033203\"/>\n       <use xlink:href=\"#DejaVuSans-30\" x=\"222.65625\"/>\n      </g>\n     </g>\n    </g>\n    <g id=\"ytick_6\">\n     <g id=\"line2d_13\">\n      <g>\n       <use xlink:href=\"#m86b30cef26\" x=\"61.345313\" y=\"45.768566\" style=\"stroke: #000000; stroke-width: 0.8\"/>\n      </g>\n     </g>\n     <g id=\"text_14\">\n      <!-- 2.305 -->\n      <g transform=\"translate(25.717188 49.567785) scale(0.1 -0.1)\">\n       <use xlink:href=\"#DejaVuSans-32\"/>\n       <use xlink:href=\"#DejaVuSans-2e\" x=\"63.623047\"/>\n       <use xlink:href=\"#DejaVuSans-33\" x=\"95.410156\"/>\n       <use xlink:href=\"#DejaVuSans-30\" x=\"159.033203\"/>\n       <use xlink:href=\"#DejaVuSans-35\" x=\"222.65625\"/>\n      </g>\n     </g>\n    </g>\n    <g id=\"ytick_7\">\n     <g id=\"line2d_14\">\n      <g>\n       <use xlink:href=\"#m86b30cef26\" x=\"61.345313\" y=\"13.236808\" style=\"stroke: #000000; stroke-width: 0.8\"/>\n      </g>\n     </g>\n     <g id=\"text_15\">\n      <!-- 2.310 -->\n      <g transform=\"translate(25.717188 17.036027) scale(0.1 -0.1)\">\n       <use xlink:href=\"#DejaVuSans-32\"/>\n       <use xlink:href=\"#DejaVuSans-2e\" x=\"63.623047\"/>\n       <use xlink:href=\"#DejaVuSans-33\" x=\"95.410156\"/>\n       <use xlink:href=\"#DejaVuSans-31\" x=\"159.033203\"/>\n       <use xlink:href=\"#DejaVuSans-30\" x=\"222.65625\"/>\n      </g>\n     </g>\n    </g>\n    <g id=\"text_16\">\n     <!-- RMSE (validation) -->\n     <g transform=\"translate(18.597656 182.264531) rotate(-90) scale(0.15 -0.15)\">\n      <defs>\n       <path id=\"DejaVuSans-52\" d=\"M 2841 2188 \nQ 3044 2119 3236 1894 \nQ 3428 1669 3622 1275 \nL 4263 0 \nL 3584 0 \nL 2988 1197 \nQ 2756 1666 2539 1819 \nQ 2322 1972 1947 1972 \nL 1259 1972 \nL 1259 0 \nL 628 0 \nL 628 4666 \nL 2053 4666 \nQ 2853 4666 3247 4331 \nQ 3641 3997 3641 3322 \nQ 3641 2881 3436 2590 \nQ 3231 2300 2841 2188 \nz\nM 1259 4147 \nL 1259 2491 \nL 2053 2491 \nQ 2509 2491 2742 2702 \nQ 2975 2913 2975 3322 \nQ 2975 3731 2742 3939 \nQ 2509 4147 2053 4147 \nL 1259 4147 \nz\n\" transform=\"scale(0.015625)\"/>\n       <path id=\"DejaVuSans-4d\" d=\"M 628 4666 \nL 1569 4666 \nL 2759 1491 \nL 3956 4666 \nL 4897 4666 \nL 4897 0 \nL 4281 0 \nL 4281 4097 \nL 3078 897 \nL 2444 897 \nL 1241 4097 \nL 1241 0 \nL 628 0 \nL 628 4666 \nz\n\" transform=\"scale(0.015625)\"/>\n       <path id=\"DejaVuSans-53\" d=\"M 3425 4513 \nL 3425 3897 \nQ 3066 4069 2747 4153 \nQ 2428 4238 2131 4238 \nQ 1616 4238 1336 4038 \nQ 1056 3838 1056 3469 \nQ 1056 3159 1242 3001 \nQ 1428 2844 1947 2747 \nL 2328 2669 \nQ 3034 2534 3370 2195 \nQ 3706 1856 3706 1288 \nQ 3706 609 3251 259 \nQ 2797 -91 1919 -91 \nQ 1588 -91 1214 -16 \nQ 841 59 441 206 \nL 441 856 \nQ 825 641 1194 531 \nQ 1563 422 1919 422 \nQ 2459 422 2753 634 \nQ 3047 847 3047 1241 \nQ 3047 1584 2836 1778 \nQ 2625 1972 2144 2069 \nL 1759 2144 \nQ 1053 2284 737 2584 \nQ 422 2884 422 3419 \nQ 422 4038 858 4394 \nQ 1294 4750 2059 4750 \nQ 2388 4750 2728 4690 \nQ 3069 4631 3425 4513 \nz\n\" transform=\"scale(0.015625)\"/>\n       <path id=\"DejaVuSans-45\" d=\"M 628 4666 \nL 3578 4666 \nL 3578 4134 \nL 1259 4134 \nL 1259 2753 \nL 3481 2753 \nL 3481 2222 \nL 1259 2222 \nL 1259 531 \nL 3634 531 \nL 3634 0 \nL 628 0 \nL 628 4666 \nz\n\" transform=\"scale(0.015625)\"/>\n       <path id=\"DejaVuSans-20\" transform=\"scale(0.015625)\"/>\n       <path id=\"DejaVuSans-76\" d=\"M 191 3500 \nL 800 3500 \nL 1894 563 \nL 2988 3500 \nL 3597 3500 \nL 2284 0 \nL 1503 0 \nL 191 3500 \nz\n\" transform=\"scale(0.015625)\"/>\n       <path id=\"DejaVuSans-61\" d=\"M 2194 1759 \nQ 1497 1759 1228 1600 \nQ 959 1441 959 1056 \nQ 959 750 1161 570 \nQ 1363 391 1709 391 \nQ 2188 391 2477 730 \nQ 2766 1069 2766 1631 \nL 2766 1759 \nL 2194 1759 \nz\nM 3341 1997 \nL 3341 0 \nL 2766 0 \nL 2766 531 \nQ 2569 213 2275 61 \nQ 1981 -91 1556 -91 \nQ 1019 -91 701 211 \nQ 384 513 384 1019 \nQ 384 1609 779 1909 \nQ 1175 2209 1959 2209 \nL 2766 2209 \nL 2766 2266 \nQ 2766 2663 2505 2880 \nQ 2244 3097 1772 3097 \nQ 1472 3097 1187 3025 \nQ 903 2953 641 2809 \nL 641 3341 \nQ 956 3463 1253 3523 \nQ 1550 3584 1831 3584 \nQ 2591 3584 2966 3190 \nQ 3341 2797 3341 1997 \nz\n\" transform=\"scale(0.015625)\"/>\n       <path id=\"DejaVuSans-69\" d=\"M 603 3500 \nL 1178 3500 \nL 1178 0 \nL 603 0 \nL 603 3500 \nz\nM 603 4863 \nL 1178 4863 \nL 1178 4134 \nL 603 4134 \nL 603 4863 \nz\n\" transform=\"scale(0.015625)\"/>\n       <path id=\"DejaVuSans-64\" d=\"M 2906 2969 \nL 2906 4863 \nL 3481 4863 \nL 3481 0 \nL 2906 0 \nL 2906 525 \nQ 2725 213 2448 61 \nQ 2172 -91 1784 -91 \nQ 1150 -91 751 415 \nQ 353 922 353 1747 \nQ 353 2572 751 3078 \nQ 1150 3584 1784 3584 \nQ 2172 3584 2448 3432 \nQ 2725 3281 2906 2969 \nz\nM 947 1747 \nQ 947 1113 1208 752 \nQ 1469 391 1925 391 \nQ 2381 391 2643 752 \nQ 2906 1113 2906 1747 \nQ 2906 2381 2643 2742 \nQ 2381 3103 1925 3103 \nQ 1469 3103 1208 2742 \nQ 947 2381 947 1747 \nz\n\" transform=\"scale(0.015625)\"/>\n       <path id=\"DejaVuSans-74\" d=\"M 1172 4494 \nL 1172 3500 \nL 2356 3500 \nL 2356 3053 \nL 1172 3053 \nL 1172 1153 \nQ 1172 725 1289 603 \nQ 1406 481 1766 481 \nL 2356 481 \nL 2356 0 \nL 1766 0 \nQ 1100 0 847 248 \nQ 594 497 594 1153 \nL 594 3053 \nL 172 3053 \nL 172 3500 \nL 594 3500 \nL 594 4494 \nL 1172 4494 \nz\n\" transform=\"scale(0.015625)\"/>\n       <path id=\"DejaVuSans-6e\" d=\"M 3513 2113 \nL 3513 0 \nL 2938 0 \nL 2938 2094 \nQ 2938 2591 2744 2837 \nQ 2550 3084 2163 3084 \nQ 1697 3084 1428 2787 \nQ 1159 2491 1159 1978 \nL 1159 0 \nL 581 0 \nL 581 3500 \nL 1159 3500 \nL 1159 2956 \nQ 1366 3272 1645 3428 \nQ 1925 3584 2291 3584 \nQ 2894 3584 3203 3211 \nQ 3513 2838 3513 2113 \nz\n\" transform=\"scale(0.015625)\"/>\n      </defs>\n      <use xlink:href=\"#DejaVuSans-52\"/>\n      <use xlink:href=\"#DejaVuSans-4d\" x=\"69.482422\"/>\n      <use xlink:href=\"#DejaVuSans-53\" x=\"155.761719\"/>\n      <use xlink:href=\"#DejaVuSans-45\" x=\"219.238281\"/>\n      <use xlink:href=\"#DejaVuSans-20\" x=\"282.421875\"/>\n      <use xlink:href=\"#DejaVuSans-28\" x=\"314.208984\"/>\n      <use xlink:href=\"#DejaVuSans-76\" x=\"353.222656\"/>\n      <use xlink:href=\"#DejaVuSans-61\" x=\"412.402344\"/>\n      <use xlink:href=\"#DejaVuSans-6c\" x=\"473.681641\"/>\n      <use xlink:href=\"#DejaVuSans-69\" x=\"501.464844\"/>\n      <use xlink:href=\"#DejaVuSans-64\" x=\"529.248047\"/>\n      <use xlink:href=\"#DejaVuSans-61\" x=\"592.724609\"/>\n      <use xlink:href=\"#DejaVuSans-74\" x=\"654.003906\"/>\n      <use xlink:href=\"#DejaVuSans-69\" x=\"693.212891\"/>\n      <use xlink:href=\"#DejaVuSans-6f\" x=\"720.996094\"/>\n      <use xlink:href=\"#DejaVuSans-6e\" x=\"782.177734\"/>\n      <use xlink:href=\"#DejaVuSans-29\" x=\"845.556641\"/>\n     </g>\n    </g>\n   </g>\n   <g id=\"line2d_15\">\n    <path d=\"M 76.563494 149.625799 \nL 110.381676 17.083636 \nL 144.199858 122.686162 \nL 178.01804 214.756364 \nL 211.836222 154.311482 \nL 245.654403 179.936089 \nL 279.472585 179.609329 \nL 313.290767 191.208143 \nL 347.108949 189.320873 \nL 380.927131 186.546358 \n\" clip-path=\"url(#pce1246bdf2)\" style=\"fill: none; stroke: #1f77b4; stroke-width: 1.5; stroke-linecap: square\"/>\n    <defs>\n     <path id=\"m9e956c0703\" d=\"M 0 4 \nC 1.060812 4 2.078319 3.578535 2.828427 2.828427 \nC 3.578535 2.078319 4 1.060812 4 0 \nC 4 -1.060812 3.578535 -2.078319 2.828427 -2.828427 \nC 2.078319 -3.578535 1.060812 -4 0 -4 \nC -1.060812 -4 -2.078319 -3.578535 -2.828427 -2.828427 \nC -3.578535 -2.078319 -4 -1.060812 -4 0 \nC -4 1.060812 -3.578535 2.078319 -2.828427 2.828427 \nC -2.078319 3.578535 -1.060812 4 0 4 \nz\n\" style=\"stroke: #1f77b4\"/>\n    </defs>\n    <g clip-path=\"url(#pce1246bdf2)\">\n     <use xlink:href=\"#m9e956c0703\" x=\"76.563494\" y=\"149.625799\" style=\"fill: #1f77b4; stroke: #1f77b4\"/>\n     <use xlink:href=\"#m9e956c0703\" x=\"110.381676\" y=\"17.083636\" style=\"fill: #1f77b4; stroke: #1f77b4\"/>\n     <use xlink:href=\"#m9e956c0703\" x=\"144.199858\" y=\"122.686162\" style=\"fill: #1f77b4; stroke: #1f77b4\"/>\n     <use xlink:href=\"#m9e956c0703\" x=\"178.01804\" y=\"214.756364\" style=\"fill: #1f77b4; stroke: #1f77b4\"/>\n     <use xlink:href=\"#m9e956c0703\" x=\"211.836222\" y=\"154.311482\" style=\"fill: #1f77b4; stroke: #1f77b4\"/>\n     <use xlink:href=\"#m9e956c0703\" x=\"245.654403\" y=\"179.936089\" style=\"fill: #1f77b4; stroke: #1f77b4\"/>\n     <use xlink:href=\"#m9e956c0703\" x=\"279.472585\" y=\"179.609329\" style=\"fill: #1f77b4; stroke: #1f77b4\"/>\n     <use xlink:href=\"#m9e956c0703\" x=\"313.290767\" y=\"191.208143\" style=\"fill: #1f77b4; stroke: #1f77b4\"/>\n     <use xlink:href=\"#m9e956c0703\" x=\"347.108949\" y=\"189.320873\" style=\"fill: #1f77b4; stroke: #1f77b4\"/>\n     <use xlink:href=\"#m9e956c0703\" x=\"380.927131\" y=\"186.546358\" style=\"fill: #1f77b4; stroke: #1f77b4\"/>\n    </g>\n   </g>\n   <g id=\"patch_3\">\n    <path d=\"M 61.345313 224.64 \nL 61.345313 7.2 \n\" style=\"fill: none; stroke: #000000; stroke-width: 0.8; stroke-linejoin: miter; stroke-linecap: square\"/>\n   </g>\n   <g id=\"patch_4\">\n    <path d=\"M 396.145312 224.64 \nL 396.145312 7.2 \n\" style=\"fill: none; stroke: #000000; stroke-width: 0.8; stroke-linejoin: miter; stroke-linecap: square\"/>\n   </g>\n   <g id=\"patch_5\">\n    <path d=\"M 61.345313 224.64 \nL 396.145313 224.64 \n\" style=\"fill: none; stroke: #000000; stroke-width: 0.8; stroke-linejoin: miter; stroke-linecap: square\"/>\n   </g>\n   <g id=\"patch_6\">\n    <path d=\"M 61.345313 7.2 \nL 396.145313 7.2 \n\" style=\"fill: none; stroke: #000000; stroke-width: 0.8; stroke-linejoin: miter; stroke-linecap: square\"/>\n   </g>\n  </g>\n </g>\n <defs>\n  <clipPath id=\"pce1246bdf2\">\n   <rect x=\"61.345313\" y=\"7.2\" width=\"334.8\" height=\"217.44\"/>\n  </clipPath>\n </defs>\n</svg>\n",
      "text/plain": [
       "<Figure size 432x288 with 1 Axes>"
      ]
     },
     "metadata": {
      "needs_background": "light"
     },
     "output_type": "display_data"
    }
   ],
   "source": [
    "plt.figure(0)\n",
    "plt.plot(np.log(l_),rmse_,ms=8,marker='o')\n",
    "\n",
    "lambda_ticks = [r'$0$', r'$10^{-4}$', r'$10^{-3}$',\n",
    "                r'$10^{-2}$', r'$10^{-1}$', r'$10^{1}$']\n",
    "# plt.xticks(np.arange(len(l_)),lambda_ticks)\n",
    "plt.ylabel('RMSE (validation)',fontsize=15)\n",
    "plt.xlabel(r'$\\log(\\lambda)$',fontsize=15)\n",
    "# plt.xlim(-0.1,1.1)"
   ]
  },
  {
   "attachments": {},
   "cell_type": "markdown",
   "metadata": {},
   "source": [
    "## K-fold cross validation\n",
    "![k-fold]([Figures/](https://raw.github.com/RodrigoAVargasHdz/CHEM-4PB3/master/Course_Notes/Figures/grid_search_cross_validation.png))"
   ]
  },
  {
   "cell_type": "code",
   "execution_count": 59,
   "metadata": {},
   "outputs": [
    {
     "name": "stdout",
     "output_type": "stream",
     "text": [
      "[[  7.8   -4.4    3.4  371.93 190.94 180.42 543.67]\n",
      " [  7.64  -5.16   2.48 357.09 125.24 170.62 451.57]\n",
      " [  8.96  -4.33   4.64 388.84 162.14 153.06 528.66]\n",
      " [  8.6   -4.4    4.21 392.64 192.25 193.75 571.68]\n",
      " [  8.32  -3.9    4.42 459.19 173.13 207.05 584.77]\n",
      " [  7.8   -3.2    4.59 431.91 183.17 207.05 570.74]\n",
      " [  7.66  -4.87   2.8  216.91 165.91  57.94 348.45]\n",
      " [  8.96  -5.05   3.92 229.85 190.42  57.94 398.51]\n",
      " [  8.92  -4.27   4.64 372.19 182.88 129.92 525.7 ]\n",
      " [  6.52  -4.11   2.41 356.72 158.66 147.38 477.61]\n",
      " [  8.03  -4.56   3.47 271.84 180.67  85.44 428.54]\n",
      " [  7.85  -4.03   3.82 411.65 173.42 174.88 557.7 ]] [3.74 2.99 3.87 4.66 5.03 4.73 4.33 5.55 5.69 3.72 5.58 4.69] [[ 10.01  -4.93   5.08 369.66 183.17 147.38 527.67]\n",
      " [  5.92  -5.07   0.85 204.59 125.31  81.18 306.8 ]\n",
      " [ 10.01  -5.19   4.82 342.38 193.22 147.38 513.64]\n",
      " [  8.23  -4.81   3.42 315.11 193.22 147.38 499.61]] [4.94 2.97 4.64 4.29]\n",
      "[[ 10.01  -4.93   5.08 369.66 183.17 147.38 527.67]\n",
      " [  5.92  -5.07   0.85 204.59 125.31  81.18 306.8 ]\n",
      " [ 10.01  -5.19   4.82 342.38 193.22 147.38 513.64]\n",
      " [  8.23  -4.81   3.42 315.11 193.22 147.38 499.61]\n",
      " [  8.6   -4.4    4.21 392.64 192.25 193.75 571.68]\n",
      " [  8.32  -3.9    4.42 459.19 173.13 207.05 584.77]\n",
      " [  7.8   -3.2    4.59 431.91 183.17 207.05 570.74]\n",
      " [  7.66  -4.87   2.8  216.91 165.91  57.94 348.45]\n",
      " [  8.96  -5.05   3.92 229.85 190.42  57.94 398.51]\n",
      " [  8.92  -4.27   4.64 372.19 182.88 129.92 525.7 ]\n",
      " [  6.52  -4.11   2.41 356.72 158.66 147.38 477.61]\n",
      " [  8.03  -4.56   3.47 271.84 180.67  85.44 428.54]\n",
      " [  7.85  -4.03   3.82 411.65 173.42 174.88 557.7 ]] [4.94 2.97 4.64 4.29 4.66 5.03 4.73 4.33 5.55 5.69 3.72 5.58 4.69] [[  7.8   -4.4    3.4  371.93 190.94 180.42 543.67]\n",
      " [  7.64  -5.16   2.48 357.09 125.24 170.62 451.57]\n",
      " [  8.96  -4.33   4.64 388.84 162.14 153.06 528.66]] [3.74 2.99 3.87]\n",
      "[[ 10.01  -4.93   5.08 369.66 183.17 147.38 527.67]\n",
      " [  5.92  -5.07   0.85 204.59 125.31  81.18 306.8 ]\n",
      " [ 10.01  -5.19   4.82 342.38 193.22 147.38 513.64]\n",
      " [  8.23  -4.81   3.42 315.11 193.22 147.38 499.61]\n",
      " [  7.8   -4.4    3.4  371.93 190.94 180.42 543.67]\n",
      " [  7.64  -5.16   2.48 357.09 125.24 170.62 451.57]\n",
      " [  8.96  -4.33   4.64 388.84 162.14 153.06 528.66]\n",
      " [  7.66  -4.87   2.8  216.91 165.91  57.94 348.45]\n",
      " [  8.96  -5.05   3.92 229.85 190.42  57.94 398.51]\n",
      " [  8.92  -4.27   4.64 372.19 182.88 129.92 525.7 ]\n",
      " [  6.52  -4.11   2.41 356.72 158.66 147.38 477.61]\n",
      " [  8.03  -4.56   3.47 271.84 180.67  85.44 428.54]\n",
      " [  7.85  -4.03   3.82 411.65 173.42 174.88 557.7 ]] [4.94 2.97 4.64 4.29 3.74 2.99 3.87 4.33 5.55 5.69 3.72 5.58 4.69] [[  8.6   -4.4    4.21 392.64 192.25 193.75 571.68]\n",
      " [  8.32  -3.9    4.42 459.19 173.13 207.05 584.77]\n",
      " [  7.8   -3.2    4.59 431.91 183.17 207.05 570.74]] [4.66 5.03 4.73]\n",
      "[[ 10.01  -4.93   5.08 369.66 183.17 147.38 527.67]\n",
      " [  5.92  -5.07   0.85 204.59 125.31  81.18 306.8 ]\n",
      " [ 10.01  -5.19   4.82 342.38 193.22 147.38 513.64]\n",
      " [  8.23  -4.81   3.42 315.11 193.22 147.38 499.61]\n",
      " [  7.8   -4.4    3.4  371.93 190.94 180.42 543.67]\n",
      " [  7.64  -5.16   2.48 357.09 125.24 170.62 451.57]\n",
      " [  8.96  -4.33   4.64 388.84 162.14 153.06 528.66]\n",
      " [  8.6   -4.4    4.21 392.64 192.25 193.75 571.68]\n",
      " [  8.32  -3.9    4.42 459.19 173.13 207.05 584.77]\n",
      " [  7.8   -3.2    4.59 431.91 183.17 207.05 570.74]\n",
      " [  6.52  -4.11   2.41 356.72 158.66 147.38 477.61]\n",
      " [  8.03  -4.56   3.47 271.84 180.67  85.44 428.54]\n",
      " [  7.85  -4.03   3.82 411.65 173.42 174.88 557.7 ]] [4.94 2.97 4.64 4.29 3.74 2.99 3.87 4.66 5.03 4.73 3.72 5.58 4.69] [[  7.66  -4.87   2.8  216.91 165.91  57.94 348.45]\n",
      " [  8.96  -5.05   3.92 229.85 190.42  57.94 398.51]\n",
      " [  8.92  -4.27   4.64 372.19 182.88 129.92 525.7 ]] [4.33 5.55 5.69]\n",
      "[[ 10.01  -4.93   5.08 369.66 183.17 147.38 527.67]\n",
      " [  5.92  -5.07   0.85 204.59 125.31  81.18 306.8 ]\n",
      " [ 10.01  -5.19   4.82 342.38 193.22 147.38 513.64]\n",
      " [  8.23  -4.81   3.42 315.11 193.22 147.38 499.61]\n",
      " [  7.8   -4.4    3.4  371.93 190.94 180.42 543.67]\n",
      " [  7.64  -5.16   2.48 357.09 125.24 170.62 451.57]\n",
      " [  8.96  -4.33   4.64 388.84 162.14 153.06 528.66]\n",
      " [  8.6   -4.4    4.21 392.64 192.25 193.75 571.68]\n",
      " [  8.32  -3.9    4.42 459.19 173.13 207.05 584.77]\n",
      " [  7.8   -3.2    4.59 431.91 183.17 207.05 570.74]\n",
      " [  7.66  -4.87   2.8  216.91 165.91  57.94 348.45]\n",
      " [  8.96  -5.05   3.92 229.85 190.42  57.94 398.51]\n",
      " [  8.92  -4.27   4.64 372.19 182.88 129.92 525.7 ]] [4.94 2.97 4.64 4.29 3.74 2.99 3.87 4.66 5.03 4.73 4.33 5.55 5.69] [[  6.52  -4.11   2.41 356.72 158.66 147.38 477.61]\n",
      " [  8.03  -4.56   3.47 271.84 180.67  85.44 428.54]\n",
      " [  7.85  -4.03   3.82 411.65 173.42 174.88 557.7 ]] [3.72 5.58 4.69]\n"
     ]
    }
   ],
   "source": [
    "kf = KFold(n_splits=5)\n",
    "for train, val in kf.split(X):\n",
    "    X_train, y_train = X[train],y[train]\n",
    "    X_val, y_val = X[val],y[val]\n",
    "    "
   ]
  },
  {
   "cell_type": "code",
   "execution_count": null,
   "metadata": {},
   "outputs": [],
   "source": []
  }
 ],
 "metadata": {
  "kernelspec": {
   "display_name": "chem4pb3",
   "language": "python",
   "name": "python3"
  },
  "language_info": {
   "codemirror_mode": {
    "name": "ipython",
    "version": 3
   },
   "file_extension": ".py",
   "mimetype": "text/x-python",
   "name": "python",
   "nbconvert_exporter": "python",
   "pygments_lexer": "ipython3",
   "version": "3.9.15"
  },
  "orig_nbformat": 4,
  "vscode": {
   "interpreter": {
    "hash": "3bd1d19d093f1d1d5dd6cf1becc7a1cffecc3235fce6b74420ac04427a66c9c5"
   }
  }
 },
 "nbformat": 4,
 "nbformat_minor": 2
}
