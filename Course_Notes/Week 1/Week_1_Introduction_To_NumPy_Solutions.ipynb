{
  "cells": [
    {
      "cell_type": "markdown",
      "metadata": {
        "id": "wFQowB14TVQX"
      },
      "source": [
        "[![Open In Colab](https://colab.research.google.com/assets/colab-badge.svg)](https://colab.research.google.com/github/RodrigoAVargasHdz/CHEM-4PB3/blob/Volume-2/Volume%202%20Content/Week%201/Week_1_Introduction_To_NumPy_Solutions.ipynb)\n",
        "\n",
        "# **Week 1 - Introduction To NumPy - Solutions**\n",
        "\n",
        "### **Solutions - Setting up Data**"
      ]
    },
    {
      "cell_type": "code",
      "execution_count": null,
      "metadata": {
        "id": "-0lKbpQYVFPG"
      },
      "outputs": [],
      "source": [
        "# Importing necessary libraries\n",
        "import numpy as np\n",
        "import pandas as pd\n",
        "\n",
        "# URL containing the solubility data\n",
        "data_url = \"https://github.com/RodrigoAVargasHdz/CHEM-4PB3/raw/main/Course_Notes/data/solubility.csv\"\n",
        "\n",
        "# Reading the data and converting the Solubility column to a NumPy array\n",
        "data = pd.read_csv(data_url)\n",
        "solubility = np.asarray(data.Solubility)"
      ]
    },
    {
      "cell_type": "markdown",
      "metadata": {
        "id": "KYYOui_qTcta"
      },
      "source": [
        "#### **Solution: Manipulating a Two-Dimensional Array**\n",
        "\n",
        "\n"
      ]
    },
    {
      "cell_type": "code",
      "execution_count": null,
      "metadata": {
        "id": "ap0hDpLjTNxO"
      },
      "outputs": [],
      "source": [
        "import numpy as np\n",
        "\n",
        "# Define a 2x2 array\n",
        "X = np.array([[1, 2], [3, 4]])\n",
        "\n",
        "print('Original: \\n', X, \"\\n\")\n",
        "\n",
        "# Accessing a specific element (0th row, 0th column)\n",
        "print('X[0,0] = ', X[0,0], \"\\n\")\n",
        "\n",
        "# Modifying the value at (0th row, 0th column) to 10\n",
        "X[0,0] = 10\n",
        "print('Modified X[0,0]: \\n', X, \"\\n\")\n",
        "\n",
        "# Modifying all values in the second-to-last column to -25\n",
        "X[:,-2] = -25\n",
        "print('Modified X[:,-2]: \\n', X)"
      ]
    },
    {
      "cell_type": "markdown",
      "metadata": {
        "id": "KXfUp4ZMTnwg"
      },
      "source": [
        "#### **Solution: Array of Zeros with Dimesions**\n",
        "\n",
        "\n"
      ]
    },
    {
      "cell_type": "code",
      "execution_count": null,
      "metadata": {
        "id": "iDgIJ0RtUE8V"
      },
      "outputs": [],
      "source": [
        "# Creating a (10, 4) array filled entirely with zeros\n",
        "array_of_zeros = np.zeros((10, 4))\n",
        "\n",
        "array_of_zeros\n"
      ]
    },
    {
      "cell_type": "markdown",
      "metadata": {
        "id": "NhHovZuDUMcJ"
      },
      "source": [
        "> Look at the NumPy Documentation for [**`np.zeros`**](https://numpy.org/doc/stable/reference/generated/numpy.zeros.html) for syntax and use cases."
      ]
    },
    {
      "cell_type": "markdown",
      "metadata": {
        "id": "zIIvqjztTo9y"
      },
      "source": [
        "#### **Solution: Array of Zeros with a Specific Element**\n",
        "\n",
        "\n"
      ]
    },
    {
      "cell_type": "code",
      "execution_count": null,
      "metadata": {
        "id": "E-w79opwUohw"
      },
      "outputs": [],
      "source": [
        "array_with_specific_element = np.zeros(12)  # Create an array of size 12 filled with zeros\n",
        "\n",
        "# Set the value at the 6th element to 4\n",
        "# Note: NumPy uses 0-based indexing, so the 6th element corresponds to index 5\n",
        "array_with_specific_element[5] = 4\n",
        "array_with_specific_element\n"
      ]
    },
    {
      "cell_type": "markdown",
      "metadata": {
        "id": "QojhegmyU-Ku"
      },
      "source": [
        "### **Solution: Calculating Mean and Standard Deviation**"
      ]
    },
    {
      "cell_type": "code",
      "execution_count": null,
      "metadata": {
        "id": "PpBsVBanU-zO"
      },
      "outputs": [],
      "source": [
        "#Using NumPy's std and mean functions\n",
        "\n",
        "mu = np.mean(solubility)\n",
        "print('Mean: ', mu)\n",
        "std = np.std(solubility)\n",
        "print('Standard Deviation: ', std)"
      ]
    },
    {
      "cell_type": "code",
      "execution_count": null,
      "metadata": {
        "id": "V_Kj3u2FVTwB"
      },
      "outputs": [],
      "source": [
        "#Using the Forumla\n",
        "\n",
        "# Function to calculate the Standard Deviation\n",
        "def stdv(N, mu, x):\n",
        "    #Subtracting an array from a float -> What's the output class?\n",
        "    step_1 = (x - mu) ** 2\n",
        "    print(type(step_1))\n",
        "\n",
        "    step_2 = np.sum(step_1) / N\n",
        "    print(type(step_2))\n",
        "    sig =  np.sqrt(step_2)\n",
        "    return(sig)\n",
        "\n",
        "# Function to calculate the mean and standard deviation\n",
        "def mean(x):\n",
        "    N = np.shape(x)[0]  # Total number of values\n",
        "    mu = np.sum(x) / N\n",
        "    sig = stdv(N, mu, x) # Standard deviation\n",
        "    print(\"Mean:\", mu)\n",
        "    print(\"Standard Deviation:\", sig)\n",
        "\n",
        "mean(solubility)"
      ]
    },
    {
      "cell_type": "markdown",
      "metadata": {
        "id": "E8-TFgPcVce6"
      },
      "source": [
        "### **Solution: Finding the 10 Lowest Solubility Values**"
      ]
    },
    {
      "cell_type": "code",
      "execution_count": null,
      "metadata": {
        "id": "2X9n6jv_VdE8"
      },
      "outputs": [],
      "source": [
        "def lowest_solubility(x):\n",
        "  step_1 = np.sort(x)\n",
        "  output = step_1[-10:]\n",
        "  print(output)\n",
        "\n",
        "lowest_solubility(solubility)"
      ]
    },
    {
      "cell_type": "markdown",
      "metadata": {
        "id": "9FXWbKkUVl2e"
      },
      "source": [
        "### **Solution: Calculating the Median of the Solubility Dataset**"
      ]
    },
    {
      "cell_type": "code",
      "execution_count": null,
      "metadata": {
        "id": "CHIkHll7Vnve"
      },
      "outputs": [],
      "source": [
        "#Using NumPy's Sort\n",
        "def median_sorted(x):\n",
        "  N = np.shape(x)[0]\n",
        "  x_sorted = np.sort(x)\n",
        "  return x_sorted[N//2] if N % 2 != 0 else (x_sorted[N//2 - 1] + x_sorted[N//2]) / 2\n",
        "\n",
        "print(\"Median np.sort\", median_sorted(solubility))\n",
        "\n",
        "#Using NumPy's Median\n",
        "def median_numpy(x):\n",
        "  median_x = np.median(solubility)\n",
        "  print(\"Median np.median:\", median_x)\n",
        "\n",
        "median_numpy(solubility)"
      ]
    },
    {
      "cell_type": "markdown",
      "metadata": {
        "id": "-6jjaGkDVwXO"
      },
      "source": [
        "### **Solution: Toggle Between The Color Channels**"
      ]
    },
    {
      "cell_type": "code",
      "execution_count": null,
      "metadata": {
        "id": "0fgQ7Sy7V1TQ"
      },
      "outputs": [],
      "source": [
        "#Solution to the Challange - Visualizing Color Channels\n",
        "\n",
        "#Import the required libraries\n",
        "import requests\n",
        "from PIL import Image\n",
        "from io import BytesIO\n",
        "import numpy as np\n",
        "import matplotlib\n",
        "import matplotlib.pyplot as plt\n",
        "\n",
        "# Note: The libraries have been imported in the previous cells.\n",
        "#They are imported again to signify their importance.\n",
        "\n",
        "#Convert the Image into an Array\n",
        "img_url = 'https://future.mcmaster.ca/wp-content/uploads/2020/07/Campus-with-Cootes_jpg.jpg'\n",
        "response = requests.get(img_url)\n",
        "img = Image.open(BytesIO(response.content))\n",
        "img_np = np.asarray(img)\n",
        "\n",
        "def toggle(color):\n",
        "    cmap_dict = {'R': 'Reds', 'G': 'Greens', 'B': 'Blues'}\n",
        "    cmap = cmap_dict.get(color)\n",
        "    if cmap:\n",
        "        imgplot = plt.imshow(img_np[:,:,0 if color == 'R' else 1 if color == 'G' else -1], cmap=getattr(matplotlib.cm, cmap))\n",
        "        plt.colorbar()\n",
        "        return True\n",
        "    else:\n",
        "        return False\n",
        "\n",
        "def main():\n",
        "    fig = plt.figure(figsize=(12, 8), dpi=100, facecolor='w', edgecolor='k') #Define the Figure\n",
        "    while True:\n",
        "        user_input = input(\"Enter R, G, or B (or Q to quit): \")\n",
        "        if user_input in ['R', 'G', 'B']:\n",
        "            #Calls the \"Toggle\" Function\n",
        "            if toggle(user_input):\n",
        "                print(f\"Displaying {user_input} channel.\")\n",
        "                break # This line will exit the loop if the input is valid\n",
        "            else:\n",
        "                print(\"Invalid Input\")\n",
        "        elif user_input == 'Q':\n",
        "            print(\"Exiting...\")\n",
        "            break\n",
        "        else:\n",
        "            print(\"Invalid Input\")\n",
        "\n",
        "main()"
      ]
    },
    {
      "cell_type": "markdown",
      "metadata": {
        "id": "bgo1uHf_WgWU"
      },
      "source": [
        "### **Solution: Mean and Standard Deviation using Slicing**"
      ]
    },
    {
      "cell_type": "code",
      "execution_count": null,
      "metadata": {
        "id": "sEbzlUdHWiJH"
      },
      "outputs": [],
      "source": [
        "# Using Slicing to Compute Mean and Standard Deviation for Each Channel\n",
        "red_mean = np.mean(img_np[:, :, 0])\n",
        "green_mean = np.mean(img_np[:, :, 1])\n",
        "blue_mean = np.mean(img_np[:, :, -1])\n",
        "\n",
        "red_std = np.std(img_np[:, :, 0])\n",
        "green_std = np.std(img_np[:, :, 1])\n",
        "blue_std = np.std(img_np[:, :, -1])\n",
        "\n",
        "print(\"Mean Values (RGB): (\", red_mean, \",\", green_mean, \",\", blue_mean, \")\")\n",
        "print(\"Standard Deviation (RGB): (\", red_std, \",\", green_std, \",\", blue_std, \") \\n\")\n"
      ]
    },
    {
      "cell_type": "markdown",
      "metadata": {
        "id": "x_iU8xC-Wkgf"
      },
      "source": [
        "### **Solution: Mean and Standard Deviation using Axis**"
      ]
    },
    {
      "cell_type": "code",
      "execution_count": null,
      "metadata": {
        "id": "0Dit7paWWl2v"
      },
      "outputs": [],
      "source": [
        "# Using the Image's Axes to Compute Mean and Standard Deviation\n",
        "mean_values = np.mean(img_np, axis=(0,1))\n",
        "std_values = np.std(img_np, axis=(0,1))\n",
        "\n",
        "print(\"Mean of Red Channel:\", mean_values[0])\n",
        "print(\"Mean of Green Channel:\", mean_values[1])\n",
        "print(\"Mean of Blue Channel:\", mean_values[2], \"\\n\")\n",
        "\n",
        "print(\"Standard Deviation of Red Channel:\", std_values[0])\n",
        "print(\"Standard Deviation of Green Channel:\", std_values[1])\n",
        "print(\"Standard Deviation of Blue Channel:\", std_values[2])\n"
      ]
    }
  ],
  "metadata": {
    "colab": {
      "provenance": []
    },
    "kernelspec": {
      "display_name": "Python 3",
      "name": "python3"
    },
    "language_info": {
      "name": "python",
      "version": "3.9.15"
    }
  },
  "nbformat": 4,
  "nbformat_minor": 0
}
