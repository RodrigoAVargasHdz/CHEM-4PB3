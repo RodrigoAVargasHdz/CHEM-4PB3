{
 "cells": [
  {
   "attachments": {},
   "cell_type": "markdown",
   "metadata": {},
   "source": [
    "To open on Google Colab [link](https://colab.research.google.com/github/RodrigoAVargasHdz/CHEM-4PB3/blob/main/Course_Notes/Week9/molecular_fingerprints.ipynb)"
   ]
  },
  {
   "cell_type": "code",
   "execution_count": null,
   "metadata": {},
   "outputs": [],
   "source": [
    "!pip3 install cairosvg\n",
    "!pip install rdkit-pypi\n",
    "!pip install avogadro\n",
    "!pip install py3Dmol"
   ]
  },
  {
   "cell_type": "code",
   "execution_count": null,
   "metadata": {},
   "outputs": [],
   "source": [
    "import numpy as np\n",
    "import matplotlib.pyplot as plt\n",
    "\n",
    "import py3Dmol\n",
    "from rdkit import Chem\n",
    "from rdkit.Chem import AllChem, Draw, rdMolDescriptors, rdDistGeom, rdMolTransforms, QED\n",
    "from rdkit.Chem.Scaffolds.MurckoScaffold import GetScaffoldForMol\n",
    "from rdkit.Chem.rdmolops import GetAdjacencyMatrix\n",
    "from rdkit.Chem.Draw import IPythonConsole\n",
    "\n",
    "import networkx as nx\n",
    "\n",
    "IPythonConsole.ipython_useSVG = True\n",
    "IPythonConsole.drawOptions.addAtomIndices = True\n",
    "IPythonConsole.molSize = 300,300"
   ]
  },
  {
   "attachments": {},
   "cell_type": "markdown",
   "metadata": {},
   "source": [
    "## ChemInformatics\n",
    "\n",
    "*Molecular descriptors capture diverse parts of the structural information of molecules and they are the support of many contemporary computer-assisted toxicological and chemical applications.*\n",
    "\n",
    "Being able to numerically represent molecules aid with the prediction problem,\n",
    "$$\n",
    "y = f(\\mathbf{{\\cal M}}),\n",
    "$$\n",
    "where $\\mathbf{{\\cal M}}$ is the molecular descriptors used in regression/classification.\n",
    "\n",
    "<img src=\"https://raw.github.com/RodrigoAVargasHdz/CHEM-4PB3/master/Course_Notes/Figures/440801_1_En_1_Fig1_HTML.png\"  width=\"500\" height=\"700\">\n",
    "\n",
    "Figure from [link](https://link.springer.com/protocol/10.1007/978-1-4939-7899-1_1)\n",
    "\n",
    "\n",
    "Molecular descriptors can describe different levels of information, from bulk properties to complex three-dimensional definitions or substructure frequency.\n",
    "1. **0-Dimensional**:\\\n",
    "   atom counts (e.g., number of carbon atoms), molecular weight, and sum or average of atomic properties (e.g., atomic van der Waals volumes).\n",
    "2. **1-Dimensional**:\\\n",
    "   molecules are perceived as a set of substructures, such as functional groups or atom-centered fragments.\n",
    "3. **2-Dimensional**:\\\n",
    "   molecule is represented as a graph, whose vertexes are the atoms and edges are the bonds, and specific chemical properties of atoms are considered.\n",
    "4. **3-Dimensional**:\\\n",
    "   descriptors deriving from 3D representation.\n",
    "5. **4-Dimensional**:\\\n",
    "   molecular geometry combined with an “additional dimension/information”, e.g., representing each ligand by an ensemble of conformations, protonation states, and/or orientations.\n"
   ]
  },
  {
   "attachments": {},
   "cell_type": "markdown",
   "metadata": {},
   "source": [
    "## Classical molecular descriptors and binary fingerprints\n",
    "\n",
    "\n",
    "**Classical molecular descriptors** (MDs) are designed to encode a precise structural/chemical feature (or a set of features of different complexity) into one, single number. \n",
    "They can also be combined with other molecular properties that could be efficiently estimated. \n",
    "\n",
    "**RDKit molecular descriptors** ([list](https://www.rdkit.org/docs/source/rdkit.Chem.rdMolDescriptors.html?highlight=calcnumhba#rdkit.Chem.rdMolDescriptors.CalcNumHBA))\n"
   ]
  },
  {
   "cell_type": "code",
   "execution_count": null,
   "metadata": {},
   "outputs": [],
   "source": [
    "# one-hot-encoding\n",
    "# ALPHABET: define SMILES characters\n",
    "\n",
    "max_len = 30\n",
    "SMILES_CHARS = [\"7\", \"6\", \"o\", \"]\", \"3\", \"s\", \"(\", \"-\", \"S\", \"/\", \"B\", \"4\", \"[\", \")\", \"#\", \"I\",\n",
    "                \"l\", \"O\", \"H\", \"c\", \"1\", \"@\", \"=\", \"n\", \"P\", \"8\", \"C\", \"2\", \"F\", \"5\", \"r\", \"N\", \"+\", \"\\\\\", \" \"]\n",
    "# index\n",
    "smi2index = dict((c, i) for i, c in enumerate(SMILES_CHARS))\n",
    "\n",
    "\n",
    "def smiles_to_one_hot(smiles, maxlen=max_len):\n",
    "    X = np.zeros((maxlen, len(SMILES_CHARS)))  # (maxlen, dictionary)\n",
    "    # print(smiles,type(smiles))\n",
    "    smiles = smiles.replace('\\n', '')\n",
    "    for i, c in enumerate(smiles):\n",
    "        X[i, smi2index[c]] = 1\n",
    "    return X\n",
    "\n",
    "\n",
    "# caffeine one hot\n",
    "caffeine_smiles = 'CN1C=NC2=C1C(=O)N(C(=O)N2C)C'\n",
    "print(caffeine_smiles.split())\n",
    "\n",
    "caffeine_one_hot = smiles_to_one_hot(caffeine_smiles)\n",
    "\n",
    "print(caffeine_one_hot.shape)  # (120, 56)\n",
    "\n",
    "\n",
    "plt.figure(figsize=(10, 10))\n",
    "plt.imshow(caffeine_one_hot.T, cmap='binary')\n",
    "# plt.xlabel('Tokens')\n",
    "# plt.ylabel('SMILES')\n",
    "\n",
    "\n",
    "caffeine_smiles_pad = caffeine_smiles + \" \" * (max_len - len(caffeine_smiles))\n",
    "\n",
    "plt.title('One-hot encoding for %s' % caffeine_smiles)\n",
    "plt.xticks(np.arange(len(list(caffeine_smiles))),\n",
    "           list(caffeine_smiles), fontsize=8)\n",
    "plt.yticks(np.arange(len(list(SMILES_CHARS))),\n",
    "           list(SMILES_CHARS), fontsize=8)\n"
   ]
  },
  {
   "cell_type": "code",
   "execution_count": null,
   "metadata": {},
   "outputs": [],
   "source": [
    "def get_classical_md(m):\n",
    "    canon_smiles = AllChem.MolToSmiles(m, canonical=True)\n",
    "    # number of H-bond acceptors for a molecule\n",
    "    hba = rdMolDescriptors.CalcNumHBA(m)\n",
    "\n",
    "    # number of H-bond donors for a molecule\n",
    "    hbd = rdMolDescriptors.CalcNumHBD(m)\n",
    "\n",
    "    # number of rings for a molecule\n",
    "    nrings = rdMolDescriptors.CalcNumRings(m)\n",
    "\n",
    "    # number of rotatable bonds for a molecule\n",
    "    rtb = rdMolDescriptors.CalcNumRotatableBonds(m)\n",
    "\n",
    "    #  topological polar surface area (TPSA) of a molecule (used medicinal chemistry metric for the optimization of a drug's ability to permeate cells.)\n",
    "    psa = rdMolDescriptors.CalcTPSA(m)\n",
    "\n",
    "    # logP and mr from https://pubs.acs.org/doi/10.1021/ci990307l:\n",
    "    # logP ->  water partition coefficient as measure of lipophilicity\n",
    "    # MR -> molar refractivity\n",
    "    logp, mr = rdMolDescriptors.CalcCrippenDescriptors(m)\n",
    "\n",
    "    # molecular weight\n",
    "    mw = rdMolDescriptors._CalcMolWt(m)\n",
    "\n",
    "    # Csp3: fraction of sp3 carbons\n",
    "    csp3 = rdMolDescriptors.CalcFractionCSP3(m)\n",
    "    \n",
    "    # fraction of atoms belonging to Murcko framework\n",
    "    # number of heavy atoms for a molecule\n",
    "    fmf = GetScaffoldForMol(m).GetNumHeavyAtoms() / m.GetNumHeavyAtoms()\n",
    "    hac = m.GetNumHeavyAtoms()\n",
    "\n",
    "    # max_ring_size: maximum ring size in a molecule\n",
    "    max_ring_size = len(max(m.GetRingInfo().AtomRings(), key=len, default=()))\n",
    "\n",
    "    # QED: quantitative estimate of drug-likeness (https://www.rdkit.org/docs/source/rdkit.Chem.QED.html)\n",
    "    qed = QED.qed(m)\n",
    "    \n",
    "    # ChiralCenters: number of chiral centers (assigned and unassigned)\n",
    "    n_chiral_centers = len(Chem.FindMolChiralCenters(m, includeUnassigned=True))\n",
    "    \n",
    "    # plane of best fit (PBF), to quantify and characterize the 3D character of molecules (https://pubs.acs.org/doi/pdf/10.1021/ci300293f)\n",
    "    pbf = \n",
    "    \n",
    "    r = {'Canonical SMILE': canon_smiles,\n",
    "         'HBA': hba,\n",
    "         'HBD': hbd,\n",
    "         'NumRings': nrings,\n",
    "         'RTB': rtb,\n",
    "         'lopP': logp,\n",
    "         'MR': mr,\n",
    "         'MW': mw,\n",
    "         'Csp3': csp3,\n",
    "         'fmf': fmf,\n",
    "         'QED': qed,\n",
    "         'HAC': hac,\n",
    "         'ChiralCenters': n_chiral_centers,\n",
    "         'MaxRingSize':max_ring_size,\n",
    "    }\n",
    "    return r\n"
   ]
  },
  {
   "cell_type": "code",
   "execution_count": null,
   "metadata": {},
   "outputs": [],
   "source": [
    "# m = \"O=C(Oc1cccnc1)c1cccs1\"\n",
    "m = 'OCCC'\n",
    "mol = AllChem.MolFromSmiles(m)\n",
    "print(get_classical_md(mol))\n",
    "mol"
   ]
  },
  {
   "cell_type": "code",
   "execution_count": null,
   "metadata": {},
   "outputs": [],
   "source": [
    "import pandas as pd\n",
    "\n",
    "url = 'https://raw.github.com/sp8rks/MaterialsInformatics/master/worked_examples/RDKit_tutorial/full_dataset_dd.csv'\n",
    "\n",
    "data = pd.read_csv(url, index_col=0)\n",
    "\n",
    "smiles_all = data['SMILES_STD']\n",
    "print('Total number of molecules: ', len(smiles_all))\n",
    "\n",
    "\n",
    "D = {}\n",
    "for i,smi in enumerate(smiles_all):\n",
    "    m = AllChem.MolFromSmiles(smi)\n",
    "    r = get_classical_md(m)\n",
    "    D.update({i:r})\n",
    "print(D)\n",
    "data = pd.DataFrame.from_dict(D,orient='index')\n",
    "data.head()"
   ]
  },
  {
   "cell_type": "code",
   "execution_count": null,
   "metadata": {},
   "outputs": [],
   "source": [
    "cols = data.columns\n",
    "ncols = len(cols)\n",
    "print(ncols,cols)\n",
    "\n",
    "fig = plt.figure(layout=\"constrained\",figsize=(20,20))\n",
    "axs = fig.subplots(nrows=5,ncols=3,squeeze=False)\n",
    "ni_,nj_ = np.meshgrid(np.arange(0,5,dtype=np.int32),np.arange(0,3,dtype=np.int32)) \n",
    "nij = np.column_stack((ni_.flatten(),nj_.flatten()))\n",
    "\n",
    "for i,(ij,ci) in enumerate(zip(nij,cols[1:])):\n",
    "    r = data[ci].to_numpy()\n",
    "    axs[ij[0],ij[1]].hist(r,bins=25)\n",
    "    axs[ij[0], ij[1]].set_xlabel(cols[i+1],fontsize=15)\n",
    "plt.show()"
   ]
  },
  {
   "attachments": {},
   "cell_type": "markdown",
   "metadata": {},
   "source": [
    "## 1D and 2D molecular finger prints\n",
    "\n",
    "1. **1-Dimensional**:\\\n",
    "   molecules are perceived as a set of substructures, such as functional groups or atom-centered fragments.\n",
    "2. **2-Dimensional**:\\\n",
    "   molecule is represented as a graph, whose vertexes are the atoms and edges are the bonds, and specific chemical properties of atoms are considered.\n",
    "\n",
    " \n",
    "### Molecular/Circular Fingerprints aka Morgan Fingerprints ([paper](https://pubs.acs.org/doi/10.1021/ci100050t))\n",
    "\n",
    "\n",
    "\n",
    "* topological fingerprints for molecular characterization.\n",
    "* capture molecular features relevant to molecular activity.\n",
    "* used in drug activity.\n",
    "* Given a *radius*, we characterize what atom is connected/surrounded to a set of \"candidates\".\n",
    "\n",
    "**Problem**\\\n",
    "They are non-reversible, meaning given some fingerprints we can't infer the original molecule.\\\n",
    "People have attempted to use deep-learning for this problem.\n",
    "\n",
    "Papers:\n",
    "1. [data-driven molecular descriptors](https://pubs.rsc.org/en/content/articlelanding/2019/sc/c8sc04175j)\n",
    "2. [Neuraldecipher](https://pubs.rsc.org/en/content/articlelanding/2020/sc/d0sc03115a)\n",
    "\n",
    "\n",
    "Code below is based on [link](https://rdkit.blogspot.com/2018/10/using-new-fingerprint-bit-rendering-code.html)"
   ]
  },
  {
   "cell_type": "code",
   "execution_count": null,
   "metadata": {},
   "outputs": [],
   "source": [
    "# m = \"O=C(Oc1cccnc1)c1cccs1\"\n",
    "m = 'OCCC'\n",
    "mol = AllChem.MolFromSmiles(m)\n",
    "mol"
   ]
  },
  {
   "cell_type": "code",
   "execution_count": null,
   "metadata": {},
   "outputs": [],
   "source": [
    "# fp = AllChem.GetMorganFingerprintAsBitVect(mol,3, nBits=2048)\n",
    "bi = {}\n",
    "fp = rdMolDescriptors.GetMorganFingerprintAsBitVect(\n",
    "    mol, radius=1, bitInfo=bi)\n",
    "print(bi)\n",
    "fp_indx = np.nonzero(np.array(fp))[0]\n",
    "\n",
    "Draw.DrawMorganBit(mol, fp_indx[0], bi)"
   ]
  },
  {
   "cell_type": "code",
   "execution_count": null,
   "metadata": {},
   "outputs": [],
   "source": [
    "prints = [(mol,x,bi)for x in fp.GetOnBits()]\n",
    "Draw.DrawMorganBits(prints, molsPerRow=5, legends=[str(x) for x in fp.GetOnBits()])"
   ]
  },
  {
   "cell_type": "code",
   "execution_count": null,
   "metadata": {},
   "outputs": [],
   "source": [
    "def get_fingerprints(m_smiles, radius=2, nbits=2048):\n",
    "  m = Chem.MolFromSmiles(m_smiles)\n",
    "  m_fingerprints = AllChem.GetMorganFingerprintAsBitVect(\n",
    "      m, radius=radius, nBits=nbits)\n",
    "  return np.asarray(m_fingerprints)"
   ]
  },
  {
   "cell_type": "code",
   "execution_count": null,
   "metadata": {},
   "outputs": [],
   "source": [
    "caffeine_smiles = 'CN1C=NC2=C1C(=O)N(C(=O)N2C)C'\n",
    "m = AllChem.MolFromSmiles(caffeine_smiles)\n",
    "r = get_fingerprints(caffeine_smiles)\n",
    "print(r)\n",
    "\n",
    "# plt.imshow(r[np.newaxis,:],)\n",
    "plt.figure(figsize=(8,8))\n",
    "plt.scatter(np.arange(r.shape[0]),r)\n",
    "plt.xlabel('Caffeine Finger Prints',fontsize=18)\n",
    "plt.ylabel('Binary',fontsize=18)"
   ]
  },
  {
   "cell_type": "code",
   "execution_count": null,
   "metadata": {},
   "outputs": [],
   "source": [
    "D = {}\n",
    "for i, smi in enumerate(smiles_all):\n",
    "    # m = AllChem.MolFromSmiles(smi)\n",
    "    r = get_fingerprints(smi)\n",
    "    D.update({i: r})\n",
    "\n",
    "data = pd.DataFrame.from_dict(D, orient='index')\n",
    "data.head()"
   ]
  },
  {
   "cell_type": "code",
   "execution_count": null,
   "metadata": {},
   "outputs": [],
   "source": [
    "cols = data.columns\n",
    "ncols = len(cols)\n",
    "\n",
    "print('List of FingerPrints that appear in our data set:')\n",
    "count_fp = []\n",
    "for i in range(ncols):\n",
    "    r = data[cols[i]].to_numpy()\n",
    "    nonzeros_ = np.nonzero(r)[0]\n",
    "    count_fp.append(nonzeros_.shape[0])\n",
    "    if nonzeros_.shape[0] > 0:\n",
    "        print(f'FP-%s : %s' % (cols[i], nonzeros_.shape[0]))\n",
    "\n",
    "count_fp = np.asarray(count_fp)\n",
    "i0 = np.argsort(count_fp)[-10:]\n",
    "print('Top 10 FingerPrints: ', i0)\n",
    "print(count_fp[i0])\n"
   ]
  },
  {
   "cell_type": "code",
   "execution_count": null,
   "metadata": {},
   "outputs": [],
   "source": [
    "# What is FP-1?\n",
    "\n",
    "smi = smiles_all[2]\n",
    "print(smi)\n",
    "mol = AllChem.MolFromSmiles(smi)\n",
    "\n",
    "bi = {}\n",
    "fp = rdMolDescriptors.GetMorganFingerprintAsBitVect(\n",
    "    mol, radius=1, bitInfo=bi)\n",
    "fp_indx = np.nonzero(np.array(fp))[0]\n",
    "print(bi)\n",
    "Draw.DrawMorganBit(mol, fp_indx[0], bi, legend=str(fp_indx[0]))\n"
   ]
  },
  {
   "cell_type": "code",
   "execution_count": null,
   "metadata": {},
   "outputs": [],
   "source": [
    "# What is FP-1380?\n",
    "\n",
    "# print(data[1380])\n",
    "smi = smiles_all[662]\n",
    "print(smi)\n",
    "mol = AllChem.MolFromSmiles(smi)\n",
    "\n",
    "bi = {}\n",
    "fp = rdMolDescriptors.GetMorganFingerprintAsBitVect(\n",
    "    mol, radius=1, bitInfo=bi)\n",
    "fp_indx = np.nonzero(np.array(fp))[0]\n",
    "# print(bi)\n",
    "\n",
    "i0 = np.where(fp_indx == 1380)[0][0]\n",
    "Draw.DrawMorganBit(mol, fp_indx[i0], bi, legend=str(fp_indx[i0]))\n"
   ]
  },
  {
   "attachments": {},
   "cell_type": "markdown",
   "metadata": {},
   "source": [
    "# Conformer search with RDKit"
   ]
  },
  {
   "cell_type": "code",
   "execution_count": null,
   "metadata": {},
   "outputs": [],
   "source": [
    "def get_xyz_coordinates(m_rdkit):\n",
    "    xyz = Chem.MolToMolBlock(m_rdkit) # Generates a 3D conformer\n",
    "    n_atoms = m_rdkit.GetNumAtoms() # total numbers of atoms\n",
    "\n",
    "    xyz_ = []\n",
    "    for l in xyz.splitlines()[4:4+m_rdkit.GetNumAtoms()]:\n",
    "        l = l.split()\n",
    "        xyz_.append(l[:4])\n",
    "\n",
    "    xyz_str = '%s\\n * (null), Energy   -1000.0000000\\n' % (n_atoms)\n",
    "    for xyzi in xyz_:\n",
    "        xyzi_str = '%s     %.4f     %.4f     %.4f\\n' % (\n",
    "            xyzi[3], float(xyzi[0]), float(xyzi[1]), float(xyzi[2]))\n",
    "        xyz_str += xyzi_str\n",
    "    return xyz_str\n",
    "\n",
    "def draw_3d(smiles, bool_add_H=True):\n",
    "\n",
    "    m3 = AllChem.MolFromSmiles(smiles)\n",
    "    if bool_add_H:\n",
    "        m3 = Chem.AddHs(m3)\n",
    "    AllChem.EmbedMolecule(m3, randomSeed=0xf00d)\n",
    "\n",
    "    n_atoms = m3.GetNumAtoms()\n",
    "\n",
    "    xyz_str = get_xyz_coordinates(m3)\n",
    "    xyzview = py3Dmol.view(width=400, height=400)\n",
    "    xyzview.addModel(xyz_str, 'xyz')\n",
    "    xyzview.setStyle({'sphere': {'radius': 0.35}, 'stick': {'radius': 0.1}})\n",
    "    xyzview.setBackgroundColor('0xeeeeee')\n",
    "    xyzview.zoomTo()\n",
    "    xyzview.show()\n"
   ]
  },
  {
   "cell_type": "code",
   "execution_count": null,
   "metadata": {},
   "outputs": [],
   "source": [
    "m = 'OCCF'\n",
    "draw_3d(m)\n",
    "mol = AllChem.MolFromSmiles(m)\n",
    "mol_wH = Chem.AddHs(mol)\n",
    "# mol_wH"
   ]
  },
  {
   "cell_type": "code",
   "execution_count": null,
   "metadata": {},
   "outputs": [],
   "source": [
    "mol_wH"
   ]
  },
  {
   "cell_type": "code",
   "execution_count": null,
   "metadata": {},
   "outputs": [],
   "source": [
    "bounds = rdDistGeom.GetMoleculeBoundsMatrix(mol_wH)\n",
    "print(bounds[0,3],bounds[3,0])\n",
    "print(bounds)"
   ]
  },
  {
   "attachments": {},
   "cell_type": "markdown",
   "metadata": {},
   "source": [
    "paper [link](https://pubs.acs.org/doi/pdf/10.1021/acs.jcim.5b00654)\n",
    "[drugbank](https://go.drugbank.com/drugs/DB01001)"
   ]
  },
  {
   "cell_type": "code",
   "execution_count": null,
   "metadata": {},
   "outputs": [],
   "source": [
    "\n",
    "ps = rdDistGeom.ETKDGv3()\n",
    "ps.randomSeed = 0xf00d\n",
    "ps.SetBoundsMat(bounds)\n",
    "\n",
    "# ps = rdDistGeom.EmbedParameters()\n",
    "# ps.useExpTorsionAnglePrefs = False\n",
    "\n",
    "ps.useBasicKnowledge = False\n",
    "cids = rdDistGeom.EmbedMultipleConfs(mol_wH,1500,ps)\n",
    "dists_etkdg = [rdMolTransforms.GetBondLength(conf,0,3) for conf in mol_wH.GetConformers()]\n",
    "\n",
    "plt.figure(figsize = (6, 6))\n",
    "plt.hist(dists_etkdg, bins=20)\n",
    "plt.title('ETKDG')\n",
    "plt.xlabel('O--F distance')\n"
   ]
  },
  {
   "cell_type": "code",
   "execution_count": null,
   "metadata": {},
   "outputs": [],
   "source": [
    "# draw a single conformer with RDKit\n",
    "IPythonConsole.drawMol3D(mol_wH,confId=cids[2])\n"
   ]
  },
  {
   "cell_type": "code",
   "execution_count": null,
   "metadata": {},
   "outputs": [],
   "source": [
    "# draw a single conformer with py3MOL\n",
    "\n",
    "conf0 = Chem.MolToMolBlock(mol_wH, confId=cids[2])\n",
    "print(conf0)\n",
    "xyzview = py3Dmol.view(width=400, height=400)\n",
    "xyzview.addModel(conf0, 'sdf')\n",
    "xyzview.setStyle({'sphere': {'radius': 0.35}, 'stick': {'radius': 0.1}})\n",
    "xyzview.setBackgroundColor('0xeeeeee')\n",
    "xyzview.zoomTo()\n",
    "xyzview.show()\n"
   ]
  },
  {
   "cell_type": "code",
   "execution_count": null,
   "metadata": {},
   "outputs": [],
   "source": [
    "conf0 = Chem.MolToMolBlock(mol_wH, confId=cids[100])\n",
    "conf1 = Chem.MolToMolBlock(mol_wH, confId=cids[0])\n",
    "\n",
    "xyzview = py3Dmol.view(width=400, height=400)\n",
    "for i in range(10):\n",
    "    conf0 = Chem.MolToMolBlock(mol_wH, confId=cids[i])\n",
    "    xyzview.addModel(conf0, 'sdf')\n",
    "# xyzview.addModel(conf1, 'sdf')\n",
    "# xyzview.setStyle({'sphere': {'radius': 0.35}, 'stick': {'radius': 0.1}})\n",
    "xyzview.setStyle({'stick':{'radius': 0.05}})\n",
    "xyzview.setBackgroundColor('0xeeeeee')\n",
    "xyzview.zoomTo()\n",
    "xyzview.show()"
   ]
  },
  {
   "attachments": {},
   "cell_type": "markdown",
   "metadata": {},
   "source": [
    "Extra references:\n",
    "1. https://pubs.rsc.org/en/content/articlehtml/2022/sc/d2sc02739a?page=search\n",
    "2. https://github.com/atomistic-machine-learning/schnetpack\n",
    "3. https://doi.org/10.1186/s13321-018-0258-y"
   ]
  }
 ],
 "metadata": {
  "kernelspec": {
   "display_name": "chem4pb3",
   "language": "python",
   "name": "python3"
  },
  "language_info": {
   "codemirror_mode": {
    "name": "ipython",
    "version": 3
   },
   "file_extension": ".py",
   "mimetype": "text/x-python",
   "name": "python",
   "nbconvert_exporter": "python",
   "pygments_lexer": "ipython3",
   "version": "3.9.15"
  },
  "orig_nbformat": 4
 },
 "nbformat": 4,
 "nbformat_minor": 2
}
