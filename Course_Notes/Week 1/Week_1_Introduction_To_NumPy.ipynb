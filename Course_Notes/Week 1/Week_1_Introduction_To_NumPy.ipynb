{
  "cells": [
    {
      "cell_type": "markdown",
      "id": "e4504221",
      "metadata": {
        "id": "e4504221"
      },
      "source": [
        "<!-- [![Open In Colab](https://colab.research.google.com/assets/colab-badge.svg)](https://colab.research.google.com/drive/14xmNNrXwtj65L2tsRaEXBHVPz1vasKsV?usp=sharing) -->\n",
        "<a target=\"_blank\" href=\"https://colab.research.google.com/github/RodrigoAVargasHdz/CHEM-4PB3/blob/w2024/Course_Notes/Week%201/Week_1_Introduction_To_NumPy.ipynb\">\n",
        "  <img src=\"https://colab.research.google.com/assets/colab-badge.svg\" alt=\"Open In Colab\"/>\n",
        "</a>\n",
        "\n",
        "# **Week 1 - Introduction To NumPy**\n",
        "\n",
        "## **Abstract**\n",
        "\n",
        "1. **Introduction to Arrays and NumPy**\n",
        "   \n",
        "   Array programming, with its robust and expressive syntax, enables comprehensive manipulation of vectors, matrices, and higher-dimensional arrays. It serves as a critical bridge connecting mathematical concepts with computational implementation.\n",
        "\n",
        "2. **Slicing and Accessing Elements in Arrays:**\n",
        "   \n",
        "   This section breaks down the process of slicing and accessing elements within Arrays. It explores techniques such as using negative numbers and selecting rows and columns, aiming for a clear and concise understanding of Array manipulation.\n",
        "\n",
        "3. **Analyzing Solubility Data:**\n",
        "   \n",
        "   Leveraging NumPy's computational ability, this segment outlines methodologies for analyzing Chemical solubility data. It covers calculations of Mean, Standard Deviation.\n",
        "\n",
        "4. **Real-World Applications and Achievements:**\n",
        "   \n",
        "   - **Chemistry:** NumPy's computational abilities allow the development of models for predicting compound solubility, thus accelerating drug discovery processes.\n",
        "   \n",
        "   - **Astronomy:** Through the analysis of extensive data, NumPy played a crucial role in the discovery of gravitational waves and the imaging of black holes.\n",
        "\n",
        "5. **Tensors in Image Analysis:**\n",
        "   \n",
        "   Exploring the fascinating world of tensors, the course delves into their application in image analysis. Topics include understanding tensor rank, axes, and shape, as well as applying tensors in analyzing and visualizing images.\n",
        "\n",
        "6. **Course Exploration and Objectives:**\n",
        "   \n",
        "   The course is designed to explore Python's versatile applications as tools for Scientific developments. From probing molecular structures to deciphering complex image data, the course invites participants to engage with scientific challenges, leveraging the computational capabilities of  programming.\n"
      ]
    },
    {
      "cell_type": "markdown",
      "id": "1d544346",
      "metadata": {
        "id": "1d544346"
      },
      "source": [
        "## **References**\n",
        "   - [McMaster Library: Introduction to Python Programming](https://library.mcmaster.ca/intro-python-programming)\n",
        "   - [NumPy Quickstart Guide](https://numpy.org/doc/stable/user/quickstart.html)\n",
        "   - [SHARCNET Training Courses](https://training.sharcnet.ca/courses/enrol/index.php?id=132)\n",
        "   - [Cornell University: Computational Methods in Python - Arrays](https://cac.cornell.edu/myers/teaching/ComputationalMethods/python/arrays.html)\n",
        "### **Paper**\n",
        "[Array programming with NumPy](https://www.nature.com/articles/s41586-020-2649-2)\n",
        "\n",
        "**NumPy is the base of the scientific Python ecosystem.**<br>\n",
        "<img src=\"https://www.researchgate.net/publication/344301569/figure/fig2/AS:984548296912911@1611746014924/NumPy-is-the-base-of-the-scientific-Python-ecosystem-Essential-libraries-and-projects.png\"  width=\"35%\" height=\"20%\">\n",
        "\n"
      ]
    },
    {
      "cell_type": "markdown",
      "id": "5fa5bacb",
      "metadata": {
        "id": "5fa5bacb"
      },
      "source": [
        "## **Introduction to Arrays: The Building Blocks of NumPy**\n",
        "NumPy, or Numerical Python, is a library that facilitates numerical operations within the Python programming language. <br>\n",
        "The fundamental data structure in NumPy is the array, an n-dimensional object capable of representing complex mathematical constructs.\n",
        "\n",
        "<br>\n",
        "\n",
        "### **Understanding NumPy Arrays**\n",
        "NumPy arrays form the cornerstone of scientific computing in Python, allowing for efficient storage and manipulation of numerical data. <br> The following outlines the hierarchical structure of NumPy arrays:\n",
        "\n",
        "   - **One-Dimensional Array (Vector):** A one-dimensional array, or vector, consists of a sequence of numerical elements. <br> It can be viewed as a special case of a matrix with only one row or one column and represents a fundamental building block for higher-dimensional structures.\n",
        "      \n",
        "   - **Two-Dimensional Array (Matrix):** A two-dimensional array, or matrix, extends the concept of vectors into a grid format comprising rows and columns. <br> This structure is fundamental to linear algebra, allowing the representation of linear transformations, systems of linear equations, and other mathematical operations.\n",
        "   <br>\n",
        "   - **Three-Dimensional Array (Tensor) and Beyond:** Higher-dimensional arrays, also known as tensors, provide a framework for modeling more intricate mathematical relationships. <br> Tensors extend matrices by adding additional axes, facilitating the representation of complex multidimensional data. These structures are integral to various scientific and engineering applications, including image analysis, neural network modeling, and multidimensional signal processing.\n",
        "   <br>\n",
        "   <br>\n",
        "   \n",
        "\n",
        "![Vectors, Matrices, and Tensors Visually](https://miro.medium.com/v2/resize:fit:1400/format:webp/0*JQReZkpMA_ug66Ez.png) <br>\n",
        "[*Figure 1 - Vectors, Matrices, and Tensors Visually. Image by Mukesh Mithrakumar*](https://towardsdatascience.com/statistics-for-ai-part-1-4f4a0bef04e)\n",
        "\n"
      ]
    },
    {
      "cell_type": "markdown",
      "id": "e6d20c99",
      "metadata": {
        "id": "e6d20c99"
      },
      "source": [
        "## **Creating and Analysing a Two-Dimensional Array**\n",
        "\n",
        "To better understand the structure and techniques of a two-dimensional array, let's take a closer look at a example:\n",
        "\n",
        "### **Example Code**:\n",
        "\n",
        "\n",
        "\n",
        "\n"
      ]
    },
    {
      "cell_type": "code",
      "execution_count": null,
      "id": "HVd4gDOvqjHK",
      "metadata": {
        "id": "HVd4gDOvqjHK"
      },
      "outputs": [],
      "source": [
        "import numpy as np # Importing NumPy\n",
        "\n",
        "# Defining a Vector\n",
        "x = np.array([1, 2])\n",
        "print(\"x \\n\", x , \"\\n\")\n",
        "\n",
        "# Defining a 2x2 Array (Matrix)\n",
        "X = np.array([[1,2],[3,4]]) \n",
        "\n",
        "print(\"X =\\n\", X, \"\\n\")\n",
        "print('X type:', type(X), \"\\n\") #Type or Class of the variable X\n",
        "n_rows, n_cols = X.shape #Dimensions of the Array\n",
        "print('Size:')\n",
        "print('Number of Rows:', n_rows)\n",
        "print('Number of Columns:', n_cols)"
      ]
    },
    {
      "cell_type": "markdown",
      "id": "pS3yb0ZpnZ2J",
      "metadata": {
        "id": "pS3yb0ZpnZ2J"
      },
      "source": [
        "### **Key Concepts and Interpretations:**\n",
        "\n",
        "- The function `np.array()` serves as the primary constructor for creating NumPy arrays.\n",
        "\n",
        "- Utilizing `X.shape` returns the size of the array, facilitating an understanding of its structural composition.<br>\n",
        "\n",
        "- In the provided example, $X$ represents a $2$ x $2$ matrix.\n",
        "\n",
        "<br>\n",
        "\n",
        "NumPy arrays, with their adaptability and efficiency, are integral to various domains of scientific computation and data analysis within Python. <br> The extensive applicability of these structures necessitates a thorough comprehension of the core principles of arrays, as illustrated in *Figure 2*.\n",
        "<br>\n",
        "<br>\n",
        "\n",
        "![Figure 2](https://cac.cornell.edu/myers/teaching/ComputationalMethods/python/anatomyarray.png)\n",
        "[*Figure 2 - Anatomy of an Array. Image by Cornell University*](https://cac.cornell.edu/myers/teaching/ComputationalMethods/python/arrays.html)\n",
        "<br>\n",
        "<br>\n",
        "\n",
        "### **Analyzing the Syntax of an Array:**\n",
        "\n",
        "The syntax of an array play a pivotal role in pinpointing specific values, thereby enabling in-depth analysis. Within the Python programming environment, $\"i\"$ typically denotes rows, and $\"j\"$ represents columns. Examining the previously defined array:\n",
        "\n",
        "\n",
        "\n",
        "```\n",
        "X = [[1,2],[3,4]]\n",
        "```\n",
        "\n",
        "\n",
        "\n",
        "\n",
        "To access an individual element within the array, the notation $X[i,j]$ is applied. For example, $X[0,1] = 2$ refers to the value located at the first row and second column.\n",
        "\n"
      ]
    },
    {
      "cell_type": "markdown",
      "id": "qzRCEjFIuQZ3",
      "metadata": {
        "id": "qzRCEjFIuQZ3"
      },
      "source": [
        "## **Slicing NumPy Arrays: Selecting and Accessing Elements**\n",
        "\n",
        "Slicing is a vital technique in Python that facilitates the extraction of specific segments from an array. It can be likened to selectively carving out desired portions, ranging from individual elements, rows, and columns to more intricate selections.\n",
        "\n",
        "<br>\n",
        "\n",
        "#### **Basic Slicing Syntax**\n",
        "\n",
        "\n",
        "- **Column Selection:** $X[:, j]$ -> Extracts all elements contained within the $j$-th column of the array.\n",
        "- **Row Selection:** $X[i, :]$ -> Obtains all elements present in the $i$-th row of the array.       \n",
        "\n",
        "<br>\n",
        "\n",
        "#### **Slicing with Start, Stop, and Step**\n",
        "\n",
        "\n",
        "- **Start to Stop:** $a[\\text{start}:\\text{stop}]$ -> Selects items from ‘start’ to ‘stop-1’.\n",
        "- **Start to End:** $a[\\text{start}:]$ -> Selects items from ‘start’ to the end of the array.\n",
        "- **Beginning to Stop:** $a[:\\text{stop}]$ -> Selects items from the beginning to ‘stop-1’.  \n",
        "- **Whole Array:** $a[:\\text{start}:]$ -> Creates a copy of the whole array.\n",
        "- **Step Value:** $a[\\text{start}:\\text{stop}:\\text{step}]$ -> Selects items from ‘start’ to ‘stop-1’ with a specific ‘step size’.\n",
        "\n",
        "<br>\n",
        "\n",
        "#### **Working with Negative Numbers**\n",
        "\n",
        "- **Negative Indexing:** $a[-1]$ -> Selects the last item, and $a[-n:]$ selects the last $n$-th items.\n",
        "- **Negative Step:** $a[::-1]$ -> Reverses the array, and $a[n::-1]$ reverses the first $n$-th items.    \n",
        "\n",
        "<br>\n",
        "\n",
        "## **Basic Slicing Syntax: Accessing and Modifying Specific Rows and Columns**  \n",
        "\n",
        "Within the NumPy array framework, slicing provides a systematic approach to retrieving and modifying particular segments of data. The understanding and mastery of slicing can enhance the efficiency and precision of data manipulation in various scientific and analytical contexts.\n"
      ]
    },
    {
      "cell_type": "markdown",
      "id": "eeepVSSWLhJ5",
      "metadata": {
        "id": "eeepVSSWLhJ5"
      },
      "source": [
        "### **Exercise: Manipulating a Two-Dimensional Array**\n",
        "\n",
        "In this exercise, we will engage with the fundamental concepts of array manipulation using NumPy. The task involves working with a $2$X$2$ array, performing specific operations as outlined below.  \n",
        "\n",
        "1. **Defining an Array**: Define a $2 \\times 2$ array with the following values: <br>\n",
        "  $$\n",
        "  X = \\begin{bmatrix} 1 & 2 \\\\ 3 & 4 \\end{bmatrix}\n",
        "  $$\n",
        "\n",
        "2. **Accessing an Element**: How can one access and print the element at the $0$-th row and $0$-th column?\n",
        "\n",
        "3. **Modifying a Specific Element**: Modify the value at the $0$-th row and $0$-th column; $X[0,0]$ to $10$, and print the updated Array.  \n",
        "\n",
        "4. **Modifying a Column**: Change all values in the second-to-last column to $-25$, and print the final Array.  \n",
        "\n",
        "Use the code block below to attempt the exercise. The solution can be found below."
      ]
    },
    {
      "cell_type": "code",
      "execution_count": null,
      "id": "Jm9WzlmvKd8v",
      "metadata": {
        "id": "Jm9WzlmvKd8v"
      },
      "outputs": [],
      "source": [
        "import numpy as np\n",
        "\n",
        "\"\"\"Your Code Here\"\"\"\n",
        "\n",
        "# Define a 2x2 array\n",
        "\n",
        "# Accessing a specific element (0th row, 0th column)\n",
        "\n",
        "\n",
        "# Modifying the value at (0th row, 1th column) to 10\n",
        "\n",
        "\n",
        "# Modifying all values in the second-to-last column to -25\n"
      ]
    },
    {
      "cell_type": "markdown",
      "id": "ySAq41C-KA8e",
      "metadata": {
        "id": "ySAq41C-KA8e"
      },
      "source": [
        "#### **Explanation**:\n",
        "The following notations are fundamental in understanding how to access and manipulate specific elements within an array:\n",
        "- The notation $X[:, j]$ can be used to access or modify all elements in a specific column.\n",
        "\n",
        "#### **Key Insights**\n",
        "- The stop value represents the first value not included in the slice.\n",
        "- Python gracefully handles cases where there are fewer items than requested, returning an empty list rather than an error.\n",
        "- Slicing provides a flexible and efficient way to access and manipulate array data. It's a fundamental skill for working with NumPy and Python in general.\n",
        "- For more detailed information on slicing, including advanced techniques and examples, [visit this link](https://stackoverflow.com/questions/509211/how-slicing-in-python-works).\n"
      ]
    },
    {
      "cell_type": "markdown",
      "id": "g4dsLii7OvFv",
      "metadata": {
        "id": "g4dsLii7OvFv"
      },
      "source": [
        "### **Exercises: Working with Zeros and Ones**\n",
        "\n",
        "Let’s begin with creating Arrays, to get familiar with the documentation and syntax. For these problems, use the [*NumPy documentation*](https://numpy.org/doc/stable/reference/generated/numpy.zeros.html) to find hints.\n",
        "\n",
        "1. **Array of Zeros with Dimesions $(10,4)$**: Create a $(10 \\times 4)$ array filled entirely with zeros.\n",
        "\n",
        "\n",
        "\n",
        "2. **Array of Zeros with a Specific Element**: Create an array of size $12$ filled with zeros, but set the value at the $6$-th element to $4$.\n",
        "\n",
        "These exercises provide a foundational understanding of array creation and modification in NumPy. Take some time to explore the documentation, discover relevant functions, and implement the solutions.\n"
      ]
    },
    {
      "cell_type": "code",
      "execution_count": null,
      "id": "0CVOtCQEvDiV",
      "metadata": {
        "id": "0CVOtCQEvDiV"
      },
      "outputs": [],
      "source": [
        "#Array of Zeros with Dimensions\n",
        "\n",
        "\n",
        "\"Your Code here\""
      ]
    },
    {
      "cell_type": "code",
      "execution_count": null,
      "id": "ItJqmXxLw_Ub",
      "metadata": {
        "id": "ItJqmXxLw_Ub"
      },
      "outputs": [],
      "source": [
        "#Array of Zeros with a Specific Element\n",
        "\n",
        "\"Your Code here\""
      ]
    },
    {
      "cell_type": "markdown",
      "id": "a521141a",
      "metadata": {},
      "source": [
        "**(Advance Exercises)**\n",
        "1. Increase the dimensionality of the Array. <br>\n",
        "    Transform an array of $(10, 4)$ size to $(1, 10, 4)$\n",
        "2. Matrix into a vector. <br>\n",
        "    Transform an array of $(10, 4)$ size to $(40)$\n",
        "2. Reshape an array. <br>\n",
        "    Transform an array of $(10, 4)$ size to $(5,8)$\n",
        "    "
      ]
    },
    {
      "cell_type": "code",
      "execution_count": null,
      "id": "620b5c73",
      "metadata": {},
      "outputs": [],
      "source": [
        "\"Your Code here\"\n"
      ]
    },
    {
      "cell_type": "markdown",
      "id": "sJ3Fhv9SKxot",
      "metadata": {
        "id": "sJ3Fhv9SKxot"
      },
      "source": [
        "# **The Power of NumPy: Analysing Solubility Data**\n",
        "\n",
        "In scientific research, data analysis often requires handling large and complex datasets. The ability to manipulate and analyse this data efficiently is paramount. This is where NumPy comes into play. Let's explore how we can apply our understanding of NumPy to a real-world dataset related to solubility.  \n",
        "  \n"
      ]
    },
    {
      "cell_type": "code",
      "execution_count": null,
      "id": "cISH2RIEK_V7",
      "metadata": {
        "id": "cISH2RIEK_V7"
      },
      "outputs": [],
      "source": [
        "# Importing necessary libraries\n",
        "import pandas as pd\n",
        "\n",
        "# URL containing the solubility data\n",
        "data_url = \"https://github.com/RodrigoAVargasHdz/CHEM-4PB3/raw/main/Course_Notes/data/solubility.csv\"\n",
        "\n",
        "# Reading the data and converting the Solubility column to a NumPy array\n",
        "data = pd.read_csv(data_url)\n",
        "solubility = np.asarray(data.Solubility)\n",
        "\n",
        "# How many points does the solubility data set have?\n"
      ]
    },
    {
      "cell_type": "markdown",
      "id": "lXVJyVH3M1Jh",
      "metadata": {
        "id": "lXVJyVH3M1Jh"
      },
      "source": [
        "With 9982 data points in the solubility dataset, we're ready to move on to the next stage of our analysis. The use of **NumPy's `np.asarray()`** function will allow us to transform this data for more complex computations.\n",
        "\n",
        "### **Understanding `np.asarray()`**\n",
        "The `np.asarray()` function is a fundamental tool in NumPy's arsenal. It allows us to transform data from one format, such as a **Panda's DataFrame**, into a **NumPy Array**.\n",
        "- **How does it work?** The `np.asarray()` function takes the input data (in this case, the Solubility column from the DataFrame) and creates a **new** NumPy Array containing the same data.\n",
        "\n"
      ]
    },
    {
      "cell_type": "markdown",
      "id": "ooqHxXeMSh1j",
      "metadata": {
        "id": "ooqHxXeMSh1j"
      },
      "source": [
        "## **Exercise: Calculating Mean and Standard Deviation**\n",
        "You have been provided with solubility data, represented as an array of numerical values. Your task is to calculate both the Mean and Standard deviation of this data using the following formulas:\n",
        "\n",
        "<br>\n",
        "\n",
        "$$\n",
        "\\mu = \\frac{1}{N} \\sum_{i=1}^{N} x_i\n",
        "$$\n",
        "\n",
        "<br>\n",
        "\n",
        "$$\n",
        "\\sigma = \\sqrt{\\frac{1}{N} \\sum_{i=1}^{N} (x_i - \\mu)^2}\n",
        "$$\n",
        "\n",
        "#### **Hints:**\n",
        "\n",
        "\n",
        "*   Remember to use NumPy functions such as **`np.sum()`, `np.sqrt()`,** and **`np.shape()`** to assist you in your calculations. Pay close attention to the equations.\n",
        "*   Analyse the **`type`** of the variables. Try to read through the [*NumPy documentation*](https://numpy.org/doc/stable/reference/generated/numpy.zeros.html) to find class specific syntax, to avoid errors.\n",
        "\n",
        "\n"
      ]
    },
    {
      "cell_type": "code",
      "execution_count": null,
      "id": "Qy93Hqe-VPjn",
      "metadata": {
        "id": "Qy93Hqe-VPjn"
      },
      "outputs": [],
      "source": [
        "# Function to calculate the Mean\n",
        "\n",
        "\n",
        "\"\"\"Your Code Here\"\"\"\n",
        "\n",
        "\n",
        "# Function to calculate the Standard Deviation\n",
        "\n",
        "\n",
        "\"\"\"Your Code Here\"\"\""
      ]
    },
    {
      "cell_type": "markdown",
      "id": "6uN9_gq1YUxM",
      "metadata": {
        "id": "6uN9_gq1YUxM"
      },
      "source": [
        "## **Exercises: What’s hiding in the data?**\n",
        "\n",
        "\n",
        "\n",
        "1. **Finding the 10 Lowest Solubility Values:** Write a function that extracts the 10 lowest solubility values from the data set. Consider using [*NumPy*](https://numpy.org/doc/stable/reference/generated/numpy.zeros.html) functions that can help you sort or filter the data.  \n",
        "\n",
        "\n",
        "\n",
        "\n",
        "2. **Calculating the Median of the Solubility Dataset:** Write code to calculate the **Median** of the Solubility dataset. If the number of values $N$ is odd, the median is the middle value. If $N$ is even, the median is the average of the two middle values.\n",
        "\n"
      ]
    },
    {
      "cell_type": "code",
      "execution_count": null,
      "id": "ACQ7Hdm9Y_4S",
      "metadata": {
        "id": "ACQ7Hdm9Y_4S"
      },
      "outputs": [],
      "source": [
        "# Finding the 10 Lowest Solubility Values\n",
        "\n",
        "\n",
        "\"\"\"Your Code here\"\"\"\n",
        "\n"
      ]
    },
    {
      "cell_type": "code",
      "execution_count": null,
      "id": "HVJIytLraaCy",
      "metadata": {
        "id": "HVJIytLraaCy"
      },
      "outputs": [],
      "source": [
        "#Calculating the Median of the Solubility Dataset\n",
        "\n",
        "\n",
        "\"\"\"Your Code here\"\"\"\n",
        "\n",
        "\n"
      ]
    },
    {
      "cell_type": "markdown",
      "id": "0d82e285",
      "metadata": {
        "id": "0d82e285"
      },
      "source": [
        "# **Tensors in Image Analysis: Exploring the Multidimensional World**\n",
        "\n",
        "## **Introduction to Tensors**\n",
        "\n",
        "**Tensors** are mathematical objects that generalize the concepts of scalars, vectors, and matrices. They provide a framework for representing physical quantities across multiple dimensions. A tensor can describe complex relationships in a system and is often used in Physics, Chemistry, and Computer Science to represent **Multi-Dimensional Data**.  \n",
        "  \n",
        "<br>  \n",
        "\n",
        "#### **Historical Perspective: Einstein and the Geometry of the Universe**\n",
        "\n",
        "*Albert Einstein's* use of Tensor Calculus in his Theory of General Relativity marked a significant milestone in Physics. Through Tensor mathematics, Einstein formulated Field Equations that describe the curvature of spacetime, connecting geometry and physics in a profound way. This theory shaped modern cosmology, influencing the study of black holes, gravitational waves, and the structure of the universe."
      ]
    },
    {
      "cell_type": "markdown",
      "id": "94b6bd16",
      "metadata": {
        "id": "94b6bd16"
      },
      "source": [
        "### **Tensors and Their Impact on Computational Models for Electronic Structure and Chemical Bonding**\n",
        "\n",
        "Tensors play a fundamental role in computational chemistry, specifically in the modeling of electronic structures and chemical bonding. Here's how:\n",
        "<br>\n",
        "<br>        \n",
        "\n",
        "#### **Multidimensional Representation of Molecular Structures**\n",
        "\n",
        "Tensors allow for the multidimensional representation of molecular structures, accommodating the complexity of electronic interactions and spatial orientations. They enable accurate modeling of molecular geometries, prediction of chemical properties, and provide the Mathematical foundation for understanding Quantum Mechanics in Chemistry.  \n",
        "<br>\n",
        "![Figure 3](https://pubs.rsc.org/en/Image/Get?imageInfo.ImageType=GA&imageInfo.ImageIdentifier.ManuscriptID=C5CP01215E&imageInfo.ImageIdentifier.Year=2015) <br>\n",
        "[*Figure 3 - Tensor Numerical Methods in Quantum Chemistry. Image by Khoromskaia & Khoromskij*](https://pubs.rsc.org/en/content/articlelanding/2015/cp/c5cp01215e)\n",
        "\n",
        "<br>\n",
        "  \n",
        "\n",
        "#### **Quantum Mechanics and Wave Functions**\n",
        "\n",
        "- **Wave Functions**: Tensors describe wave functions, key to understanding the behavior of electrons within atoms and molecules.\n",
        "- **Energy Levels and Electron Distributions**: They allow for precise calculations of energy levels and electron distributions, critical for predicting molecular behavior and reactions.\n",
        "- **Quantum Chemistry**: Tensors offer flexibility in representing quantum states, enhancing the accuracy of simulations and computational efficiency.\n",
        "\n",
        "\n",
        "<br>\n",
        "\n",
        "#### **Computational Efficiency in Large-Scale Simulations**\n",
        "\n",
        "- **Optimization Algorithms**: Tensors optimize computational algorithms for more efficient simulations of large molecular systems.\n",
        "- **Discovery and Optimization**: They support the discovery of new materials and optimization of chemical processes, bridging the gap between theoretical chemistry and practical applications.\n",
        "\n"
      ]
    },
    {
      "cell_type": "markdown",
      "id": "47ada9a2",
      "metadata": {
        "id": "47ada9a2"
      },
      "source": [
        "## **The Structure of Tensors: Rank, Axes, and Shape**\n",
        "\n",
        "Tensors, as generalized mathematical objects, have distinct properties that define their structure and complexity. Understanding these attributes helps in visualizing and manipulating tensors, especially in applications like image analysis.\n",
        "\n",
        "<br>\n",
        "\n",
        "#### **Rank: The Order of Complexity**\n",
        "\n",
        "The rank of a tensor determines its complexity, reflecting the number of indices required to access individual elements. It defines the level of nesting within the tensor:\n",
        "- **Rank 1**: Vectors, with only one axis (e.g., [1, 2, 3]).\n",
        "- **Rank 2**: Matrices, with two axes, representing rows and columns.\n",
        "- **Rank 3**: Three-dimensional arrays.\n",
        "\n",
        "![Figure 4](https://hkilter.com/images/7/7a/Tensors.png)\n",
        "<br>\n",
        "[*Figure 4 - Tensor Rank and Dimensons Visualized. Image by H. Kemal Ilter*](https://hkilter.com/index.php?title=What_is_Tensor%3F)\n",
        "\n",
        "\n",
        "<br>\n",
        "\n",
        "#### **Axes: The Directions of Data**\n",
        "\n",
        "The Axes of a tensor are the various **directions** or **dimensions** that the data spans. Each axis represents a different aspect or feature of the information:\n",
        "- **Image Example**: In an RGB image, the three axes correspond to **height, width, and color channels**.\n",
        "- **Time-Series Data**: An axis could represent time, with each subsequent axis representing different variables over time.\n",
        "\n",
        "<br>\n",
        "\n",
        "\n",
        "#### **Shape: The Complete Description**\n",
        "\n",
        "The shape of a Tensor encapsulates both its *Rank* and *Size*, offering a comprehensive view of the tensor's structure. It is expressed as an ordered tuple, describing the size of each axis:\n",
        "- **Shape of RGB Image**: Consider an RGB image with a size output of $(300,400,3)$. We can deduce that the image is $300$x$400$ pixels, and has **$3$ colour channels**.  \n",
        "\n",
        "<br>\n"
      ]
    },
    {
      "cell_type": "markdown",
      "id": "5aaaccee",
      "metadata": {
        "id": "5aaaccee"
      },
      "source": [
        "\n",
        "# **Applying Tensors - Analyzing an Image**\n",
        "\n",
        "<br>\n",
        "\n",
        "#### **Image as Data Structure**\n",
        "\n",
        "An image is not merely a visual representation; it constitutes a **complex  data structure**. <br> Analyzing an image as a Tensor provides access to intricate details. To analyze the image, we can use **Python's [Requests, ](https://pypi.org/project/requests/)** **[IO,](https://docs.python.org/3/library/io.html)** and **[Matplotlib Libraries](https://matplotlib.org/stable/users/getting_started/index.html)** to download and display an image from the link.\n",
        "\n",
        "<br>\n",
        "\n",
        "> Use Pip to install the Requests Library. Use the documentation links to learn more about the libraries and how they work.\n",
        "\n",
        "<br>\n"
      ]
    },
    {
      "cell_type": "code",
      "execution_count": null,
      "id": "00cf6cdc",
      "metadata": {
        "id": "00cf6cdc"
      },
      "outputs": [],
      "source": [
        "%matplotlib inline\n",
        "from PIL import Image\n",
        "import requests\n",
        "from io import BytesIO\n",
        "# import pandas as pd\n",
        "# import numpy as np\n",
        "\n",
        "import matplotlib\n",
        "import matplotlib.pyplot as plt\n",
        "\n",
        "# Load image\n",
        "img_url = 'https://future.mcmaster.ca/wp-content/uploads/2020/07/Campus-with-Cootes_jpg.jpg'\n",
        "response = requests.get(img_url)\n",
        "img = Image.open(BytesIO(response.content))\n",
        "\n",
        "fig = plt.figure(figsize=(12, 8), dpi=100, facecolor='w', edgecolor='k')\n",
        "plt.imshow(img)"
      ]
    },
    {
      "cell_type": "markdown",
      "id": "wBZhNS6I0gf4",
      "metadata": {
        "id": "wBZhNS6I0gf4"
      },
      "source": [
        "### **Key Syntax:**\n",
        "\n",
        "- The **`%matplotlib inline`** Displays the plot on the IPython Shell, rather than in a new window.\n",
        "\n",
        "- The **`BytesIO`** library creates an in-memory buffer that stores the binary data.<br>\n",
        "\n",
        "- **`Edgecolour`** and **`Facecolour`** are used to set the edge colour of the figure to black and background colour to white, respectively.\n",
        "\n",
        "Utilizing NumPy, we can convert the image into a Tensor, and extract the **height, width, and color channels.**"
      ]
    },
    {
      "cell_type": "code",
      "execution_count": null,
      "id": "LGFSPY012l-P",
      "metadata": {
        "id": "LGFSPY012l-P"
      },
      "outputs": [],
      "source": [
        "# Convert image to NumPy array (tensor) and tell me the total number of pixels \n",
        "\"\"\" Code Here! \"\"\"\n",
        "\n",
        "# \"\"\" \n",
        "img_np = np.asarray(img)\n",
        "print('Size = ', img_np.shape)\n",
        "# \"\"\""
      ]
    },
    {
      "cell_type": "markdown",
      "id": "RUnWHZWi4hjk",
      "metadata": {
        "id": "RUnWHZWi4hjk"
      },
      "source": [
        "Here, the shape **$(368, 678, 3)$** represents the dimensions of the image.\n",
        "\n",
        "<br>\n",
        "\n",
        "### **Visualizing Color Channels:**\n",
        "In an RGB image, the Channels axis represents the color dimensions. The three channels correspond to Red **$($index$: 0)$**, Green **$($index$: 1)$**, and Blue **$($index$: -1)$**. Each channel is a matrix containing intensity values for that specific color, and together they form the complete color image. The following code displays the red channel of the image:\n",
        "\n",
        "<br>"
      ]
    },
    {
      "cell_type": "code",
      "execution_count": null,
      "id": "hp0idBSm3hxV",
      "metadata": {
        "id": "hp0idBSm3hxV"
      },
      "outputs": [],
      "source": [
        "#Visualizing ONLY the Red color channel"
      ]
    },
    {
      "cell_type": "markdown",
      "id": "b8c9e51f",
      "metadata": {
        "id": "b8c9e51f"
      },
      "source": [
        "#### **Exercises and Challenges - Visualizing Color Channels**\n",
        "\n",
        "1. **Exercises**\n",
        "   - Extract and display the **Green and Blue** channels separately.\n",
        "   - Analyze the distribution of pixel values within each channel and describe the color composition of the image.\n",
        "   \n",
        "\n",
        "2. **Challenges**\n",
        "   - [Learn more](https://towardsdatascience.com/image-data-analysis-using-python-edddfdf128f4) about image anaylsis using *NumPy* and *Matplot*.\n",
        "   - Load and visualize a chosen image's colour channels. Are there any intersting patterns or correlations?\n",
        "   - Create an interactive function that can toggle between the color channels. The solution is available below.  \n"
      ]
    },
    {
      "cell_type": "code",
      "execution_count": null,
      "id": "5ldp8pAxQaDd",
      "metadata": {
        "id": "5ldp8pAxQaDd"
      },
      "outputs": [],
      "source": [
        "#Exercises - Visualizing Color Channels\n",
        "\n",
        "\n",
        "\"\"\"Your Code Here\"\"\""
      ]
    },
    {
      "cell_type": "code",
      "execution_count": null,
      "id": "2q9h54CKQHhF",
      "metadata": {
        "id": "2q9h54CKQHhF"
      },
      "outputs": [],
      "source": [
        "#Challange - Visualizing Color Channels\n",
        "\n",
        "\n",
        "\"\"\"Your Code Here\"\"\"\n",
        "\n",
        "\n"
      ]
    },
    {
      "cell_type": "markdown",
      "id": "679d2e88",
      "metadata": {
        "id": "679d2e88"
      },
      "source": [
        "\n",
        "### **Slicing and Axes in Tensors: Advanced Image Analysis**\n",
        "\n",
        "Slicing is a powerful operation in tensors that enables the extraction and manipulation of specific portions of data. In image analysis, slicing can be used to analyze individual color channels, apply filters, or segment regions.\n"
      ]
    },
    {
      "cell_type": "markdown",
      "id": "4249ea31",
      "metadata": {
        "id": "4249ea31"
      },
      "source": [
        "\n",
        "#### **Exercises and Challenges**\n",
        "\n",
        "1. **Exercises**\n",
        "   - Using Slicing techniques, compute the **Mean** and **Standard Deviation** for each Colour Channel.  \n",
        "\n",
        "2. **Challenges**\n",
        "   - Utilizing the image's Axis and **NumPy's** **`axis`** tuple, compute the **Mean** and **Standard Deviation** for each colour channel.\n",
        "\n",
        "The Solutions to both exercises can be found below."
      ]
    },
    {
      "cell_type": "code",
      "execution_count": null,
      "id": "BfmtIbD6Dtzm",
      "metadata": {
        "id": "BfmtIbD6Dtzm"
      },
      "outputs": [],
      "source": [
        "# Using Slicing to Compute Mean and Standard Deviation for Each Channel\n",
        "\n",
        "\n",
        "\"\"\"Your Code Here\"\"\"\n",
        "\n",
        "\n"
      ]
    },
    {
      "cell_type": "code",
      "execution_count": null,
      "id": "GIARkOTxD1df",
      "metadata": {
        "id": "GIARkOTxD1df"
      },
      "outputs": [],
      "source": [
        "# Using the Image's Axes to Compute Mean and Standard Deviation\n",
        "\n",
        "\n",
        "\"\"\"Your Code Here\"\"\"\n",
        "\n",
        "\n"
      ]
    }
  ],
  "metadata": {
    "colab": {
      "provenance": []
    },
    "kernelspec": {
      "display_name": "Python 3",
      "language": "python",
      "name": "python3"
    },
    "language_info": {
      "codemirror_mode": {
        "name": "ipython",
        "version": 3
      },
      "file_extension": ".py",
      "mimetype": "text/x-python",
      "name": "python",
      "nbconvert_exporter": "python",
      "pygments_lexer": "ipython3",
      "version": "3.9.15"
    }
  },
  "nbformat": 4,
  "nbformat_minor": 5
}
