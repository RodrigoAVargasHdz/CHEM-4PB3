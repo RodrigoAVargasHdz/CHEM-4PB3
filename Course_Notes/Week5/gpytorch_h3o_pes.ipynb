{
 "cells": [
  {
   "attachments": {},
   "cell_type": "markdown",
   "metadata": {},
   "source": [
    "To open on Google Colab\\\n",
    "https://colab.research.google.com/github/RodrigoAVargasHdz/CHEM-4PB3/blob/main/Course_Notes/Week5/gpytorch_h3o_pes.ipynb"
   ]
  },
  {
   "cell_type": "code",
   "execution_count": null,
   "metadata": {},
   "outputs": [],
   "source": [
    "#install  GPytorch\n",
    "!pip install gpytorch"
   ]
  },
  {
   "attachments": {},
   "cell_type": "markdown",
   "metadata": {},
   "source": [
    "## Homework!\n",
    "Fit the H3O+ PES.\n",
    "\n",
    "```python\n",
    "#load data\n",
    "data_url = \"https://github.com/RodrigoAVargasHdz/CHEM-4PB3/raw/main/Course_Notes/data/h3o+\"\n",
    "data = pd.read_csv(data_url)\n",
    "```\n",
    "\n",
    "**References**:\\\n",
    "[Assessing Gaussian Process Regression and Permutationally Invariant Polynomial Approaches To Represent High-Dimensional Potential Energy Surfaces](https://pubs.acs.org/doi/10.1021/acs.jctc.8b00298)"
   ]
  },
  {
   "attachments": {},
   "cell_type": "markdown",
   "metadata": {},
   "source": [
    "Use a modern libraries,\n",
    "\n",
    "1. https://docs.gpytorch.ai/en/stable/\n",
    "2. https://gpjax.readthedocs.io/en/latest/\n",
    "3. https://gpy.readthedocs.io/en/deploy/"
   ]
  },
  {
   "cell_type": "code",
   "execution_count": null,
   "metadata": {},
   "outputs": [],
   "source": [
    "import numpy as np\n",
    "import pandas as pd\n",
    "from sklearn.model_selection import train_test_split\n",
    "\n",
    "#load data\n",
    "data_url = \"https://github.com/RodrigoAVargasHdz/CHEM-4PB3/raw/main/Course_Notes/data/h3o+\"\n",
    "data = pd.read_csv(data_url)\n",
    "print(data.head)\n",
    "\n",
    "Xtot = data.drop(['Energy'],axis=1).to_numpy()\n",
    "ytot = data['Energy'].to_numpy()#[:,np.newaxis]\n",
    "\n",
    "# data            \n",
    "N = 500\n",
    "Nval = 250 \n",
    "X_train,X_test,y_train,y_test = train_test_split(Xtot,ytot,test_size=ytot.shape[0] - N,random_state=0)\n",
    "X_test, y_test = X_test[:Nval],y_test[:Nval]\n",
    "Xtr,Xtst,ytr,ytst = X_train,X_test,y_train,y_test\n"
   ]
  },
  {
   "cell_type": "code",
   "execution_count": null,
   "metadata": {},
   "outputs": [],
   "source": [
    "import matplotlib\n",
    "import matplotlib.pylab as plt\n",
    "\n",
    "plt.figure(figsize=(10,7))\n",
    "plt.hist(data['Energy'],bins=100,density=True)\n",
    "plt.xlabel('Energy',fontsize=20)\n",
    "plt.xticks(fontsize=15)\n",
    "plt.yticks(fontsize=15)"
   ]
  },
  {
   "attachments": {},
   "cell_type": "markdown",
   "metadata": {},
   "source": [
    "## GPyTorch"
   ]
  },
  {
   "cell_type": "code",
   "execution_count": null,
   "metadata": {},
   "outputs": [],
   "source": [
    "import torch\n",
    "import gpytorch\n",
    "\n",
    "# from numpy to torch\n",
    "Xtr = torch.from_numpy(Xtr)\n",
    "ytr = torch.from_numpy(ytr)\n",
    "Xtst = torch.from_numpy(Xtst)\n",
    "ytst = torch.from_numpy(ytst)\n",
    "\n",
    "Xtot = torch.from_numpy(Xtot)\n",
    "ytot = torch.from_numpy(ytot)"
   ]
  },
  {
   "cell_type": "code",
   "execution_count": null,
   "metadata": {},
   "outputs": [],
   "source": [
    "class ExactGPModel(gpytorch.models.ExactGP):\n",
    "    def __init__(self, train_x, train_y, likelihood):\n",
    "        super(ExactGPModel, self).__init__(train_x, train_y, likelihood)\n",
    "        self.mean_module = gpytorch.means.ConstantMean()\n",
    "        self.covar_module = gpytorch.kernels.ScaleKernel(\n",
    "            gpytorch.kernels.RBFKernel(ard_num_dims=train_x.shape[1]))\n",
    "\n",
    "    def forward(self, x):\n",
    "        mean_x = self.mean_module(x)\n",
    "        covar_x = self.covar_module(x)\n",
    "        return gpytorch.distributions.MultivariateNormal(mean_x, covar_x)"
   ]
  },
  {
   "cell_type": "code",
   "execution_count": null,
   "metadata": {},
   "outputs": [],
   "source": [
    "# initialize likelihood and model\n",
    "likelihood = gpytorch.likelihoods.GaussianLikelihood()\n",
    "model = ExactGPModel(Xtr, ytr, likelihood)"
   ]
  },
  {
   "cell_type": "code",
   "execution_count": null,
   "metadata": {},
   "outputs": [],
   "source": [
    "# Find optimal model hyperparameters using ADAM\n",
    "\n",
    "# Use the adam optimizer\n",
    "# Includes GaussianLikelihood parameters\n",
    "optimizer = torch.optim.Adam(model.parameters(), lr=0.1)\n",
    "\n",
    "# \"Loss\" for GPs - the marginal log likelihood\n",
    "mll = gpytorch.mlls.ExactMarginalLogLikelihood(likelihood, model)\n",
    "\n",
    "training_iter = 100\n",
    "mll_trajectory = []\n",
    "mll_trajectory_tst = []\n",
    "for i in range(training_iter):\n",
    "    model.train()\n",
    "    likelihood.train()\n",
    "    # Zero gradients from previous iteration\n",
    "    optimizer.zero_grad()\n",
    "    # Output from model\n",
    "    output = model(Xtr)\n",
    "    # Calc loss and backprop gradients\n",
    "    loss = -mll(output, ytr)\n",
    "    loss.backward()\n",
    "    print('Iter %d/%d - Loss: %.3f  noise: %.6f' % (\n",
    "        i + 1, training_iter, loss.item(),\n",
    "        model.likelihood.noise.item()\n",
    "    ))\n",
    "    print('lengthscale: ', model.covar_module.base_kernel.lengthscale[0])\n",
    "    mll_trajectory.append(loss.item())\n",
    "    optimizer.step()\n",
    "    with torch.no_grad(), gpytorch.settings.fast_pred_var():\n",
    "        model.eval()\n",
    "        likelihood.eval()\n",
    "        ypred = likelihood(model(Xtst))\n",
    "        mse = torch.sqrt(torch.sum((ypred.mean - ytst)**2))\n",
    "        mll_trajectory_tst.append(mse)\n",
    "        "
   ]
  },
  {
   "cell_type": "code",
   "execution_count": null,
   "metadata": {},
   "outputs": [],
   "source": [
    "_,axs = plt.subplots(nrows=1,ncols=2,figsize=(10,10))\n",
    "axs[0].plot(np.arange(training_iter), mll_trajectory,marker='o')\n",
    "axs[1].plot(np.arange(training_iter), mll_trajectory_tst, marker='o')\n",
    "axs[0].set_xlabel('Iterations',fontsize=18)\n",
    "axs[0].set_ylabel('MLL',fontsize=18)\n",
    "axs[1].set_xlabel('Iterations',fontsize=18)\n",
    "axs[1].set_ylabel('RMSE', fontsize=18)\n"
   ]
  },
  {
   "cell_type": "code",
   "execution_count": null,
   "metadata": {},
   "outputs": [],
   "source": [
    "# Prediction with GPyTorch\n",
    "from torch.utils.data import TensorDataset, DataLoader\n",
    "\n",
    "# \tIn all other cases, he suggests using a power of 2 as the mini-batch size.\n",
    "# \tSo the minibatch should be 64, 128, 256, 512, or 1024 elements large.\n",
    "\n",
    "dummy_test_y = torch.full_like(Xtot, dtype=torch.long, fill_value=0)\n",
    "test_dataset = TensorDataset(Xtot, dummy_test_y)\n",
    "test_loader = DataLoader(test_dataset, batch_size=512, shuffle=False)\n",
    "\n",
    "means = torch.tensor([0.])\n",
    "stds = torch.tensor([[0.,0]])\n",
    "with torch.no_grad():\n",
    "\tfor x_batch, _ in test_loader:\n",
    "\t\tpreds = likelihood(model(x_batch.double()))\n",
    "\t\tmean = preds.mean #.cpu()\n",
    "\t\tmeans = torch.cat([means, mean])\n",
    "\t\tl,u = preds.confidence_region()\n",
    "\t\tstd = torch.column_stack((l,u))\n",
    "\t\tstds = torch.vstack((stds,std))\n",
    "        # stds = torch.vstack(stds,std)\n"
   ]
  },
  {
   "cell_type": "code",
   "execution_count": null,
   "metadata": {},
   "outputs": [],
   "source": [
    "from sklearn.metrics import r2_score\n",
    "\n",
    "ytot_gp = means[1:].numpy() # torch to numpy \n",
    "r2 = r2_score(ytot_gp,ytot)\n",
    "\n",
    "plt.figure(figsize=(10,8))\n",
    "plt.scatter(ytot_gp,ytot,s=5)\n",
    "\n",
    "low = np.min(np.stack((ytot_gp,ytot)).flatten())\n",
    "high = np.max(np.stack((ytot_gp,ytot)).flatten())\n",
    "plt.plot([low, high], [low, high], ls=\"--\", c=\".5\", alpha=0.5)\n",
    "\n",
    "plt.title('H3O+ PES (N=%s)'%N,fontsize=18)\n",
    "plt.text(0.02,0.08,r'$R^{2}$ = %.3f'%r2,fontsize=18)\n",
    "plt.xlabel('GP prediction',fontsize=18)\n",
    "plt.ylabel('Quantum Chemistry',fontsize=18)\n",
    "plt.show()"
   ]
  },
  {
   "cell_type": "code",
   "execution_count": null,
   "metadata": {},
   "outputs": [],
   "source": []
  }
 ],
 "metadata": {
  "kernelspec": {
   "display_name": "chem4pb3",
   "language": "python",
   "name": "python3"
  },
  "language_info": {
   "codemirror_mode": {
    "name": "ipython",
    "version": 3
   },
   "file_extension": ".py",
   "mimetype": "text/x-python",
   "name": "python",
   "nbconvert_exporter": "python",
   "pygments_lexer": "ipython3",
   "version": "3.9.15"
  },
  "orig_nbformat": 4,
  "vscode": {
   "interpreter": {
    "hash": "3bd1d19d093f1d1d5dd6cf1becc7a1cffecc3235fce6b74420ac04427a66c9c5"
   }
  }
 },
 "nbformat": 4,
 "nbformat_minor": 2
}
