{
  "cells": [
    {
      "cell_type": "code",
      "execution_count": 1,
      "metadata": {
        "colab": {
          "base_uri": "https://localhost:8080/"
        },
        "id": "JB89nVxL4ryg",
        "outputId": "23821751-cf6b-40d8-91f8-4bd089af76fb"
      },
      "outputs": [
        {
          "name": "stdout",
          "output_type": "stream",
          "text": [
            "Looking in indexes: https://pypi.org/simple, https://us-python.pkg.dev/colab-wheels/public/simple/\n",
            "Collecting gpytorch\n",
            "  Downloading gpytorch-1.9.1-py3-none-any.whl (250 kB)\n",
            "\u001b[2K     \u001b[90m━━━━━━━━━━━━━━━━━━━━━━━━━━━━━━━━━━━━━━━\u001b[0m \u001b[32m250.9/250.9 KB\u001b[0m \u001b[31m5.4 MB/s\u001b[0m eta \u001b[36m0:00:00\u001b[0m\n",
            "\u001b[?25hCollecting linear-operator>=0.2.0\n",
            "  Downloading linear_operator-0.3.0-py3-none-any.whl (155 kB)\n",
            "\u001b[2K     \u001b[90m━━━━━━━━━━━━━━━━━━━━━━━━━━━━━━━━━━━━━━━\u001b[0m \u001b[32m155.6/155.6 KB\u001b[0m \u001b[31m9.7 MB/s\u001b[0m eta \u001b[36m0:00:00\u001b[0m\n",
            "\u001b[?25hRequirement already satisfied: scikit-learn in /usr/local/lib/python3.8/dist-packages (from gpytorch) (1.0.2)\n",
            "Requirement already satisfied: scipy in /usr/local/lib/python3.8/dist-packages (from linear-operator>=0.2.0->gpytorch) (1.7.3)\n",
            "Requirement already satisfied: torch>=1.11 in /usr/local/lib/python3.8/dist-packages (from linear-operator>=0.2.0->gpytorch) (1.13.1+cu116)\n",
            "Requirement already satisfied: threadpoolctl>=2.0.0 in /usr/local/lib/python3.8/dist-packages (from scikit-learn->gpytorch) (3.1.0)\n",
            "Requirement already satisfied: numpy>=1.14.6 in /usr/local/lib/python3.8/dist-packages (from scikit-learn->gpytorch) (1.21.6)\n",
            "Requirement already satisfied: joblib>=0.11 in /usr/local/lib/python3.8/dist-packages (from scikit-learn->gpytorch) (1.2.0)\n",
            "Requirement already satisfied: typing-extensions in /usr/local/lib/python3.8/dist-packages (from torch>=1.11->linear-operator>=0.2.0->gpytorch) (4.4.0)\n",
            "Installing collected packages: linear-operator, gpytorch\n",
            "Successfully installed gpytorch-1.9.1 linear-operator-0.3.0\n",
            "Looking in indexes: https://pypi.org/simple, https://us-python.pkg.dev/colab-wheels/public/simple/\n",
            "Collecting rdkit\n",
            "  Downloading rdkit-2022.9.4-cp38-cp38-manylinux_2_17_x86_64.manylinux2014_x86_64.whl (29.3 MB)\n",
            "\u001b[2K     \u001b[90m━━━━━━━━━━━━━━━━━━━━━━━━━━━━━━━━━━━━━━━━\u001b[0m \u001b[32m29.3/29.3 MB\u001b[0m \u001b[31m43.9 MB/s\u001b[0m eta \u001b[36m0:00:00\u001b[0m\n",
            "\u001b[?25hRequirement already satisfied: numpy in /usr/local/lib/python3.8/dist-packages (from rdkit) (1.21.6)\n",
            "Requirement already satisfied: Pillow in /usr/local/lib/python3.8/dist-packages (from rdkit) (7.1.2)\n",
            "Installing collected packages: rdkit\n",
            "Successfully installed rdkit-2022.9.4\n"
          ]
        }
      ],
      "source": [
        "!pip install gpytorch\n",
        "!pip install rdkit"
      ]
    },
    {
      "attachments": {},
      "cell_type": "markdown",
      "metadata": {
        "id": "pTGMBJ5ZSE3Y"
      },
      "source": [
        "To open on Google Colab [link](https://colab.research.google.com/github/RodrigoAVargasHdz/CHEM-4PB3/blob/main/Course_Notes/Week5/TanimotoKernel.ipynb)"
      ]
    },
    {
      "cell_type": "markdown",
      "metadata": {
        "id": "2LTko0HmS8Fg"
      },
      "source": [
        "# Kernel for strings\n",
        "\n",
        "The kernel between two strings $\\mathbf{x}$ and $\\mathbf{x}'$ can be defined as,\\\n",
        "$k(x,x') = \\sum_{a\\in{\\cal A}^*}\\omega_s \\phi_s(\\mathbf{x})\\phi_s(\\mathbf{x}')$,\\\n",
        "where \n",
        "*  $\\phi_s(\\mathbf{x})$ denote the number of times that substring $s$ appears in string $\\mathbf{x}$\n",
        "* ${\\cal A}$ is the alphabet of characters.\n",
        "* $\\omega_s$ is a non-negative weight for substring $s$\n",
        "</br>\n",
        "</br>\n",
        "\n",
        "(**Example from Ref. [2](https://papers.nips.cc/paper/2000/file/68c694de94e6c110f42e587e8e48d852-Paper.pdf)**)\\\n",
        "![Arrays](https://raw.github.com/RodrigoAVargasHdz/CHEM-4PB3/master/Course_Notes/Figures/StringKernel.png)\n",
        "\n",
        "\n",
        "</br>\n",
        "</br>\n",
        "\n",
        "**References**\n",
        "1. [GP Book, Chapter 4, Section 4.4](https://gaussianprocess.org/gpml/chapters/) \n",
        "2. [(paper) Text classification with string kernels](https://papers.nips.cc/paper/2000/file/68c694de94e6c110f42e587e8e48d852-Paper.pdf)\n",
        "3. [(paper) GAUCHE: A Library for Gaussian Processes in Chemistry](https://ml4physicalsciences.github.io/2022/files/NeurIPS_ML4PS_2022_75.pdf)\n",
        "4. [(Wiki) String kernels](https://en.wikipedia.org/wiki/String_kernel)"
      ]
    },
    {
      "cell_type": "markdown",
      "metadata": {
        "id": "0kKCzBy4ZnR-"
      },
      "source": [
        "# Kernels for molecules\n",
        "**Reference**: [paper](https://papers.nips.cc/paper/2000/file/68c694de94e6c110f42e587e8e48d852-Paper.pdf)\n",
        "\n",
        "## Scalar product kernel\n",
        "$k_{\\text{Scalar Product}}(\\mathbf{x},\\mathbf{x}') = \\ell \\cdot \\langle \\mathbf{x},\\mathbf{x}' \\rangle$, \\\n",
        "where\n",
        "* $\\langle \\mathbf{x},\\mathbf{x}' \\rangle$ is the  Euclidean inner product; $\\langle \\mathbf{x},\\mathbf{x}' \\rangle = \\sum_i x_i x'_i$.\n",
        "* $\\ell$ is a scalar signal variance hyperparameter.\n",
        "</br>\n",
        "</br>\n",
        "\n",
        "## Tanimoto kernel\n",
        "General similarity metric for **binary attributes**, used in [Ref.](https://doi.org/10.1016/j.neunet.2005.07.009) for cheminformatics.\n",
        "\n",
        "$k_{\\text{Tanimoto}}(\\mathbf{x},\\mathbf{x}') = \\ell \\cdot \\frac{\\langle \\mathbf{x},\\mathbf{x}' \\rangle}{\\|\\mathbf{x} \\|^2 + \\|\\mathbf{x}'\\|^2 - \\langle \\mathbf{x},\\mathbf{x}' \\rangle}$, \\\n",
        "where\n",
        "* $\\| \\;\\; \\|$ is the Euclidian norm\n",
        "* $\\mathbf{x}$ is a binary vector, $x_i = \\{0,1\\}$\n",
        "</br>\n",
        "</br>\n",
        "\n",
        "## Graph kernel\n",
        "$k_{\\text{Gprah}}(g,g') = \\ell \\cdot \\langle \\phi(g),\\phi(g') \\rangle_{{\\cal H}}$,\n",
        "where,\n",
        "* $\\langle \\phi(g),\\phi(g') \\rangle_{{\\cal H}}$  measures the similarity betweene two molecular graphs. Related to graph isomorphism. \n",
        "* $\\ell$ is a scalar signal variance hyperparameter.\n",
        "\n",
        "The graph kernel was used in our previuos tutorial [link](https://colab.research.google.com/github/RodrigoAVargasHdz/CHEM-4PB3/blob/main/Course_Notes/Week5/gpytorch_molecules.ipynb)\n",
        "\n",
        "\n",
        "\n"
      ]
    },
    {
      "cell_type": "markdown",
      "metadata": {
        "id": "tyODuoF-ZscZ"
      },
      "source": [
        "# Code"
      ]
    },
    {
      "cell_type": "code",
      "execution_count": 2,
      "metadata": {
        "id": "0wxMfcG14tT8"
      },
      "outputs": [],
      "source": [
        "import numpy as np\n",
        "import pandas as pd\n",
        "import torch\n",
        "import gpytorch\n",
        "from gpytorch.kernels import Kernel\n",
        "from rdkit.Chem import AllChem, Descriptors, MolFromSmiles\n",
        "from rdkit.Chem.Draw import IPythonConsole\n",
        "from rdkit.Chem import Draw"
      ]
    },
    {
      "cell_type": "markdown",
      "metadata": {
        "id": "jmVBPP_IhLIz"
      },
      "source": [
        "## Tanimoto kernel in Torch\n",
        "Code is based on this [online tutorial](https://towardsdatascience.com/gaussian-process-regression-on-molecules-in-gpflow-ee6fedab2130), where $k_{\\text{Tanimoto}}(\\cdot,⋅)$ was coded in TensorFlow. \\\n",
        "For defining your own kernel in Gpytorch, one can follow the following [tutorial](https://docs.gpytorch.ai/en/stable/examples/00_Basic_Usage/Implementing_a_custom_Kernel.html).\n",
        "\n"
      ]
    },
    {
      "cell_type": "code",
      "execution_count": 3,
      "metadata": {
        "id": "LDG5f2duzf6K"
      },
      "outputs": [],
      "source": [
        "from gpytorch.constraints import Positive\n",
        "from torch import Tensor\n",
        "\n",
        "# from ChatGPT\n",
        "# '''Write me a code compatible with GPyTorch for the Tanimoto kernel function'''\n",
        "# '''remove the lengthscale parameter'''\n",
        "class TanimotoKernel(gpytorch.kernels.Kernel):\n",
        "    def __init__(self, active_dims=None):\n",
        "        super(TanimotoKernel, self).__init__(active_dims=active_dims)\n",
        "        self.register_parameter(\n",
        "            name=\"raw_variance\", parameter=torch.nn.Parameter(torch.zeros(1))\n",
        "        )\n",
        "        self.register_constraint(\"raw_variance\", gpytorch.constraints.Positive())\n",
        "\n",
        "    @property\n",
        "    def variance(self):\n",
        "        return self.raw_variance_constraint.transform(self.raw_variance)\n",
        "\n",
        "    @variance.setter\n",
        "    def variance(self, value):\n",
        "        self.raw_variance = self.raw_variance_constraint.inverse_transform(value)\n",
        "\n",
        "    def forward(self, x1, x2, **params):\n",
        "        x1_ = x1.unsqueeze(-2)\n",
        "        x2_ = x2.unsqueeze(-3)\n",
        "        numerator = torch.sum(x1_ * x2_, dim=-1)\n",
        "        denominator = torch.sum(x1_ ** 2, dim=-1) + torch.sum(x2_ ** 2, dim=-1) - numerator\n",
        "        return self.variance * numerator / denominator\n",
        "\n",
        "    # def forward(self, x1, x2, **params):\n",
        "    #     x1_ = x1.unsqueeze(-2)\n",
        "    #     x2_ = x2.unsqueeze(-3)\n",
        "    #     numerator = torch.sum(x1_ * x2_, dim=-1)\n",
        "    #     denominator = torch.sum(x1_ + x2_ - x1_ * x2_, dim=-1)\n",
        "    #     return self.variance * numerator / denominator"
      ]
    },
    {
      "cell_type": "code",
      "execution_count": 6,
      "metadata": {
        "colab": {
          "base_uri": "https://localhost:8080/"
        },
        "id": "ajZLieLQozB3",
        "outputId": "7274f9e9-0219-43f8-dfec-042f0a20abfe"
      },
      "outputs": [
        {
          "name": "stdout",
          "output_type": "stream",
          "text": [
            "Random vectors\n",
            "tensor([[1, 0, 1, 0, 1],\n",
            "        [0, 0, 1, 1, 1]], dtype=torch.int32)\n"
          ]
        }
      ],
      "source": [
        "x1 = (torch.rand(size=(2,5)) < 0.5).int()\n",
        "print('Random vectors')\n",
        "print(x1)"
      ]
    },
    {
      "cell_type": "code",
      "execution_count": 7,
      "metadata": {
        "colab": {
          "base_uri": "https://localhost:8080/"
        },
        "id": "-uD9y1mQuBZi",
        "outputId": "f0c03ee1-41da-4853-dd9c-7611a216294d"
      },
      "outputs": [
        {
          "name": "stdout",
          "output_type": "stream",
          "text": [
            "torch.Size([2, 1, 5])\n",
            "tensor([[[1, 0, 1, 0, 1]],\n",
            "\n",
            "        [[0, 0, 1, 1, 1]]], dtype=torch.int32)\n",
            "torch.Size([1, 2, 5])\n",
            "tensor([[[1, 0, 1, 0, 1],\n",
            "         [0, 0, 1, 1, 1]]], dtype=torch.int32)\n",
            "*\n",
            "tensor([[3, 2],\n",
            "        [2, 3]])\n",
            "tensor([[3, 2],\n",
            "        [2, 3]], dtype=torch.int32)\n",
            "*\n",
            "Kernel matrix\n",
            "tensor([[0.6931, 0.3466],\n",
            "        [0.3466, 0.6931]], grad_fn=<DivBackward0>)\n"
          ]
        }
      ],
      "source": [
        "print(x1.unsqueeze(-2).shape)\n",
        "print(x1.unsqueeze(-2))\n",
        "print(x1.unsqueeze(-3).shape)\n",
        "print(x1.unsqueeze(-3))\n",
        "print('*')\n",
        "\n",
        "print(torch.sum(x1.unsqueeze(-2) * x1.unsqueeze(-3), dim=-1))\n",
        "print(torch.tensordot(x1,x1, dims=([-1],[-1])))\n",
        "print('*')\n",
        "\n",
        "kernel = TanimotoKernel()\n",
        "K = kernel.forward(x1,x1) ## is this corrrect?\n",
        "print('Kernel matrix')\n",
        "print(K)"
      ]
    },
    {
      "cell_type": "markdown",
      "metadata": {
        "id": "_VR_hsoFicf4"
      },
      "source": [
        "# Example Caffeine"
      ]
    },
    {
      "cell_type": "code",
      "execution_count": 4,
      "metadata": {
        "id": "Yan0PJKRvIxW"
      },
      "outputs": [],
      "source": [
        "def get_fingerprints(m_smiles,radius=2):\n",
        "  m = MolFromSmiles(m_smiles)\n",
        "  m_fingerprints = AllChem.GetMorganFingerprintAsBitVect(m, radius=radius, nBits=2048)\n",
        "  return np.asarray(m_fingerprints)"
      ]
    },
    {
      "cell_type": "code",
      "execution_count": 9,
      "metadata": {
        "colab": {
          "base_uri": "https://localhost:8080/",
          "height": 167
        },
        "id": "4cCLNej25j5Z",
        "outputId": "541b6c62-fff4-441a-dccb-6a11a6e3dfac"
      },
      "outputs": [
        {
          "data": {
            "image/png": "[encoded data removed]",
            "text/plain": [
              "<rdkit.Chem.rdchem.Mol at 0x7f942111fe40>"
            ]
          },
          "execution_count": 9,
          "metadata": {},
          "output_type": "execute_result"
        }
      ],
      "source": [
        "caff_sm = 'CN1C=NC2=C1C(=O)N(C(=O)N2C)C'\n",
        "m = MolFromSmiles(caff_sm)\n",
        "x_caff_fp = get_fingerprints(caff_sm)\n",
        "m"
      ]
    },
    {
      "cell_type": "markdown",
      "metadata": {
        "id": "wifKQjwA9zqO"
      },
      "source": [
        "Molecules similar to caffeine [link](https://www.acs.org/education/resources/highschool/chemmatters/past-issues/archive-2013-2014/caffeine.html)\\\n",
        "[Paraxanthine](https://en.wikipedia.org/wiki/Paraxanthine)"
      ]
    },
    {
      "cell_type": "code",
      "execution_count": 10,
      "metadata": {
        "colab": {
          "base_uri": "https://localhost:8080/",
          "height": 167
        },
        "id": "hZK1nAe-6smi",
        "outputId": "dc4b8f99-64ea-431b-fa68-70c914b2e724"
      },
      "outputs": [
        {
          "data": {
            "image/png": "[encoded data removed]",
            "text/plain": [
              "<rdkit.Chem.rdchem.Mol at 0x7f94241c5ba0>"
            ]
          },
          "execution_count": 10,
          "metadata": {},
          "output_type": "execute_result"
        }
      ],
      "source": [
        "# Paraxanthine\n",
        "parax_sm = 'O=C2Nc1ncn(c1C(=O)N2C)C'\n",
        "m1 = MolFromSmiles(parax_sm)\n",
        "x_parax_fp = get_fingerprints(parax_sm)\n",
        "m1"
      ]
    },
    {
      "cell_type": "markdown",
      "metadata": {
        "id": "a0i2sY8L_yMr"
      },
      "source": [
        "Evaluate the Tanimoto kernel."
      ]
    },
    {
      "cell_type": "code",
      "execution_count": 11,
      "metadata": {
        "colab": {
          "base_uri": "https://localhost:8080/"
        },
        "id": "sPrsDhSe7mEs",
        "outputId": "a87593ca-1d01-4ed8-8b4c-8cb92eb0805f"
      },
      "outputs": [
        {
          "name": "stdout",
          "output_type": "stream",
          "text": [
            "Tanimoto kernel for, Caffeine-Caffeine:  tensor([[0.6931]], grad_fn=<DivBackward0>)\n",
            "Tanimoto kernel for, Caffeine-Paraxanthine:  tensor([[0.3367]], grad_fn=<DivBackward0>)\n",
            "Tanimoto kernel for, Paraxanthine-Paraxanthine:  tensor([[0.6931]], grad_fn=<DivBackward0>)\n"
          ]
        }
      ],
      "source": [
        "x_caff = torch.from_numpy(x_caff_fp).unsqueeze(0)\n",
        "x_parax = torch.from_numpy(x_parax_fp).unsqueeze(0)\n",
        "print('Tanimoto kernel for, Caffeine-Caffeine: ',kernel.forward(x_caff,x_caff))\n",
        "print('Tanimoto kernel for, Caffeine-Paraxanthine: ',kernel.forward(x_caff,x_parax))\n",
        "print('Tanimoto kernel for, Paraxanthine-Paraxanthine: ',kernel.forward(x_parax,x_parax))"
      ]
    },
    {
      "cell_type": "markdown",
      "metadata": {
        "id": "jkw0nGLK-zJa"
      },
      "source": [
        "# More data!!"
      ]
    },
    {
      "cell_type": "code",
      "execution_count": 5,
      "metadata": {
        "colab": {
          "base_uri": "https://localhost:8080/"
        },
        "id": "paSfRV_m8rE3",
        "outputId": "9c132661-d487-440a-b9f6-242af8f4ec4e"
      },
      "outputs": [
        {
          "name": "stdout",
          "output_type": "stream",
          "text": [
            "Index(['ID', 'Name', 'InChI', 'InChIKey', 'SMILES', 'Solubility', 'SD',\n",
            "       'Ocurrences', 'Group', 'MolWt', 'MolLogP', 'MolMR', 'HeavyAtomCount',\n",
            "       'NumHAcceptors', 'NumHDonors', 'NumHeteroatoms', 'NumRotatableBonds',\n",
            "       'NumValenceElectrons', 'NumAromaticRings', 'NumSaturatedRings',\n",
            "       'NumAliphaticRings', 'RingCount', 'TPSA', 'LabuteASA', 'BalabanJ',\n",
            "       'BertzCT'],\n",
            "      dtype='object')\n"
          ]
        }
      ],
      "source": [
        "data_url = \"https://github.com/RodrigoAVargasHdz/CHEM-4PB3/raw/main/Course_Notes/data/solubility.csv\"\n",
        "data = pd.read_csv(data_url)\n",
        "print(data.columns)"
      ]
    },
    {
      "cell_type": "code",
      "execution_count": 10,
      "metadata": {
        "colab": {
          "base_uri": "https://localhost:8080/"
        },
        "id": "UGIh88D7IVk5",
        "outputId": "02452e84-4182-48db-cfa4-5e7a08c1994a"
      },
      "outputs": [
        {
          "name": "stdout",
          "output_type": "stream",
          "text": [
            "0                  [Br-].CCCCCCCCCCCCCCCCCC[N+](C)(C)C\n",
            "1                                 O=C1Nc2cccc3cccc1c23\n",
            "2                                      Clc1ccc(C=O)cc1\n",
            "3    [Zn++].CC(c1ccccc1)c2cc(C(C)c3ccccc3)c(O)c(c2)...\n",
            "4    C1OC1CN(CC2CO2)c3ccc(Cc4ccc(cc4)N(CC5CO5)CC6CO...\n",
            "5                                       Cc1cccc(C=C)c1\n",
            "6                                  CCC1CCC(CCC(O)=O)C1\n",
            "7    CC12CC(O)C3C(CCC4=CC(=O)C=CC34C)C1CC(O)C2(O)C(...\n",
            "8                          Fc1ccc(cc1)C(=O)c2ccc(F)cc2\n",
            "9                  O=C(OCCCOCCCOC(=O)c1ccccc1)c2ccccc2\n",
            "Name: SMILES, dtype: object\n"
          ]
        }
      ],
      "source": [
        "# print 10 molecules\n",
        "print(data['SMILES'][:10])"
      ]
    },
    {
      "cell_type": "code",
      "execution_count": 6,
      "metadata": {
        "id": "C3JTBl5QIa0c"
      },
      "outputs": [],
      "source": [
        "# compute the FingerPrints for all molecules\n",
        "X_fp = []\n",
        "molecules = data['SMILES']#[:1000]\n",
        "for m in molecules:\n",
        "  x = get_fingerprints(m)\n",
        "  X_fp.append(x)"
      ]
    },
    {
      "cell_type": "code",
      "execution_count": 16,
      "metadata": {
        "colab": {
          "base_uri": "https://localhost:8080/",
          "height": 525
        },
        "id": "uCGDchmjw8iI",
        "outputId": "9d649e3e-06b2-49d3-b7b4-8c7acd55737a"
      },
      "outputs": [
        {
          "data": {
            "text/plain": [
              "Text(0, 0.5, 'Counts')"
            ]
          },
          "execution_count": 16,
          "metadata": {},
          "output_type": "execute_result"
        },
        {
          "data": {
            "image/png": "[encoded data removed]",
            "text/plain": [
              "<Figure size 720x576 with 1 Axes>"
            ]
          },
          "metadata": {
            "needs_background": "light"
          },
          "output_type": "display_data"
        }
      ],
      "source": [
        "import matplotlib\n",
        "import matplotlib.pyplot as plt\n",
        "\n",
        "\n",
        "# # compute K(caffeine, molecule)\n",
        "# X_fp = torch.from_numpy(np.asarray(X_fp))\n",
        "# k_t = kernel.forward(x_caff,X_fp)\n",
        "# print(k_t[:1000])\n",
        "\n",
        "# from torch to numpy (don't forget!!)\n",
        "k_values = k_t.detach().numpy()\n",
        "k_values = k_values.flatten()\n",
        "  \n",
        "plt.figure(figsize=(10,8))\n",
        "plt.hist(k_values, bins=100)\n",
        "plt.xticks(fontsize=15)\n",
        "plt.xlabel('Tanimoto Kernel for Caffeine',fontsize=15)\n",
        "plt.ylabel('Counts')"
      ]
    },
    {
      "cell_type": "markdown",
      "metadata": {
        "id": "6lPU_OELyQhD"
      },
      "source": [
        "## Train a GP (GPyTorch)"
      ]
    },
    {
      "cell_type": "code",
      "execution_count": 104,
      "metadata": {
        "colab": {
          "base_uri": "https://localhost:8080/"
        },
        "id": "5yBsY1AGxL3o",
        "outputId": "37906b0c-95b0-454c-f8f6-fc36537d84df"
      },
      "outputs": [
        {
          "name": "stdout",
          "output_type": "stream",
          "text": [
            "(9982, 2048) (9982,)\n"
          ]
        }
      ],
      "source": [
        "from sklearn.model_selection import train_test_split\n",
        "from sklearn.preprocessing import StandardScaler\n",
        "\n",
        "# data\n",
        "# Xtot_np = k_values[:,np.newaxis]\n",
        "Xtot_np = np.asarray(X_fp)\n",
        "ytot_np = data['Solubility'].to_numpy()\n",
        "\n",
        "scaler = StandardScaler()\n",
        "scaler.fit(ytot_np[:,np.newaxis])\n",
        "ytot_np = scaler.transform(ytot_np[:,np.newaxis])\n",
        "ytot_np = ytot_np.ravel()\n",
        "\n",
        "print(Xtot_np.shape,ytot_np.shape)\n",
        "\n",
        "N = 800 #2500\n",
        "Nval = 5000\n",
        "X_train, X_test, y_train, y_test = train_test_split(Xtot_np, ytot_np, \n",
        "                                                    test_size=ytot_np.shape[0] - N, random_state=1)\n",
        "if Nval > 0:\n",
        "    X_test, y_test = X_test[:Nval], y_test[:Nval]\n",
        "    Xtr, Xtst, ytr, ytst = X_train, X_test, y_train, y_test\n",
        "\n",
        "if torch.cuda.is_available():\n",
        "    Xtr = torch.from_numpy(Xtr).cuda()\n",
        "    ytr = torch.from_numpy(ytr).float().cuda()\n",
        "else:\n",
        "    Xtr = torch.from_numpy(Xtr)\n",
        "    ytr = torch.from_numpy(ytr).float()\n",
        "\n",
        "Xtst = torch.from_numpy(Xtst).double()\n",
        "ytst = torch.from_numpy(ytst).float()\n",
        "\n",
        "Xtot = torch.from_numpy(Xtot_np)\n",
        "ytot = torch.from_numpy(ytot_np)"
      ]
    },
    {
      "cell_type": "code",
      "execution_count": 105,
      "metadata": {
        "id": "ONkMRcgnz98k"
      },
      "outputs": [],
      "source": [
        "class ExactGPModel(gpytorch.models.ExactGP):\n",
        "    def __init__(self, train_x, train_y, likelihood):\n",
        "        super(ExactGPModel, self).__init__(train_x, train_y, likelihood)\n",
        "        self.mean_module = gpytorch.means.ConstantMean()\n",
        "        self.covar_module = TanimotoKernel()\n",
        "        # self.covar_module = gpytorch.kernels.ScaleKernel(\n",
        "        #     gpytorch.kernels.RBFKernel(ard_num_dims=train_x.shape[1]))\n",
        "\n",
        "    def forward(self, x):\n",
        "        mean_x = self.mean_module(x)\n",
        "        covar_x = self.covar_module(x)\n",
        "        return gpytorch.distributions.MultivariateNormal(mean_x, covar_x)"
      ]
    },
    {
      "cell_type": "code",
      "execution_count": 107,
      "metadata": {
        "id": "SVa65cegyna0"
      },
      "outputs": [],
      "source": [
        "# initialize likelihood and model\n",
        "\n",
        "# likelihood = gpytorch.likelihoods.GaussianLikelihood().double()\n",
        "# likelihood.noise = 1e-5  # Some small value, but don't make it too small or numerical performance will suffer. I recommend 1e-4.\n",
        "# likelihood.noise_covar.raw_noise.requires_grad_(False)\n",
        "\n",
        "likelihood = gpytorch.likelihoods.GaussianLikelihood(noise_constraint=gpytorch.constraints.GreaterThan(1e-6)).double()\n",
        "likelihood.noise = 1e-5 \n",
        "\n",
        "model = ExactGPModel(Xtr, ytr, likelihood).double()\n",
        "\n",
        "if torch.cuda.is_available():\n",
        "    likelihood.cuda()\n",
        "    model.cuda()"
      ]
    },
    {
      "cell_type": "code",
      "execution_count": null,
      "metadata": {
        "id": "Dtt1bK6wCX-_"
      },
      "outputs": [],
      "source": [
        "kernel = TanimotoKernel()\n",
        "K = kernel.forward(Xtr,Xtr)\n",
        "for i, k in enumerate(K):\n",
        "  if not torch.any(torch.isnan(k)):\n",
        "    print(i)\n",
        "    print(Xtr[i])"
      ]
    },
    {
      "cell_type": "code",
      "execution_count": 111,
      "metadata": {
        "colab": {
          "base_uri": "https://localhost:8080/"
        },
        "collapsed": true,
        "id": "OgDhyMyIz3_J",
        "outputId": "94d7bf89-9459-447f-9ef9-a0bb37dbdd48"
      },
      "outputs": [
        {
          "name": "stdout",
          "output_type": "stream",
          "text": [
            "Iter 0/250 - Loss: 1.73602  noise: 0.001367\n",
            "sigma:  0.7407299127587654\n",
            "Iter 25/250 - Loss: 1.13576  noise: 0.010175\n",
            "sigma:  0.7229954210681341\n",
            "Iter 50/250 - Loss: 1.08573  noise: 0.024271\n",
            "sigma:  0.7028204423008128\n",
            "Iter 75/250 - Loss: 1.07579  noise: 0.036209\n",
            "sigma:  0.6812086216736876\n",
            "Iter 100/250 - Loss: 1.07255  noise: 0.045821\n",
            "sigma:  0.669549386373176\n",
            "Iter 125/250 - Loss: 1.07140  noise: 0.053156\n",
            "sigma:  0.660018762802769\n",
            "Iter 150/250 - Loss: 1.07102  noise: 0.058174\n",
            "sigma:  0.653824386456682\n",
            "Iter 175/250 - Loss: 1.07091  noise: 0.061204\n",
            "sigma:  0.6501824247005354\n",
            "Iter 200/250 - Loss: 1.07089  noise: 0.062819\n",
            "sigma:  0.6482620022559736\n",
            "Iter 225/250 - Loss: 1.07088  noise: 0.063580\n",
            "sigma:  0.6473607397121579\n",
            "Iter 250/250 - Loss: 1.07088  noise: 0.063896\n",
            "sigma:  0.646988144792369\n"
          ]
        }
      ],
      "source": [
        "# Find optimal model hyperparameters using ADAM\n",
        "\n",
        "# Use the adam optimizer\n",
        "# Includes GaussianLikelihood parameters\n",
        "optimizer = torch.optim.Adam(model.parameters(), lr=0.1)\n",
        "\n",
        "# \"Loss\" for GPs - the marginal log likelihood\n",
        "mll = gpytorch.mlls.ExactMarginalLogLikelihood(likelihood, model)\n",
        "\n",
        "training_iter = 250\n",
        "mll_trajectory = []\n",
        "mll_trajectory_tst = []\n",
        "for i in range(training_iter+1):\n",
        "    model.train()\n",
        "    likelihood.train()\n",
        "    # Zero gradients from previous iteration\n",
        "    optimizer.zero_grad()\n",
        "    # Output from model\n",
        "    output = model(Xtr)\n",
        "    # Calc loss and backprop gradients\n",
        "    loss = -mll(output, ytr)\n",
        "    loss.backward()\n",
        "    mll_trajectory.append(loss.item())\n",
        "\n",
        "    if (i % 25) == 0.:\n",
        "      print('Iter %d/%d - Loss: %.5f  noise: %.6f' % (\n",
        "          i, training_iter, loss.item(),\n",
        "          model.likelihood.noise.item()\n",
        "      ))\n",
        "      print('sigma: ', model.covar_module.variance.item())\n",
        "    optimizer.step()"
      ]
    },
    {
      "cell_type": "markdown",
      "metadata": {
        "id": "KBFpN4AeJarh"
      },
      "source": [
        "## Prediction"
      ]
    },
    {
      "cell_type": "code",
      "execution_count": 112,
      "metadata": {
        "id": "tKwi4YCU0ZnL"
      },
      "outputs": [],
      "source": [
        "# Prediction with GPyTorch\n",
        "from torch.utils.data import TensorDataset, DataLoader\n",
        "\n",
        "# \tIn all other cases, he suggests using a power of 2 as the mini-batch size.\n",
        "# \tSo the minibatch should be 64, 128, 256, 512, or 1024 elements large.\n",
        "\n",
        "\n",
        "dummy_test_y = torch.full_like(Xtst, dtype=torch.long, fill_value=0)\n",
        "test_dataset = TensorDataset(Xtst, dummy_test_y)\n",
        "test_loader = DataLoader(test_dataset, batch_size=512, shuffle=False)\n",
        "\n",
        "means = torch.tensor([0.])\n",
        "stds = torch.tensor([[0.,0]])\n",
        "\n",
        "model.eval()\n",
        "likelihood.eval()\n",
        "with torch.no_grad():\n",
        "    for x_batch, _ in test_loader:\n",
        "      if torch.cuda.is_available():\n",
        "          xb = x_batch.cuda()\n",
        "      else:\n",
        "          xb = x_batch\n",
        "      preds = likelihood(model(xb))\n",
        "      mean = preds.mean.cpu()\n",
        "      means = torch.cat([means, mean])"
      ]
    },
    {
      "cell_type": "code",
      "execution_count": 113,
      "metadata": {
        "colab": {
          "base_uri": "https://localhost:8080/",
          "height": 547
        },
        "id": "sCLCHOXyJfhA",
        "outputId": "8b9a0c0c-7e69-4790-bcd6-01281ab0cada"
      },
      "outputs": [
        {
          "data": {
            "text/plain": [
              "Text(0, 0.5, 'Data')"
            ]
          },
          "execution_count": 113,
          "metadata": {},
          "output_type": "execute_result"
        },
        {
          "data": {
            "image/png": "[encoded data removed]",
            "text/plain": [
              "<Figure size 720x576 with 1 Axes>"
            ]
          },
          "metadata": {
            "needs_background": "light"
          },
          "output_type": "display_data"
        }
      ],
      "source": [
        "from sklearn.metrics import r2_score\n",
        "import matplotlib\n",
        "import matplotlib.pylab as plt\n",
        "\n",
        "ytot_gp = means[1:].cpu().numpy() # torch to numpy \n",
        "ytst.cpu()\n",
        "r2 = r2_score(ytot_gp,ytst.cpu())\n",
        "\n",
        "plt.figure(figsize=(10,8))\n",
        "plt.scatter(ytot_gp,ytst.cpu(),s=5)\n",
        "\n",
        "low = np.min(np.stack((ytot_gp,ytst.cpu())).flatten())\n",
        "high = np.max(np.stack((ytot_gp,ytst.cpu())).flatten())\n",
        "plt.plot([low, high], [low, high], ls=\"--\", c=\"red\",lw=3.)\n",
        "\n",
        "plt.title('Solubility (N=%s), $R^{2}$ = %.3f'%(N,r2),fontsize=18)\n",
        "# plt.text(0.02,0.08,r'$R^{2}$ = %.3f'%r2,fontsize=18)\n",
        "plt.xlabel('GP prediction',fontsize=18)\n",
        "plt.ylabel('Data',fontsize=18)\n",
        "# plt.show()\n"
      ]
    },
    {
      "cell_type": "code",
      "execution_count": null,
      "metadata": {
        "id": "lCuL15VTLuq6"
      },
      "outputs": [],
      "source": []
    }
  ],
  "metadata": {
    "accelerator": "GPU",
    "colab": {
      "provenance": []
    },
    "gpuClass": "standard",
    "kernelspec": {
      "display_name": "chem4pb3",
      "language": "python",
      "name": "python3"
    },
    "language_info": {
      "name": "python",
      "version": "3.9.15"
    },
    "vscode": {
      "interpreter": {
        "hash": "3bd1d19d093f1d1d5dd6cf1becc7a1cffecc3235fce6b74420ac04427a66c9c5"
      }
    }
  },
  "nbformat": 4,
  "nbformat_minor": 0
}
