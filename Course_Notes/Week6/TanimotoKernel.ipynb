{
  "cells": [
    {
      "cell_type": "code",
      "execution_count": null,
      "metadata": {
        "colab": {
          "base_uri": "https://localhost:8080/"
        },
        "id": "JB89nVxL4ryg",
        "outputId": "c3263847-a41e-4b11-a8e8-d1f4796b9414"
      },
      "outputs": [],
      "source": [
        "!pip install gpytorch\n",
        "!pip install rdkit"
      ]
    },
    {
      "cell_type": "code",
      "execution_count": null,
      "metadata": {
        "id": "yNis3m7wHB1B"
      },
      "outputs": [],
      "source": [
        "To open on Google Colab\\\n",
        "https://colab.research.google.com/github/RodrigoAVargasHdz/CHEM-4PB3/blob/main/Course_Notes/Week5/TanimotoKernel.ipynb"
      ]
    },
    {
      "cell_type": "markdown",
      "metadata": {
        "id": "2LTko0HmS8Fg"
      },
      "source": [
        "# Kernel for strings\n",
        "\n",
        "The kernel between two strings $\\mathbf{x}$ and $\\mathbf{x}'$ can be defined as,\\\n",
        "$k(x,x') = \\sum_{a\\in{\\cal A}^*}\\omega_s \\phi_s(\\mathbf{x})\\phi_s(\\mathbf{x}')$,\\\n",
        "where \n",
        "*  $\\phi_s(\\mathbf{x})$ denote the number of times that substring $s$ appears in string $\\mathbf{x}$\n",
        "* ${\\cal A}$ is the alphabet of characters.\n",
        "* $\\omega_s$ is a non-negative weight for substring $s$\n",
        "</br>\n",
        "</br>\n",
        "\n",
        "(**Example from Ref. [2](https://papers.nips.cc/paper/2000/file/68c694de94e6c110f42e587e8e48d852-Paper.pdf)**)\\\n",
        "![Arrays](https://raw.github.com/RodrigoAVargasHdz/CHEM-4PB3/master/Course_Notes/Figures/StringKernel.png)\n",
        "\n",
        "\n",
        "</br>\n",
        "</br>\n",
        "\n",
        "**References**\n",
        "1. [GP Book, Chapter 4, Section 4.4](https://gaussianprocess.org/gpml/chapters/) \n",
        "2. [(paper) Text classification with string kernels](https://papers.nips.cc/paper/2000/file/68c694de94e6c110f42e587e8e48d852-Paper.pdf)\n",
        "3. [(paper) GAUCHE: A Library for Gaussian Processes in Chemistry](https://ml4physicalsciences.github.io/2022/files/NeurIPS_ML4PS_2022_75.pdf)\n",
        "4. [(Wiki) String kernels](https://en.wikipedia.org/wiki/String_kernel)"
      ]
    },
    {
      "cell_type": "markdown",
      "metadata": {
        "id": "0kKCzBy4ZnR-"
      },
      "source": [
        "# Kernels for molecules\n",
        "**Reference**: [paper](https://papers.nips.cc/paper/2000/file/68c694de94e6c110f42e587e8e48d852-Paper.pdf)\n",
        "\n",
        "## Scalar product kernel\n",
        "$k_{\\text{Scalar Product}}(\\mathbf{x},\\mathbf{x}') = \\ell \\cdot \\langle \\mathbf{x},\\mathbf{x}' \\rangle$, \\\n",
        "where\n",
        "* $\\langle \\mathbf{x},\\mathbf{x}' \\rangle$ is the  Euclidean inner product; $\\langle \\mathbf{x},\\mathbf{x}' \\rangle = \\sum_i x_i x'_i$.\n",
        "* $\\ell$ is a scalar signal variance hyperparameter.\n",
        "</br>\n",
        "</br>\n",
        "\n",
        "## Tanimoto kernel\n",
        "General similarity metric for **binary attributes**, used in [Ref.](https://doi.org/10.1016/j.neunet.2005.07.009) for cheminformatics.\n",
        "\n",
        "$k_{\\text{Tanimoto}}(\\mathbf{x},\\mathbf{x}') = \\ell \\cdot \\frac{\\langle \\mathbf{x},\\mathbf{x}' \\rangle}{\\|\\mathbf{x} \\|^2 + \\|\\mathbf{x}'\\|^2 - \\langle \\mathbf{x},\\mathbf{x}' \\rangle}$, \\\n",
        "where\n",
        "* $\\| \\;\\; \\|$ is the Euclidian norm\n",
        "* $\\mathbf{x}$ is a binary vector, $x_i = \\{0,1\\}$\n",
        "</br>\n",
        "</br>\n",
        "\n",
        "## Graph kernel\n",
        "$k_{\\text{Gprah}}(g,g') = \\ell \\cdot \\langle \\phi(g),\\phi(g') \\rangle_{{\\cal H}}$,\n",
        "where,\n",
        "* $\\langle \\phi(g),\\phi(g') \\rangle_{{\\cal H}}$  measures the similarity betweene two molecular graphs. Related to graph isomorphism. \n",
        "* $\\ell$ is a scalar signal variance hyperparameter.\n",
        "\n",
        "The graph kernel was used in our previuos tutorial [link](https://colab.research.google.com/github/RodrigoAVargasHdz/CHEM-4PB3/blob/main/Course_Notes/Week5/gpytorch_molecules.ipynb)\n",
        "\n",
        "\n",
        "\n"
      ]
    },
    {
      "cell_type": "markdown",
      "metadata": {
        "id": "tyODuoF-ZscZ"
      },
      "source": [
        "# Code"
      ]
    },
    {
      "cell_type": "code",
      "execution_count": null,
      "metadata": {
        "id": "0wxMfcG14tT8"
      },
      "outputs": [],
      "source": [
        "import numpy as np\n",
        "import pandas as pd\n",
        "import torch\n",
        "import gpytorch\n",
        "from gpytorch.kernels import Kernel\n",
        "from rdkit.Chem import AllChem, Descriptors, MolFromSmiles\n",
        "from rdkit.Chem.Draw import IPythonConsole\n",
        "from rdkit.Chem import Draw"
      ]
    },
    {
      "cell_type": "markdown",
      "metadata": {
        "id": "jmVBPP_IhLIz"
      },
      "source": [
        "## Tanimoto kernel in Torch\n",
        "Code is based on this [online tutorial](https://towardsdatascience.com/gaussian-process-regression-on-molecules-in-gpflow-ee6fedab2130), where $k_{\\text{Tanimoto}}(\\cdot,⋅)$ was coded in TensorFlow. \\\n",
        "For defining your own kernel in Gpytorch, one can follow the following [tutorial](https://docs.gpytorch.ai/en/stable/examples/00_Basic_Usage/Implementing_a_custom_Kernel.html).\n",
        "\n"
      ]
    },
    {
      "cell_type": "code",
      "execution_count": null,
      "metadata": {
        "id": "LDG5f2duzf6K"
      },
      "outputs": [],
      "source": [
        "from gpytorch.constraints import Positive\n",
        "from torch import Tensor\n",
        "\n",
        "# from ChatGPT\n",
        "# '''Write me a code compatible with GPyTorch for the Tanimoto kernel function'''\n",
        "# '''remove the lengthscale parameter'''\n",
        "class TanimotoKernel(gpytorch.kernels.Kernel):\n",
        "    def __init__(self, active_dims=None):\n",
        "        super(TanimotoKernel, self).__init__(active_dims=active_dims)\n",
        "        self.register_parameter(\n",
        "            name=\"raw_variance\", parameter=torch.nn.Parameter(torch.zeros(1))\n",
        "        )\n",
        "        self.register_constraint(\"raw_variance\", gpytorch.constraints.Positive())\n",
        "\n",
        "    @property\n",
        "    def variance(self):\n",
        "        return self.raw_variance_constraint.transform(self.raw_variance)\n",
        "\n",
        "    @variance.setter\n",
        "    def variance(self, value):\n",
        "        self.raw_variance = self.raw_variance_constraint.inverse_transform(value)\n",
        "\n",
        "    def forward(self, x1, x2, **params):\n",
        "        x1_ = x1.unsqueeze(-2)\n",
        "        x2_ = x2.unsqueeze(-3)\n",
        "        numerator = torch.sum(x1_ * x2_, dim=-1)\n",
        "        denominator = torch.sum(x1_ + x2_ - x1_ * x2_, dim=-1)\n",
        "        return self.variance * numerator / denominator"
      ]
    },
    {
      "cell_type": "code",
      "execution_count": null,
      "metadata": {
        "colab": {
          "base_uri": "https://localhost:8080/"
        },
        "id": "-uD9y1mQuBZi",
        "outputId": "bf692b0b-c227-48a7-dc10-52d8750c2815"
      },
      "outputs": [],
      "source": [
        "# a = torch.randn((3,5))\n",
        "x1 = (torch.rand(size=(2,10)) < 0.35).int()\n",
        "print('Random vectors')\n",
        "print(x1)\n",
        "\n",
        "kernel = TanimotoKernel()\n",
        "K = kernel.forward(x1,x1) ## is this corrrect?\n",
        "print('Kernel matrix')\n",
        "print(K)"
      ]
    },
    {
      "cell_type": "markdown",
      "metadata": {
        "id": "_VR_hsoFicf4"
      },
      "source": [
        "# Example Caffeine"
      ]
    },
    {
      "cell_type": "code",
      "execution_count": null,
      "metadata": {
        "colab": {
          "base_uri": "https://localhost:8080/",
          "height": 167
        },
        "id": "4cCLNej25j5Z",
        "outputId": "aec48065-e855-4ee6-f928-31a8d49459f7"
      },
      "outputs": [],
      "source": [
        "caff_sm = 'CN1C=NC2=C1C(=O)N(C(=O)N2C)C'\n",
        "m = MolFromSmiles(caff_sm)\n",
        "m"
      ]
    },
    {
      "cell_type": "code",
      "execution_count": null,
      "metadata": {
        "colab": {
          "base_uri": "https://localhost:8080/"
        },
        "id": "-0wTAIiU6ib7",
        "outputId": "9b5d1361-643f-4af9-a864-fc8abe27ab79"
      },
      "outputs": [],
      "source": [
        "m_fingerprints = AllChem.GetMorganFingerprintAsBitVect(m, radius=3, nBits=2048)\n",
        "x = np.asarray(m_fingerprints)\n",
        "print(x.shape, len(np.where(x==0)[0]),len(np.where(x==1)[0]))"
      ]
    },
    {
      "cell_type": "markdown",
      "metadata": {
        "id": "wifKQjwA9zqO"
      },
      "source": [
        "Molecules similar to caffeine [link](https://www.acs.org/education/resources/highschool/chemmatters/past-issues/archive-2013-2014/caffeine.html)\\\n",
        "[Paraxanthine](https://en.wikipedia.org/wiki/Paraxanthine)"
      ]
    },
    {
      "cell_type": "code",
      "execution_count": null,
      "metadata": {
        "colab": {
          "base_uri": "https://localhost:8080/",
          "height": 185
        },
        "id": "hZK1nAe-6smi",
        "outputId": "d5d72a3b-1b07-4f69-f0ee-03b503a6e54e"
      },
      "outputs": [],
      "source": [
        "# Paraxanthine\n",
        "para_sm = 'O=C2Nc1ncn(c1C(=O)N2C)C'\n",
        "m1 = MolFromSmiles(para_sm)\n",
        "m1_fingerprints = AllChem.GetMorganFingerprintAsBitVect(m1, radius=2, nBits=2048)\n",
        "x1 = np.asarray(m1_fingerprints)\n",
        "print(x1.shape)\n",
        "m1"
      ]
    },
    {
      "cell_type": "markdown",
      "metadata": {
        "id": "a0i2sY8L_yMr"
      },
      "source": [
        "Evaluate the Tanimoto kernel."
      ]
    },
    {
      "cell_type": "code",
      "execution_count": null,
      "metadata": {
        "colab": {
          "base_uri": "https://localhost:8080/"
        },
        "id": "sPrsDhSe7mEs",
        "outputId": "61d35b35-b021-45b2-9f8a-52d53ed0924b"
      },
      "outputs": [],
      "source": [
        "x_caf = torch.from_numpy(x).unsqueeze(0)\n",
        "print(x)\n",
        "x_parax = torch.from_numpy(x1).unsqueeze(0)\n",
        "print('Tanimoto kernel for, Caffein-Paraxanthine: ',kernel.forward(x_caf,x_parax))\n",
        "print('Tanimoto kernel for, Caffein-Paraxanthine: ',kernel.forward(x_caf,x_caf))\n",
        "print('Tanimoto kernel for, Paraxanthine-Paraxanthine: ',kernel.forward(x_parax,x_parax))"
      ]
    },
    {
      "cell_type": "markdown",
      "metadata": {
        "id": "jkw0nGLK-zJa"
      },
      "source": [
        "# More data!!"
      ]
    },
    {
      "cell_type": "code",
      "execution_count": null,
      "metadata": {
        "colab": {
          "base_uri": "https://localhost:8080/"
        },
        "id": "paSfRV_m8rE3",
        "outputId": "78e69c76-ae16-4aee-b5dd-269426e234a1"
      },
      "outputs": [],
      "source": [
        "data_url = \"https://github.com/RodrigoAVargasHdz/CHEM-4PB3/raw/main/Course_Notes/data/solubility.csv\"\n",
        "data = pd.read_csv(data_url)\n",
        "print(data.columns)"
      ]
    },
    {
      "cell_type": "code",
      "execution_count": null,
      "metadata": {
        "id": "aCD5Jhihfwp0"
      },
      "outputs": [],
      "source": [
        "# construct an histogram over the Tanimoto kernel with respect to Caffeine\n",
        "def get_fingerprints(molecule_smile,torch_bool = False):\n",
        "  m1 = MolFromSmiles(molecule_smile)\n",
        "  m1_fingerprints = AllChem.GetMorganFingerprintAsBitVect(m1, radius=2, nBits=2048)\n",
        "  x1 = np.asarray(m1_fingerprints)\n",
        "  if torch_bool:\n",
        "    return torch.from_numpy(x1)\n",
        "  else:\n",
        "    return x1"
      ]
    },
    {
      "cell_type": "code",
      "execution_count": null,
      "metadata": {
        "colab": {
          "base_uri": "https://localhost:8080/"
        },
        "id": "UGIh88D7IVk5",
        "outputId": "10c5da87-2f41-4ce3-956a-0a604aaae2c9"
      },
      "outputs": [],
      "source": [
        "\n",
        "molecules = data['SMILES'][:10]\n",
        "print(molecules)"
      ]
    },
    {
      "cell_type": "code",
      "execution_count": null,
      "metadata": {
        "colab": {
          "base_uri": "https://localhost:8080/"
        },
        "id": "C3JTBl5QIa0c",
        "outputId": "3898c82f-f332-43cf-8daa-e5819785078d"
      },
      "outputs": [],
      "source": [
        "X = []\n",
        "for m in molecules:\n",
        "  x = get_fingerprints(m,False)\n",
        "  print(m)\n",
        "  print(np.where(x != 0))\n",
        "  X.append(x)\n",
        "\n",
        "\n",
        "X = torch.from_numpy(np.asarray(X))\n",
        "k_t = kernel.forward(x_caf,X)\n",
        "print(k_t)\n",
        "  "
      ]
    },
    {
      "cell_type": "code",
      "execution_count": null,
      "metadata": {
        "id": "uxmfJatlIfkg"
      },
      "outputs": [],
      "source": []
    }
  ],
  "metadata": {
    "colab": {
      "provenance": []
    },
    "kernelspec": {
      "display_name": "chem4pb3",
      "language": "python",
      "name": "python3"
    },
    "language_info": {
      "name": "python",
      "version": "3.9.15"
    },
    "vscode": {
      "interpreter": {
        "hash": "3bd1d19d093f1d1d5dd6cf1becc7a1cffecc3235fce6b74420ac04427a66c9c5"
      }
    }
  },
  "nbformat": 4,
  "nbformat_minor": 0
}
