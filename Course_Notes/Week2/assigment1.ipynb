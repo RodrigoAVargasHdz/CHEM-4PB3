{
 "cells": [
  {
   "attachments": {},
   "cell_type": "markdown",
   "metadata": {},
   "source": [
    "## Notes:\n",
    "To open on Google Colab\\\n",
    "https://colab.research.google.com/github/RodrigoAVargasHdz/CHEM-4PB3/blob/main/Course_Notes/Week2/assigment1.ipynb"
   ]
  },
  {
   "attachments": {},
   "cell_type": "markdown",
   "metadata": {},
   "source": [
    "# Assignment 1\n",
    "\n",
    "NumPy tutorial on the Moore's Law, [tutorial](https://numpy.org/numpy-tutorials/content/mooreslaw-tutorial.html)."
   ]
  },
  {
   "attachments": {},
   "cell_type": "markdown",
   "metadata": {},
   "source": [
    "**1. Load the data**\n",
    "```python\n",
    "    data_url = 'https://github.com/numpy/numpy-tutorials/raw/main/content/transistor_data.csv'\n",
    "```\n",
    " * Load the data into a variable called ```data```\n",
    " * Print the name of the columns in the file\n",
    " * How many columns the file has?\n",
    " * What are the total number of data points?\n",
    " * What is the name of property in the 4th column?"
   ]
  },
  {
   "cell_type": "code",
   "execution_count": null,
   "metadata": {},
   "outputs": [],
   "source": [
    "# code here\n",
    "# (tip) dont forget to import all important/relevant Python libraries "
   ]
  },
  {
   "attachments": {},
   "cell_type": "markdown",
   "metadata": {},
   "source": [
    "**2. Basic data science**\n",
    "\n",
    "* From ```data``` extract the second and third columns (or using the names 'MOS transistor count' and 'Date of Introduction')\n",
    "  * Store the values of 'MOS transistor count' using a variable named ```transistor```\n",
    "  * Store the values of 'Date of Introduction' using a variable named ```year```\n",
    "* Compute the mean and standard deviation of the 'MOS transistor count'"
   ]
  },
  {
   "cell_type": "code",
   "execution_count": 14,
   "metadata": {},
   "outputs": [],
   "source": [
    "#code here"
   ]
  },
  {
   "attachments": {},
   "cell_type": "markdown",
   "metadata": {},
   "source": [
    "**Extra (for the adventurous):**\\\n",
    "The column ```Designer``` contains the name of the manufacturers of the computer chips. \n",
    "1. What are the name of the *Designers* that are contained in the dataset? (tip: use pandas [```unique```](https://pandas.pydata.org/docs/reference/api/pandas.unique.html))\n",
    "2. What is the manufacturer that appears the most times in the data and how many times?\n",
    "3. Plot: manufacturer vs number of times it appears\\\n",
    "   (tip: use ```data[data['Designer'] == 'NAME-OF-THE-DESIGNER'].shape```)"
   ]
  },
  {
   "cell_type": "code",
   "execution_count": 15,
   "metadata": {},
   "outputs": [],
   "source": [
    "#code here"
   ]
  },
  {
   "attachments": {},
   "cell_type": "markdown",
   "metadata": {},
   "source": [
    "**3. Fit the Moore's law function**\\\n",
    "model:\\\n",
    "    $\\log(\\text{transistor\\_count}) = f(\\text{year}) = m * \\text{year} + b$\n",
    "\n",
    "$\\text{transistor\\_count}$ -> data from the column **MOS transistor count**\\\n",
    "$\\text{year}$ -> data from the column **year**\n",
    "\n",
    "* What are the values of $m$ and $b$?\n",
    "* What is the **RMSE** of our model with respect to the data?"
   ]
  },
  {
   "cell_type": "code",
   "execution_count": 16,
   "metadata": {},
   "outputs": [],
   "source": [
    "#code here"
   ]
  },
  {
   "attachments": {},
   "cell_type": "markdown",
   "metadata": {},
   "source": [
    "**3. Plot prediction vs real data**\\\n",
    "Using a ```semilog-y``` plot the data and your model's prediction."
   ]
  },
  {
   "cell_type": "code",
   "execution_count": null,
   "metadata": {},
   "outputs": [],
   "source": [
    "#code here\n",
    "import matplotlib\n",
    "import matplotlib.pyplot as plt\n",
    "\n",
    "# Create figure\n",
    "fig, ax = plt.subplots()\n",
    "\n",
    "y_data = # data used for training\n",
    "x_data = # data used for training\n",
    "\n",
    "x = # grid of points to make prediction\n",
    "y = # f(x) prediction of the model \n",
    "# log y axis\n",
    "\n",
    "ax.semilogy(x_data, y_data, linewidth=0, marker='o')  # real data\n",
    "ax.semilog(x,y,color='k') #model prediction f(year)\n",
    "\n",
    "ax.set(title='Moore\\'s Law')\n",
    "ax.set_xlabel('Year')\n",
    "ax.set_ylabel('# of transistors\\nper microprocessor',fontsize=10)\n",
    "ax.grid()\n"
   ]
  }
 ],
 "metadata": {
  "kernelspec": {
   "display_name": "chem4pb3",
   "language": "python",
   "name": "python3"
  },
  "language_info": {
   "codemirror_mode": {
    "name": "ipython",
    "version": 3
   },
   "file_extension": ".py",
   "mimetype": "text/x-python",
   "name": "python",
   "nbconvert_exporter": "python",
   "pygments_lexer": "ipython3",
   "version": "3.9.15"
  },
  "orig_nbformat": 4,
  "vscode": {
   "interpreter": {
    "hash": "3bd1d19d093f1d1d5dd6cf1becc7a1cffecc3235fce6b74420ac04427a66c9c5"
   }
  }
 },
 "nbformat": 4,
 "nbformat_minor": 2
}
