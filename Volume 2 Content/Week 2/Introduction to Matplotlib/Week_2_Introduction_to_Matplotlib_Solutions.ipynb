{
  "nbformat": 4,
  "nbformat_minor": 0,
  "metadata": {
    "colab": {
      "provenance": []
    },
    "kernelspec": {
      "name": "python3",
      "display_name": "Python 3"
    },
    "language_info": {
      "name": "python"
    }
  },
  "cells": [
    {
      "cell_type": "markdown",
      "source": [
        "[![Open In Colab](https://colab.research.google.com/assets/colab-badge.svg)](https://colab.research.google.com/drive/1QecD3OF_fvgp73ZcbDweGS-0la53h6t-?usp=sharing)\n",
        "\n",
        "## **Week 2 - Introduction to Matplotlib - Solutions**\n",
        "\n",
        "### **Solutions - Setting up Data**"
      ],
      "metadata": {
        "id": "HlCDojhuV1nD"
      }
    },
    {
      "cell_type": "code",
      "source": [
        "import matplotlib\n",
        "import pandas as pd\n",
        "import matplotlib.pyplot as plt\n",
        "from matplotlib.pyplot import figure\n",
        "import numpy as np\n",
        "\n",
        "\n",
        "# Load a chemistry dataset from a GitHub repository\n",
        "data_url = \"https://github.com/RodrigoAVargasHdz/CHEM-4PB3/raw/main/Course_Notes/data/qm9.csv\"\n",
        "data = pd.read_csv(data_url)\n",
        "\n",
        "# Select single columns for HOMO and LUMO\n",
        "homo = np.array(data['homo'])  # Extract HOMO\n",
        "lumo = data.lumo.to_numpy()  # Extract LUMO\n",
        "\n",
        "\n",
        "# Select multiple columns for HOMO and LUMO\n",
        "homo_and_lumo = np.array(data[['homo', 'lumo']])\n",
        "\n"
      ],
      "metadata": {
        "id": "flnaaZQBWGA7"
      },
      "execution_count": null,
      "outputs": []
    },
    {
      "cell_type": "markdown",
      "source": [
        "### **Solution: Plotting Alpha and Mu**\n",
        "\n"
      ],
      "metadata": {
        "id": "wH3Jd7ngTVzJ"
      }
    },
    {
      "cell_type": "code",
      "execution_count": null,
      "metadata": {
        "id": "daJVMLFiTGQ0"
      },
      "outputs": [],
      "source": [
        "# Extracting 'alpha' and 'mu' columns from the dataset\n",
        "alpha = np.array(data['alpha'])\n",
        "mu = np.array(data['mu'])\n",
        "\n",
        "figure(figsize=(8, 6), dpi=80)\n",
        "\n",
        "# Creating the scatter plot\n",
        "plt.scatter(alpha, mu)\n",
        "plt.xlabel('Alpha', fontsize=15)\n",
        "plt.ylabel('Mu', fontsize=15)\n",
        "plt.show()\n"
      ]
    },
    {
      "cell_type": "markdown",
      "source": [
        "### **Solution: Statistical Insights**"
      ],
      "metadata": {
        "id": "eiGIwWcDTgYy"
      }
    },
    {
      "cell_type": "code",
      "source": [
        "print(\"Mean of HOMO:\", np.mean(homo))\n",
        "print(\"Median of HOMO:\", np.median(homo))\n",
        "print(\"Standard Deviation of HOMO:\", np.std(homo))\n",
        "\n",
        "print(\"Mean of LUMO:\", np.mean(lumo))\n",
        "print(\"Median of LUMO:\", np.median(lumo))\n",
        "print(\"Standard Deviation of LUMO:\", np.std(lumo))"
      ],
      "metadata": {
        "id": "rCKp88GyTjIv"
      },
      "execution_count": null,
      "outputs": []
    },
    {
      "cell_type": "markdown",
      "source": [
        ">  Review the Mean, Median, and Mode syntax in the [**Week 1**](https://colab.research.google.com/drive/14xmNNrXwtj65L2tsRaEXBHVPz1vasKsV?usp=sharing) lesson."
      ],
      "metadata": {
        "id": "5WkdVUE0Tmc3"
      }
    },
    {
      "cell_type": "markdown",
      "source": [
        "### **Solution: Enhanced Visualization**"
      ],
      "metadata": {
        "id": "V3hubrNUTnrT"
      }
    },
    {
      "cell_type": "code",
      "source": [
        "# Setting up the figure\n",
        "figure(figsize=(8, 6), dpi=80)\n",
        "\n",
        "# Creating the scatter plot with labels and title\n",
        "plt.scatter(homo, lumo)\n",
        "plt.xlabel('HOMO', fontsize=15)\n",
        "plt.ylabel('LUMO', fontsize=15)\n",
        "plt.title('HOMO vs LUMO Scatter Plot', fontsize=18)\n",
        "\n",
        "# Adding a grid\n",
        "plt.grid(True)\n",
        "\n",
        "# Adding a legend\n",
        "plt.legend(['HOMO vs LUMO'])\n",
        "plt.show()\n"
      ],
      "metadata": {
        "id": "P9MwPoBDTt-9"
      },
      "execution_count": null,
      "outputs": []
    },
    {
      "cell_type": "markdown",
      "source": [
        "> Consult the [**`plt.grid()`**](https://matplotlib.org/stable/api/_as_gen/matplotlib.pyplot.grid.html) documentation to learn more about it's syntax and use cases.\n",
        "\n"
      ],
      "metadata": {
        "id": "EcCr5kLUTukB"
      }
    },
    {
      "cell_type": "markdown",
      "source": [
        "### **Solution: Data Highlighting**"
      ],
      "metadata": {
        "id": "IquZdJakTzLf"
      }
    },
    {
      "cell_type": "code",
      "source": [
        "condition = (homo > -0.2) & (lumo < 0.2)\n",
        "figure(figsize=(8, 6), dpi=80)\n",
        "\n",
        "# Creating the scatter plot with labels and title\n",
        "plt.scatter(homo, lumo, c='blue')\n",
        "plt.scatter(homo[condition], lumo[condition], c='red')\n",
        "\n",
        "# Adding a grid\n",
        "plt.xlabel('HOMO', fontsize=15)\n",
        "plt.ylabel('LUMO', fontsize=15)\n",
        "plt.legend(['Regular Points', 'Highlighted Points'])\n",
        "plt.show()\n"
      ],
      "metadata": {
        "id": "GrT1120uT0mD"
      },
      "execution_count": null,
      "outputs": []
    },
    {
      "cell_type": "markdown",
      "source": [
        "### **Solution: Fitting Curves with np.polyfit()**"
      ],
      "metadata": {
        "id": "FiALIjU7T2z4"
      }
    },
    {
      "cell_type": "code",
      "source": [
        "# Reshape the 'homo' array and stack it with an array of ones\n",
        "homo_and_ones = np.column_stack((homo.reshape((-1, 1)), np.ones_like(homo)))\n",
        "\n",
        "# Calculate the slope (m) and intercept (b) using least squares\n",
        "m_and_c = np.linalg.lstsq(homo_and_ones, lumo, rcond=None)[0]\n",
        "m = m_and_c[0]\n",
        "b = m_and_c[1]\n",
        "print(f'Slope (m) = {m}; Intercept (b) = {b}')"
      ],
      "metadata": {
        "id": "lQkJZvG_T7pJ"
      },
      "execution_count": null,
      "outputs": []
    },
    {
      "cell_type": "markdown",
      "source": [
        "> Calculating the Slope $(m)$ and intercept $(b)$ to calculate the regression curve allows for easier visualization."
      ],
      "metadata": {
        "id": "5E8qKhYLUA4t"
      }
    },
    {
      "cell_type": "code",
      "source": [
        "%matplotlib inline\n",
        "figure(figsize=(8, 6), dpi=80)\n",
        "plt.scatter(homo,lumo)\n",
        "\n",
        "x = np.linspace(np.min(homo),np.max(homo),100)\n",
        "f = lambda x: m *x + b\n",
        "\n",
        "y = f(x)\n",
        "plt.plot(x,y, c='k')\n",
        "\n",
        "plt.title(\"Regression Model - HOMO versus LUMO\")\n",
        "plt.xlabel('HOMO - V(eV)')\n",
        "plt.ylabel('LUMO - V(eV)')"
      ],
      "metadata": {
        "id": "oVVP-Bn5T-zT"
      },
      "execution_count": null,
      "outputs": []
    },
    {
      "cell_type": "markdown",
      "source": [
        "### **Solution: Experimenting with Colors and Symbols**"
      ],
      "metadata": {
        "id": "UzZDzAnFUshg"
      }
    },
    {
      "cell_type": "code",
      "source": [
        "plt.title(\"Scatter Plot - HOMO versus LUMO\")\n",
        "plt.xlabel('HOMO - V(eV)')\n",
        "plt.ylabel('LUMO - V(eV)')\n",
        "plt.scatter(homo, lumo, marker='o', color='red')"
      ],
      "metadata": {
        "id": "1NsCWDXpUuQF"
      },
      "execution_count": null,
      "outputs": []
    },
    {
      "cell_type": "markdown",
      "source": [
        "> Learn more about **`Matplotlib Styling`** syntax and use cases at **Python Charts'** **[lesson](https://python-charts.com/matplotlib/title/)**."
      ],
      "metadata": {
        "id": "ASsSDAD-Uw2G"
      }
    },
    {
      "cell_type": "markdown",
      "source": [
        "### **Solution: Customizing Line Styles**"
      ],
      "metadata": {
        "id": "2dTJIh49U4Ic"
      }
    },
    {
      "cell_type": "code",
      "source": [
        "%matplotlib inline\n",
        "from matplotlib.pyplot import figure\n",
        "import matplotlib.pyplot as plt\n",
        "import numpy as np\n",
        "\n",
        "figure(figsize=(8, 6), dpi=80)\n",
        "plt.scatter(homo, lumo)\n",
        "\n",
        "x = np.linspace(np.min(homo), np.max(homo), 100)\n",
        "f = lambda x: m * x + b\n",
        "y = f(x)\n",
        "\n",
        "# Here, the linestyle is set to '--', making it a dashed line.\n",
        "plt.plot(x, y, c='k', linestyle='--')\n",
        "\n",
        "plt.title(\"Scatter Plot - HOMO versus LUMO\", fontsize = 16)\n",
        "plt.xlabel('HOMO - V(eV)', fontsize=12)\n",
        "plt.ylabel('LUMO - V(eV)', fontsize=12)\n"
      ],
      "metadata": {
        "id": "dW2wNbf3U5WF"
      },
      "execution_count": null,
      "outputs": []
    },
    {
      "cell_type": "markdown",
      "source": [
        "### **Solution: Creating a Histogram with *HOMO* Data**"
      ],
      "metadata": {
        "id": "wmbKIWWqU_Xi"
      }
    },
    {
      "cell_type": "code",
      "source": [
        "# Create a histogram with 20 bins\n",
        "plt.hist(homo, bins=20, color='blue')\n",
        "plt.title(\"Histogram of HOMO Data\")\n",
        "plt.xlabel('V (eV)')\n",
        "plt.ylabel('N (count)')\n",
        "plt.show()\n"
      ],
      "metadata": {
        "id": "Qd79AdbeVAYe"
      },
      "execution_count": null,
      "outputs": []
    },
    {
      "cell_type": "markdown",
      "source": [
        "### **Solution: Exploring Covariance**"
      ],
      "metadata": {
        "id": "BaM26QKCVCre"
      }
    },
    {
      "cell_type": "code",
      "source": [
        "# Calculate the covariance using numpy\n",
        "cov_matrix = np.cov(homo, lumo)\n",
        "covariance = cov_matrix[0,1]\n",
        "\n",
        "# Create a scatter plot for visualization\n",
        "plt.scatter(homo, lumo)\n",
        "plt.title(f\"Covariance: {covariance}\", color = 'blue', fontsize = 12)\n",
        "plt.suptitle(\"Scatter Plot - HOMO versus LUMO\")\n",
        "plt.xlabel('HOMO (eV)')\n",
        "plt.ylabel('LUMO (eV)')\n",
        "plt.show()"
      ],
      "metadata": {
        "id": "oL4WPc2cVGjC"
      },
      "execution_count": null,
      "outputs": []
    },
    {
      "cell_type": "code",
      "source": [
        "std_homo = np.std(homo, ddof=1)  # ddof=1 for unbiased estimator\n",
        "std_lumo = np.std(lumo, ddof=1)\n",
        "\n",
        "# Calculate correlation (r) using the formula\n",
        "correlation = covariance / (std_homo * std_lumo)\n",
        "print(\"Correlation: \", correlation)"
      ],
      "metadata": {
        "id": "wQxiDuwYVQq1"
      },
      "execution_count": null,
      "outputs": []
    },
    {
      "cell_type": "markdown",
      "source": [
        "> Learn more about **`ddof`** syntax, type, and use cases at **NumPy's** **[documentation](https://numpy.org/doc/stable/reference/generated/numpy.std.html)**."
      ],
      "metadata": {
        "id": "K1blXCatVUhN"
      }
    },
    {
      "cell_type": "code",
      "source": [
        "import seaborn as sns\n",
        "\n",
        "# Compute the covariance matrix and visualize it\n",
        "covariance_matrix = np.cov(homo, lumo)\n",
        "sns.heatmap(covariance_matrix, annot=True)"
      ],
      "metadata": {
        "id": "Fl3pDScvVaET"
      },
      "execution_count": null,
      "outputs": []
    },
    {
      "cell_type": "markdown",
      "source": [
        "### **Solution - Extra Styles**"
      ],
      "metadata": {
        "id": "7zzj1CU9VmfW"
      }
    },
    {
      "cell_type": "code",
      "source": [
        "# This can be ammended for other columns\n",
        "col1 = 'lumo'\n",
        "col2 = 'mu'\n",
        "\n",
        "# Extract data for the columns\n",
        "x = data[col1].values\n",
        "y = data[col2].values\n",
        "\n",
        "# Create the figure and axes\n",
        "fig, ax = plt.subplots(figsize=(8, 8))\n",
        "\n",
        "# Place the histograms inside the main plot using inset_axes\n",
        "ax_histx = ax.inset_axes([0, 1.05, 1, 0.2])\n",
        "ax_histy = ax.inset_axes([1.05, 0, 0.2, 1])\n",
        "\n",
        "# Scatter plot\n",
        "ax.scatter(x, y)\n",
        "\n",
        "# Histogram on the attached axes\n",
        "ax_histx.hist(x, bins=50)\n",
        "ax_histy.hist(y, bins=50, orientation='horizontal')\n",
        "\n",
        "# Turn off tick labels on histograms (optional)\n",
        "ax_histx.tick_params(axis=\"x\", labelbottom=False)\n",
        "ax_histy.tick_params(axis=\"y\", labelleft=False)\n",
        "\n",
        "# Labels and titles\n",
        "ax.set_xlabel(col1, fontsize = 12)\n",
        "ax.set_ylabel(col2, fontsize = 12)\n",
        "ax.set_title(f\"Scatter plot with Histograms: {col1} vs {col2}\", fontsize = 18)\n",
        "\n",
        "plt.show()"
      ],
      "metadata": {
        "id": "zrlXMokeVmMS"
      },
      "execution_count": null,
      "outputs": []
    },
    {
      "cell_type": "markdown",
      "source": [
        "### **Solution - Extra Styles Interactive**"
      ],
      "metadata": {
        "id": "xGM4GS1gVrlo"
      }
    },
    {
      "cell_type": "code",
      "source": [
        "# List available numerical columns\n",
        "numerical_cols = data.select_dtypes(include=[float]).columns.tolist()\n",
        "\n",
        "# Ask user for the columns to plot\n",
        "print(\"Available numerical columns: \", numerical_cols)\n",
        "col1 = input(\"Select the first column: \")\n",
        "col2 = input(\"Select the second column: \")\n",
        "\n",
        "if col1 in numerical_cols and col2 in numerical_cols:\n",
        "    # Extract data for the chosen columns\n",
        "    x = data[col1].values\n",
        "    y = data[col2].values\n",
        "\n",
        "    # Create the figure and axes\n",
        "    fig, ax = plt.subplots(figsize=(8, 8))\n",
        "    ax_histx = ax.inset_axes([0, 1.05, 1, 0.2])\n",
        "    ax_histy = ax.inset_axes([1.05, 0, 0.2, 1])\n",
        "\n",
        "    # Scatter plot\n",
        "    ax.scatter(x, y)\n",
        "\n",
        "    # Histogram on the attached axes\n",
        "    ax_histx.hist(x, bins=50)\n",
        "    ax_histy.hist(y, bins=50, orientation='horizontal')\n",
        "\n",
        "    # Turn off tick labels on histograms\n",
        "    ax_histx.tick_params(axis=\"x\", labelbottom=False)\n",
        "    ax_histy.tick_params(axis=\"y\", labelleft=False)\n",
        "\n",
        "    # Labels and titles\n",
        "    ax.set_xlabel(col1, fontsize = 12)\n",
        "    ax.set_ylabel(col2, fontsize = 12)\n",
        "    ax.set_title(f\"Scatter plot with Histograms: {col1} vs {col2}\", fontsize = 18)\n",
        "\n",
        "    plt.show()\n",
        "else:\n",
        "    print(\"One or both of the columns you selected are not in the list of numerical columns. Please try again.\")\n"
      ],
      "metadata": {
        "id": "J9K9nShsVrQy"
      },
      "execution_count": null,
      "outputs": []
    }
  ]
}