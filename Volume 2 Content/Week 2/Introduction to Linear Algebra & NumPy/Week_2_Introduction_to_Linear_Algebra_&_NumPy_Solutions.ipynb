{
  "nbformat": 4,
  "nbformat_minor": 0,
  "metadata": {
    "colab": {
      "provenance": []
    },
    "kernelspec": {
      "name": "python3",
      "display_name": "Python 3"
    },
    "language_info": {
      "name": "python"
    }
  },
  "cells": [
    {
      "cell_type": "markdown",
      "source": [
        "[![Open In Colab](https://colab.research.google.com/assets/colab-badge.svg)](https://colab.research.google.com/drive/1fChvqVxqZNfNfCZazTqUf5sOMlu8IElD?usp=sharing)\n",
        "\n",
        "# **Week 3 - Introduction to Linear Algebra & NumPy - Solutions**"
      ],
      "metadata": {
        "id": "2pbTKFb4WOv9"
      }
    },
    {
      "cell_type": "markdown",
      "source": [
        "## **Solution - Dot Product Problem: Wind Impact on Movement**"
      ],
      "metadata": {
        "id": "o013xlHAISGD"
      }
    },
    {
      "cell_type": "code",
      "execution_count": null,
      "metadata": {
        "id": "uPtN9mymIGb3"
      },
      "outputs": [],
      "source": [
        "import numpy as np\n",
        "\n",
        "def calculate_wind_impact(walking_vector, wind_vector):\n",
        "    # Calculate the dot product\n",
        "    impact = np.dot(walking_vector, wind_vector)\n",
        "    return impact\n",
        "\n",
        "# Vectors for the problem\n",
        "walking_vector = np.array([3, 4])\n",
        "wind_vector = np.array([1, -1])\n",
        "\n",
        "# Calculating the impact\n",
        "wind_impact = calculate_wind_impact(walking_vector, wind_vector)\n",
        "print(\"Wind Impact on Walking:\", wind_impact)\n"
      ]
    },
    {
      "cell_type": "markdown",
      "source": [
        "## **Solution - Cross Product Problem: Calculating Perpendicular Direction**"
      ],
      "metadata": {
        "id": "SHAM_s7JIY9F"
      }
    },
    {
      "cell_type": "code",
      "source": [
        "import numpy as np\n",
        "\n",
        "def calculate_perpendicular_direction(force1, force2):\n",
        "    # Calculate the cross product\n",
        "    perpendicular_direction = np.cross(force1, force2)\n",
        "    return perpendicular_direction\n",
        "\n",
        "# Forces for the problem\n",
        "force1 = np.array([2, 0, -1])\n",
        "force2 = np.array([1, 3, 4])\n",
        "\n",
        "# Calculating the perpendicular direction\n",
        "perpendicular_direction = calculate_perpendicular_direction(force1, force2)\n",
        "print(\"Perpendicular Direction:\", perpendicular_direction)\n"
      ],
      "metadata": {
        "id": "NZrsb8GNIdQ6"
      },
      "execution_count": null,
      "outputs": []
    },
    {
      "cell_type": "markdown",
      "source": [
        "## **Solution - Vector Magnitude and Direction**"
      ],
      "metadata": {
        "id": "tz5cr6DpJfOG"
      }
    },
    {
      "cell_type": "code",
      "source": [
        "import numpy as np\n",
        "\n",
        "vector_a = np.array([3, -4])\n",
        "\n",
        "# Calculating magnitude\n",
        "magnitude = np.linalg.norm(vector_a)\n",
        "print(\"Magnitude of vector_a:\", magnitude)\n",
        "\n",
        "# Normalizing vector_a\n",
        "unit_vector = vector_a / magnitude\n",
        "print(\"Direction (Unit Vector) of vector_a:\", unit_vector)\n"
      ],
      "metadata": {
        "colab": {
          "base_uri": "https://localhost:8080/"
        },
        "id": "GZl8WQxqJfbr",
        "outputId": "c57b0caa-a4c1-4630-b80f-1784b3c4b2a8"
      },
      "execution_count": 2,
      "outputs": [
        {
          "output_type": "stream",
          "name": "stdout",
          "text": [
            "Magnitude of vector_a: 5.0\n",
            "Direction (Unit Vector) of vector_a: [ 0.6 -0.8]\n"
          ]
        }
      ]
    },
    {
      "cell_type": "markdown",
      "source": [
        "## **Solution - Matrix Multiplication Using * Operator**"
      ],
      "metadata": {
        "id": "k0M48OhhPxQP"
      }
    },
    {
      "cell_type": "code",
      "source": [
        "# Exercise 1: Matrix Multiplication Using * Operator\n",
        "import numpy as np\n",
        "\n",
        "# Define the matrices\n",
        "A = np.array([[1, 2], [3, 4]])\n",
        "B = np.array([[4, 3], [2, 1]])\n",
        "\n",
        "result = A * B\n",
        "print(\"Element-wise multiplication of A and B:\\n\", result)"
      ],
      "metadata": {
        "id": "bk8lPTYmP34j"
      },
      "execution_count": null,
      "outputs": []
    },
    {
      "cell_type": "markdown",
      "source": [
        "## **Solution - Matrix Multiplication Using @ Operator**"
      ],
      "metadata": {
        "id": "VJBFblb_P98b"
      }
    },
    {
      "cell_type": "code",
      "source": [
        "A = np.array([[1, 2], [3, 4]])\n",
        "B = np.array([[4, 3], [2, 1]])\n",
        "\n",
        "result = A @ B\n",
        "print(\"Standard matrix product of A and B:\\n\", result)"
      ],
      "metadata": {
        "colab": {
          "base_uri": "https://localhost:8080/"
        },
        "id": "qd_KXEZPQB_K",
        "outputId": "65144043-df56-4160-817a-ffb0ca917707"
      },
      "execution_count": 3,
      "outputs": [
        {
          "output_type": "stream",
          "name": "stdout",
          "text": [
            "Standard matrix product of A and B:\n",
            " [[ 8  5]\n",
            " [20 13]]\n"
          ]
        }
      ]
    },
    {
      "cell_type": "markdown",
      "source": [
        "## **Solution - Verifying the Non-Commutative Property of Matrix Multiplication**"
      ],
      "metadata": {
        "id": "6y-kXa7KQLIZ"
      }
    },
    {
      "cell_type": "code",
      "source": [
        "A = np.array([[1, 3], [2, 5]])\n",
        "B = np.array([[4, 1], [2, 3]])\n",
        "\n",
        "result_ab = A @ B\n",
        "result_ba = B @ A\n",
        "\n",
        "print(\"AB:\\n\", result_ab)\n",
        "print(\"BA:\\n\", result_ba)\n",
        "print(\"AB equals BA:\", np.array_equal(result_ab, result_ba))"
      ],
      "metadata": {
        "colab": {
          "base_uri": "https://localhost:8080/"
        },
        "id": "mMUuko2zQQ_R",
        "outputId": "1570304f-8fc7-4966-a822-5736a9bb96a4"
      },
      "execution_count": 4,
      "outputs": [
        {
          "output_type": "stream",
          "name": "stdout",
          "text": [
            "AB:\n",
            " [[10 10]\n",
            " [18 17]]\n",
            "BA:\n",
            " [[ 6 17]\n",
            " [ 8 21]]\n",
            "AB equals BA: False\n"
          ]
        }
      ]
    }
  ]
}