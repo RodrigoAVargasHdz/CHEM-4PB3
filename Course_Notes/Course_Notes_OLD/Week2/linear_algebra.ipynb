{
 "cells": [
  {
   "attachments": {},
   "cell_type": "markdown",
   "metadata": {},
   "source": [
    "## Notes:\n",
    "To open on Google Colab\\\n",
    "https://colab.research.google.com/github/RodrigoAVargasHdz/CHEM-4PB3/blob/main/Course_Notes/Week2/linear_algebra.ipynb"
   ]
  },
  {
   "cell_type": "code",
   "execution_count": null,
   "metadata": {},
   "outputs": [],
   "source": [
    "import numpy as np"
   ]
  },
  {
   "attachments": {},
   "cell_type": "markdown",
   "metadata": {},
   "source": [
    "# Linear Algebra with NumPy\n",
    "\n",
    "**Goal**: Linear algebra using NumPy arrays\n",
    "\n",
    "**References**\n",
    "1. https://towardsdatascience.com/introduction-to-linear-algebra-with-numpy-79adeb7bc060\n",
    "2. https://www.davidinouye.com/course/ece20875-spring-2021/lectures/numpy-demo.pdf\n",
    "3. https://www.learndatasci.com/tutorials/applied-introduction-to-numpy-python-tutorial/"
   ]
  },
  {
   "attachments": {},
   "cell_type": "markdown",
   "metadata": {},
   "source": [
    "# Vectors \n",
    "Vector is an array of dimension $R^{d}$."
   ]
  },
  {
   "cell_type": "code",
   "execution_count": null,
   "metadata": {},
   "outputs": [],
   "source": [
    "x = np.random.random(10) #random vector with size 10\n",
    "print('Random vector:\\n',x)"
   ]
  },
  {
   "attachments": {},
   "cell_type": "markdown",
   "metadata": {},
   "source": [
    "## Vector-scalar \n",
    "\n",
    ">**multiplication**: \n",
    ">>$\\mathbf{y} = c * \\mathbf{x}$\n",
    "\n",
    ">**addition**:\n",
    ">>$\\mathbf{y} = c + \\mathbf{x}$\n",
    "\n",
    "where $c$ is a constant\n"
   ]
  },
  {
   "cell_type": "code",
   "execution_count": null,
   "metadata": {},
   "outputs": [],
   "source": [
    "c = 10.\n",
    "y_mult = c*x\n",
    "print('Multiplication:\\n',y_mult)\n",
    "y_add = c+x\n",
    "print('Addition: \\n',y_add)"
   ]
  },
  {
   "attachments": {},
   "cell_type": "markdown",
   "metadata": {},
   "source": [
    "## Vector-Vector operations\n",
    "\n",
    ">**dot product**:\n",
    ">>$z = \\mathbf{y} \\cdot  \\mathbf{x}= \\mathbf{y}^T  \\mathbf{x} = \\sum_i y_i x_i$\n",
    "\n",
    ">**addition**:\n",
    ">>$\\mathbf{z} = \\mathbf{y} +  \\mathbf{x} = [y_0 + x_0, \\cdots, y_i + x_i, \\cdots, y_d + x_d]$\n",
    "\n",
    ">**element-wise (Hadamard) product**:\n",
    ">>$\\mathbf{z} = \\mathbf{y} \\odot  \\mathbf{x} = [y_0 * x_0, \\cdots, y_i * x_i, \\cdots, y_d * x_d]$"
   ]
  },
  {
   "cell_type": "code",
   "execution_count": null,
   "metadata": {},
   "outputs": [],
   "source": [
    "# random vectors\n",
    "d = 10 #size\n",
    "x = np.random.random(d)\n",
    "y = np.random.random(d)\n",
    "print('x: \\n',x)\n",
    "print('y: \\n',y)"
   ]
  },
  {
   "cell_type": "code",
   "execution_count": null,
   "metadata": {},
   "outputs": [],
   "source": [
    "#dot product\n",
    "z = np.dot(x,y)\n",
    "print('dot product = ',z)\n",
    "\n",
    "#addition\n",
    "z = x +  y\n",
    "print('addition = ', z)\n",
    "\n",
    "#Hadamard product\n",
    "z = x * y\n",
    "print('Hadamard = ', z)\n"
   ]
  },
  {
   "attachments": {},
   "cell_type": "markdown",
   "metadata": {},
   "source": [
    "## Exercises\n",
    "\n",
    "What happen when you do all three operations with vectors with different size?\\\n",
    "example:  $\\mathbf{x} \\in R^{10}$ and  $\\mathbf{y} \\in R^{8}$ "
   ]
  },
  {
   "cell_type": "code",
   "execution_count": null,
   "metadata": {},
   "outputs": [],
   "source": [
    "# random vectors\n",
    "d = 10 #size\n",
    "x = np.random.random(d)\n",
    "d = 8\n",
    "y = np.random.random(d)\n",
    "print('x: \\n',x)\n",
    "print('y: \\n',y)"
   ]
  },
  {
   "cell_type": "code",
   "execution_count": null,
   "metadata": {},
   "outputs": [],
   "source": [
    "#code here"
   ]
  },
  {
   "attachments": {},
   "cell_type": "markdown",
   "metadata": {},
   "source": [
    "# Matrices\n",
    "\n",
    "Matrices are 2-dimensional arrays, meaning they have rows and columns.\\\n",
    "Same as vectors, we can add and multiply matrices by a scalar value $c$."
   ]
  },
  {
   "cell_type": "code",
   "execution_count": null,
   "metadata": {},
   "outputs": [],
   "source": [
    "# random matrix\n",
    "d = 5 #size\n",
    "x = np.random.random((d,d-2))\n",
    "print('x = \\n',x)\n",
    "\n",
    "c = 10\n",
    "print('c*x = \\n',c*x)\n",
    "print('c+x = \\n',c+x)"
   ]
  },
  {
   "attachments": {},
   "cell_type": "markdown",
   "metadata": {},
   "source": [
    "## Matrix-Matrix multiplication\n",
    "\n",
    "```np.matmul(A,B)``` \n",
    "\n",
    "**References**:\n",
    "1. https://en.wikipedia.org/wiki/Matrix_multiplication\n",
    "2. https://numpy.org/doc/stable/reference/generated/numpy.matmul.html"
   ]
  },
  {
   "cell_type": "code",
   "execution_count": null,
   "metadata": {},
   "outputs": [],
   "source": [
    "d = 5\n",
    "A = np.random.random((d,d))\n",
    "B = np.random.random((d,d))\n",
    "print('A = \\n',A)\n",
    "print('B = \\n',B)"
   ]
  },
  {
   "cell_type": "code",
   "execution_count": null,
   "metadata": {},
   "outputs": [],
   "source": [
    "# matrix-matrix multiplication\n",
    "C = np.matmul(A,B)\n",
    "print('C = \\n',C)\n",
    "print('size -> ', C.shape)"
   ]
  },
  {
   "attachments": {},
   "cell_type": "markdown",
   "metadata": {},
   "source": [
    "## Exercises"
   ]
  },
  {
   "attachments": {},
   "cell_type": "markdown",
   "metadata": {},
   "source": [
    "What is the output of ```A*B```?"
   ]
  },
  {
   "cell_type": "code",
   "execution_count": null,
   "metadata": {},
   "outputs": [],
   "source": [
    "# print(A*B)"
   ]
  },
  {
   "attachments": {},
   "cell_type": "markdown",
   "metadata": {},
   "source": [
    "What is the output of ```A@B```?"
   ]
  },
  {
   "cell_type": "code",
   "execution_count": null,
   "metadata": {},
   "outputs": [],
   "source": [
    "#code here"
   ]
  },
  {
   "attachments": {},
   "cell_type": "markdown",
   "metadata": {},
   "source": [
    "## matrix commutative property\n",
    "for a given two matrices verify that, $AB \\neq BA$ \n",
    "\n",
    "<!-- ```python:\n",
    "    # print(np.matmul(A,B) - np.matmul(B,A))\n",
    "``` -->"
   ]
  },
  {
   "cell_type": "code",
   "execution_count": null,
   "metadata": {},
   "outputs": [],
   "source": [
    "#code here"
   ]
  },
  {
   "cell_type": "markdown",
   "metadata": {},
   "source": []
  }
 ],
 "metadata": {
  "kernelspec": {
   "display_name": "chem4pb3",
   "language": "python",
   "name": "python3"
  },
  "language_info": {
   "codemirror_mode": {
    "name": "ipython",
    "version": 3
   },
   "file_extension": ".py",
   "mimetype": "text/x-python",
   "name": "python",
   "nbconvert_exporter": "python",
   "pygments_lexer": "ipython3",
   "version": "3.9.15 (main, Nov 24 2022, 08:29:02) \n[Clang 14.0.6 ]"
  },
  "orig_nbformat": 4,
  "vscode": {
   "interpreter": {
    "hash": "3bd1d19d093f1d1d5dd6cf1becc7a1cffecc3235fce6b74420ac04427a66c9c5"
   }
  }
 },
 "nbformat": 4,
 "nbformat_minor": 2
}
