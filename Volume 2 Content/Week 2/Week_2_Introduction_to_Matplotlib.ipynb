{
  "nbformat": 4,
  "nbformat_minor": 0,
  "metadata": {
    "colab": {
      "provenance": []
    },
    "kernelspec": {
      "name": "python3",
      "display_name": "Python 3"
    },
    "language_info": {
      "name": "python"
    }
  },
  "cells": [
    {
      "cell_type": "markdown",
      "source": [
        "[![Open In Colab](https://colab.research.google.com/assets/colab-badge.svg)](https://colab.research.google.com/drive/1PyBbmkbKZPphD3WBWuwaZtNVWnvxLa4n?usp=sharing)\n",
        "\n",
        "\n",
        "## **Abstract**\n",
        "\n",
        "\n",
        "1. **Introduction to Matplotlib**\n",
        "   \n",
        "   This educational codebase serves as an in-depth guide to data visualization and management in the field of Chemistry, utilizing Python's Matplotlib and Pandas libraries.\n",
        "\n",
        "\n",
        "2. **Introduction to Molecular Properties:**\n",
        "   \n",
        "   The content dives deep into the concepts of **\"Highest Occupied Molecular Orbital (*HOMO*)\"** and **\"Lowest Unoccupied Molecular Orbital (*LUMO*)\"** and their relevance in Chemistry. It elaborates on the energy gap between these levels, influencing molecular stability and reactivity.\n",
        "\n",
        "3. **Analyzing Molecular Properties:**\n",
        "   \n",
        "   The guide uses **Matplotlib** to visualize key molecular attributes like **HOMO** and **LUMO** levels. These visualizations offer insights into molecular stability and reactivity.\n",
        "\n",
        "4. **Introduction to Heatmaps with Seaborn**\n",
        "   \n",
        "   The guide introduces **heatmaps** as a powerful visualization tool for complex datasets, using the [**Seaborn**](https://seaborn.pydata.org/) library. **Heatmaps** are particularly useful for identifying patterns and correlations in large datasets.\n",
        "\n",
        "5. **Plotting: Data Analysis and Visualization:**\n",
        "   \n",
        "   Using [**Matplotlib**](https://matplotlib.org/stable/contents.html) for data analysis, including calculating metrics like mean, median, standard deviation, and correlation. It also focuses on enhancing plot aesthetics with titles, line modifications, and color schemes, aiming to make data interpretation more intuitive.\n",
        "\n",
        "6. **Additional Resources:**\n",
        "   \n",
        "   While the primary focus is on Python coding, a selection of additional academic resources is included to supplement the hands-on experience.\n",
        "\n",
        "\n"
      ],
      "metadata": {
        "id": "m1nqa7xswuSy"
      }
    },
    {
      "cell_type": "markdown",
      "source": [
        "## **References: Essential Resources for Further Learning**\n",
        "\n",
        "1. **Matplotlib User Guide**: [Official Documentation](https://matplotlib.org/stable/contents.html)\n",
        "2. **Pandas Documentation**: [Official Website](https://pandas.pydata.org/docs/)\n",
        "3. **\"Python for Data Analysis\" by Wes McKinney**: [Book Information](https://wesmckinney.com/pages/book.html)\n",
        "4. **Seaborn User Guide**: [Official Documentation](https://seaborn.pydata.org/)\n",
        "5. **Computational Chemistry Tools**: [Online Course](https://www.sciencedirect.com/topics/chemistry/highest-occupied-molecular-orbital)\n",
        "6. **Pandas User Guide**: [Scholarly Article](https://pandas.pydata.org/docs/)\n",
        "\n",
        "Feel free to explore these resources to deepen your understanding of data visualization, data management, and computational tools in Chemistry.\n"
      ],
      "metadata": {
        "id": "88J1qJvrEuay"
      }
    },
    {
      "cell_type": "markdown",
      "source": [
        "## **Introduction: The Role of Data Visualization in Chemistry**\n",
        "\n",
        "Data visualization is an indispensable tool in the field of Chemistry, especially when leveraging computational tools and machine learning. Whether you're identifying patterns in molecular structures, analyzing spectroscopic data, or interpreting results from machine learning models, visual representation can elucidate intricate details that might otherwise be obscured in raw numerical data.\n",
        "\n",
        "<br>\n",
        "\n",
        "### **Further Learning**\n",
        "> Learn more about the Role of Data Visualization in Chemistry:\n",
        "> 1. **Recent Progress in Visualization and Analysis of Fingerprint**: [Journal Article](https://chemistry-europe.onlinelibrary.wiley.com/doi/full/10.1002/open.202200091)\n",
        "> 2. **Good Practices in Data Analytics**: [Webinar](https://www.chemistryworld.com/webinars/good-practices-in-data-analytics/4013015.article)\n",
        "\n",
        "<br>\n",
        "\n",
        "### **Why is Data Visualization Crucial?**\n",
        "\n",
        "Data visualization is a vital component in recent research. It allows for more efficent interpretation of data, enables deeper understanding, and aids in decision-making processes. Below is a simple plot to illustrate the point."
      ],
      "metadata": {
        "id": "0T_bGKrQGhkJ"
      }
    },
    {
      "cell_type": "code",
      "source": [
        "# Sample code block to generate a simple plot\n",
        "import matplotlib.pyplot as plt\n",
        "import numpy as np\n",
        "\n",
        "x = np.linspace(0, 10, 100)\n",
        "y = np.sin(x)\n",
        "\n",
        "plt.plot(x, y)\n",
        "plt.title('Sample Plot: Sine Function')\n",
        "plt.xlabel('X-axis')\n",
        "plt.ylabel('Y-axis')\n",
        "plt.show()"
      ],
      "metadata": {
        "id": "s-9cOl8TGvT6"
      },
      "execution_count": null,
      "outputs": []
    },
    {
      "cell_type": "markdown",
      "source": [
        "### **Mathematical Concepts in Data Visualization**\n",
        "\n",
        "In data analysis, grasping the numerical aspects is key. The term **$covariance$**  serves as a tool to evaluate how two variables change relative to one another. When both variables increase together - this is known as positive covariance. This dependance can be  expressed through correlation.\n",
        "\n",
        "<br>\n",
        "\n",
        "$$\n",
        "\\text{Correlation (r)} = \\frac{\\text{Covariance (X, Y)}}{\\text{Standard Deviation (X)} \\times \\text{Standard Deviation (Y)}}\n",
        "$$\n",
        "\n",
        "<br>\n",
        "\n",
        "**$Covariance$** is one of many statistical tests researchers can utilize to infer more from their data.\n",
        "\n",
        "Integrating mathematical tools and Python libraries such as **`Matplotlib`** and **`Pandas`** for data visualization and analysis, aids researchers particularly in the context of Chemistry.\n",
        "\n",
        "<br>\n",
        "\n",
        "#### **Further Learning**\n",
        "> Learn more about Data Visulization in Python using **`Matplotlib`** and **`Pandas`** reading  [**Computing in Science & Engineering (2007)**](https://ieeexplore.ieee.org/document/4160265) by [John D. Hunter](https://ieeexplore.ieee.org/author/38192695400). For an extended introduction to Data Visualization, watch [**The Beauty of Data Visualization**](https://www.youtube.com/watch?v=5Zg-C8AAIGg&ab_channel=TED-Ed) by [David McCandless](https://davidmccandless.com/).\n",
        "\n",
        "\n",
        "\n",
        "---\n",
        "\n",
        "\n",
        "Note: Need a link that works for Computing in Science & Engineering (2007).\n",
        "\n",
        "\n",
        "\n",
        "---\n",
        "\n",
        "\n",
        "\n",
        "\n"
      ],
      "metadata": {
        "id": "CKdGztEKG0eb"
      }
    },
    {
      "cell_type": "markdown",
      "source": [
        "## **Data Loading: Initiating the Analytical Process**\n",
        "\n",
        "Before visualizing or analysing the data, the first step is to load the data into an environment where it can be manipulated. This is crucial in scientific computing where datasets can be large and complex.\n",
        "\n",
        "### **Introduction to Pandas: Python's Data Management Library**\n",
        "\n",
        "[**Pandas**](https://pandas.pydata.org/docs/) is a  versatile Python library, for data manipulation and analysis. **Pandas** is appropriate for working with labeled data, like tables in a spreadsheet. The code block below demonstrates how to load a dataset.\n"
      ],
      "metadata": {
        "id": "HOWIrDQlXakN"
      }
    },
    {
      "cell_type": "code",
      "source": [
        "# Sample code to demonstrate data loading in Pandas\n",
        "import numpy as np\n",
        "import pandas as pd\n",
        "\n",
        "# Load a chemistry dataset from a GitHub repository\n",
        "data_url = \"https://github.com/RodrigoAVargasHdz/CHEM-4PB3/raw/main/Course_Notes/data/qm9.csv\"\n",
        "data = pd.read_csv(data_url)\n",
        "\n",
        "# Print the first few rows of the data\n",
        "print('Properties:')\n",
        "print('------------')\n",
        "for i, c in enumerate(data.columns):\n",
        "    print(i, ': ', c)"
      ],
      "metadata": {
        "id": "4hfBqvIZX0cu"
      },
      "execution_count": null,
      "outputs": []
    },
    {
      "cell_type": "markdown",
      "source": [
        "### **Example: Data Handling with Pandas**\n",
        "After loading the dataset, it's important to get a quick snapshot of its structure and contents.\n",
        "\n",
        "\n",
        "#### **Pandas - Data Preview**\n",
        "The [`head()`](https://pandas.pydata.org/docs/reference/api/pandas.DataFrame.head.html) function provides the first few rows of the DataFrame, which can help in understanding what types of data are in each column. For instance, if one column contains numerical data and another contains text data, this will be immediately obvious. This preliminary look can also reveal if any preprocessing steps, such as handling missing values, might be required later.\n",
        "\n",
        "\n",
        "\n",
        "\n",
        "\n",
        "\n"
      ],
      "metadata": {
        "id": "934z_jvhZCiK"
      }
    },
    {
      "cell_type": "code",
      "source": [
        "print(\"Preview of Data:\")\n",
        "print(data.head())\n"
      ],
      "metadata": {
        "id": "4TXokrTlZNH1"
      },
      "execution_count": null,
      "outputs": []
    },
    {
      "cell_type": "markdown",
      "source": [
        "#### **Pandas - Data Information**\n",
        "The [`info()`](https://pandas.pydata.org/docs/reference/api/pandas.DataFrame.info.html) function serves a dual purpose: it identifies the data types for each column and shows the count of non-null entries. This snapshot is vital for recognizing if data types align with their expected values and if missing data needs to be handled. Being aware of these aspects aids in streamlining the data preprocessing stage."
      ],
      "metadata": {
        "id": "Q_7U5UEKJwXb"
      }
    },
    {
      "cell_type": "code",
      "source": [
        "print(\"Data Information:\")\n",
        "print(data.info())"
      ],
      "metadata": {
        "id": "HZoOAWwPKcAT"
      },
      "execution_count": null,
      "outputs": []
    },
    {
      "cell_type": "markdown",
      "source": [
        "#### **Pandas - Statistical Summary**\n",
        "By using [`describe()`](https://pandas.pydata.org/docs/reference/api/pandas.DataFrame.describe.html), users obtain a quick statistical summary of the numerical columns in the DataFrame. This includes central tendency measures like the mean and spread measures like standard deviation. This initial insight into the data's characteristics assists in choosing appropriate analytical or visualization techniques."
      ],
      "metadata": {
        "id": "nSRd1ln0KnXC"
      }
    },
    {
      "cell_type": "code",
      "source": [
        "print(\"Statistical Summary of Data:\")\n",
        "print(data.describe())"
      ],
      "metadata": {
        "id": "G6ZtjOyrKi8i"
      },
      "execution_count": null,
      "outputs": []
    },
    {
      "cell_type": "markdown",
      "source": [
        "While the dataset may initially seem overwhelming, it's worth noting that ***Statistical Techniques*** and ***Matplotlib*** can be powerful allies in simplifying and understanding the data. Through effective visualization and analysis, complex numerical patterns can be distilled into actionable insights, making the data much more approachable.\n",
        "\n"
      ],
      "metadata": {
        "id": "nDzVNewmZau1"
      }
    },
    {
      "cell_type": "markdown",
      "source": [
        "## **Basic Plotting: Visual Data Representation**\n",
        "\n",
        "Visualizing your data is the next step after loading and initial exploration. Effective data visualization can offer nuanced insights into complex datasets. In the context of Chemistry, this can involve plotting properties like **Highest Occupied Molecular Orbital (HOMO)** and **Lowest Unoccupied Molecular Orbital (LUMO)**.\n",
        "\n",
        "\n",
        "### **Worked Example: Scatter Plot of Molecular Orbitals**\n",
        "\n",
        "Scatter plots are invaluable for understanding the relationship between two variables. Here, we visualize the relationship between *HOMO* and *LUMO*. These properties can be utilized in a Machine Learning model.  \n",
        "\n",
        "> Before delving into the visual representation of data, it's essential to prepare the dataset by extracting variables of interest, specifically *HOMO* and *LUMO*.\n",
        "\n",
        "\n",
        "\n",
        "\n",
        "\n",
        "\n",
        "\n"
      ],
      "metadata": {
        "id": "O2d3XzqkaxtG"
      }
    },
    {
      "cell_type": "code",
      "source": [
        "# Select single columns for HOMO and LUMO\n",
        "homo = np.array(data['homo'])  # Extract HOMO\n",
        "lumo = data.lumo.to_numpy()  # Extract LUMO\n",
        "print('HOMO ->', homo.shape)\n",
        "print('LUMO ->', homo.shape)\n",
        "\n",
        "# Select multiple columns for HOMO and LUMO\n",
        "homo_and_lumo = np.array(data[['homo', 'lumo']])\n",
        "print('HOMO & LUMO ->', homo_and_lumo.shape)"
      ],
      "metadata": {
        "id": "MxEnculY7Nck"
      },
      "execution_count": null,
      "outputs": []
    },
    {
      "cell_type": "markdown",
      "source": [
        "> With the data prepared, the next step involves setting up the plot libraries."
      ],
      "metadata": {
        "id": "KdtW6DgKDu7v"
      }
    },
    {
      "cell_type": "code",
      "source": [
        "# load relevant libraries\n",
        "import matplotlib\n",
        "import matplotlib.pyplot as plt\n",
        "from matplotlib.pyplot import figure"
      ],
      "metadata": {
        "id": "rZ6mmm14DyKD"
      },
      "execution_count": null,
      "outputs": []
    },
    {
      "cell_type": "markdown",
      "source": [
        "> Now that [*Matplotlib*](https://matplotlib.org/stable/index.html) is set up, the core components of a scatter plot can be implemented. This involves using the extracted *HOMO* and *LUMO* values as coordinates for the plot.\n"
      ],
      "metadata": {
        "id": "UY6N9LMTD8vK"
      }
    },
    {
      "cell_type": "code",
      "source": [
        "%matplotlib inline\n",
        "figure(figsize=(8, 6), dpi=80)\n",
        "\n",
        "plt.scatter(homo,lumo)\n",
        "plt.xlabel('HOMO',fontsize=15)\n",
        "plt.ylabel('LUMO',fontsize=15)\n",
        "# plt.show()"
      ],
      "metadata": {
        "id": "KLPwEz_dEi5x"
      },
      "execution_count": null,
      "outputs": []
    },
    {
      "cell_type": "markdown",
      "source": [
        "A scatter plot visualization offers an intuitive grasp of the interrelationships among these Molecular Properties, and it provides a method to validate hypotheses through statistical tests."
      ],
      "metadata": {
        "id": "eXu1WfEwE1rZ"
      }
    },
    {
      "cell_type": "markdown",
      "source": [
        "### **Understanding HOMO and LUMO: A Contextual Overview**\n",
        "\n",
        "In molecular chemistry, **HOMO** and **LUMO** are acronyms for the **Highest Occupied Molecular Orbital** and the **Lowest Unoccupied Molecular Orbital**, respectively. These orbitals are central to understanding a molecule's electronic structure, reactivity, and various other chemical properties.\n",
        "\n",
        "<br>\n",
        "\n",
        "#### **Why Are *HOMO* and *LUMO* Important?**\n",
        "The energy gap between *HOMO* and *LUMO* levels can reveal a lot about a molecule's stability and reactivity. A smaller gap often signifies that the molecule is more reactive, whereas a larger gap typically implies greater stability. This is crucial information when analyzing molecular interactions in computational chemistry.\n",
        "<br>\n",
        "\n",
        "\n",
        "\n",
        "![HOMOS and LUMOS for the Butadiene System ](https://cdn.masterorganicchemistry.com/wp-content/uploads/2019/12/6-molecular-orbitals-of-butadiene-showing-homo-and-lumo-orbitals.gif) <br>\n",
        "[**Figure 1 - HOMOS and LUMOS for the Butadiene System. Image by James Ashenhurst**](https://www.masterorganicchemistry.com/2018/03/23/molecular-orbitals-in-the-diels-alder-reaction/)\n",
        "\n",
        "<br>\n",
        "\n",
        "#### **Real-World Application: Organic Photovoltaic Cells**\n",
        "\n",
        "One specific area where the understanding of *HOMO* and *LUMO* levels is vital is in the development of ***Organic Photovoltaic Cells (OPVs)***. These are solar cells that use organic compounds to convert solar energy into electrical energy. The energy levels of *HOMO* and *LUMO* play a crucial role in the efficiency of these cells.\n",
        "\n",
        "<br>\n",
        "\n",
        "They determine the ease with which electrons can be \"excited\" from the *HOMO* to the *LUMO* level upon the absorption of photons. This excited state facilitates the movement of electrons, thereby generating an electric current.\n",
        "\n",
        "<br>\n",
        "\n",
        "![Organic Photovoltaic Devices](https://www.oe.phy.cam.ac.uk/files/media/organic11.png) <br>\n",
        "[**Figure 2 - Organic Photovoltaic Devices. Image by the University of Cambridge**](https://www.oe.phy.cam.ac.uk/research/photovoltaics/ophotovoltaics)\n",
        "\n",
        "<br>\n",
        "\n",
        "> By leveraging computational chemistry and data visualization techniques to study these levels, researchers can optimize the materials used in OPVs. This enables the development of more effective and efficient solar energy solutions.\n",
        "\n",
        "<br>\n",
        "\n",
        "#### **Learn More**\n",
        ">1. **HOMO and LUMO Molecular Orbitals for Conjugated Systems**: [YouTube Video](https://www.youtube.com/watch?v=cEOgSn5pvhw&ab_channel=Leah4sci)\n",
        ">2. **Frontier MOs: An Acid-Base Theory**: [Report](https://chem.libretexts.org/Bookshelves/General_Chemistry/General_Chemistry_Supplement_(Eames)/Molecular_Orbital_Theory/Frontier_MOs%3A_An_Acid-Base_Theory)\n",
        ">3. **Describing Chemical Reactivity with Frontier Molecular Orbitalets**: [Journal Article](https://pubs.acs.org/doi/10.1021/jacsau.2c00085)\n"
      ],
      "metadata": {
        "id": "ltEeop0NO1Cq"
      }
    },
    {
      "cell_type": "markdown",
      "source": [
        "## **Plotting: Visuals and Data Analysis**\n",
        "#### **Exercises and Challenges - Visualizing Data on Scatter Plots**\n",
        "\n",
        "1. **Exercises**\n",
        "   - **Plotting *Alpha* and *Mu*:** Remake the scatter plot using the columns **Alpha** and **Mu** instead of **HOMO** and **LUMO**. How do the distributions compare?\n",
        "   - **Statistical Insights:** Calculate and print the mean, median, and standard deviation for both the **HOMO** and **LUMO** columns.\n",
        "   \n",
        "\n",
        "2. **Challenges**\n",
        "\n",
        "   - **Enhanced Visualization:** Modify the scatter plot by adding a title, grid lines, and a legend.\n",
        "   - **Data Highlighting:** Highlight any points where **HOMO** values are greater than **$-0.2$** and **LUMO** values are less than **$0.2$** in a different color.  \n",
        "\n"
      ],
      "metadata": {
        "id": "74bGTik4HrI3"
      }
    },
    {
      "cell_type": "code",
      "source": [
        "# Exercise - Plotting Alpha and Mu\n",
        "\n",
        "\"\"\"Your Code Here\"\"\"\n",
        "\n",
        "\n"
      ],
      "metadata": {
        "id": "W_KMip3qJpZR"
      },
      "execution_count": null,
      "outputs": []
    },
    {
      "cell_type": "code",
      "source": [
        "# Exercise - Statistical Insights\n",
        "\n",
        "\"\"\"Your Code Here\"\"\"\n",
        "\n",
        "\n"
      ],
      "metadata": {
        "id": "l-5-gbYWJpsJ"
      },
      "execution_count": null,
      "outputs": []
    },
    {
      "cell_type": "code",
      "source": [
        "# Challenge - Enhanced Visualization\n",
        "\n",
        "\"\"\"Your code here\"\"\"\n",
        "\n",
        "\n"
      ],
      "metadata": {
        "id": "va2TqUtcJp04"
      },
      "execution_count": null,
      "outputs": []
    },
    {
      "cell_type": "code",
      "source": [
        "# Challenge - Data Highlighting\n",
        "\n",
        "\"\"\"Your code here\"\"\"\n",
        "\n",
        "\n"
      ],
      "metadata": {
        "id": "b8cUHXUqJp6l"
      },
      "execution_count": null,
      "outputs": []
    },
    {
      "cell_type": "markdown",
      "source": [
        "### **Solution: Plotting Alpha and Mu**"
      ],
      "metadata": {
        "id": "uc2Fc51BKDxx"
      }
    },
    {
      "cell_type": "code",
      "source": [
        "# Extracting 'alpha' and 'mu' columns from the dataset\n",
        "alpha = np.array(data['alpha'])\n",
        "mu = np.array(data['mu'])\n",
        "\n",
        "figure(figsize=(8, 6), dpi=80)\n",
        "\n",
        "# Creating the scatter plot\n",
        "plt.scatter(alpha, mu)\n",
        "plt.xlabel('Alpha', fontsize=15)\n",
        "plt.ylabel('Mu', fontsize=15)\n",
        "plt.show()\n"
      ],
      "metadata": {
        "id": "CEGt8eXxKXzA"
      },
      "execution_count": null,
      "outputs": []
    },
    {
      "cell_type": "markdown",
      "source": [
        "### **Solution: Statistical Insights**"
      ],
      "metadata": {
        "id": "c10U8i3LKJJh"
      }
    },
    {
      "cell_type": "code",
      "source": [
        "print(\"Mean of HOMO:\", np.mean(homo))\n",
        "print(\"Median of HOMO:\", np.median(homo))\n",
        "print(\"Standard Deviation of HOMO:\", np.std(homo))\n",
        "\n",
        "print(\"Mean of LUMO:\", np.mean(lumo))\n",
        "print(\"Median of LUMO:\", np.median(lumo))\n",
        "print(\"Standard Deviation of LUMO:\", np.std(lumo))"
      ],
      "metadata": {
        "id": "LxYRhglOKc_A"
      },
      "execution_count": null,
      "outputs": []
    },
    {
      "cell_type": "markdown",
      "source": [
        ">  Review the Mean, Median, and Mode syntax in the Week 1 lesson."
      ],
      "metadata": {
        "id": "oZCSFUaNNQtE"
      }
    },
    {
      "cell_type": "markdown",
      "source": [
        "### **Solution: Enhanced Visualization**"
      ],
      "metadata": {
        "id": "9NEKcxm7KJUp"
      }
    },
    {
      "cell_type": "code",
      "source": [
        "# Setting up the figure\n",
        "figure(figsize=(8, 6), dpi=80)\n",
        "\n",
        "# Creating the scatter plot with labels and title\n",
        "plt.scatter(homo, lumo)\n",
        "plt.xlabel('HOMO', fontsize=15)\n",
        "plt.ylabel('LUMO', fontsize=15)\n",
        "plt.title('HOMO vs LUMO Scatter Plot', fontsize=18)\n",
        "\n",
        "# Adding a grid\n",
        "plt.grid(True)\n",
        "\n",
        "# Adding a legend\n",
        "plt.legend(['HOMO vs LUMO'])\n",
        "plt.show()\n"
      ],
      "metadata": {
        "id": "jJh0INL6KoCy"
      },
      "execution_count": null,
      "outputs": []
    },
    {
      "cell_type": "markdown",
      "source": [
        "> Consult the [**`plt.grid()`**](https://matplotlib.org/stable/api/_as_gen/matplotlib.pyplot.grid.html) documentation to learn more about it's syntax and use cases.\n",
        "\n"
      ],
      "metadata": {
        "id": "gn9C5ZUlMMYg"
      }
    },
    {
      "cell_type": "markdown",
      "source": [
        "### **Solution: Data Highlighting**"
      ],
      "metadata": {
        "id": "IIDdwbb9KJbg"
      }
    },
    {
      "cell_type": "code",
      "source": [
        "condition = (homo > -0.2) & (lumo < 0.2)\n",
        "figure(figsize=(8, 6), dpi=80)\n",
        "\n",
        "# Creating the scatter plot with labels and title\n",
        "plt.scatter(homo, lumo, c='blue')\n",
        "plt.scatter(homo[condition], lumo[condition], c='red')\n",
        "\n",
        "# Adding a grid\n",
        "plt.xlabel('HOMO', fontsize=15)\n",
        "plt.ylabel('LUMO', fontsize=15)\n",
        "plt.legend(['Regular Points', 'Highlighted Points'])\n",
        "plt.show()\n"
      ],
      "metadata": {
        "id": "MdMS-C6TKrDf"
      },
      "execution_count": null,
      "outputs": []
    },
    {
      "cell_type": "markdown",
      "source": [
        "## **Unlocking Insights through Correlation Analysis**\n",
        "\n",
        "When stepping into the domain of machine learning, a solid grasp of correlation analysis can be instrumental. Correlation serves as a gateway concept that familiarizes one with the nuances of data relationships, thereby paving the way for more complex machine learning models. Let's delve deeper.\n",
        "\n",
        "<br>\n",
        "\n",
        "### **Correlation Analysis: Decoding Variable Relationships for Machine Learning**\n",
        "\n",
        "Before delving into more complex machine learning models, it's vital to understand what correlation is. This statistical measure represents the strength and direction of a relationship between two variables.\n",
        "\n",
        "<br>\n",
        "\n",
        "#### **Exercise: Fitting Curves with `np.polyfit()`**\n",
        "\n",
        "The task is to use the function [**`np.polyfit()`**](https://numpy.org/doc/stable/reference/generated/numpy.polyfit.html) to determine the parameters of a linear model for a given set of data. The **NumPy** documentation can be consulted for guidance on how to use the function.\n",
        "\n"
      ],
      "metadata": {
        "id": "M50aT4e8c4yi"
      }
    },
    {
      "cell_type": "markdown",
      "source": [
        "#### **Quick recap of Linear Model**\n",
        "\n",
        "\n",
        "*   The goal here is to calculate the slope **$(m)$** and intercept **$(b)$** for a line that fits the data points.\n",
        "\n",
        "*   $y = m * x + b$\n",
        "\n",
        "*   $y = [m,b]^T [x,1]$\n",
        "\n",
        "> Use the formula to calculate the slope and intercept for **HOMO** and **LUMO** - and plot the graph with the regression model.\n",
        "\n"
      ],
      "metadata": {
        "id": "zPwK-4_-7LaY"
      }
    },
    {
      "cell_type": "code",
      "source": [
        "# Exercise: Fitting Curves with np.polyfit()\n",
        "\n",
        "\"Your Code Here\"\n",
        "\n",
        "\n"
      ],
      "metadata": {
        "id": "aSQI06p7fYMn"
      },
      "execution_count": null,
      "outputs": []
    },
    {
      "cell_type": "markdown",
      "source": [
        "#### **Solution: Fitting Curves with np.polyfit()**"
      ],
      "metadata": {
        "id": "0_uV06nRfz1X"
      }
    },
    {
      "cell_type": "code",
      "source": [
        "# Reshape the 'homo' array and stack it with an array of ones\n",
        "homo_and_ones = np.column_stack((homo.reshape((-1, 1)), np.ones_like(homo)))\n",
        "\n",
        "# Calculate the slope (m) and intercept (b) using least squares\n",
        "m_and_c = np.linalg.lstsq(homo_and_ones, lumo, rcond=None)[0]\n",
        "m = m_and_c[0]\n",
        "b = m_and_c[1]\n",
        "print(f'Slope (m) = {m}; Intercept (b) = {b}')"
      ],
      "metadata": {
        "id": "9EzHK0UuciQO"
      },
      "execution_count": null,
      "outputs": []
    },
    {
      "cell_type": "code",
      "source": [
        "%matplotlib inline\n",
        "figure(figsize=(8, 6), dpi=80)\n",
        "plt.scatter(homo,lumo)\n",
        "\n",
        "x = np.linspace(np.min(homo),np.max(homo),100)\n",
        "f = lambda x: m *x + b\n",
        "\n",
        "y = f(x)\n",
        "plt.plot(x,y, c='k')\n",
        "\n",
        "plt.title(\"Regression Model - HOMO versus LUMO\")\n",
        "plt.xlabel('HOMO - V(eV)')\n",
        "plt.ylabel('LUMO - V(eV)')"
      ],
      "metadata": {
        "id": "nObG8ikXfvso"
      },
      "execution_count": null,
      "outputs": []
    },
    {
      "cell_type": "markdown",
      "source": [
        "### **Exercises and Challenges - First Foray into Machine Learning**\n",
        "\n",
        "#### **Exercises**\n",
        "\n",
        "1. **Experimenting with Colors and Symbols**\n",
        "   - Alter the scatter plot by changing both the color and marker symbols. This will help you understand the flexibility and capabilities of data visualization tools.\n",
        "\n",
        "2. **Customizing Line Styles**\n",
        "   - Modify the line style of the regression model. This alteration will provide a different visual impact and may help you interpret the model better.\n",
        "\n",
        "#### **Challenges**\n",
        "\n",
        "1. **Creating a Histogram with *HOMO* Data**\n",
        "   - Construct a histogram using the **HOMO** data. Try to interpret the distribution and see if it reveals anything interesting about your dataset.\n",
        "\n",
        "2. **Exploring Covariance and Correlation**\n",
        "   - Creating a Histogram with **HOMO** Data\n",
        "   - Since covariance was discussed earlier, create a challenge for yourself to visualize or calculate the **covariance** and **correlation** between **HOMO** and **LUMO**.\n",
        "\n",
        "> **Challenge** - Exploring Covariance and Correlation can be completed mathmatically with **NumPy's** **[`np.cov()`](https://numpy.org/doc/stable/reference/generated/numpy.cov.html)** and can be further visualized with **Seaborn's** [**Heatmaps**](https://seaborn.pydata.org/generated/seaborn.heatmap.html).\n",
        "\n"
      ],
      "metadata": {
        "id": "1UPWggAISRuH"
      }
    },
    {
      "cell_type": "code",
      "source": [
        "# Exercise - Experimenting with Colors and Symbols\n",
        "\n",
        "\"\"\"Your Code Here\"\"\"\n",
        "\n",
        "\n"
      ],
      "metadata": {
        "id": "7fNTHGN8UUHk"
      },
      "execution_count": null,
      "outputs": []
    },
    {
      "cell_type": "code",
      "source": [
        "# Exercise - Customizing Line Styles\n",
        "\n",
        "\"\"\"Your Code Here\"\"\"\n",
        "\n",
        "\n"
      ],
      "metadata": {
        "id": "wWIyq2mRUUR9"
      },
      "execution_count": null,
      "outputs": []
    },
    {
      "cell_type": "code",
      "source": [
        "# Challange - Creating a Histogram with HOMO Data\n",
        "\n",
        "\"\"\"Your Code Here\"\"\"\n",
        "\n",
        "\n"
      ],
      "metadata": {
        "id": "Q0F6qB8BUUaE"
      },
      "execution_count": null,
      "outputs": []
    },
    {
      "cell_type": "code",
      "source": [
        "# Challange - Exploring Covariance\n",
        "\n",
        "\"\"\"Your Code Here\"\"\"\n",
        "\n",
        "\n"
      ],
      "metadata": {
        "id": "x230GAS3UUgI"
      },
      "execution_count": null,
      "outputs": []
    },
    {
      "cell_type": "markdown",
      "source": [
        "#### **Solution: Experimenting with Colors and Symbols**"
      ],
      "metadata": {
        "id": "gwR3yJ3SS6aZ"
      }
    },
    {
      "cell_type": "code",
      "source": [
        "plt.title(\"Scatter Plot - HOMO versus LUMO\")\n",
        "plt.xlabel('HOMO - V(eV)')\n",
        "plt.ylabel('LUMO - V(eV)')\n",
        "plt.scatter(homo, lumo, marker='o', color='red')"
      ],
      "metadata": {
        "id": "pMPUK_AtTTcW"
      },
      "execution_count": null,
      "outputs": []
    },
    {
      "cell_type": "markdown",
      "source": [
        "\n",
        "> Learn more about **`Matplotlib Styling`** syntax and use cases at **Python Charts'** **[lesson](https://python-charts.com/matplotlib/title/)**."
      ],
      "metadata": {
        "id": "o5ee64w9cCVU"
      }
    },
    {
      "cell_type": "markdown",
      "source": [
        "#### **Solution: Customizing Line Styles**"
      ],
      "metadata": {
        "id": "VPKQpacKS6S3"
      }
    },
    {
      "cell_type": "code",
      "source": [
        "%matplotlib inline\n",
        "from matplotlib.pyplot import figure\n",
        "import matplotlib.pyplot as plt\n",
        "import numpy as np\n",
        "\n",
        "figure(figsize=(8, 6), dpi=80)\n",
        "plt.scatter(homo, lumo)\n",
        "\n",
        "x = np.linspace(np.min(homo), np.max(homo), 100)\n",
        "f = lambda x: m * x + b\n",
        "y = f(x)\n",
        "\n",
        "# Here, the linestyle is set to '--', making it a dashed line.\n",
        "plt.plot(x, y, c='k', linestyle='--')\n",
        "\n",
        "plt.title(\"Scatter Plot - HOMO versus LUMO\", fontsize = 16)\n",
        "plt.xlabel('HOMO - V(eV)', fontsize=12)\n",
        "plt.ylabel('LUMO - V(eV)', fontsize=12)\n"
      ],
      "metadata": {
        "id": "6Gc-JGS7URek"
      },
      "execution_count": null,
      "outputs": []
    },
    {
      "cell_type": "markdown",
      "source": [
        "#### **Solution: Creating a Histogram with *HOMO* Data**"
      ],
      "metadata": {
        "id": "YbhUDvkyS6Kv"
      }
    },
    {
      "cell_type": "code",
      "source": [
        "# Create a histogram with 20 bins\n",
        "plt.hist(homo, bins=20, color='blue')\n",
        "plt.title(\"Histogram of HOMO Data\")\n",
        "plt.xlabel('V (eV)')\n",
        "plt.ylabel('N (count)')\n",
        "plt.show()\n"
      ],
      "metadata": {
        "id": "m6_iL1XNUSNW"
      },
      "execution_count": null,
      "outputs": []
    },
    {
      "cell_type": "markdown",
      "source": [
        "#### **Solution: Exploring Covariance**"
      ],
      "metadata": {
        "id": "U86XIdAnS6Ae"
      }
    },
    {
      "cell_type": "code",
      "source": [
        "# Calculate the covariance using numpy\n",
        "cov_matrix = np.cov(homo, lumo)\n",
        "covariance = cov_matrix[0,1]\n",
        "\n",
        "# Create a scatter plot for visualization\n",
        "plt.scatter(homo, lumo)\n",
        "plt.title(f\"Covariance: {covariance}\", color = 'blue', fontsize = 12)\n",
        "plt.suptitle(\"Scatter Plot - HOMO versus LUMO\")\n",
        "plt.xlabel('HOMO (eV)')\n",
        "plt.ylabel('LUMO (eV)')\n",
        "plt.show()"
      ],
      "metadata": {
        "id": "Y4g0R5c-UjkU"
      },
      "execution_count": null,
      "outputs": []
    },
    {
      "cell_type": "code",
      "source": [
        "std_homo = np.std(homo, ddof=1)  # ddof=1 for unbiased estimator\n",
        "std_lumo = np.std(lumo, ddof=1)\n",
        "\n",
        "# Calculate correlation (r) using the formula\n",
        "correlation = covariance / (std_homo * std_lumo)\n",
        "print(\"Correlation: \", correlation)"
      ],
      "metadata": {
        "id": "v8eaaCaRVQAj"
      },
      "execution_count": null,
      "outputs": []
    },
    {
      "cell_type": "markdown",
      "source": [
        "> Learn more about **`ddof`** syntax, type, and use cases at **NumPy's** **[documentation](https://numpy.org/doc/stable/reference/generated/numpy.std.html)**."
      ],
      "metadata": {
        "id": "CLFppAmRXbb4"
      }
    },
    {
      "cell_type": "code",
      "source": [
        "import seaborn as sns\n",
        "\n",
        "# Compute the covariance matrix and visualize it\n",
        "covariance_matrix = np.cov(homo, lumo)\n",
        "sns.heatmap(covariance_matrix, annot=True)"
      ],
      "metadata": {
        "id": "khRgUFJJU22V"
      },
      "execution_count": null,
      "outputs": []
    },
    {
      "cell_type": "markdown",
      "source": [
        "## **Challange - Extra Styles**\n",
        "\n",
        "Use Matplotlib and NumPy to generate a **[\"scatter plot with histograms\"](https://matplotlib.org/stable/gallery/lines_bars_and_markers/scatter_hist.html#sphx-glr-gallery-lines-bars-and-markers-scatter-hist-py)** template for the columns of the QM9 data set.\n",
        "\n",
        "> How could the plot be made interactive?\n",
        "\n",
        "<br>\n",
        "\n",
        "**Hints - Extra Styles**\n",
        "> - **Matplotlib's** [**`plt.inset_axes`**](https://matplotlib.org/stable/api/_as_gen/matplotlib.axes.Axes.inset_axes.html) and [**`plt.subplots`**](https://matplotlib.org/stable/api/_as_gen/matplotlib.pyplot.subplots.html) can assist with this challange.\n",
        "> - Learn more about the [**`bins`**](https://matplotlib.org/stable/api/_as_gen/matplotlib.pyplot.hist.html) in **Matplotlib's** Histograms.\n",
        "\n"
      ],
      "metadata": {
        "id": "-H6DFYVM1B2s"
      }
    },
    {
      "cell_type": "code",
      "source": [
        "# Challange - Extra Styles\n",
        "\n",
        "\"Your code here\"\n",
        "\n",
        "\n",
        "\n"
      ],
      "metadata": {
        "id": "HtWaMU2f1ZIC"
      },
      "execution_count": null,
      "outputs": []
    },
    {
      "cell_type": "markdown",
      "source": [
        "### **Solution - Extra Styles**"
      ],
      "metadata": {
        "id": "GbDkDKHK4BwJ"
      }
    },
    {
      "cell_type": "code",
      "source": [
        "# This can be ammended for other columns\n",
        "col1 = 'A'\n",
        "col2 = 'mu'\n",
        "\n",
        "# Extract data for the columns\n",
        "x = data[col1].values\n",
        "y = data[col2].values\n",
        "\n",
        "# Create the figure and axes\n",
        "fig, ax = plt.subplots(figsize=(8, 8))\n",
        "\n",
        "# Place the histograms inside the main plot using inset_axes\n",
        "ax_histx = ax.inset_axes([0, 1.05, 1, 0.2])\n",
        "ax_histy = ax.inset_axes([1.05, 0, 0.2, 1])\n",
        "\n",
        "# Scatter plot\n",
        "ax.scatter(x, y)\n",
        "\n",
        "# Histogram on the attached axes\n",
        "ax_histx.hist(x, bins=50)\n",
        "ax_histy.hist(y, bins=50, orientation='horizontal')\n",
        "\n",
        "# Turn off tick labels on histograms (optional)\n",
        "ax_histx.tick_params(axis=\"x\", labelbottom=False)\n",
        "ax_histy.tick_params(axis=\"y\", labelleft=False)\n",
        "\n",
        "# Labels and titles\n",
        "ax.set_xlabel(col1, fontsize = 12)\n",
        "ax.set_ylabel(col2, fontsize = 12)\n",
        "ax.set_title(f\"Scatter plot with Histograms: {col1} vs {col2}\", fontsize = 18)\n",
        "\n",
        "plt.show()"
      ],
      "metadata": {
        "id": "26yx9koC4H6Q"
      },
      "execution_count": null,
      "outputs": []
    },
    {
      "cell_type": "markdown",
      "source": [
        "### **Solution - Extra Styles Interactive**"
      ],
      "metadata": {
        "id": "J7Y8yVvx3hAJ"
      }
    },
    {
      "cell_type": "code",
      "source": [
        "# List available numerical columns\n",
        "numerical_cols = data.select_dtypes(include=[float]).columns.tolist()\n",
        "\n",
        "# Ask user for the columns to plot\n",
        "print(\"Available numerical columns: \", numerical_cols)\n",
        "col1 = input(\"Select the first column: \")\n",
        "col2 = input(\"Select the second column: \")\n",
        "\n",
        "if col1 in numerical_cols and col2 in numerical_cols:\n",
        "    # Extract data for the chosen columns\n",
        "    x = data[col1].values\n",
        "    y = data[col2].values\n",
        "\n",
        "    # Create the figure and axes\n",
        "    fig, ax = plt.subplots(figsize=(8, 8))\n",
        "    ax_histx = ax.inset_axes([0, 1.05, 1, 0.2])\n",
        "    ax_histy = ax.inset_axes([1.05, 0, 0.2, 1])\n",
        "\n",
        "    # Scatter plot\n",
        "    ax.scatter(x, y)\n",
        "\n",
        "    # Histogram on the attached axes\n",
        "    ax_histx.hist(x, bins=50)\n",
        "    ax_histy.hist(y, bins=50, orientation='horizontal')\n",
        "\n",
        "    # Turn off tick labels on histograms\n",
        "    ax_histx.tick_params(axis=\"x\", labelbottom=False)\n",
        "    ax_histy.tick_params(axis=\"y\", labelleft=False)\n",
        "\n",
        "    # Labels and titles\n",
        "    ax.set_xlabel(col1, fontsize = 12)\n",
        "    ax.set_ylabel(col2, fontsize = 12)\n",
        "    ax.set_title(f\"Scatter plot with Histograms: {col1} vs {col2}\", fontsize = 18)\n",
        "\n",
        "    plt.show()\n",
        "else:\n",
        "    print(\"One or both of the columns you selected are not in the list of numerical columns. Please try again.\")\n"
      ],
      "metadata": {
        "id": "rfrpfW0f2UtK"
      },
      "execution_count": null,
      "outputs": []
    }
  ]
}
