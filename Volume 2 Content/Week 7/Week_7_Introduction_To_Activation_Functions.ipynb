{
  "nbformat": 4,
  "nbformat_minor": 0,
  "metadata": {
    "colab": {
      "provenance": []
    },
    "kernelspec": {
      "name": "python3",
      "display_name": "Python 3"
    },
    "language_info": {
      "name": "python"
    }
  },
  "cells": [
    {
      "cell_type": "code",
      "execution_count": 1,
      "metadata": {
        "id": "Ywr4UzTFMns3"
      },
      "outputs": [],
      "source": [
        "import numpy as np\n",
        "import torch\n",
        "from torch import nn\n",
        "import torch.functional as F\n",
        "import pandas as pd\n",
        "\n",
        "import matplotlib\n",
        "import matplotlib.pyplot as plt"
      ]
    },
    {
      "cell_type": "markdown",
      "source": [
        "[![Open In Colab](https://colab.research.google.com/assets/colab-badge.svg)](https://colab.research.google.com/drive/1XwilcXbk5fAI1tGxzBvR6PzWX0-NFk6r?usp=sharing)\n",
        "\n",
        "# **Week 7 - Introduction to Activation Functions.**\n",
        "\n",
        "## **Abstract**\n",
        "\n",
        "1. **Introduction to Activation Functions.**: Activation functions in neural networks, such as sigmoid, ReLU, and softmax, apply non-linear transformations to inputs, enabling the network to capture complex data patterns and behaviors.\n",
        "\n",
        "2. **Introduction to Non-Linear Layers**: Non-linear layers in neural networks transform linear inputs into non-linear outputs using activation functions, enabling the network to handle complex, non-linear relationships in data.\n",
        "\n",
        "\n",
        ">### **References: Essential Resources for Further Learning**\n",
        ">\n",
        ">- **PyTorch**: [Official Documentation](https://pytorch.org/docs/stable/index.html)\n",
        ">- **Activation Functions in Neural Networks**: [Online Course](https://towardsdatascience.com/activation-functions-neural-networks-1cbd9f8d91d6)\n",
        ">- **Activation Functions in Neural Networks [12 Types & Use Cases]**: [Blog](https://www.v7labs.com/blog/neural-networks-activation-functions)\n",
        "\n",
        "\n",
        "Feel free to explore these resources to deepen your understanding of data visualization, data management, and computational tools in Chemistry.\n",
        "\n",
        "\n",
        "\n"
      ],
      "metadata": {
        "id": "wlmObDC0aVkz"
      }
    },
    {
      "cell_type": "markdown",
      "source": [
        "## **Beyond Linear Models - Introduction to Internal Parameters**\n",
        "\n",
        "\n",
        "In extending the linear model to a **non-linear model**, the function $f(\\mathbf{x})$ becomes dependent on both external and internal parameters. This can be dissected as follows:\n",
        "\n",
        "- **Non-Linear Model Representation**:\n",
        "  - The model is now expressed as $f(\\mathbf{x}) = \\mathbf{w}^\\top \\phi(\\mathbf{x},\\mathbf{w}') = \\sum_i w_i \\phi_i(\\mathbf{x},\\mathbf{w}')$.\n",
        "  - In this representation, $\\phi(\\mathbf{x},\\mathbf{w}')$ indicates a non-linear map to a new **feature representation**, which also depends on internal parameters $\\mathbf{w}'$.\n",
        "\n",
        "- **Internal Parameter Optimization**:\n",
        "  - The model includes optimization of the non-linear parameters $\\mathbf{w}'$.\n",
        "  - This introduces an additional layer of complexity compared to the linear model, as $\\mathbf{w}'$ need to be adjusted along with $\\mathbf{w}$.\n",
        "\n",
        "Let's assume $\\phi(\\mathbf{x},\\mathbf{w}')$ is another linear model,\\\n",
        "$\\phi(\\mathbf{x},\\mathbf{w}') = \\mathbf{z} = [z_0,z_1,\\cdots,z_\\ell]$, where $\\ell$ is the \"new\" number of features.\n",
        "\n",
        "\n"
      ],
      "metadata": {
        "id": "Lwb_Op0tNTXk"
      }
    },
    {
      "cell_type": "code",
      "source": [
        "# Function\n",
        "def f(x):\n",
        " return -(1.4 - 3.0 * x) * torch.sin(18.0 * x)\n",
        "\n",
        "def get_data(n_batch=200):\n",
        "    # X = torch.randn((n_batch,1))\n",
        "    X = torch.distributions.uniform.Uniform(-0.01,1.).sample([n_batch,1])\n",
        "    y = f(X)\n",
        "    return X,y"
      ],
      "metadata": {
        "id": "kf_kqzG3R_Um"
      },
      "execution_count": 2,
      "outputs": []
    },
    {
      "cell_type": "code",
      "source": [
        "# Model definition\n",
        "model = nn.Sequential(\n",
        "  nn.Linear(1, 100),\n",
        "  nn.Linear(100, 100),\n",
        "  nn.Linear(100, 75),\n",
        "  nn.Linear(75, 1)\n",
        "    )"
      ],
      "metadata": {
        "id": "O42yJ6yaZkpH"
      },
      "execution_count": 3,
      "outputs": []
    },
    {
      "cell_type": "code",
      "source": [
        "# Training function\n",
        "def training(training_iter=500, n_batch=50, lr=0.05, feedback_interval=5):\n",
        "    optimizer = torch.optim.Adam(model.parameters(), lr=lr)\n",
        "    loss_fn = nn.MSELoss()\n",
        "    model.train()\n",
        "\n",
        "    for itr in range(1, training_iter + 1):\n",
        "        X, y_true = get_data(n_batch)\n",
        "        output = model(X)\n",
        "        loss_val = loss_fn(output, y_true)\n",
        "\n",
        "        optimizer.zero_grad()\n",
        "        loss_val.backward()\n",
        "        optimizer.step()\n",
        "\n",
        "        if itr % feedback_interval == 0:\n",
        "            print(f'Iteration = {itr}, Loss = {loss_val.item():.4f}')\n",
        "\n",
        "    return model"
      ],
      "metadata": {
        "id": "mF2jNpyBSCJd"
      },
      "execution_count": 4,
      "outputs": []
    },
    {
      "cell_type": "code",
      "source": [
        "def plot_model_performance(model, n_samples=75, n_grid_points=5000):\n",
        "    plt.clf()\n",
        "    X, y = get_data(n_samples)\n",
        "    X_grid = torch.linspace(0., 1., n_grid_points).unsqueeze(1)\n",
        "\n",
        "    plt.scatter(X.detach().numpy(), y.detach().numpy(), label='Batch')\n",
        "    plt.plot(X_grid.detach().numpy(), f(X_grid).detach().numpy(), ls='--', c='k', label=r'$f(x)$')\n",
        "    plt.plot(X_grid.detach().numpy(), model(X_grid).detach().numpy(), c='red', label=r'$NN(x)$')\n",
        "\n",
        "    plt.ylabel(r'$f(x)$', fontsize=12)\n",
        "    plt.xlabel(r'$x$', fontsize=12)\n",
        "    plt.legend()"
      ],
      "metadata": {
        "id": "OyjXc6K_R8tH"
      },
      "execution_count": 5,
      "outputs": []
    },
    {
      "cell_type": "code",
      "source": [
        "model_trained = training()\n",
        "plot_model_performance(model_trained)"
      ],
      "metadata": {
        "colab": {
          "base_uri": "https://localhost:8080/",
          "height": 1000
        },
        "id": "pHbJLlm9SPef",
        "outputId": "1489cc72-cde3-4514-868f-2df481a7b3ba"
      },
      "execution_count": 6,
      "outputs": [
        {
          "output_type": "stream",
          "name": "stdout",
          "text": [
            "Iteration = 5, Loss = 100.9211\n",
            "Iteration = 10, Loss = 158.2442\n",
            "Iteration = 15, Loss = 17.5504\n",
            "Iteration = 20, Loss = 12.6318\n",
            "Iteration = 25, Loss = 9.3307\n",
            "Iteration = 30, Loss = 197.8235\n",
            "Iteration = 35, Loss = 13.4513\n",
            "Iteration = 40, Loss = 0.5711\n",
            "Iteration = 45, Loss = 2.5527\n",
            "Iteration = 50, Loss = 2.1519\n",
            "Iteration = 55, Loss = 1.6035\n",
            "Iteration = 60, Loss = 1.2443\n",
            "Iteration = 65, Loss = 0.6074\n",
            "Iteration = 70, Loss = 0.5380\n",
            "Iteration = 75, Loss = 0.4723\n",
            "Iteration = 80, Loss = 0.3374\n",
            "Iteration = 85, Loss = 0.5646\n",
            "Iteration = 90, Loss = 0.5333\n",
            "Iteration = 95, Loss = 0.4966\n",
            "Iteration = 100, Loss = 0.4029\n",
            "Iteration = 105, Loss = 0.4480\n",
            "Iteration = 110, Loss = 0.4527\n",
            "Iteration = 115, Loss = 0.3189\n",
            "Iteration = 120, Loss = 0.4891\n",
            "Iteration = 125, Loss = 0.4862\n",
            "Iteration = 130, Loss = 0.5107\n",
            "Iteration = 135, Loss = 0.6409\n",
            "Iteration = 140, Loss = 0.4707\n",
            "Iteration = 145, Loss = 0.3280\n",
            "Iteration = 150, Loss = 0.3951\n",
            "Iteration = 155, Loss = 0.4140\n",
            "Iteration = 160, Loss = 0.4375\n",
            "Iteration = 165, Loss = 0.3636\n",
            "Iteration = 170, Loss = 0.4336\n",
            "Iteration = 175, Loss = 0.4122\n",
            "Iteration = 180, Loss = 0.4979\n",
            "Iteration = 185, Loss = 0.4597\n",
            "Iteration = 190, Loss = 0.3286\n",
            "Iteration = 195, Loss = 0.4862\n",
            "Iteration = 200, Loss = 0.5070\n",
            "Iteration = 205, Loss = 0.4862\n",
            "Iteration = 210, Loss = 0.3336\n",
            "Iteration = 215, Loss = 0.3712\n",
            "Iteration = 220, Loss = 0.6159\n",
            "Iteration = 225, Loss = 0.6849\n",
            "Iteration = 230, Loss = 0.5214\n",
            "Iteration = 235, Loss = 0.4205\n",
            "Iteration = 240, Loss = 0.3458\n",
            "Iteration = 245, Loss = 0.4663\n",
            "Iteration = 250, Loss = 0.3643\n",
            "Iteration = 255, Loss = 0.3844\n",
            "Iteration = 260, Loss = 0.4743\n",
            "Iteration = 265, Loss = 0.3514\n",
            "Iteration = 270, Loss = 0.3129\n",
            "Iteration = 275, Loss = 0.3718\n",
            "Iteration = 280, Loss = 0.3939\n",
            "Iteration = 285, Loss = 0.4079\n",
            "Iteration = 290, Loss = 0.5290\n",
            "Iteration = 295, Loss = 0.8612\n",
            "Iteration = 300, Loss = 0.4976\n",
            "Iteration = 305, Loss = 0.5378\n",
            "Iteration = 310, Loss = 0.4983\n",
            "Iteration = 315, Loss = 0.4033\n",
            "Iteration = 320, Loss = 0.4301\n",
            "Iteration = 325, Loss = 0.4517\n",
            "Iteration = 330, Loss = 0.5685\n",
            "Iteration = 335, Loss = 0.3907\n",
            "Iteration = 340, Loss = 0.3769\n",
            "Iteration = 345, Loss = 0.3479\n",
            "Iteration = 350, Loss = 0.2646\n",
            "Iteration = 355, Loss = 0.4989\n",
            "Iteration = 360, Loss = 0.6011\n",
            "Iteration = 365, Loss = 0.4367\n",
            "Iteration = 370, Loss = 0.4270\n",
            "Iteration = 375, Loss = 0.3797\n",
            "Iteration = 380, Loss = 0.5635\n",
            "Iteration = 385, Loss = 0.3253\n",
            "Iteration = 390, Loss = 0.3589\n",
            "Iteration = 395, Loss = 0.4250\n",
            "Iteration = 400, Loss = 0.3738\n",
            "Iteration = 405, Loss = 0.3493\n",
            "Iteration = 410, Loss = 0.3620\n",
            "Iteration = 415, Loss = 0.5047\n",
            "Iteration = 420, Loss = 0.3819\n",
            "Iteration = 425, Loss = 0.4382\n",
            "Iteration = 430, Loss = 0.5065\n",
            "Iteration = 435, Loss = 0.4326\n",
            "Iteration = 440, Loss = 0.3840\n",
            "Iteration = 445, Loss = 0.4538\n",
            "Iteration = 450, Loss = 0.3930\n",
            "Iteration = 455, Loss = 0.4131\n",
            "Iteration = 460, Loss = 0.2442\n",
            "Iteration = 465, Loss = 0.3191\n",
            "Iteration = 470, Loss = 0.4073\n",
            "Iteration = 475, Loss = 0.3568\n",
            "Iteration = 480, Loss = 0.3786\n",
            "Iteration = 485, Loss = 0.4502\n",
            "Iteration = 490, Loss = 0.5321\n",
            "Iteration = 495, Loss = 0.3227\n",
            "Iteration = 500, Loss = 0.6947\n",
            "Iteration = 505, Loss = 0.5445\n",
            "Iteration = 510, Loss = 0.3760\n",
            "Iteration = 515, Loss = 0.3238\n",
            "Iteration = 520, Loss = 0.5282\n",
            "Iteration = 525, Loss = 0.4405\n",
            "Iteration = 530, Loss = 0.3699\n",
            "Iteration = 535, Loss = 0.6713\n",
            "Iteration = 540, Loss = 0.3237\n",
            "Iteration = 545, Loss = 0.5476\n",
            "Iteration = 550, Loss = 0.4682\n",
            "Iteration = 555, Loss = 0.3553\n",
            "Iteration = 560, Loss = 0.2982\n",
            "Iteration = 565, Loss = 0.5607\n",
            "Iteration = 570, Loss = 0.4389\n",
            "Iteration = 575, Loss = 0.3329\n",
            "Iteration = 580, Loss = 0.4893\n",
            "Iteration = 585, Loss = 0.4718\n",
            "Iteration = 590, Loss = 0.4436\n",
            "Iteration = 595, Loss = 0.4076\n",
            "Iteration = 600, Loss = 0.6150\n",
            "Iteration = 605, Loss = 0.6522\n",
            "Iteration = 610, Loss = 0.4572\n",
            "Iteration = 615, Loss = 0.3981\n",
            "Iteration = 620, Loss = 0.4083\n",
            "Iteration = 625, Loss = 0.3252\n",
            "Iteration = 630, Loss = 0.3871\n",
            "Iteration = 635, Loss = 0.3496\n",
            "Iteration = 640, Loss = 0.3450\n",
            "Iteration = 645, Loss = 0.4831\n",
            "Iteration = 650, Loss = 0.4223\n",
            "Iteration = 655, Loss = 0.4819\n",
            "Iteration = 660, Loss = 0.3405\n",
            "Iteration = 665, Loss = 0.4184\n",
            "Iteration = 670, Loss = 0.2930\n",
            "Iteration = 675, Loss = 0.4300\n",
            "Iteration = 680, Loss = 0.5335\n",
            "Iteration = 685, Loss = 0.4546\n",
            "Iteration = 690, Loss = 0.3385\n",
            "Iteration = 695, Loss = 0.4079\n",
            "Iteration = 700, Loss = 0.4595\n",
            "Iteration = 705, Loss = 0.5253\n",
            "Iteration = 710, Loss = 0.4711\n",
            "Iteration = 715, Loss = 0.3668\n",
            "Iteration = 720, Loss = 0.5399\n",
            "Iteration = 725, Loss = 0.4365\n",
            "Iteration = 730, Loss = 0.3767\n",
            "Iteration = 735, Loss = 0.3740\n",
            "Iteration = 740, Loss = 0.5019\n",
            "Iteration = 745, Loss = 0.3297\n",
            "Iteration = 750, Loss = 0.4812\n",
            "Iteration = 755, Loss = 0.3979\n",
            "Iteration = 760, Loss = 0.5062\n",
            "Iteration = 765, Loss = 0.4147\n",
            "Iteration = 770, Loss = 0.3300\n",
            "Iteration = 775, Loss = 0.3208\n",
            "Iteration = 780, Loss = 0.4514\n",
            "Iteration = 785, Loss = 0.3962\n",
            "Iteration = 790, Loss = 0.4175\n",
            "Iteration = 795, Loss = 0.3617\n",
            "Iteration = 800, Loss = 0.4631\n",
            "Iteration = 805, Loss = 0.3657\n",
            "Iteration = 810, Loss = 0.3344\n",
            "Iteration = 815, Loss = 0.3990\n",
            "Iteration = 820, Loss = 0.3827\n",
            "Iteration = 825, Loss = 0.4983\n",
            "Iteration = 830, Loss = 0.2672\n",
            "Iteration = 835, Loss = 0.4663\n",
            "Iteration = 840, Loss = 0.3618\n",
            "Iteration = 845, Loss = 0.4621\n",
            "Iteration = 850, Loss = 0.4409\n",
            "Iteration = 855, Loss = 0.5011\n",
            "Iteration = 860, Loss = 0.3878\n",
            "Iteration = 865, Loss = 0.5610\n",
            "Iteration = 870, Loss = 0.3041\n",
            "Iteration = 875, Loss = 0.7229\n",
            "Iteration = 880, Loss = 0.4408\n",
            "Iteration = 885, Loss = 0.2224\n",
            "Iteration = 890, Loss = 0.3887\n",
            "Iteration = 895, Loss = 0.4478\n",
            "Iteration = 900, Loss = 0.4109\n",
            "Iteration = 905, Loss = 0.4298\n",
            "Iteration = 910, Loss = 0.3400\n",
            "Iteration = 915, Loss = 0.4046\n",
            "Iteration = 920, Loss = 0.3882\n",
            "Iteration = 925, Loss = 0.2609\n",
            "Iteration = 930, Loss = 0.5699\n",
            "Iteration = 935, Loss = 0.3142\n",
            "Iteration = 940, Loss = 0.3731\n",
            "Iteration = 945, Loss = 0.4722\n",
            "Iteration = 950, Loss = 0.3591\n",
            "Iteration = 955, Loss = 0.2742\n",
            "Iteration = 960, Loss = 0.3992\n",
            "Iteration = 965, Loss = 0.3195\n",
            "Iteration = 970, Loss = 0.2954\n",
            "Iteration = 975, Loss = 0.2777\n",
            "Iteration = 980, Loss = 0.3029\n",
            "Iteration = 985, Loss = 0.4125\n",
            "Iteration = 990, Loss = 0.3780\n",
            "Iteration = 995, Loss = 0.4030\n",
            "Iteration = 1000, Loss = 0.3652\n"
          ]
        },
        {
          "output_type": "display_data",
          "data": {
            "text/plain": [
              "<Figure size 640x480 with 1 Axes>"
            ],
            "image/png": "[encoded data removed]"
          },
          "metadata": {}
        }
      ]
    },
    {
      "cell_type": "markdown",
      "source": [
        "### **Non-Linear Layers**\n",
        "\n",
        "Consider the composition of two linear models:\n",
        "\n",
        "$$\n",
        "f(x,\\{\\mathbf{W}\\}_{\\ell=1}^{2}) = \\mathbf{W}_2^\\top (\\mathbf{x}\\mathbf{W}^\\top_1) = \\mathbf{z}\\mathbf{W}^\\top_2\n",
        "$$\n",
        "\n",
        "<br>\n",
        "\n",
        "In this expression, $\\mathbf{W}_1$ and $\\mathbf{W}_2$ are the weight matrices of the two linear models. The function $f(x,\\{\\mathbf{W}\\}_{\\ell=1}^{2})$ can be rewritten to highlight the composition of these models:\n",
        "\n",
        "$$\n",
        "f(x,\\{\\mathbf{W}\\}_{\\ell=1}^{2}) = \\mathbf{W}_2^\\top \\phi(\\mathbf{W}_1, \\mathbf{x})\n",
        "$$\n",
        "\n",
        "<br>\n",
        "\n",
        "Where the function $\\phi(\\mathbf{W}_1, \\mathbf{x})$ is defined as the product of the input $\\mathbf{x}$ and the transpose of the first weight matrix $\\mathbf{W}_1$:\n",
        "\n",
        "\n",
        "\n",
        "$$\n",
        "\\phi(\\mathbf{W}_1, \\mathbf{x}) = \\mathbf{x}\\mathbf{W}^\\top_1\n",
        "$$\n"
      ],
      "metadata": {
        "id": "8VTk3B-7TEfG"
      }
    },
    {
      "cell_type": "markdown",
      "source": [
        "## **Introducting Activation functions**\n",
        "\n",
        "Let's revisit the structure of Nueral Networks to understand activation functions:\n",
        "\n",
        "<!DOCTYPE html>\n",
        "<html>\n",
        "<head>\n",
        "    <style>\n",
        "        .centered-image {\n",
        "            display: block;\n",
        "            margin-left: auto;\n",
        "            margin-right: auto;\n",
        "            width: 50%;\n",
        "        }\n",
        "    </style>\n",
        "</head>\n",
        "<body>\n",
        "\n",
        "<a href=\"https://www.geeksforgeeks.org/activation-functions/\" target=\"_blank\">\n",
        "    <img src=\"https://media.geeksforgeeks.org/wp-content/cdn-uploads/33-1-1.png\"\n",
        "         alt=\"Varied Initial Conditions for Gradient Descent\"\n",
        "         class=\"centered-image\">\n",
        "</a>\n",
        "\n",
        "<br>\n",
        "<figcaption align = \"center\"><b>Figure 1 - Activation Functions. Figure by\n",
        "Vineet Joshi.</b></figcaption>\n",
        "\n",
        "</body>\n",
        "</html>\n",
        "\n",
        "<br>\n",
        "\n",
        "An **activation function** (also known as \"transfer functions\") in a neural networks define how the weighted sum of the input (**Wnj**) is transformed into an output from a node or nodes in a layer of the network.\n",
        "\n",
        "<br>\n",
        "\n",
        "<!DOCTYPE html>\n",
        "<html>\n",
        "<head>\n",
        "    <style>\n",
        "        .centered-image {\n",
        "            display: block;\n",
        "            margin-left: auto;\n",
        "            margin-right: auto;\n",
        "            width: 50%;\n",
        "        }\n",
        "    </style>\n",
        "</head>\n",
        "<body>\n",
        "\n",
        "<a href=\"https://prabhakar-rangarao.medium.com/activation-functions-9020acfa80b6\" target=\"_blank\">\n",
        "    <img src=\"https://miro.medium.com/v2/resize:fit:1358/1*uUzr1DsZm5P6IqRXIlpfhQ.gif\"\n",
        "         alt=\"Activation Functions Animated\"\n",
        "         class=\"centered-image\">\n",
        "</a>\n",
        "\n",
        "<br>\n",
        "<figcaption align = \"center\"><b>Figure 2 - Activation Functions Animated. Figure by\n",
        "Prabhakar Rangarao.</b></figcaption>\n",
        "\n",
        "</body>\n",
        "</html>\n",
        "\n",
        "<br>\n",
        "\n",
        "Typically, a differentiable nonlinear activation function is used in the hidden layers of a neural network. This allows the model to learn more complex functions than a network trained using a linear activation function.\n",
        "\n",
        "<br>\n",
        "\n",
        "* Hyperbolic tangent\n",
        "$$\n",
        "tanh(x) = \\frac{\\exp(x)-\\exp(-x)}{\\exp(x)+\\exp(-x)}\n",
        "$$\n",
        "\n",
        "* Sigmoid\n",
        "$$\n",
        "\\text{softmax}(x_i) = \\frac{1}{1+ \\exp(-x)}\n",
        "$$\n",
        "\n",
        "* ReLU\n",
        "$$\n",
        "\\text{ReLU}(x) = \\max(0,x)\n",
        "$$\n",
        "\n",
        "* Leaky RLU\n",
        "$$\n",
        "\\text{LeakyReLU}(x) = \\max(0,x) + \\beta*\\min(0,x)\n",
        "$$\n",
        "\n",
        "* SiLU\n",
        "$$\n",
        "\\text{SiLU}(x) = x * \\sigma(x)\\\\\n",
        "\\sigma(x) = \\frac{1}{1+\\exp(-x)}\n",
        "$$\n"
      ],
      "metadata": {
        "id": "t75NXzN8Tl1H"
      }
    },
    {
      "cell_type": "code",
      "source": [
        "x = torch.linspace(-5,5,1000)\n",
        "\n",
        "act_tanh = nn.Tanh()\n",
        "y_tanh = act_tanh(x)\n",
        "\n",
        "act_sigmoid = nn.Sigmoid()\n",
        "y_sigmoid = act_sigmoid(x)\n",
        "\n",
        "act_relu = nn.ReLU()\n",
        "y_relu = act_relu(x)\n",
        "\n",
        "act_lrelu = nn.LeakyReLU(0.1)\n",
        "y_lrelu = act_lrelu(x)\n",
        "\n",
        "act_silu = nn.SiLU()\n",
        "y_silu = act_silu(x)"
      ],
      "metadata": {
        "id": "TFuAG5vGYrAM"
      },
      "execution_count": 7,
      "outputs": []
    },
    {
      "cell_type": "code",
      "source": [
        "xnp = x.detach().numpy()\n",
        "plt.plot(xnp,y_tanh.detach().numpy(),label='Tanh')\n",
        "plt.plot(xnp,y_sigmoid.detach().numpy(),label='Sigmoid')\n",
        "plt.plot(xnp,y_relu.detach().numpy(),label='ReLU')\n",
        "plt.plot(xnp,y_lrelu.detach().numpy(),label='Leaky ReLU')\n",
        "plt.plot(xnp,y_silu.detach().numpy(),label='SiLU')\n",
        "plt.xlabel('x',fontsize=15)\n",
        "plt.ylabel('activation function',fontsize=15)\n",
        "plt.legend()"
      ],
      "metadata": {
        "colab": {
          "base_uri": "https://localhost:8080/",
          "height": 473
        },
        "id": "knZdWa0vYriB",
        "outputId": "924081d0-2d79-49c2-d1bd-1ae91683c65c"
      },
      "execution_count": 8,
      "outputs": [
        {
          "output_type": "execute_result",
          "data": {
            "text/plain": [
              "<matplotlib.legend.Legend at 0x7e959bc33ee0>"
            ]
          },
          "metadata": {},
          "execution_count": 8
        },
        {
          "output_type": "display_data",
          "data": {
            "text/plain": [
              "<Figure size 640x480 with 1 Axes>"
            ],
            "image/png": "[encoded data removed]"
          },
          "metadata": {}
        }
      ]
    },
    {
      "cell_type": "markdown",
      "source": [
        "## **In Class Activity - Discuss one of the Activation Functions**\n",
        "\n",
        "**Diagram**\\\n",
        "<img src=\"https://raw.github.com/RodrigoAVargasHdz/CHEM-4PB3/master/Course_Notes/Figures/MLP_diagram.png\"  width=\"400\" height=\"300\">\n",
        "\n",
        "Chose one of the activation functions discussed and use it in your linear model. Which function works the best?"
      ],
      "metadata": {
        "id": "7qS1axDDY0Ug"
      }
    },
    {
      "cell_type": "code",
      "source": [
        "# Code here\n",
        "# Define a model\n",
        "\n",
        "model = training(model)\n",
        "X_grid = torch.linspace(0., 1., 5000).unsqueeze(1)\n",
        "plt.clf()\n",
        "X, y = get_data(25)\n",
        "print(X.shape, y.shape, model(X).shape)\n",
        "plt.scatter(X.detach().numpy(), y.detach().numpy(), label='Batch')\n",
        "plt.plot(X_grid.detach().numpy(), f(X_grid).detach().numpy(),\n",
        "         ls='--', c='k', label=r'$f(x)$')\n",
        "plt.plot(X_grid.detach().numpy(), model(\n",
        "    X_grid).detach().numpy(), c='red', label=r'$NN(x)$')\n",
        "plt.ylabel(r'$f(x)$', fontsize=12)\n",
        "plt.xlabel(r'$x$', fontsize=12)\n",
        "plt.legend()\n"
      ],
      "metadata": {
        "colab": {
          "base_uri": "https://localhost:8080/",
          "height": 365
        },
        "id": "ANgR_9izZaj3",
        "outputId": "bbd9bf6e-fc83-4a02-c142-6d3554284c67"
      },
      "execution_count": 9,
      "outputs": [
        {
          "output_type": "error",
          "ename": "ValueError",
          "evalue": "add operator supports only objects of Sequential class, but <class 'int'> is given.",
          "traceback": [
            "\u001b[0;31m---------------------------------------------------------------------------\u001b[0m",
            "\u001b[0;31mValueError\u001b[0m                                Traceback (most recent call last)",
            "\u001b[0;32m<ipython-input-9-6e152bca7101>\u001b[0m in \u001b[0;36m<cell line: 4>\u001b[0;34m()\u001b[0m\n\u001b[1;32m      2\u001b[0m \u001b[0;31m# Define a model\u001b[0m\u001b[0;34m\u001b[0m\u001b[0;34m\u001b[0m\u001b[0m\n\u001b[1;32m      3\u001b[0m \u001b[0;34m\u001b[0m\u001b[0m\n\u001b[0;32m----> 4\u001b[0;31m \u001b[0mmodel\u001b[0m \u001b[0;34m=\u001b[0m \u001b[0mtraining\u001b[0m\u001b[0;34m(\u001b[0m\u001b[0mmodel\u001b[0m\u001b[0;34m)\u001b[0m\u001b[0;34m\u001b[0m\u001b[0;34m\u001b[0m\u001b[0m\n\u001b[0m\u001b[1;32m      5\u001b[0m \u001b[0mX_grid\u001b[0m \u001b[0;34m=\u001b[0m \u001b[0mtorch\u001b[0m\u001b[0;34m.\u001b[0m\u001b[0mlinspace\u001b[0m\u001b[0;34m(\u001b[0m\u001b[0;36m0.\u001b[0m\u001b[0;34m,\u001b[0m \u001b[0;36m1.\u001b[0m\u001b[0;34m,\u001b[0m \u001b[0;36m5000\u001b[0m\u001b[0;34m)\u001b[0m\u001b[0;34m.\u001b[0m\u001b[0munsqueeze\u001b[0m\u001b[0;34m(\u001b[0m\u001b[0;36m1\u001b[0m\u001b[0;34m)\u001b[0m\u001b[0;34m\u001b[0m\u001b[0;34m\u001b[0m\u001b[0m\n\u001b[1;32m      6\u001b[0m \u001b[0mplt\u001b[0m\u001b[0;34m.\u001b[0m\u001b[0mclf\u001b[0m\u001b[0;34m(\u001b[0m\u001b[0;34m)\u001b[0m\u001b[0;34m\u001b[0m\u001b[0;34m\u001b[0m\u001b[0m\n",
            "\u001b[0;32m<ipython-input-4-03c6acac47e2>\u001b[0m in \u001b[0;36mtraining\u001b[0;34m(training_iter, n_batch, lr, feedback_interval)\u001b[0m\n\u001b[1;32m      5\u001b[0m     \u001b[0mmodel\u001b[0m\u001b[0;34m.\u001b[0m\u001b[0mtrain\u001b[0m\u001b[0;34m(\u001b[0m\u001b[0;34m)\u001b[0m\u001b[0;34m\u001b[0m\u001b[0;34m\u001b[0m\u001b[0m\n\u001b[1;32m      6\u001b[0m \u001b[0;34m\u001b[0m\u001b[0m\n\u001b[0;32m----> 7\u001b[0;31m     \u001b[0;32mfor\u001b[0m \u001b[0mitr\u001b[0m \u001b[0;32min\u001b[0m \u001b[0mrange\u001b[0m\u001b[0;34m(\u001b[0m\u001b[0;36m1\u001b[0m\u001b[0;34m,\u001b[0m \u001b[0mtraining_iter\u001b[0m \u001b[0;34m+\u001b[0m \u001b[0;36m1\u001b[0m\u001b[0;34m)\u001b[0m\u001b[0;34m:\u001b[0m\u001b[0;34m\u001b[0m\u001b[0;34m\u001b[0m\u001b[0m\n\u001b[0m\u001b[1;32m      8\u001b[0m         \u001b[0mX\u001b[0m\u001b[0;34m,\u001b[0m \u001b[0my_true\u001b[0m \u001b[0;34m=\u001b[0m \u001b[0mget_data\u001b[0m\u001b[0;34m(\u001b[0m\u001b[0mn_batch\u001b[0m\u001b[0;34m)\u001b[0m\u001b[0;34m\u001b[0m\u001b[0;34m\u001b[0m\u001b[0m\n\u001b[1;32m      9\u001b[0m         \u001b[0moutput\u001b[0m \u001b[0;34m=\u001b[0m \u001b[0mmodel\u001b[0m\u001b[0;34m(\u001b[0m\u001b[0mX\u001b[0m\u001b[0;34m)\u001b[0m\u001b[0;34m\u001b[0m\u001b[0;34m\u001b[0m\u001b[0m\n",
            "\u001b[0;32m/usr/local/lib/python3.10/dist-packages/torch/nn/modules/container.py\u001b[0m in \u001b[0;36m__add__\u001b[0;34m(self, other)\u001b[0m\n\u001b[1;32m    148\u001b[0m             \u001b[0;32mreturn\u001b[0m \u001b[0mret\u001b[0m\u001b[0;34m\u001b[0m\u001b[0;34m\u001b[0m\u001b[0m\n\u001b[1;32m    149\u001b[0m         \u001b[0;32melse\u001b[0m\u001b[0;34m:\u001b[0m\u001b[0;34m\u001b[0m\u001b[0;34m\u001b[0m\u001b[0m\n\u001b[0;32m--> 150\u001b[0;31m             raise ValueError('add operator supports only objects '\n\u001b[0m\u001b[1;32m    151\u001b[0m                              f'of Sequential class, but {str(type(other))} is given.')\n\u001b[1;32m    152\u001b[0m \u001b[0;34m\u001b[0m\u001b[0m\n",
            "\u001b[0;31mValueError\u001b[0m: add operator supports only objects of Sequential class, but <class 'int'> is given."
          ]
        }
      ]
    },
    {
      "cell_type": "markdown",
      "source": [
        "Work in a small groups and discuss the following.\n",
        "1. How many layers we need?\n",
        "2. What is the *best* activation function?\n",
        "\n",
        "\n",
        "# Extra\n",
        "\n",
        "Go to the following [link](https://playground.tensorflow.org/#activation=tanh&batchSize=10&dataset=circle&regDataset=reg-plane&learningRate=0.03&regularizationRate=0&noise=0&networkShape=4,2&seed=0.03345&showTestData=false&discretize=false&percTrainData=50&x=true&y=true&xTimesY=false&xSquared=false&ySquared=false&cosX=false&sinX=false&cosY=false&sinY=false&collectStats=false&problem=classification&initZero=false&hideText=false) and try to solve all the different tasks!"
      ],
      "metadata": {
        "id": "3HLmioAOZ2or"
      }
    }
  ]
}