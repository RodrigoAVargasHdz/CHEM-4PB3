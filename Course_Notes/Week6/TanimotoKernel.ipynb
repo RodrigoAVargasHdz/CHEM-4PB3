{
  "nbformat": 4,
  "nbformat_minor": 0,
  "metadata": {
    "colab": {
      "provenance": []
    },
    "kernelspec": {
      "name": "python3",
      "display_name": "Python 3"
    },
    "language_info": {
      "name": "python"
    }
  },
  "cells": [
    {
      "cell_type": "code",
      "execution_count": 12,
      "metadata": {
        "colab": {
          "base_uri": "https://localhost:8080/"
        },
        "id": "JB89nVxL4ryg",
        "outputId": "c3263847-a41e-4b11-a8e8-d1f4796b9414"
      },
      "outputs": [
        {
          "output_type": "stream",
          "name": "stdout",
          "text": [
            "Looking in indexes: https://pypi.org/simple, https://us-python.pkg.dev/colab-wheels/public/simple/\n",
            "Collecting gpytorch\n",
            "  Downloading gpytorch-1.9.1-py3-none-any.whl (250 kB)\n",
            "\u001b[2K     \u001b[90m━━━━━━━━━━━━━━━━━━━━━━━━━━━━━━━━━━━━━━\u001b[0m \u001b[32m250.9/250.9 KB\u001b[0m \u001b[31m14.7 MB/s\u001b[0m eta \u001b[36m0:00:00\u001b[0m\n",
            "\u001b[?25hRequirement already satisfied: scikit-learn in /usr/local/lib/python3.8/dist-packages (from gpytorch) (1.0.2)\n",
            "Collecting linear-operator>=0.2.0\n",
            "  Downloading linear_operator-0.3.0-py3-none-any.whl (155 kB)\n",
            "\u001b[2K     \u001b[90m━━━━━━━━━━━━━━━━━━━━━━━━━━━━━━━━━━━━━━━\u001b[0m \u001b[32m155.6/155.6 KB\u001b[0m \u001b[31m8.9 MB/s\u001b[0m eta \u001b[36m0:00:00\u001b[0m\n",
            "\u001b[?25hRequirement already satisfied: torch>=1.11 in /usr/local/lib/python3.8/dist-packages (from linear-operator>=0.2.0->gpytorch) (1.13.1+cu116)\n",
            "Requirement already satisfied: scipy in /usr/local/lib/python3.8/dist-packages (from linear-operator>=0.2.0->gpytorch) (1.7.3)\n",
            "Requirement already satisfied: numpy>=1.14.6 in /usr/local/lib/python3.8/dist-packages (from scikit-learn->gpytorch) (1.21.6)\n",
            "Requirement already satisfied: joblib>=0.11 in /usr/local/lib/python3.8/dist-packages (from scikit-learn->gpytorch) (1.2.0)\n",
            "Requirement already satisfied: threadpoolctl>=2.0.0 in /usr/local/lib/python3.8/dist-packages (from scikit-learn->gpytorch) (3.1.0)\n",
            "Requirement already satisfied: typing-extensions in /usr/local/lib/python3.8/dist-packages (from torch>=1.11->linear-operator>=0.2.0->gpytorch) (4.4.0)\n",
            "Installing collected packages: linear-operator, gpytorch\n",
            "Successfully installed gpytorch-1.9.1 linear-operator-0.3.0\n",
            "Looking in indexes: https://pypi.org/simple, https://us-python.pkg.dev/colab-wheels/public/simple/\n",
            "Collecting rdkit\n",
            "  Downloading rdkit-2022.9.4-cp38-cp38-manylinux_2_17_x86_64.manylinux2014_x86_64.whl (29.3 MB)\n",
            "\u001b[2K     \u001b[90m━━━━━━━━━━━━━━━━━━━━━━━━━━━━━━━━━━━━━━━━\u001b[0m \u001b[32m29.3/29.3 MB\u001b[0m \u001b[31m30.2 MB/s\u001b[0m eta \u001b[36m0:00:00\u001b[0m\n",
            "\u001b[?25hRequirement already satisfied: Pillow in /usr/local/lib/python3.8/dist-packages (from rdkit) (7.1.2)\n",
            "Requirement already satisfied: numpy in /usr/local/lib/python3.8/dist-packages (from rdkit) (1.21.6)\n",
            "Installing collected packages: rdkit\n",
            "Successfully installed rdkit-2022.9.4\n"
          ]
        }
      ],
      "source": [
        "!pip install gpytorch\n",
        "!pip install rdkit"
      ]
    },
    {
      "cell_type": "code",
      "source": [
        "To open on Google Colab\\\n",
        "https://colab.research.google.com/github/RodrigoAVargasHdz/CHEM-4PB3/blob/main/Course_Notes/Week5/TanimotoKernel.ipynb"
      ],
      "metadata": {
        "id": "yNis3m7wHB1B"
      },
      "execution_count": null,
      "outputs": []
    },
    {
      "cell_type": "markdown",
      "source": [
        "# Kernel for strings\n",
        "\n",
        "The kernel between two strings $\\mathbf{x}$ and $\\mathbf{x}'$ can be defined as,\\\n",
        "$k(x,x') = \\sum_{a\\in{\\cal A}^*}\\omega_s \\phi_s(\\mathbf{x})\\phi_s(\\mathbf{x}')$,\\\n",
        "where \n",
        "*  $\\phi_s(\\mathbf{x})$ denote the number of times that substring $s$ appears in string $\\mathbf{x}$\n",
        "* ${\\cal A}$ is the alphabet of characters.\n",
        "* $\\omega_s$ is a non-negative weight for substring $s$\n",
        "</br>\n",
        "</br>\n",
        "\n",
        "(**Example from Ref. [2](https://papers.nips.cc/paper/2000/file/68c694de94e6c110f42e587e8e48d852-Paper.pdf)**)\\\n",
        "![Arrays](https://raw.github.com/RodrigoAVargasHdz/CHEM-4PB3/master/Course_Notes/Figures/StringKernel.png)\n",
        "\n",
        "\n",
        "</br>\n",
        "</br>\n",
        "\n",
        "**References**\n",
        "1. [GP Book, Chapter 4, Section 4.4](https://gaussianprocess.org/gpml/chapters/) \n",
        "2. [(paper) Text classification with string kernels](https://papers.nips.cc/paper/2000/file/68c694de94e6c110f42e587e8e48d852-Paper.pdf)\n",
        "3. [(paper) GAUCHE: A Library for Gaussian Processes in Chemistry](https://ml4physicalsciences.github.io/2022/files/NeurIPS_ML4PS_2022_75.pdf)\n",
        "4. [(Wiki) String kernels](https://en.wikipedia.org/wiki/String_kernel)"
      ],
      "metadata": {
        "id": "2LTko0HmS8Fg"
      }
    },
    {
      "cell_type": "markdown",
      "source": [
        "# Kernels for molecules\n",
        "**Reference**: [paper](https://papers.nips.cc/paper/2000/file/68c694de94e6c110f42e587e8e48d852-Paper.pdf)\n",
        "\n",
        "## Scalar product kernel\n",
        "$k_{\\text{Scalar Product}}(\\mathbf{x},\\mathbf{x}') = \\ell \\cdot \\langle \\mathbf{x},\\mathbf{x}' \\rangle$, \\\n",
        "where\n",
        "* $\\langle \\mathbf{x},\\mathbf{x}' \\rangle$ is the  Euclidean inner product; $\\langle \\mathbf{x},\\mathbf{x}' \\rangle = \\sum_i x_i x'_i$.\n",
        "* $\\ell$ is a scalar signal variance hyperparameter.\n",
        "</br>\n",
        "</br>\n",
        "\n",
        "## Tanimoto kernel\n",
        "General similarity metric for **binary attributes**, used in [Ref.](https://doi.org/10.1016/j.neunet.2005.07.009) for cheminformatics.\n",
        "\n",
        "$k_{\\text{Tanimoto}}(\\mathbf{x},\\mathbf{x}') = \\ell \\cdot \\frac{\\langle \\mathbf{x},\\mathbf{x}' \\rangle}{\\|\\mathbf{x} \\|^2 + \\|\\mathbf{x}'\\|^2 - \\langle \\mathbf{x},\\mathbf{x}' \\rangle}$, \\\n",
        "where\n",
        "* $\\| \\;\\; \\|$ is the Euclidian norm\n",
        "* $\\mathbf{x}$ is a binary vector, $x_i = \\{0,1\\}$\n",
        "</br>\n",
        "</br>\n",
        "\n",
        "## Graph kernel\n",
        "$k_{\\text{Gprah}}(g,g') = \\ell \\cdot \\langle \\phi(g),\\phi(g') \\rangle_{{\\cal H}}$,\n",
        "where,\n",
        "* $\\langle \\phi(g),\\phi(g') \\rangle_{{\\cal H}}$  measures the similarity betweene two molecular graphs. Related to graph isomorphism. \n",
        "* $\\ell$ is a scalar signal variance hyperparameter.\n",
        "\n",
        "The graph kernel was used in our previuos tutorial [link](https://colab.research.google.com/github/RodrigoAVargasHdz/CHEM-4PB3/blob/main/Course_Notes/Week5/gpytorch_molecules.ipynb)\n",
        "\n",
        "\n",
        "\n"
      ],
      "metadata": {
        "id": "0kKCzBy4ZnR-"
      }
    },
    {
      "cell_type": "markdown",
      "source": [
        "# Code"
      ],
      "metadata": {
        "id": "tyODuoF-ZscZ"
      }
    },
    {
      "cell_type": "code",
      "source": [
        "import numpy as np\n",
        "import pandas as pd\n",
        "import torch\n",
        "import gpytorch\n",
        "from gpytorch.kernels import Kernel\n",
        "from rdkit.Chem import AllChem, Descriptors, MolFromSmiles\n",
        "from rdkit.Chem.Draw import IPythonConsole\n",
        "from rdkit.Chem import Draw"
      ],
      "metadata": {
        "id": "0wxMfcG14tT8"
      },
      "execution_count": 13,
      "outputs": []
    },
    {
      "cell_type": "markdown",
      "source": [
        "## Tanimoto kernel in Torch\n",
        "Code is based on this [online tutorial](https://towardsdatascience.com/gaussian-process-regression-on-molecules-in-gpflow-ee6fedab2130), where $k_{\\text{Tanimoto}}(\\cdot,⋅)$ was coded in TensorFlow. \\\n",
        "For defining your own kernel in Gpytorch, one can follow the following [tutorial](https://docs.gpytorch.ai/en/stable/examples/00_Basic_Usage/Implementing_a_custom_Kernel.html).\n",
        "\n"
      ],
      "metadata": {
        "id": "jmVBPP_IhLIz"
      }
    },
    {
      "cell_type": "code",
      "source": [
        "from gpytorch.constraints import Positive\n",
        "from torch import Tensor\n",
        "\n",
        "# from ChatGPT\n",
        "# '''Write me a code compatible with GPyTorch for the Tanimoto kernel function'''\n",
        "# '''remove the lengthscale parameter'''\n",
        "class TanimotoKernel(gpytorch.kernels.Kernel):\n",
        "    def __init__(self, active_dims=None):\n",
        "        super(TanimotoKernel, self).__init__(active_dims=active_dims)\n",
        "        self.register_parameter(\n",
        "            name=\"raw_variance\", parameter=torch.nn.Parameter(torch.zeros(1))\n",
        "        )\n",
        "        self.register_constraint(\"raw_variance\", gpytorch.constraints.Positive())\n",
        "\n",
        "    @property\n",
        "    def variance(self):\n",
        "        return self.raw_variance_constraint.transform(self.raw_variance)\n",
        "\n",
        "    @variance.setter\n",
        "    def variance(self, value):\n",
        "        self.raw_variance = self.raw_variance_constraint.inverse_transform(value)\n",
        "\n",
        "    def forward(self, x1, x2, **params):\n",
        "        x1_ = x1.unsqueeze(-2)\n",
        "        x2_ = x2.unsqueeze(-3)\n",
        "        numerator = torch.sum(x1_ * x2_, dim=-1)\n",
        "        denominator = torch.sum(x1_ + x2_ - x1_ * x2_, dim=-1)\n",
        "        return self.variance * numerator / denominator"
      ],
      "metadata": {
        "id": "LDG5f2duzf6K"
      },
      "execution_count": 91,
      "outputs": []
    },
    {
      "cell_type": "code",
      "source": [
        "# a = torch.randn((3,5))\n",
        "x1 = (torch.rand(size=(2,10)) < 0.35).int()\n",
        "print('Random vectors')\n",
        "print(x1)\n",
        "\n",
        "kernel = TanimotoKernel()\n",
        "K = kernel.forward(x1,x1) ## is this corrrect?\n",
        "print('Kernel matrix')\n",
        "print(K)"
      ],
      "metadata": {
        "colab": {
          "base_uri": "https://localhost:8080/"
        },
        "id": "-uD9y1mQuBZi",
        "outputId": "bf692b0b-c227-48a7-dc10-52d8750c2815"
      },
      "execution_count": 98,
      "outputs": [
        {
          "output_type": "stream",
          "name": "stdout",
          "text": [
            "Random vectors\n",
            "tensor([[1, 1, 0, 0, 0, 1, 0, 0, 0, 0],\n",
            "        [1, 0, 0, 1, 0, 0, 0, 1, 0, 1]], dtype=torch.int32)\n",
            "Kernel matrix\n",
            "tensor([[0.6931, 0.1155],\n",
            "        [0.1155, 0.6931]], grad_fn=<DivBackward0>)\n"
          ]
        }
      ]
    },
    {
      "cell_type": "markdown",
      "source": [
        "# Example Caffeine"
      ],
      "metadata": {
        "id": "_VR_hsoFicf4"
      }
    },
    {
      "cell_type": "code",
      "source": [
        "caff_sm = 'CN1C=NC2=C1C(=O)N(C(=O)N2C)C'\n",
        "m = MolFromSmiles(caff_sm)\n",
        "m"
      ],
      "metadata": {
        "colab": {
          "base_uri": "https://localhost:8080/",
          "height": 167
        },
        "id": "4cCLNej25j5Z",
        "outputId": "aec48065-e855-4ee6-f928-31a8d49459f7"
      },
      "execution_count": 151,
      "outputs": [
        {
          "output_type": "execute_result",
          "data": {
            "text/plain": [
              "<rdkit.Chem.rdchem.Mol at 0x7fbada504200>"
            ],
            "image/png": "[encoded data removed]"
          },
          "metadata": {},
          "execution_count": 151
        }
      ]
    },
    {
      "cell_type": "code",
      "source": [
        "m_fingerprints = AllChem.GetMorganFingerprintAsBitVect(m, radius=3, nBits=2048)\n",
        "x = np.asarray(m_fingerprints)\n",
        "print(x.shape, len(np.where(x==0)[0]),len(np.where(x==1)[0]))"
      ],
      "metadata": {
        "colab": {
          "base_uri": "https://localhost:8080/"
        },
        "id": "-0wTAIiU6ib7",
        "outputId": "9b5d1361-643f-4af9-a864-fc8abe27ab79"
      },
      "execution_count": 152,
      "outputs": [
        {
          "output_type": "stream",
          "name": "stdout",
          "text": [
            "(2048,) 2014 34\n"
          ]
        }
      ]
    },
    {
      "cell_type": "markdown",
      "source": [
        "Molecules similar to caffeine [link](https://www.acs.org/education/resources/highschool/chemmatters/past-issues/archive-2013-2014/caffeine.html)\\\n",
        "[Paraxanthine](https://en.wikipedia.org/wiki/Paraxanthine)"
      ],
      "metadata": {
        "id": "wifKQjwA9zqO"
      }
    },
    {
      "cell_type": "code",
      "source": [
        "# Paraxanthine\n",
        "para_sm = 'O=C2Nc1ncn(c1C(=O)N2C)C'\n",
        "m1 = MolFromSmiles(para_sm)\n",
        "m1_fingerprints = AllChem.GetMorganFingerprintAsBitVect(m1, radius=2, nBits=2048)\n",
        "x1 = np.asarray(m1_fingerprints)\n",
        "print(x1.shape)\n",
        "m1"
      ],
      "metadata": {
        "colab": {
          "base_uri": "https://localhost:8080/",
          "height": 185
        },
        "id": "hZK1nAe-6smi",
        "outputId": "d5d72a3b-1b07-4f69-f0ee-03b503a6e54e"
      },
      "execution_count": 153,
      "outputs": [
        {
          "output_type": "stream",
          "name": "stdout",
          "text": [
            "(2048,)\n"
          ]
        },
        {
          "output_type": "execute_result",
          "data": {
            "text/plain": [
              "<rdkit.Chem.rdchem.Mol at 0x7fbada504510>"
            ],
            "image/png": "[encoded data removed]"
          },
          "metadata": {},
          "execution_count": 153
        }
      ]
    },
    {
      "cell_type": "markdown",
      "source": [
        "Evaluate the Tanimoto kernel."
      ],
      "metadata": {
        "id": "a0i2sY8L_yMr"
      }
    },
    {
      "cell_type": "code",
      "source": [
        "x_caf = torch.from_numpy(x).unsqueeze(0)\n",
        "print(x)\n",
        "x_parax = torch.from_numpy(x1).unsqueeze(0)\n",
        "print('Tanimoto kernel for, Caffein-Paraxanthine: ',kernel.forward(x_caf,x_parax))\n",
        "print('Tanimoto kernel for, Caffein-Paraxanthine: ',kernel.forward(x_caf,x_caf))\n",
        "print('Tanimoto kernel for, Paraxanthine-Paraxanthine: ',kernel.forward(x_parax,x_parax))"
      ],
      "metadata": {
        "colab": {
          "base_uri": "https://localhost:8080/"
        },
        "id": "sPrsDhSe7mEs",
        "outputId": "61d35b35-b021-45b2-9f8a-52d53ed0924b"
      },
      "execution_count": 154,
      "outputs": [
        {
          "output_type": "stream",
          "name": "stdout",
          "text": [
            "[0 0 0 ... 0 0 0]\n",
            "Tanimoto kernel for, Caffein-Paraxanthine:  tensor([[0.2678]], grad_fn=<DivBackward0>)\n",
            "Tanimoto kernel for, Caffein-Paraxanthine:  tensor([[0.6931]], grad_fn=<DivBackward0>)\n",
            "Tanimoto kernel for, Paraxanthine-Paraxanthine:  tensor([[0.6931]], grad_fn=<DivBackward0>)\n"
          ]
        }
      ]
    },
    {
      "cell_type": "markdown",
      "source": [
        "# More data!!"
      ],
      "metadata": {
        "id": "jkw0nGLK-zJa"
      }
    },
    {
      "cell_type": "code",
      "source": [
        "data_url = \"https://github.com/RodrigoAVargasHdz/CHEM-4PB3/raw/main/Course_Notes/data/solubility.csv\"\n",
        "data = pd.read_csv(data_url)\n",
        "print(data.columns)"
      ],
      "metadata": {
        "colab": {
          "base_uri": "https://localhost:8080/"
        },
        "id": "paSfRV_m8rE3",
        "outputId": "78e69c76-ae16-4aee-b5dd-269426e234a1"
      },
      "execution_count": 155,
      "outputs": [
        {
          "output_type": "stream",
          "name": "stdout",
          "text": [
            "Index(['ID', 'Name', 'InChI', 'InChIKey', 'SMILES', 'Solubility', 'SD',\n",
            "       'Ocurrences', 'Group', 'MolWt', 'MolLogP', 'MolMR', 'HeavyAtomCount',\n",
            "       'NumHAcceptors', 'NumHDonors', 'NumHeteroatoms', 'NumRotatableBonds',\n",
            "       'NumValenceElectrons', 'NumAromaticRings', 'NumSaturatedRings',\n",
            "       'NumAliphaticRings', 'RingCount', 'TPSA', 'LabuteASA', 'BalabanJ',\n",
            "       'BertzCT'],\n",
            "      dtype='object')\n"
          ]
        }
      ]
    },
    {
      "cell_type": "code",
      "source": [
        "# construct an histogram over the Tanimoto kernel with respect to Caffeine\n",
        "def get_fingerprints(molecule_smile,torch_bool = False):\n",
        "  m1 = MolFromSmiles(molecule_smile)\n",
        "  m1_fingerprints = AllChem.GetMorganFingerprintAsBitVect(m1, radius=2, nBits=2048)\n",
        "  x1 = np.asarray(m1_fingerprints)\n",
        "  if torch_bool:\n",
        "    return torch.from_numpy(x1)\n",
        "  else:\n",
        "    return x1"
      ],
      "metadata": {
        "id": "aCD5Jhihfwp0"
      },
      "execution_count": 157,
      "outputs": []
    },
    {
      "cell_type": "code",
      "source": [
        "\n",
        "molecules = data['SMILES'][:10]\n",
        "print(molecules)"
      ],
      "metadata": {
        "colab": {
          "base_uri": "https://localhost:8080/"
        },
        "id": "UGIh88D7IVk5",
        "outputId": "10c5da87-2f41-4ce3-956a-0a604aaae2c9"
      },
      "execution_count": 158,
      "outputs": [
        {
          "output_type": "stream",
          "name": "stdout",
          "text": [
            "0                  [Br-].CCCCCCCCCCCCCCCCCC[N+](C)(C)C\n",
            "1                                 O=C1Nc2cccc3cccc1c23\n",
            "2                                      Clc1ccc(C=O)cc1\n",
            "3    [Zn++].CC(c1ccccc1)c2cc(C(C)c3ccccc3)c(O)c(c2)...\n",
            "4    C1OC1CN(CC2CO2)c3ccc(Cc4ccc(cc4)N(CC5CO5)CC6CO...\n",
            "5                                       Cc1cccc(C=C)c1\n",
            "6                                  CCC1CCC(CCC(O)=O)C1\n",
            "7    CC12CC(O)C3C(CCC4=CC(=O)C=CC34C)C1CC(O)C2(O)C(...\n",
            "8                          Fc1ccc(cc1)C(=O)c2ccc(F)cc2\n",
            "9                  O=C(OCCCOCCCOC(=O)c1ccccc1)c2ccccc2\n",
            "Name: SMILES, dtype: object\n"
          ]
        }
      ]
    },
    {
      "cell_type": "code",
      "source": [
        "X = []\n",
        "for m in molecules:\n",
        "  x = get_fingerprints(m,False)\n",
        "  print(m)\n",
        "  print(np.where(x != 0))\n",
        "  X.append(x)\n",
        "\n",
        "\n",
        "X = torch.from_numpy(np.asarray(X))\n",
        "k_t = kernel.forward(x_caf,X)\n",
        "print(k_t)\n",
        "  "
      ],
      "metadata": {
        "colab": {
          "base_uri": "https://localhost:8080/"
        },
        "id": "C3JTBl5QIa0c",
        "outputId": "3898c82f-f332-43cf-8daa-e5819785078d"
      },
      "execution_count": 159,
      "outputs": [
        {
          "output_type": "stream",
          "name": "stdout",
          "text": [
            "[Br-].CCCCCCCCCCCCCCCCCC[N+](C)(C)C\n",
            "(array([  80,  294,  319,  414,  550,  591,  628,  780,  794,  913, 1057,\n",
            "       1143, 1312, 1360, 1444, 1911]),)\n",
            "O=C1Nc2cccc3cccc1c23\n",
            "(array([ 314,  352,  527,  650,  725,  984, 1039, 1060, 1087, 1088, 1114,\n",
            "       1380, 1470, 1498, 1646, 1657, 1750, 1833, 1855, 1873, 1893, 1982,\n",
            "       1984]),)\n",
            "Clc1ccc(C=O)cc1\n",
            "(array([  25,  216,  561,  650,  694,  816,  932,  963, 1004, 1063, 1070,\n",
            "       1380, 1683, 1750, 1873, 2033]),)\n",
            "[Zn++].CC(c1ccccc1)c2cc(C(C)c3ccccc3)c(O)c(c2)C([O-])=O.CC(c4ccccc4)c5cc(C(C)c6ccccc6)c(O)c(c5)C([O-])=O\n",
            "(array([   1,   82,  202,  237,  283,  358,  389,  650,  670,  715,  769,\n",
            "        775,  786,  802,  807,  875, 1057, 1088, 1199, 1226, 1365, 1368,\n",
            "       1380, 1388, 1405, 1406, 1568, 1581, 1602, 1750, 1873, 1917, 1955,\n",
            "       1991]),)\n",
            "C1OC1CN(CC2CO2)c3ccc(Cc4ccc(cc4)N(CC5CO5)CC6CO6)cc3\n",
            "(array([  80,  310,  656,  658,  802,  834,  881,  886,  926,  960, 1019,\n",
            "       1063, 1077, 1096, 1380, 1391, 1430, 1523, 1649, 1687, 1750, 1754,\n",
            "       1843, 1873, 1923]),)\n",
            "Cc1cccc(C=C)c1\n",
            "(array([ 227,  694,  875,  959, 1013, 1039, 1055, 1057, 1088, 1353, 1366,\n",
            "       1380, 1508, 1645, 1722, 1750, 1823, 1873, 1903, 2033]),)\n",
            "CCC1CCC(CCC(O)=O)C1\n",
            "(array([  29,   80,  294,  387,  389,  503,  650,  807,  832,  926, 1019,\n",
            "       1057, 1287, 1292, 1325, 1417, 1437, 1454, 1564, 1671, 1737, 1773,\n",
            "       1802, 1917]),)\n",
            "CC12CC(O)C3C(CCC4=CC(=O)C=CC34C)C1CC(O)C2(O)C(=O)CO\n",
            "(array([  51,   80,   84,  182,  222,  240,  314,  360,  373,  408,  445,\n",
            "        504,  519,  540,  547,  622,  650,  679,  760,  787,  807,  849,\n",
            "        926,  967, 1009, 1019, 1020, 1057, 1060, 1102, 1154, 1165, 1223,\n",
            "       1257, 1274, 1285, 1292, 1325, 1380, 1428, 1436, 1489, 1561, 1612,\n",
            "       1664, 1738, 1831, 1873, 1917, 1938, 1997, 2021]),)\n",
            "Fc1ccc(cc1)C(=O)c2ccc(F)cc2\n",
            "(array([   9,   90,  105,  650,  699,  807, 1380, 1385, 1410, 1670, 1697,\n",
            "       1750, 1775, 1873, 1917, 1928]),)\n",
            "O=C(OCCCOCCCOC(=O)c1ccccc1)c2ccccc2\n",
            "(array([  13,   80,  145,  147,  389,  606,  650,  691,  695,  807, 1088,\n",
            "       1199, 1325, 1380, 1385, 1522, 1592, 1734, 1750, 1753, 1873, 1911,\n",
            "       1917, 1985, 1992]),)\n",
            "tensor([[0.0141, 0.0523, 0.0603, 0.0550, 0.0243, 0.0408, 0.0248, 0.0520, 0.0603,\n",
            "         0.0504]], grad_fn=<DivBackward0>)\n"
          ]
        }
      ]
    },
    {
      "cell_type": "code",
      "source": [],
      "metadata": {
        "id": "uxmfJatlIfkg"
      },
      "execution_count": null,
      "outputs": []
    }
  ]
}