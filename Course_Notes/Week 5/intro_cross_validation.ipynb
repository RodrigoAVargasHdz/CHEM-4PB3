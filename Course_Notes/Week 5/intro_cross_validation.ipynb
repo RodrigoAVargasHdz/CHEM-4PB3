{
 "cells": [
  {
   "cell_type": "markdown",
   "metadata": {},
   "source": [
    "<a target=\"_blank\" href=\"https://colab.research.google.com/github/RodrigoAVargasHdz/CHEM-4PB3/blob/w2024/Course_Notes/Week%205/intro_cross_validation.ipynb\">\n",
    "  <img src=\"https://colab.research.google.com/assets/colab-badge.svg\" alt=\"Open In Colab\"/>\n",
    "</a>"
   ]
  },
  {
   "cell_type": "markdown",
   "metadata": {},
   "source": [
    "# Cross validation\n",
    "\n",
    "Example based on [CO2 data](https://scikit-learn.org/stable/auto_examples/gaussian_process/plot_gpr_co2.html#sphx-glr-auto-examples-gaussian-process-plot-gpr-co2-py)"
   ]
  },
  {
   "cell_type": "code",
   "execution_count": 341,
   "metadata": {},
   "outputs": [],
   "source": [
    "import numpy as np\n",
    "import pandas as pd\n",
    "\n",
    "from sklearn.model_selection import train_test_split, KFold\n",
    "from sklearn.datasets import fetch_openml\n",
    "from sklearn.preprocessing import PolynomialFeatures\n",
    "\n",
    "import matplotlib\n",
    "import matplotlib.pyplot as plt"
   ]
  },
  {
   "cell_type": "code",
   "execution_count": 342,
   "metadata": {},
   "outputs": [
    {
     "name": "stdout",
     "output_type": "stream",
     "text": [
      "(2225, 1) (2225,)\n"
     ]
    }
   ],
   "source": [
    "co2 = fetch_openml(data_id=41187, as_frame=True, parser=\"pandas\")\n",
    "co2_data = co2.frame\n",
    "co2_data[\"date\"] = pd.to_datetime(co2_data[[\"year\", \"month\", \"day\"]])\n",
    "co2_data = co2_data[[\"date\", \"co2\"]].set_index(\"date\")\n",
    "\n",
    "X = (co2_data.index.year + co2_data.index.month / 12).to_numpy().reshape(-1, 1)\n",
    "y = co2_data[\"co2\"].to_numpy()\n",
    "y = y - np.mean(y)\n",
    "print(X.shape, y.shape)"
   ]
  },
  {
   "cell_type": "code",
   "execution_count": 343,
   "metadata": {},
   "outputs": [
    {
     "name": "stdout",
     "output_type": "stream",
     "text": [
      "(334, 1) (334,) (112,)\n"
     ]
    }
   ],
   "source": [
    "X_train, X_test, y_train, y_test = train_test_split(X, y, test_size=0.25)\n",
    "X_train, X_test, y_train, y_test = X_train[::5], X_test[::5], y_train[::5], y_test[::5]\n",
    "\n",
    "print(X_train.shape, y_train.shape, y_test.shape)\n"
   ]
  },
  {
   "cell_type": "code",
   "execution_count": 344,
   "metadata": {},
   "outputs": [],
   "source": [
    "def mse(prediction, target):\n",
    "    return np.mean((prediction - target)**2)"
   ]
  },
  {
   "cell_type": "code",
   "execution_count": 345,
   "metadata": {},
   "outputs": [],
   "source": [
    "def polynomial_features(X, deg):\n",
    "    poly = PolynomialFeatures(deg)\n",
    "    Phi = poly.fit_transform(X)\n",
    "    return Phi"
   ]
  },
  {
   "cell_type": "code",
   "execution_count": 346,
   "metadata": {},
   "outputs": [],
   "source": [
    "def polynomial_model_solver(X, y, deg, l=1E-2):\n",
    "    Phi = polynomial_features(X, deg)\n",
    "    A = Phi.T@Phi + l * np.eye(Phi.shape[1], Phi.shape[1])\n",
    "    w = np.linalg.inv(A)@(Phi.T@y)\n",
    "    return w"
   ]
  },
  {
   "cell_type": "code",
   "execution_count": 347,
   "metadata": {},
   "outputs": [],
   "source": [
    "def lambda_solver(X_tr, y_tr,X_val,y_val, deg):\n",
    "    l_grid = np.array([0., 1E-4, 1E-3, 1E-2, 1E-1, 0.15,0.2, 0.25, 0.3, 0.4,0.5, 1.])\n",
    "\n",
    "    Phi_tr = polynomial_features(X_tr, deg)\n",
    "    Phi_val = polynomial_features(X_val, deg)\n",
    "    l_opt = 0\n",
    "    error_min = np.inf\n",
    "    for li in l_grid:\n",
    "        w = polynomial_model_solver(X_tr, y_tr, deg, li)\n",
    "        y_val_pred = Phi_val @ w\n",
    "        error = mse(y_val_pred, y_val)\n",
    "        if error < error_min:\n",
    "            l_opt = li\n",
    "            error_min = error\n",
    "            \n",
    "    return l_opt\n",
    "        "
   ]
  },
  {
   "cell_type": "code",
   "execution_count": 348,
   "metadata": {},
   "outputs": [
    {
     "name": "stdout",
     "output_type": "stream",
     "text": [
      "66.0\n"
     ]
    }
   ],
   "source": [
    "print(np.floor(y_train.shape[0]/5))"
   ]
  },
  {
   "cell_type": "code",
   "execution_count": 349,
   "metadata": {},
   "outputs": [
    {
     "name": "stdout",
     "output_type": "stream",
     "text": [
      "optimal lambda 0.20002000000000003\n"
     ]
    }
   ],
   "source": [
    "deg = 10\n",
    "n_folds = 5\n",
    "kf = KFold(n_folds)\n",
    "\n",
    "l_results = []\n",
    "for train,val in kf.split(X_train):\n",
    "    X_train_kfi, y_train_kfi = X_train[train], y_train[train]\n",
    "    X_val_kfi, y_val_kfi = X_train[val], y_train[val]\n",
    "    \n",
    "    l_opt = lambda_solver(X_train_kfi,y_train_kfi,X_val_kfi,y_val_kfi, deg)\n",
    "    l_results.append(l_opt)\n",
    "\n",
    "l_results = np.array(l_results)\n",
    "l_opt_cv = np.mean(l_results)\n",
    "print('optimal lambda', l_opt_cv)"
   ]
  },
  {
   "cell_type": "markdown",
   "metadata": {},
   "source": []
  },
  {
   "cell_type": "code",
   "execution_count": 350,
   "metadata": {},
   "outputs": [
    {
     "name": "stdout",
     "output_type": "stream",
     "text": [
      "(11,)\n"
     ]
    },
    {
     "data": {
      "text/plain": [
       "[<matplotlib.lines.Line2D at 0x1444c0310>]"
      ]
     },
     "execution_count": 350,
     "metadata": {},
     "output_type": "execute_result"
    },
    {
     "data": {
      "image/png": "[encoded data removed]",
      "text/plain": [
       "<Figure size 432x288 with 1 Axes>"
      ]
     },
     "metadata": {
      "needs_background": "light"
     },
     "output_type": "display_data"
    }
   ],
   "source": [
    "Phi_tr = polynomial_features(X_train,deg)\n",
    "Phi_test = polynomial_features(X_test,deg)\n",
    "w = polynomial_model_solver(X_train,y_train,deg,l_opt_cv)\n",
    "print(w.shape)\n",
    "\n",
    "x_grid = np.linspace(np.min(X),np.max(X),500)\n",
    "Phi_grid = polynomial_features(x_grid[:,None],deg)\n",
    "y_grid_pred = Phi_grid @ w\n",
    "\n",
    "plt.figure(0)\n",
    "plt.scatter(X_train,y_train)\n",
    "plt.scatter(X_test,y_test)\n",
    "plt.plot(x_grid,y_grid_pred,ls = '--',c = 'k', lw= 1.5)"
   ]
  },
  {
   "cell_type": "code",
   "execution_count": null,
   "metadata": {},
   "outputs": [],
   "source": []
  },
  {
   "cell_type": "code",
   "execution_count": null,
   "metadata": {},
   "outputs": [],
   "source": []
  }
 ],
 "metadata": {
  "kernelspec": {
   "display_name": "chem4pb3",
   "language": "python",
   "name": "python3"
  },
  "language_info": {
   "codemirror_mode": {
    "name": "ipython",
    "version": 3
   },
   "file_extension": ".py",
   "mimetype": "text/x-python",
   "name": "python",
   "nbconvert_exporter": "python",
   "pygments_lexer": "ipython3",
   "version": "3.9.16"
  }
 },
 "nbformat": 4,
 "nbformat_minor": 2
}
